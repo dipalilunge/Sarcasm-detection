{
 "cells": [
  {
   "cell_type": "code",
   "execution_count": 1,
   "metadata": {
    "id": "Y8p8e347QqD4"
   },
   "outputs": [
    {
     "name": "stderr",
     "output_type": "stream",
     "text": [
      "C:\\Users\\dipali\\AppData\\Local\\Temp\\ipykernel_16444\\1712497864.py:2: DeprecationWarning: \n",
      "Pyarrow will become a required dependency of pandas in the next major release of pandas (pandas 3.0),\n",
      "(to allow more performant data types, such as the Arrow string type, and better interoperability with other libraries)\n",
      "but was not found to be installed on your system.\n",
      "If this would cause problems for you,\n",
      "please provide us feedback at https://github.com/pandas-dev/pandas/issues/54466\n",
      "        \n",
      "  import pandas as pd\n"
     ]
    }
   ],
   "source": [
    "# its a libarary using for manipulating Datsets\n",
    "import pandas as pd\n",
    "from sklearn.model_selection import train_test_split\n",
    "from sklearn.metrics import confusion_matrix"
   ]
  },
  {
   "cell_type": "code",
   "execution_count": 2,
   "metadata": {
    "id": "Rj2LfPysQuQJ"
   },
   "outputs": [],
   "source": [
    "# Reading Datsets\n",
    "sarcastic=pd.read_csv(\"../sarcastic.csv\")"
   ]
  },
  {
   "cell_type": "code",
   "execution_count": 3,
   "metadata": {
    "id": "rd7as3dSQuTd"
   },
   "outputs": [],
   "source": [
    "# Reading Datsets\n",
    "non_sarcastic=pd.read_csv(\"../nonsarcastic.csv\")"
   ]
  },
  {
   "cell_type": "code",
   "execution_count": 4,
   "metadata": {
    "colab": {
     "base_uri": "https://localhost:8080/"
    },
    "executionInfo": {
     "elapsed": 16,
     "status": "ok",
     "timestamp": 1706520779012,
     "user": {
      "displayName": "Priyanshu Gupta",
      "userId": "03767503421074668028"
     },
     "user_tz": -330
    },
    "id": "Dk3N1tdDQuW2",
    "outputId": "a3361cdb-3b75-4076-bef3-856108212c8f"
   },
   "outputs": [
    {
     "data": {
      "text/plain": [
       "((6051, 11), (10128, 11))"
      ]
     },
     "execution_count": 4,
     "metadata": {},
     "output_type": "execute_result"
    }
   ],
   "source": [
    "# Shape Of Datasets , means how many COlumn and Rows in Datasets\n",
    "sarcastic.shape , non_sarcastic.shape"
   ]
  },
  {
   "cell_type": "code",
   "execution_count": 5,
   "metadata": {
    "colab": {
     "base_uri": "https://localhost:8080/",
     "height": 553
    },
    "executionInfo": {
     "elapsed": 15,
     "status": "ok",
     "timestamp": 1706520779012,
     "user": {
      "displayName": "Priyanshu Gupta",
      "userId": "03767503421074668028"
     },
     "user_tz": -330
    },
    "id": "qVNF3WZXQuaN",
    "outputId": "8883f98e-d2e6-43fa-a9ab-b53a198c42f3"
   },
   "outputs": [
    {
     "data": {
      "text/html": [
       "<div>\n",
       "<style scoped>\n",
       "    .dataframe tbody tr th:only-of-type {\n",
       "        vertical-align: middle;\n",
       "    }\n",
       "\n",
       "    .dataframe tbody tr th {\n",
       "        vertical-align: top;\n",
       "    }\n",
       "\n",
       "    .dataframe thead th {\n",
       "        text-align: right;\n",
       "    }\n",
       "</style>\n",
       "<table border=\"1\" class=\"dataframe\">\n",
       "  <thead>\n",
       "    <tr style=\"text-align: right;\">\n",
       "      <th></th>\n",
       "      <th>username</th>\n",
       "      <th>acctdesc</th>\n",
       "      <th>location</th>\n",
       "      <th>following</th>\n",
       "      <th>followers</th>\n",
       "      <th>totaltweets</th>\n",
       "      <th>usercreatedts</th>\n",
       "      <th>tweetcreatedts</th>\n",
       "      <th>retweetcount</th>\n",
       "      <th>text</th>\n",
       "      <th>hashtags</th>\n",
       "    </tr>\n",
       "  </thead>\n",
       "  <tbody>\n",
       "    <tr>\n",
       "      <th>0</th>\n",
       "      <td>Lokeshk67004736</td>\n",
       "      <td>NaN</td>\n",
       "      <td>NaN</td>\n",
       "      <td>632</td>\n",
       "      <td>380</td>\n",
       "      <td>14186</td>\n",
       "      <td>2020-02-26 16:57:31</td>\n",
       "      <td>2020-06-23 01:50:13</td>\n",
       "      <td>82</td>\n",
       "      <td>हमारे गांव में एक मास्टर जी रहते थे, वो मोहल्ल...</td>\n",
       "      <td>[]</td>\n",
       "    </tr>\n",
       "    <tr>\n",
       "      <th>1</th>\n",
       "      <td>prayagraj_AU</td>\n",
       "      <td>सत्यमेव जयते\\n\\nभगवा ध्वज भारत का ऐतिहासिक एवं...</td>\n",
       "      <td>Uttar Pradesh, India</td>\n",
       "      <td>208</td>\n",
       "      <td>192</td>\n",
       "      <td>677</td>\n",
       "      <td>2020-06-16 10:04:04</td>\n",
       "      <td>2020-06-23 00:46:17</td>\n",
       "      <td>82</td>\n",
       "      <td>हमारे गांव में एक मास्टर जी रहते थे, वो मोहल्ल...</td>\n",
       "      <td>[]</td>\n",
       "    </tr>\n",
       "    <tr>\n",
       "      <th>2</th>\n",
       "      <td>brand_dbm1</td>\n",
       "      <td>संस्थापक #भगवारक्षकटीम         राम राम दोस्तो🙏...</td>\n",
       "      <td>New Delhi, India</td>\n",
       "      <td>1029</td>\n",
       "      <td>3027</td>\n",
       "      <td>2908</td>\n",
       "      <td>2014-11-16 17:44:40</td>\n",
       "      <td>2020-06-23 00:16:33</td>\n",
       "      <td>82</td>\n",
       "      <td>हमारे गांव में एक मास्टर जी रहते थे, वो मोहल्ल...</td>\n",
       "      <td>[]</td>\n",
       "    </tr>\n",
       "    <tr>\n",
       "      <th>3</th>\n",
       "      <td>Singh8Ankan</td>\n",
       "      <td>हिन्दू हूँ तो हिंदुत्व की बात ही करूँगा।जय श्र...</td>\n",
       "      <td>NaN</td>\n",
       "      <td>800</td>\n",
       "      <td>105</td>\n",
       "      <td>52910</td>\n",
       "      <td>2017-08-20 12:19:54</td>\n",
       "      <td>2020-06-22 23:55:11</td>\n",
       "      <td>82</td>\n",
       "      <td>हमारे गांव में एक मास्टर जी रहते थे, वो मोहल्ल...</td>\n",
       "      <td>[]</td>\n",
       "    </tr>\n",
       "    <tr>\n",
       "      <th>4</th>\n",
       "      <td>PfCEAtft7vvZQRA</td>\n",
       "      <td>हम जिहादियों वामपंथियों कांग्रेसियों सपाइयों क...</td>\n",
       "      <td>Uttar Pradesh, India</td>\n",
       "      <td>674</td>\n",
       "      <td>171</td>\n",
       "      <td>4634</td>\n",
       "      <td>2020-03-09 06:44:20</td>\n",
       "      <td>2020-06-22 23:02:23</td>\n",
       "      <td>82</td>\n",
       "      <td>हमारे गांव में एक मास्टर जी रहते थे, वो मोहल्ल...</td>\n",
       "      <td>[]</td>\n",
       "    </tr>\n",
       "  </tbody>\n",
       "</table>\n",
       "</div>"
      ],
      "text/plain": [
       "          username                                           acctdesc  \\\n",
       "0  Lokeshk67004736                                                NaN   \n",
       "1     prayagraj_AU  सत्यमेव जयते\\n\\nभगवा ध्वज भारत का ऐतिहासिक एवं...   \n",
       "2       brand_dbm1  संस्थापक #भगवारक्षकटीम         राम राम दोस्तो🙏...   \n",
       "3      Singh8Ankan  हिन्दू हूँ तो हिंदुत्व की बात ही करूँगा।जय श्र...   \n",
       "4  PfCEAtft7vvZQRA  हम जिहादियों वामपंथियों कांग्रेसियों सपाइयों क...   \n",
       "\n",
       "               location  following  followers  totaltweets  \\\n",
       "0                   NaN        632        380        14186   \n",
       "1  Uttar Pradesh, India        208        192          677   \n",
       "2      New Delhi, India       1029       3027         2908   \n",
       "3                   NaN        800        105        52910   \n",
       "4  Uttar Pradesh, India        674        171         4634   \n",
       "\n",
       "         usercreatedts       tweetcreatedts  retweetcount  \\\n",
       "0  2020-02-26 16:57:31  2020-06-23 01:50:13            82   \n",
       "1  2020-06-16 10:04:04  2020-06-23 00:46:17            82   \n",
       "2  2014-11-16 17:44:40  2020-06-23 00:16:33            82   \n",
       "3  2017-08-20 12:19:54  2020-06-22 23:55:11            82   \n",
       "4  2020-03-09 06:44:20  2020-06-22 23:02:23            82   \n",
       "\n",
       "                                                text hashtags  \n",
       "0  हमारे गांव में एक मास्टर जी रहते थे, वो मोहल्ल...       []  \n",
       "1  हमारे गांव में एक मास्टर जी रहते थे, वो मोहल्ल...       []  \n",
       "2  हमारे गांव में एक मास्टर जी रहते थे, वो मोहल्ल...       []  \n",
       "3  हमारे गांव में एक मास्टर जी रहते थे, वो मोहल्ल...       []  \n",
       "4  हमारे गांव में एक मास्टर जी रहते थे, वो मोहल्ल...       []  "
      ]
     },
     "execution_count": 5,
     "metadata": {},
     "output_type": "execute_result"
    }
   ],
   "source": [
    "#Top 5 Rows OF Datasets\n",
    "sarcastic.head()"
   ]
  },
  {
   "cell_type": "code",
   "execution_count": 6,
   "metadata": {
    "colab": {
     "base_uri": "https://localhost:8080/",
     "height": 538
    },
    "executionInfo": {
     "elapsed": 14,
     "status": "ok",
     "timestamp": 1706520779012,
     "user": {
      "displayName": "Priyanshu Gupta",
      "userId": "03767503421074668028"
     },
     "user_tz": -330
    },
    "id": "Nv5YnX6VQudU",
    "outputId": "a881468a-6a2c-41d0-85b8-a2306e8e6def"
   },
   "outputs": [
    {
     "data": {
      "text/html": [
       "<div>\n",
       "<style scoped>\n",
       "    .dataframe tbody tr th:only-of-type {\n",
       "        vertical-align: middle;\n",
       "    }\n",
       "\n",
       "    .dataframe tbody tr th {\n",
       "        vertical-align: top;\n",
       "    }\n",
       "\n",
       "    .dataframe thead th {\n",
       "        text-align: right;\n",
       "    }\n",
       "</style>\n",
       "<table border=\"1\" class=\"dataframe\">\n",
       "  <thead>\n",
       "    <tr style=\"text-align: right;\">\n",
       "      <th></th>\n",
       "      <th>username</th>\n",
       "      <th>acctdesc</th>\n",
       "      <th>location</th>\n",
       "      <th>following</th>\n",
       "      <th>followers</th>\n",
       "      <th>totaltweets</th>\n",
       "      <th>usercreatedts</th>\n",
       "      <th>tweetcreatedts</th>\n",
       "      <th>retweetcount</th>\n",
       "      <th>text</th>\n",
       "      <th>hashtags</th>\n",
       "    </tr>\n",
       "  </thead>\n",
       "  <tbody>\n",
       "    <tr>\n",
       "      <th>0</th>\n",
       "      <td>Jatsland</td>\n",
       "      <td>→ \\nℳera☺ Attitude मेरी 😎शान है,\\n\\nAur ℳerä द...</td>\n",
       "      <td>आपणो राजस्थान {नागौरी}</td>\n",
       "      <td>124</td>\n",
       "      <td>2884</td>\n",
       "      <td>70421</td>\n",
       "      <td>2014-05-08 05:11:58</td>\n",
       "      <td>2020-06-22 14:36:47</td>\n",
       "      <td>5</td>\n",
       "      <td>🍃🌼🍃🌼🍃🌼🍃🌼🍃🌼🍃\\n\\nकभी न बुझती है \\nवो प्यास है #ज...</td>\n",
       "      <td>[{'text': 'जिंदगी', 'indices': [60, 67]}, {'te...</td>\n",
       "    </tr>\n",
       "    <tr>\n",
       "      <th>1</th>\n",
       "      <td>lifestyleship7</td>\n",
       "      <td>Daily Lifestyle से संबंधित Educational, Busine...</td>\n",
       "      <td>India</td>\n",
       "      <td>0</td>\n",
       "      <td>1</td>\n",
       "      <td>13</td>\n",
       "      <td>2020-06-15 11:17:47</td>\n",
       "      <td>2020-06-22 14:29:26</td>\n",
       "      <td>0</td>\n",
       "      <td>डिप्रेशन के शुरुआती आठ लक्षण, उदाहरण और इलाज\\n...</td>\n",
       "      <td>[{'text': 'depression', 'indices': [75, 86]}, ...</td>\n",
       "    </tr>\n",
       "    <tr>\n",
       "      <th>2</th>\n",
       "      <td>Benish_shex</td>\n",
       "      <td>I may not be perfect but atlest I m not fake.....</td>\n",
       "      <td>Karachi, Pakistan</td>\n",
       "      <td>186</td>\n",
       "      <td>154</td>\n",
       "      <td>5232</td>\n",
       "      <td>2016-05-26 08:01:53</td>\n",
       "      <td>2020-06-22 14:26:56</td>\n",
       "      <td>0</td>\n",
       "      <td>@FaiziJee98 Aaj apki saalgirah hy nahi 🙊😛 or j...</td>\n",
       "      <td>[{'text': 'happy', 'indices': [72, 78]}, {'tex...</td>\n",
       "    </tr>\n",
       "    <tr>\n",
       "      <th>3</th>\n",
       "      <td>Priyanshi_001</td>\n",
       "      <td>#My_life_my_rules_and_my_attitude.... \\n\\n#जी_...</td>\n",
       "      <td>🌹💫💕💫🌹</td>\n",
       "      <td>7</td>\n",
       "      <td>1111</td>\n",
       "      <td>51312</td>\n",
       "      <td>2019-05-06 03:31:52</td>\n",
       "      <td>2020-06-22 14:23:01</td>\n",
       "      <td>5</td>\n",
       "      <td>🍃🌼🍃🌼🍃🌼🍃🌼🍃🌼🍃\\n\\nकभी न बुझती है \\nवो प्यास है #ज...</td>\n",
       "      <td>[{'text': 'जिंदगी', 'indices': [60, 67]}, {'te...</td>\n",
       "    </tr>\n",
       "    <tr>\n",
       "      <th>4</th>\n",
       "      <td>ParthikaH</td>\n",
       "      <td>I mAKe My OwN wAy</td>\n",
       "      <td>India 🇮🇳</td>\n",
       "      <td>62</td>\n",
       "      <td>9</td>\n",
       "      <td>28</td>\n",
       "      <td>2019-06-18 18:17:23</td>\n",
       "      <td>2020-06-22 14:21:30</td>\n",
       "      <td>0</td>\n",
       "      <td>#Happy rathyatra https://t.co/flLVnffvOJ</td>\n",
       "      <td>[{'text': 'Happy', 'indices': [0, 6]}]</td>\n",
       "    </tr>\n",
       "  </tbody>\n",
       "</table>\n",
       "</div>"
      ],
      "text/plain": [
       "         username                                           acctdesc  \\\n",
       "0        Jatsland  → \\nℳera☺ Attitude मेरी 😎शान है,\\n\\nAur ℳerä द...   \n",
       "1  lifestyleship7  Daily Lifestyle से संबंधित Educational, Busine...   \n",
       "2     Benish_shex  I may not be perfect but atlest I m not fake.....   \n",
       "3   Priyanshi_001  #My_life_my_rules_and_my_attitude.... \\n\\n#जी_...   \n",
       "4       ParthikaH                                  I mAKe My OwN wAy   \n",
       "\n",
       "                 location  following  followers  totaltweets  \\\n",
       "0  आपणो राजस्थान {नागौरी}        124       2884        70421   \n",
       "1                   India          0          1           13   \n",
       "2       Karachi, Pakistan        186        154         5232   \n",
       "3                   🌹💫💕💫🌹          7       1111        51312   \n",
       "4               India 🇮🇳          62          9           28   \n",
       "\n",
       "         usercreatedts       tweetcreatedts  retweetcount  \\\n",
       "0  2014-05-08 05:11:58  2020-06-22 14:36:47             5   \n",
       "1  2020-06-15 11:17:47  2020-06-22 14:29:26             0   \n",
       "2  2016-05-26 08:01:53  2020-06-22 14:26:56             0   \n",
       "3  2019-05-06 03:31:52  2020-06-22 14:23:01             5   \n",
       "4  2019-06-18 18:17:23  2020-06-22 14:21:30             0   \n",
       "\n",
       "                                                text  \\\n",
       "0  🍃🌼🍃🌼🍃🌼🍃🌼🍃🌼🍃\\n\\nकभी न बुझती है \\nवो प्यास है #ज...   \n",
       "1  डिप्रेशन के शुरुआती आठ लक्षण, उदाहरण और इलाज\\n...   \n",
       "2  @FaiziJee98 Aaj apki saalgirah hy nahi 🙊😛 or j...   \n",
       "3  🍃🌼🍃🌼🍃🌼🍃🌼🍃🌼🍃\\n\\nकभी न बुझती है \\nवो प्यास है #ज...   \n",
       "4           #Happy rathyatra https://t.co/flLVnffvOJ   \n",
       "\n",
       "                                            hashtags  \n",
       "0  [{'text': 'जिंदगी', 'indices': [60, 67]}, {'te...  \n",
       "1  [{'text': 'depression', 'indices': [75, 86]}, ...  \n",
       "2  [{'text': 'happy', 'indices': [72, 78]}, {'tex...  \n",
       "3  [{'text': 'जिंदगी', 'indices': [60, 67]}, {'te...  \n",
       "4             [{'text': 'Happy', 'indices': [0, 6]}]  "
      ]
     },
     "execution_count": 6,
     "metadata": {},
     "output_type": "execute_result"
    }
   ],
   "source": [
    "non_sarcastic.head()"
   ]
  },
  {
   "cell_type": "code",
   "execution_count": 7,
   "metadata": {
    "id": "o3nflEI9QugS"
   },
   "outputs": [],
   "source": [
    "sarcastic=sarcastic[[\"text\"]]\n",
    "non_sarcastic=non_sarcastic[[\"text\"]]"
   ]
  },
  {
   "cell_type": "code",
   "execution_count": 8,
   "metadata": {
    "id": "nSXMdBR-QujO"
   },
   "outputs": [],
   "source": [
    "#Labelling"
   ]
  },
  {
   "cell_type": "code",
   "execution_count": 9,
   "metadata": {
    "colab": {
     "base_uri": "https://localhost:8080/"
    },
    "executionInfo": {
     "elapsed": 12,
     "status": "ok",
     "timestamp": 1706520779012,
     "user": {
      "displayName": "Priyanshu Gupta",
      "userId": "03767503421074668028"
     },
     "user_tz": -330
    },
    "id": "m1udsAknQuma",
    "outputId": "bb97bfad-2846-499e-adfc-fa0ed10a377d"
   },
   "outputs": [],
   "source": [
    "sarcastic[\"label\"]=1\n",
    "non_sarcastic[\"label\"]=0"
   ]
  },
  {
   "cell_type": "code",
   "execution_count": 10,
   "metadata": {
    "colab": {
     "base_uri": "https://localhost:8080/"
    },
    "executionInfo": {
     "elapsed": 10,
     "status": "ok",
     "timestamp": 1706520779012,
     "user": {
      "displayName": "Priyanshu Gupta",
      "userId": "03767503421074668028"
     },
     "user_tz": -330
    },
    "id": "cTBSDNoNUXZP",
    "outputId": "5d4bf51d-9854-4d80-f220-25d9b65b72da"
   },
   "outputs": [
    {
     "data": {
      "text/plain": [
       "(6051, 2)"
      ]
     },
     "execution_count": 10,
     "metadata": {},
     "output_type": "execute_result"
    }
   ],
   "source": [
    "sarcastic.shape"
   ]
  },
  {
   "cell_type": "code",
   "execution_count": 11,
   "metadata": {
    "id": "cLa_0Ql7Qu5L"
   },
   "outputs": [],
   "source": [
    "# String Concatenate"
   ]
  },
  {
   "cell_type": "code",
   "execution_count": 12,
   "metadata": {
    "id": "XpBP7vUwUXgp"
   },
   "outputs": [],
   "source": [
    "df=pd.concat([sarcastic , non_sarcastic])"
   ]
  },
  {
   "cell_type": "code",
   "execution_count": 13,
   "metadata": {
    "id": "si4BqwFyQupk"
   },
   "outputs": [],
   "source": [
    "# Drop Duplicates"
   ]
  },
  {
   "cell_type": "code",
   "execution_count": 14,
   "metadata": {
    "id": "bbnLHO2CUuXa"
   },
   "outputs": [],
   "source": [
    "df = df.drop_duplicates(keep='first')"
   ]
  },
  {
   "cell_type": "code",
   "execution_count": 15,
   "metadata": {
    "id": "k8bL0dNbQusr"
   },
   "outputs": [],
   "source": [
    "#sarcastic=sarcastic.drop_duplicates().reset_index().drop(\"index\" , axis=1)"
   ]
  },
  {
   "cell_type": "code",
   "execution_count": 16,
   "metadata": {
    "id": "gJWfsug0Quvv"
   },
   "outputs": [],
   "source": [
    "#non_sarcastic=non_sarcastic.drop_duplicates().reset_index().drop(\"index\" , axis=1)"
   ]
  },
  {
   "cell_type": "code",
   "execution_count": 17,
   "metadata": {
    "colab": {
     "base_uri": "https://localhost:8080/",
     "height": 423
    },
    "executionInfo": {
     "elapsed": 9,
     "status": "ok",
     "timestamp": 1706520779013,
     "user": {
      "displayName": "Priyanshu Gupta",
      "userId": "03767503421074668028"
     },
     "user_tz": -330
    },
    "id": "mO6MIuXLQu_t",
    "outputId": "4af101f2-6ad4-497e-c61f-42cf58ac56c4"
   },
   "outputs": [
    {
     "data": {
      "text/html": [
       "<div>\n",
       "<style scoped>\n",
       "    .dataframe tbody tr th:only-of-type {\n",
       "        vertical-align: middle;\n",
       "    }\n",
       "\n",
       "    .dataframe tbody tr th {\n",
       "        vertical-align: top;\n",
       "    }\n",
       "\n",
       "    .dataframe thead th {\n",
       "        text-align: right;\n",
       "    }\n",
       "</style>\n",
       "<table border=\"1\" class=\"dataframe\">\n",
       "  <thead>\n",
       "    <tr style=\"text-align: right;\">\n",
       "      <th></th>\n",
       "      <th>text</th>\n",
       "      <th>label</th>\n",
       "    </tr>\n",
       "  </thead>\n",
       "  <tbody>\n",
       "    <tr>\n",
       "      <th>0</th>\n",
       "      <td>हमारे गांव में एक मास्टर जी रहते थे, वो मोहल्ल...</td>\n",
       "      <td>1</td>\n",
       "    </tr>\n",
       "    <tr>\n",
       "      <th>5</th>\n",
       "      <td>Dil hi saaf rakhlo... \\nShakal ka to vaise bhi...</td>\n",
       "      <td>1</td>\n",
       "    </tr>\n",
       "    <tr>\n",
       "      <th>6</th>\n",
       "      <td>घोड़ो को ना मिली घास और गधे खा रहे चवनप्रास😃😃\\...</td>\n",
       "      <td>1</td>\n",
       "    </tr>\n",
       "    <tr>\n",
       "      <th>7</th>\n",
       "      <td>पिछली सरकार के 10 साल के कार्यकाल  में 171 जवा...</td>\n",
       "      <td>1</td>\n",
       "    </tr>\n",
       "    <tr>\n",
       "      <th>8</th>\n",
       "      <td>\"Akele aaye the akele hi jayengy\" ye kahawat a...</td>\n",
       "      <td>1</td>\n",
       "    </tr>\n",
       "    <tr>\n",
       "      <th>...</th>\n",
       "      <td>...</td>\n",
       "      <td>...</td>\n",
       "    </tr>\n",
       "    <tr>\n",
       "      <th>4044</th>\n",
       "      <td>https://t.co/HnIURjsvMT अंतर्राष्ट्रीय योग दिव...</td>\n",
       "      <td>0</td>\n",
       "    </tr>\n",
       "    <tr>\n",
       "      <th>6065</th>\n",
       "      <td>@Jaihindsonu59 @SinghChunni @SATYAPR27477125 क...</td>\n",
       "      <td>0</td>\n",
       "    </tr>\n",
       "    <tr>\n",
       "      <th>8093</th>\n",
       "      <td>https://t.co/qzgPRYlS1h प्रदेश में आज से कोरोन...</td>\n",
       "      <td>0</td>\n",
       "    </tr>\n",
       "    <tr>\n",
       "      <th>8095</th>\n",
       "      <td>Zyada achey b mat bano, yad rkho k meethey pha...</td>\n",
       "      <td>0</td>\n",
       "    </tr>\n",
       "    <tr>\n",
       "      <th>8096</th>\n",
       "      <td>zindagi ki yhi reet hai, haar k baad hi jeet h...</td>\n",
       "      <td>0</td>\n",
       "    </tr>\n",
       "  </tbody>\n",
       "</table>\n",
       "<p>1132 rows × 2 columns</p>\n",
       "</div>"
      ],
      "text/plain": [
       "                                                   text  label\n",
       "0     हमारे गांव में एक मास्टर जी रहते थे, वो मोहल्ल...      1\n",
       "5     Dil hi saaf rakhlo... \\nShakal ka to vaise bhi...      1\n",
       "6     घोड़ो को ना मिली घास और गधे खा रहे चवनप्रास😃😃\\...      1\n",
       "7     पिछली सरकार के 10 साल के कार्यकाल  में 171 जवा...      1\n",
       "8     \"Akele aaye the akele hi jayengy\" ye kahawat a...      1\n",
       "...                                                 ...    ...\n",
       "4044  https://t.co/HnIURjsvMT अंतर्राष्ट्रीय योग दिव...      0\n",
       "6065  @Jaihindsonu59 @SinghChunni @SATYAPR27477125 क...      0\n",
       "8093  https://t.co/qzgPRYlS1h प्रदेश में आज से कोरोन...      0\n",
       "8095  Zyada achey b mat bano, yad rkho k meethey pha...      0\n",
       "8096  zindagi ki yhi reet hai, haar k baad hi jeet h...      0\n",
       "\n",
       "[1132 rows x 2 columns]"
      ]
     },
     "execution_count": 17,
     "metadata": {},
     "output_type": "execute_result"
    }
   ],
   "source": [
    "df"
   ]
  },
  {
   "cell_type": "code",
   "execution_count": 18,
   "metadata": {
    "id": "o2r-AVH4QvCu"
   },
   "outputs": [],
   "source": [
    "#Text Cleaning  , removing emoji from a Text\n",
    "import re #regular expression"
   ]
  },
  {
   "cell_type": "code",
   "execution_count": 19,
   "metadata": {
    "id": "fxramMmqQvF8"
   },
   "outputs": [],
   "source": [
    "# Function For removing a Emojis From a Text\n",
    "def remove_emojis(text):\n",
    "    emoji_pattern = re.compile(\"[\"\n",
    "                               u\"\\U0001F600-\\U0001F64F\"  # emoticons\n",
    "                               u\"\\U0001F300-\\U0001F5FF\"  # symbols & pictographs\n",
    "                               u\"\\U0001F680-\\U0001F6FF\"  # transport & map symbols\n",
    "                               u\"\\U0001F1E0-\\U0001F1FF\"  # flags (iOS)\n",
    "                               \"]+\", flags=re.UNICODE)\n",
    "    return emoji_pattern.sub(r'', text)"
   ]
  },
  {
   "cell_type": "code",
   "execution_count": 20,
   "metadata": {
    "id": "fzOOyjPoQvJR"
   },
   "outputs": [],
   "source": [
    "# applying function to remove a Emojis From a Text\n",
    "df[\"text\"]=df[\"text\"].apply(remove_emojis)"
   ]
  },
  {
   "cell_type": "code",
   "execution_count": 21,
   "metadata": {
    "id": "4NN9DCDSSjax"
   },
   "outputs": [],
   "source": [
    "#pip install ktrain"
   ]
  },
  {
   "cell_type": "code",
   "execution_count": 22,
   "metadata": {
    "id": "nat_37-9U8SK"
   },
   "outputs": [],
   "source": [
    "# Its a code for shuffling Datasets\n",
    "df=df.sample(df.shape[0] , random_state=64)"
   ]
  },
  {
   "cell_type": "code",
   "execution_count": 23,
   "metadata": {
    "colab": {
     "base_uri": "https://localhost:8080/"
    },
    "executionInfo": {
     "elapsed": 30,
     "status": "ok",
     "timestamp": 1706520780711,
     "user": {
      "displayName": "Priyanshu Gupta",
      "userId": "03767503421074668028"
     },
     "user_tz": -330
    },
    "id": "UO4eEk9QU8X2",
    "outputId": "7e73c180-fd4d-40d9-8beb-799ef73bf771"
   },
   "outputs": [
    {
     "data": {
      "text/plain": [
       "label\n",
       "0    936\n",
       "1    196\n",
       "Name: count, dtype: int64"
      ]
     },
     "execution_count": 23,
     "metadata": {},
     "output_type": "execute_result"
    }
   ],
   "source": [
    "# Value count of dependent Variable\n",
    "df[\"label\"].value_counts()"
   ]
  },
  {
   "cell_type": "code",
   "execution_count": 24,
   "metadata": {
    "colab": {
     "base_uri": "https://localhost:8080/",
     "height": 423
    },
    "executionInfo": {
     "elapsed": 20,
     "status": "ok",
     "timestamp": 1706520780712,
     "user": {
      "displayName": "Priyanshu Gupta",
      "userId": "03767503421074668028"
     },
     "user_tz": -330
    },
    "id": "_yRZcKxzU8eI",
    "outputId": "d522d90c-d86d-42b3-9e4c-48a18af52e8a"
   },
   "outputs": [
    {
     "data": {
      "text/html": [
       "<div>\n",
       "<style scoped>\n",
       "    .dataframe tbody tr th:only-of-type {\n",
       "        vertical-align: middle;\n",
       "    }\n",
       "\n",
       "    .dataframe tbody tr th {\n",
       "        vertical-align: top;\n",
       "    }\n",
       "\n",
       "    .dataframe thead th {\n",
       "        text-align: right;\n",
       "    }\n",
       "</style>\n",
       "<table border=\"1\" class=\"dataframe\">\n",
       "  <thead>\n",
       "    <tr style=\"text-align: right;\">\n",
       "      <th></th>\n",
       "      <th>text</th>\n",
       "      <th>label</th>\n",
       "    </tr>\n",
       "  </thead>\n",
       "  <tbody>\n",
       "    <tr>\n",
       "      <th>529</th>\n",
       "      <td>@Anujsingh20291 @NorbertElekes Shant Gadadhari...</td>\n",
       "      <td>1</td>\n",
       "    </tr>\n",
       "    <tr>\n",
       "      <th>551</th>\n",
       "      <td>ईश्वर की सबसे खूबसूरत धरोहर \"पिता\" के त्याग, ब...</td>\n",
       "      <td>0</td>\n",
       "    </tr>\n",
       "    <tr>\n",
       "      <th>257</th>\n",
       "      <td>@AqibWaheed_ @BBCUrdu @Junaid_PPP @MuqaddasRaz...</td>\n",
       "      <td>0</td>\n",
       "    </tr>\n",
       "    <tr>\n",
       "      <th>1775</th>\n",
       "      <td>#दुख से मत घबराना पंछी,ये जग दुखियों का मेला ह...</td>\n",
       "      <td>0</td>\n",
       "    </tr>\n",
       "    <tr>\n",
       "      <th>1061</th>\n",
       "      <td>ऐ मौसम है सुहाना... \\n#Monsoon2020 #Happy #Mon...</td>\n",
       "      <td>0</td>\n",
       "    </tr>\n",
       "    <tr>\n",
       "      <th>...</th>\n",
       "      <td>...</td>\n",
       "      <td>...</td>\n",
       "    </tr>\n",
       "    <tr>\n",
       "      <th>1700</th>\n",
       "      <td>@DrKumarVishwas दोस्तों को दुख ना हो..\\nसोचकर ...</td>\n",
       "      <td>0</td>\n",
       "    </tr>\n",
       "    <tr>\n",
       "      <th>154</th>\n",
       "      <td>'आलू से सोना' बनाने की तकनीक खोजने वाले महान व...</td>\n",
       "      <td>1</td>\n",
       "    </tr>\n",
       "    <tr>\n",
       "      <th>513</th>\n",
       "      <td>.              Sirf  Smile  chhod Ke\\n\\n      ...</td>\n",
       "      <td>1</td>\n",
       "    </tr>\n",
       "    <tr>\n",
       "      <th>1677</th>\n",
       "      <td>पहले चाय,सिगरेट और तुम हमसफर थे मेरे,\\nफिलहाल ...</td>\n",
       "      <td>0</td>\n",
       "    </tr>\n",
       "    <tr>\n",
       "      <th>563</th>\n",
       "      <td>बेमतलब सी इस दुनिया में वो ही हमारी शान है !\\n...</td>\n",
       "      <td>0</td>\n",
       "    </tr>\n",
       "  </tbody>\n",
       "</table>\n",
       "<p>1132 rows × 2 columns</p>\n",
       "</div>"
      ],
      "text/plain": [
       "                                                   text  label\n",
       "529   @Anujsingh20291 @NorbertElekes Shant Gadadhari...      1\n",
       "551   ईश्वर की सबसे खूबसूरत धरोहर \"पिता\" के त्याग, ब...      0\n",
       "257   @AqibWaheed_ @BBCUrdu @Junaid_PPP @MuqaddasRaz...      0\n",
       "1775  #दुख से मत घबराना पंछी,ये जग दुखियों का मेला ह...      0\n",
       "1061  ऐ मौसम है सुहाना... \\n#Monsoon2020 #Happy #Mon...      0\n",
       "...                                                 ...    ...\n",
       "1700  @DrKumarVishwas दोस्तों को दुख ना हो..\\nसोचकर ...      0\n",
       "154   'आलू से सोना' बनाने की तकनीक खोजने वाले महान व...      1\n",
       "513   .              Sirf  Smile  chhod Ke\\n\\n      ...      1\n",
       "1677  पहले चाय,सिगरेट और तुम हमसफर थे मेरे,\\nफिलहाल ...      0\n",
       "563   बेमतलब सी इस दुनिया में वो ही हमारी शान है !\\n...      0\n",
       "\n",
       "[1132 rows x 2 columns]"
      ]
     },
     "execution_count": 24,
     "metadata": {},
     "output_type": "execute_result"
    }
   ],
   "source": [
    "df"
   ]
  },
  {
   "cell_type": "code",
   "execution_count": 25,
   "metadata": {
    "id": "9LRZAHTcSiHb"
   },
   "outputs": [],
   "source": [
    "import re"
   ]
  },
  {
   "cell_type": "code",
   "execution_count": 26,
   "metadata": {
    "id": "9-MN7CW_SiKn"
   },
   "outputs": [],
   "source": [
    "# Code for removing a Special Character\n",
    "def remove_special_chars(input_string):\n",
    "    chars_to_remove = \",@#\"\n",
    "    output_string = input_string.translate(str.maketrans('', '', chars_to_remove))\n",
    "    return output_string"
   ]
  },
  {
   "cell_type": "code",
   "execution_count": 27,
   "metadata": {
    "colab": {
     "base_uri": "https://localhost:8080/"
    },
    "executionInfo": {
     "elapsed": 11470,
     "status": "ok",
     "timestamp": 1706520792166,
     "user": {
      "displayName": "Priyanshu Gupta",
      "userId": "03767503421074668028"
     },
     "user_tz": -330
    },
    "id": "BjcIJ9dqZaLK",
    "outputId": "790e6b74-b6ff-4b79-8662-1a2212662210"
   },
   "outputs": [
    {
     "name": "stdout",
     "output_type": "stream",
     "text": [
      "Requirement already satisfied: emoji in c:\\users\\dipali\\anaconda3\\envs\\tensorflow_env\\lib\\site-packages (2.10.1)\n"
     ]
    }
   ],
   "source": [
    "!pip install emoji"
   ]
  },
  {
   "cell_type": "code",
   "execution_count": 28,
   "metadata": {
    "id": "c04kLnEyZcbr"
   },
   "outputs": [],
   "source": [
    "# Code For Removing Special Type of Emojis\n",
    "import regex\n",
    "def remove_emojis(text):\n",
    "    emoji_pattern = regex.compile(\"[\\p{Emoji}]\")\n",
    "    text_without_emojis = emoji_pattern.sub('', text)\n",
    "    return text_without_emojis"
   ]
  },
  {
   "cell_type": "code",
   "execution_count": 29,
   "metadata": {
    "id": "a5kI5ym9ZcfZ"
   },
   "outputs": [],
   "source": [
    "# Applying That Function\n",
    "df[\"text\"]=df[\"text\"].apply(remove_emojis)"
   ]
  },
  {
   "cell_type": "code",
   "execution_count": 30,
   "metadata": {
    "id": "penR32RYSiN-"
   },
   "outputs": [],
   "source": [
    "df[\"text\"]=df[\"text\"].apply(remove_special_chars)"
   ]
  },
  {
   "cell_type": "code",
   "execution_count": 31,
   "metadata": {
    "id": "syvKaQ7CSiRT"
   },
   "outputs": [],
   "source": [
    "# Removing \"\\n\" tag in text\n",
    "df[\"text\"]=df[\"text\"].apply(lambda x:x.replace(\"\\n\", \"\"))"
   ]
  },
  {
   "cell_type": "code",
   "execution_count": 32,
   "metadata": {
    "colab": {
     "base_uri": "https://localhost:8080/"
    },
    "executionInfo": {
     "elapsed": 7,
     "status": "ok",
     "timestamp": 1706520792887,
     "user": {
      "displayName": "Priyanshu Gupta",
      "userId": "03767503421074668028"
     },
     "user_tz": -330
    },
    "id": "q7YKU__0OiFc",
    "outputId": "589d49f0-8189-44e4-d43f-35265ec591ad"
   },
   "outputs": [
    {
     "data": {
      "text/plain": [
       "label\n",
       "0    936\n",
       "1    196\n",
       "Name: count, dtype: int64"
      ]
     },
     "execution_count": 32,
     "metadata": {},
     "output_type": "execute_result"
    }
   ],
   "source": [
    "# Again Value Counts\n",
    "df[\"label\"].value_counts()"
   ]
  },
  {
   "cell_type": "code",
   "execution_count": 33,
   "metadata": {
    "id": "u7tvsoOmOiQQ"
   },
   "outputs": [],
   "source": [
    "# Datasets is Imbalance With Dependent and Independent Variable  , So Making It Balance\n",
    "sar=df[df[\"label\"]==1]"
   ]
  },
  {
   "cell_type": "code",
   "execution_count": 34,
   "metadata": {
    "id": "KQ4OmaiGOiTI"
   },
   "outputs": [],
   "source": [
    "sar_tst=sar.head(37)"
   ]
  },
  {
   "cell_type": "code",
   "execution_count": 35,
   "metadata": {
    "id": "6ZoWh-iaOiWR"
   },
   "outputs": [],
   "source": [
    "sar_trn=sar.tail(159)"
   ]
  },
  {
   "cell_type": "code",
   "execution_count": 36,
   "metadata": {
    "id": "sj_8W_wGOicx"
   },
   "outputs": [],
   "source": [
    "non_sar=df[df[\"label\"]==0]"
   ]
  },
  {
   "cell_type": "code",
   "execution_count": 37,
   "metadata": {
    "id": "vDDVWmN0OigQ"
   },
   "outputs": [],
   "source": [
    "non_sar_tst=non_sar.head(187)"
   ]
  },
  {
   "cell_type": "code",
   "execution_count": 38,
   "metadata": {
    "id": "eMydStpGVxYq"
   },
   "outputs": [],
   "source": [
    "non_sar_trn=non_sar.tail(749)"
   ]
  },
  {
   "cell_type": "code",
   "execution_count": 39,
   "metadata": {
    "id": "EBcZR7J1Oimv"
   },
   "outputs": [],
   "source": [
    "test_df=pd.concat([sar_tst , non_sar_tst])"
   ]
  },
  {
   "cell_type": "code",
   "execution_count": 40,
   "metadata": {
    "id": "NtlQmSLMOitp"
   },
   "outputs": [],
   "source": [
    "train_df=pd.concat([sar_trn , non_sar_trn])"
   ]
  },
  {
   "cell_type": "code",
   "execution_count": 41,
   "metadata": {
    "id": "TK6iS1BWOixA"
   },
   "outputs": [],
   "source": [
    "train_df=train_df.sample(train_df.shape[0] , random_state=56)"
   ]
  },
  {
   "cell_type": "code",
   "execution_count": 42,
   "metadata": {
    "id": "AO-NH4DwOi4x"
   },
   "outputs": [],
   "source": [
    "# Sepraating for Train and Test algorithm\n",
    "x_train=train_df[\"text\"]\n",
    "y_train=train_df[\"label\"]"
   ]
  },
  {
   "cell_type": "code",
   "execution_count": 43,
   "metadata": {
    "id": "xWaRGplFOi8j"
   },
   "outputs": [],
   "source": [
    "x_test=test_df[\"text\"]\n",
    "y_test=test_df[\"label\"]"
   ]
  },
  {
   "cell_type": "code",
   "execution_count": 44,
   "metadata": {},
   "outputs": [
    {
     "name": "stdout",
     "output_type": "stream",
     "text": [
      "Empty DataFrame\n",
      "Columns: [text, label]\n",
      "Index: []\n"
     ]
    }
   ],
   "source": [
    "print(df[df[\"text\"].isnull()])"
   ]
  },
  {
   "cell_type": "code",
   "execution_count": 45,
   "metadata": {
    "id": "KvdZI6HNOjAO"
   },
   "outputs": [],
   "source": [
    "# Importing Vectorizer For Converting Text Into Number\n",
    "from sklearn.feature_extraction.text import CountVectorizer"
   ]
  },
  {
   "cell_type": "code",
   "execution_count": 46,
   "metadata": {
    "id": "Bc6DXd-IYOfB"
   },
   "outputs": [],
   "source": [
    "#Its a Object\n",
    "cv=CountVectorizer()"
   ]
  },
  {
   "cell_type": "code",
   "execution_count": 47,
   "metadata": {
    "colab": {
     "base_uri": "https://localhost:8080/"
    },
    "executionInfo": {
     "elapsed": 6,
     "status": "ok",
     "timestamp": 1706520792888,
     "user": {
      "displayName": "Priyanshu Gupta",
      "userId": "03767503421074668028"
     },
     "user_tz": -330
    },
    "id": "vVfXBvp1--8S",
    "outputId": "5bb8d4ec-7d47-445e-b41c-4ba73b16edd5"
   },
   "outputs": [
    {
     "data": {
      "text/plain": [
       "931     HAPPY BIRTHDAY भारत के युवराज ओर मेरे नेता राह...\n",
       "1766    आप जिंदगी मे कितने भी बड़े मुकाम क्यों नाहासिल...\n",
       "711     Shabbat Shalom YHWH  Happy Shabbat spiritualar...\n",
       "723     तुमको मिल जायेंगे बेहतर मुझसेमुझको मिल जायँगे ...\n",
       "756     विश्वास का यह बंधन यूं ही बना रहेआपके जीवन में...\n",
       "                              ...                        \n",
       "544     AAKASHM  happy International Yoga DaySabhi ko ...\n",
       "2002    arayanaenno NikhileshChanuअभिनेता सुशांत सिंह ...\n",
       "1462    जिस प्रकार एक कुम्हार के थाप से मिट्टी भी सुंद...\n",
       "232     IndinNederlands MEAIndia DrSJaishankar Hardeep...\n",
       "1806    Post moterm karna par dil ko kuch mat karna..b...\n",
       "Name: text, Length: 908, dtype: object"
      ]
     },
     "execution_count": 47,
     "metadata": {},
     "output_type": "execute_result"
    }
   ],
   "source": [
    "x_train"
   ]
  },
  {
   "cell_type": "code",
   "execution_count": null,
   "metadata": {
    "id": "MRqlFkmi-_M_"
   },
   "outputs": [],
   "source": []
  },
  {
   "cell_type": "code",
   "execution_count": 48,
   "metadata": {
    "id": "EYV2sxTZOjEC"
   },
   "outputs": [],
   "source": [
    "#Converted x_train Into Vector\n",
    "x_train=cv.fit_transform(x_train)"
   ]
  },
  {
   "cell_type": "code",
   "execution_count": 49,
   "metadata": {
    "colab": {
     "base_uri": "https://localhost:8080/"
    },
    "executionInfo": {
     "elapsed": 4,
     "status": "ok",
     "timestamp": 1706520793501,
     "user": {
      "displayName": "Priyanshu Gupta",
      "userId": "03767503421074668028"
     },
     "user_tz": -330
    },
    "id": "n-SQ-vrg_HNx",
    "outputId": "cbf3ea8c-5c8f-40d8-8519-f3ed61b6198d"
   },
   "outputs": [
    {
     "data": {
      "text/plain": [
       "array([0, 0, 0, ..., 0, 0, 0], dtype=int64)"
      ]
     },
     "execution_count": 49,
     "metadata": {},
     "output_type": "execute_result"
    }
   ],
   "source": [
    "x_train.toarray()[0]"
   ]
  },
  {
   "cell_type": "code",
   "execution_count": 50,
   "metadata": {
    "id": "m8tWMskXOjHi"
   },
   "outputs": [],
   "source": [
    "#Converted x_test Into Vectorizer\n",
    "#x_test=cv.transform(x_test)"
   ]
  },
  {
   "cell_type": "code",
   "execution_count": 51,
   "metadata": {},
   "outputs": [
    {
     "ename": "NameError",
     "evalue": "name 'joblib' is not defined",
     "output_type": "error",
     "traceback": [
      "\u001b[1;31m---------------------------------------------------------------------------\u001b[0m",
      "\u001b[1;31mNameError\u001b[0m                                 Traceback (most recent call last)",
      "Cell \u001b[1;32mIn[51], line 2\u001b[0m\n\u001b[0;32m      1\u001b[0m \u001b[38;5;66;03m# Save the trained CountVectorizer to a file\u001b[39;00m\n\u001b[1;32m----> 2\u001b[0m \u001b[43mjoblib\u001b[49m\u001b[38;5;241m.\u001b[39mdump(cv, \u001b[38;5;124m'\u001b[39m\u001b[38;5;124mcountvectorizer.pkl\u001b[39m\u001b[38;5;124m'\u001b[39m)\n",
      "\u001b[1;31mNameError\u001b[0m: name 'joblib' is not defined"
     ]
    }
   ],
   "source": [
    "\n",
    "# Save the trained CountVectorizer to a file\n",
    "joblib.dump(cv, 'countvectorizer.pkl')\n"
   ]
  },
  {
   "cell_type": "markdown",
   "metadata": {
    "id": "EwvPFLmTdz9d"
   },
   "source": [
    "**Machine Learning Random Forest Classifier**"
   ]
  },
  {
   "cell_type": "code",
   "execution_count": 50,
   "metadata": {
    "id": "mYHPzofoOjZD"
   },
   "outputs": [],
   "source": [
    "# Applying Machine Learning Algorithm 1st Random Forest Algorithm\n",
    "from sklearn.metrics import accuracy_score\n",
    "from sklearn.ensemble import RandomForestClassifier\n",
    "clf=RandomForestClassifier()"
   ]
  },
  {
   "cell_type": "code",
   "execution_count": 51,
   "metadata": {
    "colab": {
     "base_uri": "https://localhost:8080/"
    },
    "executionInfo": {
     "elapsed": 6,
     "status": "ok",
     "timestamp": 1706520794201,
     "user": {
      "displayName": "Priyanshu Gupta",
      "userId": "03767503421074668028"
     },
     "user_tz": -330
    },
    "id": "AMl_9GxGOjLJ",
    "outputId": "e476e13f-bf02-40be-b206-6adf3032de78"
   },
   "outputs": [
    {
     "data": {
      "text/plain": [
       "0.96875"
      ]
     },
     "execution_count": 51,
     "metadata": {},
     "output_type": "execute_result"
    }
   ],
   "source": [
    "# Making Object of Random Forest and Training Model and Finding Accuracy\n",
    "clf=RandomForestClassifier()\n",
    "RFC_model=clf.fit(x_train , y_train )\n",
    "y_pred=RFC_model.predict(x_test)\n",
    "accuracy_score(y_test , y_pred)"
   ]
  },
  {
   "cell_type": "code",
   "execution_count": 52,
   "metadata": {
    "colab": {
     "base_uri": "https://localhost:8080/"
    },
    "executionInfo": {
     "elapsed": 5,
     "status": "ok",
     "timestamp": 1706520794201,
     "user": {
      "displayName": "Priyanshu Gupta",
      "userId": "03767503421074668028"
     },
     "user_tz": -330
    },
    "id": "Ij0KI9OEQavT",
    "outputId": "2da89713-e888-4ea5-8a03-3dc13d92e3ab"
   },
   "outputs": [
    {
     "data": {
      "text/plain": [
       "array([[187,   0],\n",
       "       [  7,  30]], dtype=int64)"
      ]
     },
     "execution_count": 52,
     "metadata": {},
     "output_type": "execute_result"
    }
   ],
   "source": [
    "confusion_matrix(y_test , y_pred)"
   ]
  },
  {
   "cell_type": "code",
   "execution_count": 53,
   "metadata": {},
   "outputs": [],
   "source": [
    "import joblib"
   ]
  },
  {
   "cell_type": "code",
   "execution_count": 54,
   "metadata": {},
   "outputs": [
    {
     "data": {
      "text/plain": [
       "['random_forest_model.pkl']"
      ]
     },
     "execution_count": 54,
     "metadata": {},
     "output_type": "execute_result"
    }
   ],
   "source": [
    "joblib.dump(RFC_model, 'random_forest_model.pkl')\n"
   ]
  },
  {
   "cell_type": "markdown",
   "metadata": {
    "id": "TEVHy2neeNG8"
   },
   "source": [
    "**Support Vector Machine**"
   ]
  },
  {
   "cell_type": "code",
   "execution_count": 55,
   "metadata": {
    "colab": {
     "base_uri": "https://localhost:8080/"
    },
    "executionInfo": {
     "elapsed": 835,
     "status": "ok",
     "timestamp": 1706520795032,
     "user": {
      "displayName": "Priyanshu Gupta",
      "userId": "03767503421074668028"
     },
     "user_tz": -330
    },
    "id": "FWaCOQZVOjSu",
    "outputId": "bbf90fd8-ba71-4d89-daab-2c0d4053b029"
   },
   "outputs": [
    {
     "data": {
      "text/plain": [
       "0.9419642857142857"
      ]
     },
     "execution_count": 55,
     "metadata": {},
     "output_type": "execute_result"
    }
   ],
   "source": [
    "# Making Object of Support Vector MAchine  and Training Model and Finding Accuracy\n",
    "from sklearn.svm import SVC\n",
    "svc_classifier=SVC()\n",
    "svc_model=svc_classifier.fit(x_train , y_train)\n",
    "y_pred=svc_model.predict(x_test)\n",
    "accuracy_score(y_test , y_pred)"
   ]
  },
  {
   "cell_type": "code",
   "execution_count": 56,
   "metadata": {
    "colab": {
     "base_uri": "https://localhost:8080/"
    },
    "executionInfo": {
     "elapsed": 18,
     "status": "ok",
     "timestamp": 1706520795032,
     "user": {
      "displayName": "Priyanshu Gupta",
      "userId": "03767503421074668028"
     },
     "user_tz": -330
    },
    "id": "j_XEeuJ3Rvw5",
    "outputId": "89a65b19-d2da-49be-a0d7-f6ac31096f54"
   },
   "outputs": [
    {
     "data": {
      "text/plain": [
       "array([[187,   0],\n",
       "       [ 13,  24]], dtype=int64)"
      ]
     },
     "execution_count": 56,
     "metadata": {},
     "output_type": "execute_result"
    }
   ],
   "source": [
    "confusion_matrix(y_test , y_pred)"
   ]
  },
  {
   "cell_type": "code",
   "execution_count": 58,
   "metadata": {},
   "outputs": [],
   "source": [
    "import joblib"
   ]
  },
  {
   "cell_type": "code",
   "execution_count": 59,
   "metadata": {},
   "outputs": [
    {
     "data": {
      "text/plain": [
       "['svc_model.pkl']"
      ]
     },
     "execution_count": 59,
     "metadata": {},
     "output_type": "execute_result"
    }
   ],
   "source": [
    "joblib.dump(svc_model, 'svc_model.pkl')\n"
   ]
  },
  {
   "cell_type": "markdown",
   "metadata": {
    "id": "rxpLblB_fD_3"
   },
   "source": [
    "**Decision Tree Classifier**"
   ]
  },
  {
   "cell_type": "code",
   "execution_count": 60,
   "metadata": {
    "id": "zP-n97svOjcG"
   },
   "outputs": [],
   "source": [
    "# Decision Tree\n",
    "from sklearn.tree import DecisionTreeClassifier"
   ]
  },
  {
   "cell_type": "code",
   "execution_count": 61,
   "metadata": {
    "colab": {
     "base_uri": "https://localhost:8080/"
    },
    "executionInfo": {
     "elapsed": 17,
     "status": "ok",
     "timestamp": 1706520795032,
     "user": {
      "displayName": "Priyanshu Gupta",
      "userId": "03767503421074668028"
     },
     "user_tz": -330
    },
    "id": "HtIBa1P_Ojfe",
    "outputId": "1fc98636-6ab0-4de6-bc04-63d1a135390b"
   },
   "outputs": [
    {
     "data": {
      "text/plain": [
       "0.9821428571428571"
      ]
     },
     "execution_count": 61,
     "metadata": {},
     "output_type": "execute_result"
    }
   ],
   "source": [
    "decision_clf=DecisionTreeClassifier()\n",
    "dt_model=decision_clf.fit(x_train , y_train)\n",
    "y_pred=decision_clf.predict(x_test)\n",
    "accuracy_score(y_test , y_pred)"
   ]
  },
  {
   "cell_type": "code",
   "execution_count": 62,
   "metadata": {
    "colab": {
     "base_uri": "https://localhost:8080/"
    },
    "executionInfo": {
     "elapsed": 16,
     "status": "ok",
     "timestamp": 1706520795032,
     "user": {
      "displayName": "Priyanshu Gupta",
      "userId": "03767503421074668028"
     },
     "user_tz": -330
    },
    "id": "4r8DgkUbR3oK",
    "outputId": "aaedcd39-223b-47a8-c779-a42e383003bf"
   },
   "outputs": [
    {
     "data": {
      "text/plain": [
       "array([[187,   0],\n",
       "       [  4,  33]], dtype=int64)"
      ]
     },
     "execution_count": 62,
     "metadata": {},
     "output_type": "execute_result"
    }
   ],
   "source": [
    "confusion_matrix(y_test , y_pred)"
   ]
  },
  {
   "cell_type": "code",
   "execution_count": 63,
   "metadata": {},
   "outputs": [
    {
     "data": {
      "text/plain": [
       "['dt_model.pkl']"
      ]
     },
     "execution_count": 63,
     "metadata": {},
     "output_type": "execute_result"
    }
   ],
   "source": [
    "joblib.dump(dt_model, 'dt_model.pkl')\n"
   ]
  },
  {
   "cell_type": "markdown",
   "metadata": {
    "id": "32Kv8hERftLA"
   },
   "source": [
    "**Logistic Regression**"
   ]
  },
  {
   "cell_type": "code",
   "execution_count": 66,
   "metadata": {
    "colab": {
     "base_uri": "https://localhost:8080/"
    },
    "executionInfo": {
     "elapsed": 15,
     "status": "ok",
     "timestamp": 1706520795032,
     "user": {
      "displayName": "Priyanshu Gupta",
      "userId": "03767503421074668028"
     },
     "user_tz": -330
    },
    "id": "ZhYs31roOji8",
    "outputId": "95e19ab8-6bd8-4752-cfa5-867ec25e243a"
   },
   "outputs": [
    {
     "data": {
      "text/plain": [
       "0.9732142857142857"
      ]
     },
     "execution_count": 66,
     "metadata": {},
     "output_type": "execute_result"
    }
   ],
   "source": [
    "# Logistic Regression\n",
    "from sklearn.linear_model import LogisticRegression\n",
    "lr_model=LogisticRegression()\n",
    "lr_model=lr_model.fit(x_train  , y_train)\n",
    "y_pred=lr_model.predict(x_test)\n",
    "accuracy_score(y_test , y_pred)"
   ]
  },
  {
   "cell_type": "code",
   "execution_count": 67,
   "metadata": {
    "colab": {
     "base_uri": "https://localhost:8080/"
    },
    "executionInfo": {
     "elapsed": 13,
     "status": "ok",
     "timestamp": 1706520795032,
     "user": {
      "displayName": "Priyanshu Gupta",
      "userId": "03767503421074668028"
     },
     "user_tz": -330
    },
    "id": "KTfSoQI8OOLY",
    "outputId": "8d398ff9-59b7-4d7e-e4cd-f3c1524e5694"
   },
   "outputs": [
    {
     "data": {
      "text/plain": [
       "array([[187,   0],\n",
       "       [  6,  31]], dtype=int64)"
      ]
     },
     "execution_count": 67,
     "metadata": {},
     "output_type": "execute_result"
    }
   ],
   "source": [
    "confusion_matrix(y_test , y_pred)"
   ]
  },
  {
   "cell_type": "code",
   "execution_count": 68,
   "metadata": {
    "id": "AcacA0uLOOlc"
   },
   "outputs": [
    {
     "data": {
      "text/plain": [
       "['lr_model.pkl']"
      ]
     },
     "execution_count": 68,
     "metadata": {},
     "output_type": "execute_result"
    }
   ],
   "source": [
    "joblib.dump(lr_model, 'lr_model.pkl')\n"
   ]
  },
  {
   "cell_type": "markdown",
   "metadata": {
    "id": "cKADlKL8gxka"
   },
   "source": [
    "**Now Deep learning Approches**"
   ]
  },
  {
   "cell_type": "code",
   "execution_count": 51,
   "metadata": {
    "colab": {
     "base_uri": "https://localhost:8080/"
    },
    "executionInfo": {
     "elapsed": 13,
     "status": "ok",
     "timestamp": 1706520795033,
     "user": {
      "displayName": "Priyanshu Gupta",
      "userId": "03767503421074668028"
     },
     "user_tz": -330
    },
    "id": "bRnq2eGZOj32",
    "outputId": "93a9d654-8615-40fe-fe9d-bc76af635af5"
   },
   "outputs": [
    {
     "data": {
      "text/plain": [
       "label\n",
       "0    749\n",
       "1    159\n",
       "Name: count, dtype: int64"
      ]
     },
     "execution_count": 51,
     "metadata": {},
     "output_type": "execute_result"
    }
   ],
   "source": [
    "# Applying Long Sort Term Memory\n",
    "train_df[\"label\"].value_counts()"
   ]
  },
  {
   "cell_type": "code",
   "execution_count": 52,
   "metadata": {
    "colab": {
     "base_uri": "https://localhost:8080/",
     "height": 423
    },
    "executionInfo": {
     "elapsed": 11,
     "status": "ok",
     "timestamp": 1706520795033,
     "user": {
      "displayName": "Priyanshu Gupta",
      "userId": "03767503421074668028"
     },
     "user_tz": -330
    },
    "id": "5GsWc392Oj7X",
    "outputId": "1b05e645-c401-4297-bef9-e629c220db06"
   },
   "outputs": [
    {
     "data": {
      "text/html": [
       "<div>\n",
       "<style scoped>\n",
       "    .dataframe tbody tr th:only-of-type {\n",
       "        vertical-align: middle;\n",
       "    }\n",
       "\n",
       "    .dataframe tbody tr th {\n",
       "        vertical-align: top;\n",
       "    }\n",
       "\n",
       "    .dataframe thead th {\n",
       "        text-align: right;\n",
       "    }\n",
       "</style>\n",
       "<table border=\"1\" class=\"dataframe\">\n",
       "  <thead>\n",
       "    <tr style=\"text-align: right;\">\n",
       "      <th></th>\n",
       "      <th>text</th>\n",
       "      <th>label</th>\n",
       "    </tr>\n",
       "  </thead>\n",
       "  <tbody>\n",
       "    <tr>\n",
       "      <th>529</th>\n",
       "      <td>Anujsingh NorbertElekes Shant Gadadhari Bheen ...</td>\n",
       "      <td>1</td>\n",
       "    </tr>\n",
       "    <tr>\n",
       "      <th>578</th>\n",
       "      <td>Baar karte hain vo befikr hone ki Padhaya hai ...</td>\n",
       "      <td>1</td>\n",
       "    </tr>\n",
       "    <tr>\n",
       "      <th>544</th>\n",
       "      <td>RahulGandhi देश तो भारत के जवानों के साथ हो गय...</td>\n",
       "      <td>1</td>\n",
       "    </tr>\n",
       "    <tr>\n",
       "      <th>412</th>\n",
       "      <td>अरे सीमा पर तो रोज ही जवान मरते हैंअब क्या हर ...</td>\n",
       "      <td>1</td>\n",
       "    </tr>\n",
       "    <tr>\n",
       "      <th>123</th>\n",
       "      <td>'Bahar ki gandgi mat khaya kar jo kahana hai m...</td>\n",
       "      <td>1</td>\n",
       "    </tr>\n",
       "    <tr>\n",
       "      <th>...</th>\n",
       "      <td>...</td>\n",
       "      <td>...</td>\n",
       "    </tr>\n",
       "    <tr>\n",
       "      <th>1522</th>\n",
       "      <td>\"जिंदगी मे चुनौतियाँ हर किसी के हिस्से नहीं आत...</td>\n",
       "      <td>0</td>\n",
       "    </tr>\n",
       "    <tr>\n",
       "      <th>695</th>\n",
       "      <td>सूरज की किरणे तेज दे आपको खिलते हुए फूल_खुशबू ...</td>\n",
       "      <td>0</td>\n",
       "    </tr>\n",
       "    <tr>\n",
       "      <th>1022</th>\n",
       "      <td>pk सही में ये बादल छंट जायेंगे फिर दुख ना रहेग...</td>\n",
       "      <td>0</td>\n",
       "    </tr>\n",
       "    <tr>\n",
       "      <th>319</th>\n",
       "      <td>अरे योग कर ले भाईHappy  yoga  day https://t.co...</td>\n",
       "      <td>0</td>\n",
       "    </tr>\n",
       "    <tr>\n",
       "      <th>1236</th>\n",
       "      <td>Kuch haseen pal kuch haseen yaadein ️️️ pic in...</td>\n",
       "      <td>0</td>\n",
       "    </tr>\n",
       "  </tbody>\n",
       "</table>\n",
       "<p>224 rows × 2 columns</p>\n",
       "</div>"
      ],
      "text/plain": [
       "                                                   text  label\n",
       "529   Anujsingh NorbertElekes Shant Gadadhari Bheen ...      1\n",
       "578   Baar karte hain vo befikr hone ki Padhaya hai ...      1\n",
       "544   RahulGandhi देश तो भारत के जवानों के साथ हो गय...      1\n",
       "412   अरे सीमा पर तो रोज ही जवान मरते हैंअब क्या हर ...      1\n",
       "123   'Bahar ki gandgi mat khaya kar jo kahana hai m...      1\n",
       "...                                                 ...    ...\n",
       "1522  \"जिंदगी मे चुनौतियाँ हर किसी के हिस्से नहीं आत...      0\n",
       "695   सूरज की किरणे तेज दे आपको खिलते हुए फूल_खुशबू ...      0\n",
       "1022  pk सही में ये बादल छंट जायेंगे फिर दुख ना रहेग...      0\n",
       "319   अरे योग कर ले भाईHappy  yoga  day https://t.co...      0\n",
       "1236  Kuch haseen pal kuch haseen yaadein ️️️ pic in...      0\n",
       "\n",
       "[224 rows x 2 columns]"
      ]
     },
     "execution_count": 52,
     "metadata": {},
     "output_type": "execute_result"
    }
   ],
   "source": [
    "test_df"
   ]
  },
  {
   "cell_type": "code",
   "execution_count": 53,
   "metadata": {
    "id": "I1uGvVf8Oj-d"
   },
   "outputs": [],
   "source": [
    "import tensorflow as tf"
   ]
  },
  {
   "cell_type": "code",
   "execution_count": 54,
   "metadata": {
    "colab": {
     "base_uri": "https://localhost:8080/",
     "height": 35
    },
    "executionInfo": {
     "elapsed": 11,
     "status": "ok",
     "timestamp": 1706520799612,
     "user": {
      "displayName": "Priyanshu Gupta",
      "userId": "03767503421074668028"
     },
     "user_tz": -330
    },
    "id": "PjzBH2HXOkB_",
    "outputId": "b4440b99-fc49-4ab2-c3e3-216ef7addaa9"
   },
   "outputs": [
    {
     "data": {
      "text/plain": [
       "'2.10.0'"
      ]
     },
     "execution_count": 54,
     "metadata": {},
     "output_type": "execute_result"
    }
   ],
   "source": [
    "tf.__version__"
   ]
  },
  {
   "cell_type": "code",
   "execution_count": 55,
   "metadata": {
    "id": "ihke9z5POkFf"
   },
   "outputs": [],
   "source": [
    "# Importing All Liberary\n",
    "from tensorflow.keras.layers import Embedding\n",
    "from tensorflow.keras.preprocessing.sequence import pad_sequences\n",
    "from tensorflow.keras.models import Sequential\n",
    "from tensorflow.keras.preprocessing.text import one_hot\n",
    "from tensorflow.keras.layers import LSTM\n",
    "from tensorflow.keras.layers import Dense"
   ]
  },
  {
   "cell_type": "code",
   "execution_count": 56,
   "metadata": {
    "id": "1wbKBhl_QvS4"
   },
   "outputs": [],
   "source": [
    "# Vocablary Maximum 5000\n",
    "voc_size=5000"
   ]
  },
  {
   "cell_type": "code",
   "execution_count": 57,
   "metadata": {
    "id": "RN7kRgOXQvWS"
   },
   "outputs": [],
   "source": [
    "# Sperating Dependent and Independent Variable\n",
    "x=df.drop(\"label\" , axis=1)\n",
    "y=df[\"label\"]"
   ]
  },
  {
   "cell_type": "code",
   "execution_count": 58,
   "metadata": {
    "id": "XUn5SY-7yLXD"
   },
   "outputs": [],
   "source": [
    "msg=x.copy()"
   ]
  },
  {
   "cell_type": "code",
   "execution_count": 59,
   "metadata": {
    "colab": {
     "base_uri": "https://localhost:8080/",
     "height": 423
    },
    "executionInfo": {
     "elapsed": 10,
     "status": "ok",
     "timestamp": 1706520799612,
     "user": {
      "displayName": "Priyanshu Gupta",
      "userId": "03767503421074668028"
     },
     "user_tz": -330
    },
    "id": "Cd9IBLeSyLaN",
    "outputId": "bfb5cfd9-a36d-486d-df78-c19751879a94"
   },
   "outputs": [
    {
     "data": {
      "text/html": [
       "<div>\n",
       "<style scoped>\n",
       "    .dataframe tbody tr th:only-of-type {\n",
       "        vertical-align: middle;\n",
       "    }\n",
       "\n",
       "    .dataframe tbody tr th {\n",
       "        vertical-align: top;\n",
       "    }\n",
       "\n",
       "    .dataframe thead th {\n",
       "        text-align: right;\n",
       "    }\n",
       "</style>\n",
       "<table border=\"1\" class=\"dataframe\">\n",
       "  <thead>\n",
       "    <tr style=\"text-align: right;\">\n",
       "      <th></th>\n",
       "      <th>text</th>\n",
       "    </tr>\n",
       "  </thead>\n",
       "  <tbody>\n",
       "    <tr>\n",
       "      <th>529</th>\n",
       "      <td>Anujsingh NorbertElekes Shant Gadadhari Bheen ...</td>\n",
       "    </tr>\n",
       "    <tr>\n",
       "      <th>551</th>\n",
       "      <td>ईश्वर की सबसे खूबसूरत धरोहर \"पिता\" के त्याग बल...</td>\n",
       "    </tr>\n",
       "    <tr>\n",
       "      <th>257</th>\n",
       "      <td>AqibWaheed_ BBCUrdu Junaid_PPP MuqaddasRazzaq ...</td>\n",
       "    </tr>\n",
       "    <tr>\n",
       "      <th>1775</th>\n",
       "      <td>दुख से मत घबराना पंछीये जग दुखियों का मेला हैच...</td>\n",
       "    </tr>\n",
       "    <tr>\n",
       "      <th>1061</th>\n",
       "      <td>ऐ मौसम है सुहाना... Monsoon Happy Monsoon http...</td>\n",
       "    </tr>\n",
       "    <tr>\n",
       "      <th>...</th>\n",
       "      <td>...</td>\n",
       "    </tr>\n",
       "    <tr>\n",
       "      <th>1700</th>\n",
       "      <td>DrKumarVishwas दोस्तों को दुख ना हो..सोचकर दोस...</td>\n",
       "    </tr>\n",
       "    <tr>\n",
       "      <th>154</th>\n",
       "      <td>'आलू से सोना' बनाने की तकनीक खोजने वाले महान व...</td>\n",
       "    </tr>\n",
       "    <tr>\n",
       "      <th>513</th>\n",
       "      <td>.              Sirf  Smile  chhod Ke         B...</td>\n",
       "    </tr>\n",
       "    <tr>\n",
       "      <th>1677</th>\n",
       "      <td>पहले चायसिगरेट और तुम हमसफर थे मेरेफिलहाल चाय ...</td>\n",
       "    </tr>\n",
       "    <tr>\n",
       "      <th>563</th>\n",
       "      <td>बेमतलब सी इस दुनिया में वो ही हमारी शान है !कि...</td>\n",
       "    </tr>\n",
       "  </tbody>\n",
       "</table>\n",
       "<p>1132 rows × 1 columns</p>\n",
       "</div>"
      ],
      "text/plain": [
       "                                                   text\n",
       "529   Anujsingh NorbertElekes Shant Gadadhari Bheen ...\n",
       "551   ईश्वर की सबसे खूबसूरत धरोहर \"पिता\" के त्याग बल...\n",
       "257   AqibWaheed_ BBCUrdu Junaid_PPP MuqaddasRazzaq ...\n",
       "1775  दुख से मत घबराना पंछीये जग दुखियों का मेला हैच...\n",
       "1061  ऐ मौसम है सुहाना... Monsoon Happy Monsoon http...\n",
       "...                                                 ...\n",
       "1700  DrKumarVishwas दोस्तों को दुख ना हो..सोचकर दोस...\n",
       "154   'आलू से सोना' बनाने की तकनीक खोजने वाले महान व...\n",
       "513   .              Sirf  Smile  chhod Ke         B...\n",
       "1677  पहले चायसिगरेट और तुम हमसफर थे मेरेफिलहाल चाय ...\n",
       "563   बेमतलब सी इस दुनिया में वो ही हमारी शान है !कि...\n",
       "\n",
       "[1132 rows x 1 columns]"
      ]
     },
     "execution_count": 59,
     "metadata": {},
     "output_type": "execute_result"
    }
   ],
   "source": [
    "msg"
   ]
  },
  {
   "cell_type": "code",
   "execution_count": 60,
   "metadata": {
    "id": "Ck6yYEIyyLdL"
   },
   "outputs": [],
   "source": [
    "# Importing Some Required Liberary\n",
    "import nltk\n",
    "import re\n",
    "from nltk.corpus import stopwords"
   ]
  },
  {
   "cell_type": "code",
   "execution_count": 61,
   "metadata": {
    "colab": {
     "base_uri": "https://localhost:8080/"
    },
    "executionInfo": {
     "elapsed": 402,
     "status": "ok",
     "timestamp": 1706520800664,
     "user": {
      "displayName": "Priyanshu Gupta",
      "userId": "03767503421074668028"
     },
     "user_tz": -330
    },
    "id": "JaUqbjZAyLgO",
    "outputId": "a56570c0-8619-4444-9ccc-a93f2d16e0d9"
   },
   "outputs": [
    {
     "name": "stdout",
     "output_type": "stream",
     "text": [
      "[nltk_data] Downloading package stopwords to\n",
      "[nltk_data]     C:\\Users\\dipali\\AppData\\Roaming\\nltk_data...\n",
      "[nltk_data]   Package stopwords is already up-to-date!\n"
     ]
    },
    {
     "data": {
      "text/plain": [
       "True"
      ]
     },
     "execution_count": 61,
     "metadata": {},
     "output_type": "execute_result"
    }
   ],
   "source": [
    "# Downloading Stopwords\n",
    "nltk.download('stopwords')"
   ]
  },
  {
   "cell_type": "code",
   "execution_count": 62,
   "metadata": {
    "id": "OztkFY22yLjV"
   },
   "outputs": [],
   "source": [
    "msg.reset_index(inplace=True)"
   ]
  },
  {
   "cell_type": "code",
   "execution_count": 63,
   "metadata": {
    "id": "F0YKS0B_yLmd"
   },
   "outputs": [],
   "source": [
    "# IMporting Stemmer\n",
    "from nltk.stem.porter import PorterStemmer\n",
    "ps= PorterStemmer()\n",
    "\n",
    "corpus=[]"
   ]
  },
  {
   "cell_type": "code",
   "execution_count": 64,
   "metadata": {
    "id": "nuMBD58ryLpk"
   },
   "outputs": [],
   "source": [
    "# Making Corpus\n",
    "for i in range(0 , len(msg)):\n",
    "  review=msg[\"text\"][i].lower()\n",
    "  review=review.split()\n",
    "  review=[ps.stem(word) for word in review if not word in stopwords.words(\"english\")]\n",
    "\n",
    "  review=\" \".join(review)\n",
    "  corpus.append(review)"
   ]
  },
  {
   "cell_type": "code",
   "execution_count": 65,
   "metadata": {
    "id": "cZbCBgAM-sGh"
   },
   "outputs": [],
   "source": [
    "# Reg Ex Code For Removing Website\n",
    "import re\n",
    "def remove_links(text):\n",
    "    pattern = r'https?://\\S+|www\\.\\S+'\n",
    "    text_without_links = re.sub(pattern, '', text)\n",
    "    return text_without_links\n"
   ]
  },
  {
   "cell_type": "code",
   "execution_count": 66,
   "metadata": {
    "id": "rpYtdbFF_2ju"
   },
   "outputs": [],
   "source": [
    "# COde FOr removing Piunctuation\n",
    "def remove_punctuation(text):\n",
    "    punctuation = \"!.,\"\n",
    "    for char in punctuation:\n",
    "        text = text.replace(char, '')\n",
    "    return text\n"
   ]
  },
  {
   "cell_type": "code",
   "execution_count": 67,
   "metadata": {
    "id": "w8LeElmJ-sKI"
   },
   "outputs": [],
   "source": [
    " corpus=list(map(remove_links, corpus ))"
   ]
  },
  {
   "cell_type": "code",
   "execution_count": 68,
   "metadata": {
    "id": "DzKgbakp_1UR"
   },
   "outputs": [],
   "source": [
    "corpus=list(map(remove_punctuation , corpus))"
   ]
  },
  {
   "cell_type": "code",
   "execution_count": 69,
   "metadata": {
    "colab": {
     "base_uri": "https://localhost:8080/"
    },
    "executionInfo": {
     "elapsed": 144,
     "status": "ok",
     "timestamp": 1706520812748,
     "user": {
      "displayName": "Priyanshu Gupta",
      "userId": "03767503421074668028"
     },
     "user_tz": -330
    },
    "id": "wifzrjwS-OHe",
    "outputId": "ea836359-9469-4f0f-89c0-bda3673ea672"
   },
   "outputs": [
    {
     "data": {
      "text/plain": [
       "['anujsingh norbertelek shant gadadhari bheen shant understand sarcasm',\n",
       " 'ईश्वर की सबसे खूबसूरत धरोहर \"पिता\" के त्याग बलिदान उनकी मेहनत तथा प्रेम को हम सच्चे हृदय से नमन करते हैंhappi father\\' dayaawazehindhappyfathersday fathersday aawazehindnew drkumarvishwa adcrickettak mirchibollywoo journonikku ',\n",
       " 'aqibwaheed_ bbcurdu junaid_ppp muqaddasrazzaq amjidkh pkadzon nai matlab khud asal samjh nai payi jese kayi aur log siasatdano ki pic laga kar happi father ki tweet kar rahe hen samjhi ke apn bhi kissi ki laga di hogi esli pichli tweet jo woh f talpur ke sath samjhi nai apk father hen es lie like nai kia',\n",
       " 'दुख से मत घबराना पंछीये जग दुखियों का मेला हैचाहे भीड़ बहुत है जंगल में उड़ना तुझे ही अकेला हैजय श्री राम',\n",
       " 'ऐ मौसम है सुहाना monsoon happi monsoon ',\n",
       " 'पता नहीं आशुतोष की क्या मजबूरी है जो कंवल अंजना एयर सरदाना के साथ काम करना पड़ रहा है sad ',\n",
       " 'सफलता तीन चीज़ो से मापी जाती हैं धन प्रसिद्धी और मन की शांति ।धन और प्रसिद्धी पाना आसान हैं ।“मन की शांति” केवल योग से मिलती हैं \"योग: कर्मसु कौशलम्\"happi intern yoga day :arunrubynarendramodi mskajalaggarw kumarirukshmani priyankagandhi cnnnew',\n",
       " 'baar kart hain vo befikr hone ki padhaya hai jinh pita ne thoda sa karza lekar ironi',\n",
       " 'राजस्थान में भाजपा की वर्चुअल रैली  via youtub coronaviru covid covidindia bjp narendramodi stayhom stayhomestaysaf help smile lifestyl coronawarrior coronaupd hollywood trend flyingbeastarmi flyingbeast indianarmi',\n",
       " 'बेहद अफ़सोस की बात है पूरे देश के लिए जान एक ग़रीब की या एक फिल्म कलाकार की बराबर ही है फिल्म कलाकार फिर भी फ़्रस्ट्रेशन की वजह से ख़ुदकुशी करता होगा गरीब तो देश की खस्ताहाल अर्थव्यवस्था की वजह सेआज ट्विटर पे भूचाल नहीं आएगा क्युकी गरीब/किसान परिवार का मामला हैpmoindiasad ',\n",
       " 'kabhi kabhi hamari apni choic hamaincheekh cheekh kar rone par majboor kar deta hainsad محبت_کے_راستے ',\n",
       " '\"झूठी हंसी\"सबके चेहरों पर है एक झूठी - सी मुस्कुराहट और हंसीदर्दे गम भी नहीं बांटते कैसी है यह दिखावे की बेबसी।खुशहाल बस वहीं है जिसका जिस्म उसकी रूह का आईना हैहोंठों पर जो आती है अक्सर झूठी है वो हंसी।rip poetri शायरी life smileshow',\n",
       " 'bainnachhora (not bainnachhola)lov instagood photooftheday fashion beauti happi cute spreadlov followm picoftheday selfi summer travel instadaili natur fun photooftheday… ',\n",
       " 'मेरी पिक्चर कैसी लगी हु न मैं हॉट? पहली बार मिलने पर क्या करोगी मेरे साथ?hot hotmodel hot sexi happi smile cute india stun beauti amazingbeauti girl follow instagram facebook hottestgirl ',\n",
       " 'rahulgandhi देश तो भारत के जवानों के साथ हो गयालाल आखें दिखानेवाले वालें का जूमला कफुर हो गयागोदी मिडिया का साथ मिला तो भी इचं दिखानेवाले चीन के आगे भीगी बिल्ली हो गया हमने उजियारे में जवान खोए आखिर फर्जी चौकीदारों का हुजूम कहां खो गया poetrycommun कटाक्ष',\n",
       " 'वह खवाब थामैं हक़ीक़त थी उसके साए में मैंने ख्वाब को चुना था इस उम्म्मीद में कि कल होंगे ख्वाब पूरे हां वह ख्वाब ही था खुलते आंख हुआ विलीन और जिंदगी बढ़ चली एक शाश्वत सत्य की ओर sad pain life lovestori thought',\n",
       " 'मेरी हर सांस में तू हैमेरी हर ख़ुशी में तू हैsतेरे बिन जिन्दगी कुछ नहींक्योंकि मेरी पूरी जिन्दगी ही तू है ',\n",
       " 'बामसेफ_प्रचारक पंकज_नागवंशी जी को उनके वें जन्मदिन की बहुत बहुत बधाई ।हम उनके जीवन मे खुशियां हमेसा बनी रहे और वो हमेसा समाज का काम करते हैं इसके लिए तथागत बुद्ध से कामना करते हैं ।मै बाबा_साहेब के खुन का कतरा हूँ।तभी तो मनुवादियों के लिये खतरा हूँ।। ',\n",
       " 'सफलता तीन चीज़ो से मापी जाती हैंधन प्रसिद्धी और मन की शांतिधन और प्रसिद्धी पाना आसान हैं“मन की शांति” केवल योग से मिलती हैंhappi yoga day',\n",
       " '“suno kais ye dharti roye maa ka koi bachcha bhookha na soy “ngo ngo help bethereason peac respect donatekarona server campaign sundaymotiv bethechang bethereason lifeisgood life rationkit kit soul smileupproject smile helpinghand helpinghand ',\n",
       " 'sudhirchaudhari mani mani happi return day happi birthday sirji bharat ko imandari aur kartwyanishta se dna ka show dikhana bina kisi se dare nirbhik aap swayam ek yodhha se kam nahi sir happi birthday',\n",
       " \"पिता का साया जीवन की धूप में घने वृक्ष की उस छांव की तरह है जो अपने बच्चों तक आने वाली हर\\u200c परेशानी को स्वयं में ही समेट लेता है।पितृ दिवस की हार्दिक शुभकामनाएं।happi father' day\",\n",
       " 'आजसू पार्टी के सुप्रीमो सह पूर्व उप-मुख्यमंत्री आदरणीय श्री सुदेश कुमार महतो जी को जन्मदिन की हार्दिक शुभकामनाएँ।happi birthday dada sudeshmahtoajsu ',\n",
       " 'मानसून की दस्तक मुबारक होhappi mansoon',\n",
       " \"मेरा पहला प्यार मेरे सबसे अच्छे दोस्त मेरी डिग्री मेरी कलम मेरा अस्तित्व है वो में लिख नहीं सकता ना उन जैसा बन सकता हूं  केवल पढ़ सकता हूं  और हमेशा पढ़ता रहूंगा happi father' day \",\n",
       " 'श्री राहुल गांधी जी को जन्मदिन की हार्दिक बधाई एवं अनंत-अशेष मंगलकामनायें।—नेक नीयत और ग़रीबों के हक़ की हर लड़ाई और हर संघर्ष के सहभागी विकास के पर्याय और जनता की आवाज़ आदरणीय श्री राहुल गांधी जी इस राष्ट्र के भविष्य निर्माता है।happi birthday rahulgandhiji gandhi ji ',\n",
       " 'अरे सीमा पर तो रोज ही जवान मरते हैंअब क्या हर रोज ही अफसोस थोडी करते हैं।उसका घर तो अब सरकार चलाती है नाबापबेटेऔर पति की प्यास तोवही बुझाती है ना।खैर छोडो यारसैनिक था उसे तो मरना ही था।कटाक्ष~sourav jangir',\n",
       " 'रीट भर्ती को लेकर सरकार से मांग  via youtub coronaviru covid covidindia bjp narendramodi stayhom stayhomestaysaf help smile lifestyl coronawarrior coronaupd hollywood trend flyingbeastarmi flyingbeast indianarmi',\n",
       " 'तुम बारिश और चाय तीनों से मेरी ज़िंदगी मुकम्मल हो जाये बजम सुप्रभात happi good morn ️ ',\n",
       " 'नींद खुली है जबसे दुख रही है आँखें_मेरीजाने कौन चला है रात भर पलकों_के_किनारे_पर  शुभ रात्रि ',\n",
       " 'राजस्थान की शेरनीबहुजन समाज की दबंग बहनराजस्थान विश्वविद्यालय की आन बान शान वर्तमान छात्रसंघ अध्यक्ष बहिन पूजा वर्मा को जन्मदिन की हार्दिक बधाई एवं धम्मकामनाएंhappi birthday sisterpooja verma rajasthan univers \"जय भीम\"नमो बुद्धाय\" ',\n",
       " 'aarh aay na koi mushkil meinmashwar de k hatt gay ehbab - josh malihabadishayari ghazal urdu poetri nazm ashar indian shair india paki pakistan pakistani pashto hindi punjabi sad quot quot',\n",
       " 'खुशीतीनों भाई राष्ट्रीय उपाध्यक्ष मंजीत सिंह नोटियाल जीराष्ट्रीय महासचिव कमल सिंह वालिया जी और छोटा भाई शिवम। इन तीनों भाईयों की हाईकोर्ट से बेल मंजूर हो चुकी हैं बहुत जल्द तीनों भाई हमारे बीच होंगें। जय_भीमazadsamajparty_ bhimarmychief vinayratansingh harendraranchi ',\n",
       " 'sjbm kspatel pr kavita komalv barunku awdhesh choudhary_saf divya anjalik p_k snehlat jyotikushwaha nitu_gothw anilsin सुख और दुख मेंकोई ज्यादा भेद नहींजिसे मन स्वीकारें वह सुखऔर जिसे अस्वीकारें वह दुखसारा खेल हमारी स्वीकृतिऔर अस्वीकृति का ही तो है  सुप्रभात ',\n",
       " 'bitter truth life- marn ke baad hi jhuthi mohabbat dikhan aat hainbitt truth sad quot life fact mayyat jhuthi mohabbat khuda nek shayari shayar write writer writersofinstagram… ',\n",
       " 'happi born day thalapathi vijay anna ',\n",
       " 'tumko bhi bhulna hai tumhar sheher ko bhidono milkar mere zakhm kuredt hain - kr priyanshushayari ghazal urdu poetri nazm ashar indian shair india paki pakistan pakistani pashto hindi punjabi sad quot quot',\n",
       " 'आदमी अच्छा था यह सुनने के लिए मरना पड़ता हैंsad',\n",
       " 'बड़ी सादगी भरी थी उसकी मुहब्बत वो अक्सर मुझसे रुठकर रुठने की वजह भूल जाया करती थी-love like follow photographi beauti happi cute fashion life art picoftheday natur music style followm likeforlik bhfyp like girl fun bhfyp nirmika manavkaul ',\n",
       " 'चिट्ठी न कोई संदेश जाने वो कौन सा देश जहां तुम चले गएlucknow mumbai sushantsingh suicid bollywood sad',\n",
       " 'ekinsan आप की इतनी खुशी देखी नहीं गई इन लोगो से इसलिए डंक मार दिया',\n",
       " 'शायद कुछ लोग भूल गए हैं अपनी औकातलगता है फिर मैदान में उतरना पड़ेगा ।singl workhard bigachiev bigdream lifestyl hairstyl instalov followm follow comment androidographi insta smile likelik tpclick hardwork smartwork target selfconfid ',\n",
       " 'खुशी खुश रहना हो तो अपनी फितरत में एक बात शुमार कर लोना मिले कोई अपने जैसा तो खुद से प्यार कर लो',\n",
       " 'stufflist bhai app replay koy nehi kar rahe sad pleas repli',\n",
       " 'bjpindia narendramodi चीनी_सैनिकों से झड़प में शहीद सैनिक की मां ने कहा-दुखी हूं लेकिन बेटे पर गर्व है।\"',\n",
       " 'उजड़ रहे खेत और खलियान क्यों मर रहा है किसान किसानों की आत्महत्या क्यों नजर नहीं आती ।। किसान के बेटे हो किसान का दुख क्यो नहीं जताते ।। अंतिम_जोहार_अन्नदाता जय_जवान_जय_किसान ️ hansrajmeena yashmeghw ',\n",
       " 'कल से मन दुखी भी है और आक्रोशित भी है मेरे देश के शेरो को नमन है ओरमें अपने मस्तक से उनके चरणों मे बारम्बार प्रणाम करता हूंसेना_हमारी_जान_है',\n",
       " 'khush rehna seekhologo ka kaam sirf rulaana hai :) divyanshkhatri quoteoftheday trump trend smile',\n",
       " \"fathersdayquot पिता नीम के पेड़ जैसा होता है उसकेपत्ते भले ही कड़वे हो पर वो छाया ठंडी देता हैमेरा साहस मेरी इज़्ज़त मेरा सम्मान है पिता मेरी ताकत मेरी पूँजी मेरी पहचान है पिता।bi jagrannew happi father' day\",\n",
       " 'इरादा कत्ल का था तो मेरा सर कलम कर देतेक्यू इश्क मे डाल कर तुने हर साँस पर मौत लिख दीsad',\n",
       " 'kinna sohna tenu rab ne banaya dil ️ kare dekhda rawankinna sohna tenu rab ne banaya ️️ bajwasonam urbiggestfan crushony love sonambajwa️ smile ',\n",
       " 'बाबा सुख दौ तो इतना की अहंकार ना आएे और दुख दो तो इतना कीआस्था ना चली जाएराम ही राम बस',\n",
       " 'maut ka tamasha chala hai betahasha  sad',\n",
       " 'दुख इस बात का कोणी कि वा छोड़ क चलि गयी।दुख तो इस बात का है जांदी हाण insta प stori म byy byy सारा न कहगी।म न्यू ही दुखी होरा था।haryanvi haryana sonipat love jaat rohtak haryanvistatu delhi desi haryanvicultur panipat karnal jind jaatni india',\n",
       " \"'bahar ki gandgi mat khaya kar jo kahana hai mai tujh ghar pe banak dungi' biggest lie everi brown kid ever told momsmem indianmem meme desimem indianmemestor indianmemedaili sarcasm funnymem funni joke brownpar indianjok\",\n",
       " 'मुझे दुख मिलता है मै मजबूत हो जातीपर तुझे दुख मे देखकर मै तड़प सीजाती।।हिंदी_शब्द मिठी',\n",
       " 'बॉलीवुड एक्टर सुशांत_सिंह_राजपूत ने फांसी लगाकर की खुदखुशी-खुदखुशी करने वालो पर मुझे तरस नही आताक्योंकि दुनिया मे खुशी और गम दोनों मिलते है जो उसे न झेल सके वो इंसान बुझदिल होता हैसुशांत तुमने सही नहीं कियाखैर अल्लाह घर वालों को सब्र अता करे-आमीनsushantsinghrajput ',\n",
       " 'usay tang na karo aj wo sukoon se sooya hainasey neend naseeb se mila kartey haisushantsinghrajput sushantcommitssuicid breakingnew sad depress worri stress bollywood fakesmil pk… ',\n",
       " 'अपने दुख सिर्फ allah की ज़ात तक ही mehdood रखेजो मुश्किल में डालता है वो ही इस दुख से निजात दिलाता है mashaallah islamicquot ',\n",
       " 'राजस्थान की शेरनीराजस्थान विश्वविद्यालय की आन बान शान वर्तमान छात्र संघ अध्यक्ष पूजा_वर्मा_जी को जन्मदिन की हार्दिक बधाई एवं शुभकामनाएं। happi birthday पूजा वर्मा जी rajasthan universitycpbhankripoojavermaru ',\n",
       " 'acharyapramodk तुम्हारा कितने नेता ने दुख जाहिर किया ये बोलकर की चीन वालों ने गलत किया है',\n",
       " 'सुकून से जिन्दगी जीना एक बहुत बड़ी कला है। बड़ी-बड़ी कलाओं के माहिर लोग भी जब इस कला को नहीं सीख पाते तो दुनियां से रुखसत हो जाते हैं।और हांजरूरी बात - खुशियां दौलत और शोहरत से नहीं मिलती।अगर मिलतीं तो सुशांतसिंहराजपूत को खुदकुशी ना करनी पड़ती ये_जिंदगी_है_उधर_जाने_का_नही',\n",
       " 'madhuti dr_uditraj ये बन्दर का डांस देखेंगे और वो भी चौराहे पर खड़े होकर।और लोगो के घरों में शादियों में जाकर वही स्टेप्स रिपीट करेंगे।take sarcast way',\n",
       " 'जो जख्म दिखते नहीं वह दुखते बहुत हैं सुशांत_सिंह_राजपूत sad',\n",
       " 'उदास फिरता है अब मोहल्ले में बारिश का पानीकश्तिया बनाने वाले बच्चे से इश्क कर बैठे',\n",
       " 'राजस्थान की शेरनीराजस्थान विश्वविद्यालय की आन बान शान वर्तमान छात्र संघ अध्यक्ष बहिन पूजा_वर्मा को जन्मदिन की हार्दिक बधाई एवं शुभकामनाएं। happi birthday sisterpoojavermaru ',\n",
       " 'dur k dhol suhan jais ki ristedar sad',\n",
       " 'अगर मोहब्ब्त किसी से बेहिसाब हो जाएतो समझ जाना वो किस्मत में नहींsad',\n",
       " 'पटनाविश्वविद्यालय के वर्तमान joint secretari बड़े भाई आमिर राजा को जन्मदिन कीं हार्दिक शुभकामनायेंhappi birthday bhaiya ',\n",
       " 'sambitswaraj dhruv अगर आज नेहरू जी होते तो शी जिनपिंग की बीवी को एडविना की तरह पटाकर सिगरेट पिलाकर अपने वश में कर लेते और तिब्बत ही नहीं सीधे शंघाई पर कब्जा कर लेते इश्क़ और जंग में सब जायज़ है (नेहरू की किताब द ठरकी नेहरू से ) जय कांग्रेस आक थू कटाक्ष',\n",
       " 'हमारे सबसे ज्यादा पसंदीदा खिलाड़ी अफगानिस्तान के रशीद_खान की अम्मी का इंतकाल हो गया है आप सभी लोग उनकी मगफिरत के लिए दुआ करे अल्लाह उन्हें जन्नत नसीब करे मेरा दिल आज बहुत दुखी हुआ आप सबको यह खबर देते हुए rashidkhan_ ',\n",
       " 'आज भारत चीन युद्ध में हमारे गांव सुल्तानपुर के एक बहुत ही काबिल और होनहार सैनिक देश के लिए शाहिद हो गए soldier indianarmi jaihindkisena chinavsindia sad ',\n",
       " 'aaj kaa sach shayari sarcasm sarcast polit politician politicaljok politicsindia politicaljok joke jokesreceh jokesbapakbapak sarcast politicalsarcasm joke ',\n",
       " 'ॐ नम: शिवायहर__हर__महादेव जय__गणेशाय:सुख में तेरा शुक्र करू दुख में फरियादजिस हाल में रखे तू मुझे मैं सिर्फ भोले को याद करू जय महाकाल जय महाकाली सुप्रभात__नमस्कार ',\n",
       " 'पिता रोता नहीं हैपिता सोता नहीं हैपिता सिर्फ हंसता हैऔर जगता हैअपने बच्चों की खुशी के लिए अपनें बच्चों के सुनहरे भविष्य के लिए ।\"अर्चना सबूरी \"happi father\\' day',\n",
       " 'ek sawera tha jab han ke uthtay hum aaj kahi baarbina muskuray hi shaam ho jati hai shizaaantweet sad',\n",
       " 'ये बस ऐसा है की मे बोलू\" i\\'m boycot english language\" इंग्लिश भाषा में बोलना भी है और बहिष्कार भी करना है ऐसे कैसे सलेगा?hypocrisi ironi boycottchineseproduct chinagetout thedeb ckmkb pkmkb indianmedia ',\n",
       " 'mamtatripathi ऐसा नहीं है। दोनों पक्षों में ख़बरे सूत्रों के मुताबिक आ रही हैं आधिकारिक स्टेटमेंट कम ही दिख रहे हैं। ironi',\n",
       " 'as••हमारी पहचान हँसता चेहरा और राज गहरा।royal bagri royalbagri desistyl desiswag desi swag smile face new look haryana rajasthan neemkathana royalbagri jhalra ',\n",
       " 'niraz asadowaisi pmoindia sad ka kitna seat h phir usko bulaya gya h desh hamesha se musalmano k sath bhedbhav hua h',\n",
       " 'shikshabajpai आज सच में ये सुन बहुत बहुत ज्यादा दुख हुआ अभी भी विश्वास नहीं होता sushantsinghrajput की जगह कोई नहीं ले सकता',\n",
       " 'jun - श्री श्री राधा माधव शृंगार आरती दर्शनहरे कृष्ण हरे कृष्ण कृष्ण कृष्ण हरे हरे। हरे राम हरे राम राम राम हरे हरे।। krishna devot love inspir motiv photooftheday fashion beauti happi cute iskcon trend ',\n",
       " 'अब त़ो बेरोजगार योग्य युवाओं को मानसिक प्रताड़ना से मुक्ति दिजिए कहीं हम लोग भी न टूट जाए सुशांत जी की तरह sad k_मोडिफिकेशन_पर__जून_सुनवाई_सुनिश्चित_कराए_सरकारk_मोडिफिकेशन_पर__जून_सुनवाई_सुनिश्चित_कराए_सरकारk_मोडिफिकेशन_पर__जून_सुनवाई_सुनिश्चित_कराए_सरकार',\n",
       " 'jaa aur koi zabt ki duniya talaash kara ishq hum ab tere qabil nahi rahe - jigar moradabadishayari ghazal urdu poetri nazm ashar indian shair india paki pakistan pakistani pashto hindi punjabi sad quot quot',\n",
       " 'बचपन की कुछ यादें ताज़ा करें बताओ बचपन मे ऐसा कौन कौन किये हो किये हो एक लाइक करो यार switch ना ना offfunniesttweet childhoodmemori smile natkhat memori childhoodtwitt ',\n",
       " 'lahrisunil happi father\" day sirchhota sa thofa lakshman ji ke sena k taraf se aap kolov u lot sir ',\n",
       " 'आज हमारे लाडलेछोटे बेटे \"अद्विक तिवारी\" शुभ का जन्मदिन हैआज शुभ साल का ही गया। आप सभी मित्रोवरिष्ठों से अनुरोध हैकि शुभ के जीवन की तिजोरी में अपना शुभाशीषआशीर्वाद रूपी धन देवें क्योकि ये ही धन उसके जीवन भर काम आयेगा।happi birthday \"shubh\" ',\n",
       " \"happi father' day️️️पापा आप मेरा वो गुरूर हैं जोकोई भी कभी भी नहीं तोड़ सकतामेरी पहचान से आप से पापा…क्या कहूं आप मेरे लिय क्या हो पापा…रहने को है पैरों के नीचे यह जमीन…पर मेरे लिए तो मेरा आसमान आप हो पापा। \",\n",
       " 'kabhi mauka mill sochna zaroor ki ek anjaan shaq teri itni parwaah kyu karta hai divyanshkhatri quoteoftheday trend trump smile',\n",
       " \"अपने पिता को स्वस्थ रहने के लिए योग करने को प्रेरित करें। क्योंकि मां की तरह ही पिता का भी हर इंसान के जीवन में खास महत्व होता है। भले ही एक पिता अपने प्यार का इजहार बच्चे से न करे लेकिन हर पल साये की तरह वो उसके पीछे खड़े होकर सहारा देते हैं।happi father' day \",\n",
       " 'पत्ती-पत्ती गुलाब बन जाती सुबह की ओस भी शराब बन जातीअगर आप डाल देती अपनी महहोश नज़रे इन नजरो पर तो इश्क़ ए महफ़िल में एक हसीन शाम बन जातीsmile loyalsdairi poetries_writ',\n",
       " 'भाई बहुत ग़लत फैसला लिया आपने sad sad bollywood sushantsinghrajpoot ',\n",
       " 'शायद किसी ने खैरियत नहीं पूछी इस दीवाने की sushanthsinghrajput sad',\n",
       " 'सुशांतसिंह के निधन पर प्रियंकाचोपड़ा फराहखान और प्रीतिजिंटा ने जताया दुख ',\n",
       " \"एक पिता कभी-कभी अपने बच्चों के लिएवहां पर भी हाथ फैला देता हैजहां हम बच्चे पांव तक रखना पसंद नहीं करते|happi father' day\",\n",
       " 'मुस्कुराते चेहरे राज़ गहरे।। newprofliep smile music beard ',\n",
       " 'हुआ कुछ यूँ के जब भी मुझे ज़रूरत पड़ीतो हर शख्स इत्तफाक से मजबूर हो गया।bapu love followback instagram tweegram photooftheday like amaz smile followfollow likelik look instalik igers… ',\n",
       " 'बीता हुआ कल जा चुका है उसकी मीठी याद में ही खुश हूंआने वाले कल का पता नहीं इंतजार में ही खुश हूंlovelif smile',\n",
       " ' कुल उत्पादन में से % एवं सरसों की खरीदी करे राज्य सरकार - रामपाल जाट coronaupdatesinindia worldwar indiachinafaceoff indianarmi boycottchineseproduct jaihindkisena indianarmyzindabad bycottchina covid bjp help smile peac narendramodi',\n",
       " 'ॐ नम: शिवायहर__हर__महादेव जय__गणेशाय:सुख में तेरा शुक्र करू दुख में फरियादजिस हाल में रखे तू मुझे मैं सिर्फ भोले को याद करू जय महाकाल जय महाकाली सुप्रभात__नमस्कार  ',\n",
       " 'sadआखिर ऐसा क्या था सुशांत जो दुनिया से दुख़ साझा कर हल नहीं जान पाए खुद को अंत कर दिए ।sushantsinghrajput ',\n",
       " 'एक पड़ोसी टीडी भेज रहा है दूसरा पड़ोसी कोरोना भेज रहा है ओर लद्दाख में टेंट भी गाड़ रहा है तीसरा पड़ोसी मनमर्जी के नक्शे छाप रहा हैश्रीलंका भाई तू क्यों शरमा रहा है ?आजा तू भी रावण की मौत का बदला ले ले sarcasm tuesdaythought indiachinafaceoff tiddiattack corona',\n",
       " 'क्या कभी सवेरालाता है अँधेराspreadlov spreadposit spreadkind bekind behuman love life peac posit havecourag reachout smile positivevib goodvib inspir loveyourself beyourself support gratitud mansibhardwaj ',\n",
       " 'पूरे विश्व में अमन और शांति का ठेका क्या भारत ने ही ले रखा है देश के बेटों की शहादत ख़बर दिल को झकझोर देने वाली हैं ईश्वर इन शहीदों के परिवारों को ये दुख सहने की शक्ति प्रदान करें सरकार_से_अनुरोध_है कि देश की अस्मिता के लिये कड़ा फैसला ले narendramodi',\n",
       " 'यह सोचकर दुखी न हों कि लोग आपको नहीं समझतेक्योंकि कांटे से वजन को मापा जा सकता है गुणवत्ता को नहीं ',\n",
       " 'curiousguy deepsealio delhipolic bhai aajkal jinp nsa laga hota hai wo bhi twitter pe aurto ko gaali de dete haisarcasm',\n",
       " 'ye wafa ki sakht raahein ye tumhar paa-a-nazukna lo inteqam mujhs mere sath sath chalk - khumar barabankvishayari ghazal urdu poetri nazm ashar indian shair india paki pakistan pakistani pashto hindi punjabi sad quot quot',\n",
       " 'bjpindia jpnadda अगर कांग्रेस के mla बीजेपी राज्यसभा सांसदों को क्रॉस वोटिंग कर देते तो शायद राजस्थान से ग्रहण हट जातालेकिन दुर्भाग्य है राजस्थान की जनता का कटाक्ष',\n",
       " 'शाम डालें हर पंछी को घर जाना पड़ता हैकौन खुशी से मरता है मर जाना पड़ता हैripसुशांत_सिंह_राजपूत',\n",
       " 'brand_anuj kha dekha tha ek photo b daal dete thoda maja aa jata logo kosarcasm',\n",
       " 'जिंदगी में पैसा रुपिया हो या ना हो लेकिनजिंदगी में _चूतिये_दोस्त का होना बहोत जरूरी है जो कभी उदास रहने पे बस ये बोल दे अबे टेंशन मत ले बे कुछ ना होई ता चाय का दुकान खोलल जाई।यकीन मानिए हो सकता है ये शब्द बचकाने लगेपर उस उदास शक्श के लिए संजिवनी है।',\n",
       " 'कभी भी किसी के चेहरे की मुस्कान को देखकर उसकी खुशी का अंदाजा ना लगाए क्यूंकि आप नहीं जानते कि वो अंदर तक किस कदर टूटा हुआ हैपूछा न जिंदगी मे किसी ने दिल का हाल अब शहर भर में जिक्र मेरी ख़ुदकुशी का हैं मैं स्तब्ध रह गयी ये खबर जानने के बादripsush ',\n",
       " 'जिन्दगी में हर एहसास की जरूरत है ताकि हम उस एहसास को भलीभांति समझ सकें महसूस कर सकें यदि जीवन में सिर्फ सुख और खुशी ही होती तो कभी हम आँसू का कद्र नहीं करतेऔर ना ही सुख खुशी या दर्द की हम अनुभूति कर पाते  ',\n",
       " 'pehl log muh se bol kar taana mart ab bhenchod ba statu laga dete hai sarcasm sarcast',\n",
       " 'rubikaliyaquat narendramodi स्वामीजी काश आज आप हमारे बीच होता तो आप को ग्रामीणडाकसेवको की स्थिति देखके बहुत दुख होता। पूर्वाध शासनकाल तक देश के एक भी सांसद पगार और पेंशन नहीं लेता था। आज सब ले रहे हैं मगर आज ग्रामीणडाकिया पेंशन से बाकात रह गया है ७३साल से देश आजाद हैndtv ',\n",
       " 'संसार को कृष्ण की नजरो से देखिये दुनिया में प्रेम दिखाई देगाto phir मुस्कुराइये  radh radh smile smilemor happytim india ',\n",
       " 'ye loog dikht hn hota hi haiaik jo ap ko dekh k kahest\"y asa hi hai se kuch nhe hoga khud ko kharab kea meri nhe sunind\"muj pata tha band kuch hai ye kuch bada karega\" jab ap kuch achiev kart hostay away bothsushanthsinghrajput sarcasm',\n",
       " 'ek sitara aj asmaan chala gayaजिंदा रहने पर कोई साथ नहीं देता और मरने पर लोग दिखावा करते हैं ।।️️ये भी सिखा सिखा गए तुमहां जाते-जाते आज फिर से हिम्मत के साथ मरना भी गलत बता गए तुम ।।️️ripsush sushantsinghrajpoot suicideawar sad sushantsrajput',\n",
       " 'rashmi_bajpaye suryapsinghia madam ji isko sarcasm bolt hain aur hum jo kahna chaht sir suryapsinghia samjah gay baki smjh smjh ki baat hai koi meri baat ko posit smjhe koi neg',\n",
       " 'वें दिन लगातार तेल के दाम बढ़े हैं हमने मोदीजी को ट्रोल और पेट्रोल के भाव बढ़ाने के लिए ही तो पीएम बनाया थाकटाक्ष',\n",
       " 'a babi ko + follow hone k bawajood ishbakwa ki liya ek bhi \"like\" aur \"rt\" nahi mile?sad ',\n",
       " '️वक्त अच्छा हो या बुरा गुजर ही जाता है️ singerchandani waqt time passaway day happylifestyl enjoy enjoy togath mypartn parti partydecor smilefac smile withlove… ',\n",
       " 'ये जिंदगी हमारी है जब तक हम ना चाहे कोई कुछ नहीं कर सकता । होते हैं कुछ लोग ऐसे जो दख़ल देते हैं अपने अंदाज़ में जिंदगी से निकाल फेंको। देखना उन्हे अहसास जरूर होगा क्योकि दिल तो उनके भी धड़कते है। life smile',\n",
       " 'अभी नाज़ है टूटे दिल को वफ़ा पेके टूटेंगे सारे भरम धीरे धीरे ~ भक्तकटाक्षyadavakhilesh iasassoci ipsinghsp upendratiwari_',\n",
       " \"जीवेत शरद शतम।।हम सबके चहेते माननीय राहुल गांधी जी को जन्म दिवस की बधाई ढेर सारी शुभकामनाएंhappi b'day rahul ji\",\n",
       " 'अजनबी तुम्हारा चला जाना मेरी जिंदगी सेदुख का वो पल था जो ठहरा रहा उम्र भर के लियेकेशवहिंदी_शब्द',\n",
       " 'ye baarish ke baad macharo ka aana zaroori hai kya?----------------------------------------------memeimag newestmem todaymem recentmem decentmem memearmi memedos memehumor sarcasm annoyingth wtfmeme ',\n",
       " 'भारतीय राष्ट्रीय कांग्रेस के पूर्व अध्यक्ष लोकसभा सांसद जननायक नेता श्री राहुल गांधी जी को जन्मदिन की हार्दिक बधाई एवं ढेर सारी शुभकामनाएं।।happi birthday ',\n",
       " 'sarcasm system shikayat shikayat shikayatinsan galtiyon ka putla nahi shikayaton ka putla hota haiarey haan hasn wali baat nahi hai hamar desh mein chizein hoti hi isli hai ki woh na ho jisk lie woh hoti hainnahi samjh aaiy samjht hain',\n",
       " 'kaganawat_de acharyapramodk अगर आज लहरू जी होते तो शी जिनपिंग की बीवी को ऐडविना की तरह पटाकर सिगरेट पिलाकर अपने वश में कर लेते और तिब्बत ही नहीं सीधे शंघाई पर कब्जा कर लेते इश्क़ और जंग में सब जायज़ है (लहरू की किताब द ठरकी लहरू से ) कटाक्ष',\n",
       " 'jun - श्री श्री राधा माधव शृंगार आरती दर्शनहरे कृष्ण हरे कृष्ण कृष्ण कृष्ण हरे हरे। हरे राम हरे राम राम राम हरे हरे।। krishna devot love inspir motiv photooftheday fashion beauti happi cute iskcon trend ',\n",
       " 'मेरी हर सांस में तू हैमेरी हर ख़ुशी में तू हैतेरे बिन जिन्दगी कुछ नहींक्योंकि मेरी पूरी जिन्दगी ही तू है',\n",
       " \"zikar nhi krte pr hmari phikar unko bhi hoti haiphir chahe kitna bhi dikhal vo hamko pta henaapapa ko sabs pyari tohh unki betiyaa\\u200d️ hi hoti haihappi father' day\",\n",
       " 'rushivarji god instagram facebook youtub happi photooftheday life quot thankyou pguruji aap hi disha dikhan wale hai',\n",
       " 'शुक्रिया अदा कर वक्त का तू अब भी तेरे नसीब में है-time love life instagram photographi like art instagood photooftheday beauti motiv travel photo famili fashion friend smile picoftheday lifestyl fun likeforlik bhfyp manavkaul nirmika ',\n",
       " \"happy\\u200d\\u200d\\u200dfather'sday मिलने को तो हज़ारों लोग मिल जाते हैंलेकिन हजारो गलतियों को माफ़ करने वाले“माँ – बाप” दुबारा नहीं मिलते ? \",\n",
       " 'सपनों की दुनिया अजब लगती हैझूठी ही सही पर हर ख़ुशी नसीब होती है बेशक आता है सपनाकुछ पल के लिए पर इन पलों में कामयाबी कितनी करीब होती हैशब्द_शालापरख_मंचपहल ',\n",
       " 'कुछ नहीं है हारने को लेकिनsmile काफी है हराने को मुस्कुराया कर ना ',\n",
       " 'babaji kal ki subeh bahut achi laana aur usk baad ki bhi har subeh babaji bless deedarkaur deedar happi love song music life happi fun back freedom heart missyou famili ',\n",
       " 'कोशिश करने वालों की हार नहीं होती और क्वारन्टीन दिनों में की गयी चैटिंग \"प्यार\" नहीं होती smile',\n",
       " 'jane walon ne ye sikhaya haiaan walon ko auqat rakhna️sad tweet_by_sid',\n",
       " \"happi father' day msg guru paबीते दिन बीती रातेंकरनी है तुझ संग बहुत सी बातेकैसे सुनाऊं अपने दिल का हालपहले ही आ जाओबीत ना जाए अब ये भी सालmiss u lot \",\n",
       " 'रिश्तो को निभाने में भावनाएं होनी चाहिए विवशता नहीं।।prilaga shoppingismycardio shoppingtherapi iloveshop instadaili happi shoppingtim dresstoimpress instagood shoppingaddict igshop littleshop prilaga goodliv shoppingcent shoppingbag',\n",
       " 'vijay_mandeshi sarcasm आहे रे',\n",
       " 'वाकई कभी-कभी ज़िन्दगी सोच और समझ के दायरे से बहुत दूर सी लगती है। बेहद दुःखदsushantsingh sushanthsinghrajput ripsush ripsushantsinghrajput सुशांत sad mountaingirl ',\n",
       " \"baap suraj ki manind hota hai gram zrur hota h lekin agr na ho toh zindagi mei andhera hojata hhappi father' day\",\n",
       " 'दुख ओर दर्द हर इंसान को होता है बस समझने वाले का नजरिया सही होना चाहिए आगे वाले का जो किसी को दर्द ना दे भाई कि आत्मा को शांति दे रब ',\n",
       " 'agar tumh aisa lage ki “log tums dur jaa rahe hai” gaand pe “do laat mark bhgao” sarcasm memer',\n",
       " 'हमारे सबसे ज्यादा पसंदीदा खिलाड़ी अफगानिस्तान के रशीद_खान की अम्मी का इंतकाल हो गया है आप सभी लोग उनकी मगफिरत के लिए दुआ करे अल्लाह उन्हें जन्नत नसीब करे मेरा दिल आज बहुत दुखी हुआ आप सबको यह खबर देते हुए rashidkhan_ ',\n",
       " 'यादों में तुम••ख्वाबों में तुम••उदासी मैं तुम••खुशी में तुम••फिक्र मैं तुम••जिक्र मैं तुम••बस पास नहीं मेरे तुम••• (डॉक्टर मुस्तफा अली)bhupeshbaghel shayarimran sherryontopp shatrugansinha rtforindia dr_uditraj rajbabbarmp bbchindi ',\n",
       " 'tomorrow (th) ekadashi jun - श्री श्री राधा माधव मंगल आरती दर्शनहरे कृष्ण हरे कृष्ण कृष्ण कृष्ण हरे हरे। हरे राम हरे राम राम राम हरे हरे।। krishna devot love inspir motiv photooftheday fashion beauti happi cute iskcon trend… ',\n",
       " 'जिसे याद कर के रोते हो उसे याद कर के मुस्कुराया भी करो कभीsmile beposit behappi बज़्मdepress mentalhealthmondaymotivaton mondaythoughtsgoodmorningtwitterworld  ',\n",
       " 'दिल तो बहुत उदास है ये जान करकि एक प्रतिभाशाली सफल अभिनेतायुवा इंसान सुशांत सिंह राजपूत ने आत्महत्या कर लीपर जाते-जाते सारे जगत को एक उदाहरण देकर गए हैं:अपार धन दौलत खूब तरक्की एवं शौहरत होने के बाद भी इंसान के लिए मन की शांति होना बहुत जरूरी है। sad rip itsssr ',\n",
       " 'ab aansu sambhalt nahi hain sambhaletumhari amanat tumhar hawale - khumar barabankvishayari ghazal urdu poetri nazm ashar indian shair india paki pakistan pakistani pashto hindi punjabi sad quot quot',\n",
       " 'आम आदमी उदास हैबाकी सब first_class है ।hscheemamla ajaybhattbjpuk bjpindia bjpuk narendramodi amitshah jpnadda tsrawatbjp gagankashipur ',\n",
       " 'सच कहूं intern बेइज्जती कर दी +()/\"ने मेरे देश कीउसकी इज्जत की ऐशी की तैशी यहां देश पर क्यो लाई?bollywood btown म काॅमेडी हास्य मजेदारमीम्स कॉमेडीक्लब instajok instadaili coronavirusmem meme funtim comedi smile jaishreekrishna ',\n",
       " 'happi birthday हम आपके सुख समृद्ध जीवन की कामना करते हैं ',\n",
       " 'purana purana hota hai oldbutgold vintag oldschool old photographi music throwback classic oldtim memori smile beauti meme ',\n",
       " 'हमारे सबसे ज्यादा पसंदीदा खिलाड़ी अफगानिस्तान के रशीद_खान की अम्मी का इंतकाल हो गया है आप सभी लोग उनकी मगफिरत के लिए दुआ करे अल्लाह उन्हें जन्नत नसीब करे मेरा दिल आज बहुत दुखी हुआ आप सबको यह खबर देते हुए rashidkhan_ ',\n",
       " 'aajtak narendramodi शास्त्रीजी काश आज आप हमारे बीच होता तो आप को ग्रामीणडाकसेवको की स्थिति देखके बहुत दुख होता। आप के शासनकाल मे देश के एक भी सांसद पगार और पेंशन नहीं लेता था। आज सब ले रहे हैं मगर ग्रामीणडाकिया बाकात रह गया है आज ७३ साल से देश आजाद हुआ है।ndtv ',\n",
       " 'हमारे सबसे ज्यादा पसंदीदा खिलाड़ी अफगानिस्तान के रशीद_खान की अम्मी का इंतकाल हो गया है आप सभी लोग उनकी मगफिरत के लिए दुआ करे अल्लाह उन्हें जन्नत नसीब करे मेरा दिल आज बहुत दुखी हुआ आप सबको यह खबर देते हुए rashidkhan_ ',\n",
       " 'हमारे नेता राहुल गांधी जी का आज जन्मदिन है लेकिन वह अपना जन्मदिन नहीं मनाएंगे लेकिन हम लोग तो उन्हें बधाई दे सकते हैं happi birthday sir ji ',\n",
       " 'मुस्कुराने के बहाने जल्दी खोजो वरनाज़िंदगी रुलाने के मौके तलाश लेगी।behappi smile positiveenergydrndplu hindipoetri inspir entrepreneur workout excus motiv twitter twitterfactcheck',\n",
       " 'waah ray waah happi ???? ',\n",
       " 'पितृ दिवस की हार्दिक शुभकामनाएँ।happi father’ dayपिता जीबाबूजीपापाडैडी ',\n",
       " 'अब तो घरवालों ने भी मुझे सुबह जल्दी उठानाछोड़ दिया है अब वे भी जानते हैं कि बिस्तर से उठा दियातो mobil में घुस जाएगा goodmorn trend trend india mondaymorn smile smartphon',\n",
       " 'कब पैदा होगा विकास???कटाक्ष विकास siddharthcong officeofknath rahulgandhi mrkamleshwar pmoindia ',\n",
       " 'बेहद दुख की बात है जंहा एकमत होकर पूरे देश को एक स्वर मे बदले का राग अलापना चाहिए वंही कुछ पढ़ें लिखे जाहिल शहीदो पर राजनीति करने से नही चुक रहे है जिन्हे cd का पूरा नाम भी नही पता वो भी ज्ञान पेल रहे शर्म आती है इसमें महिला पुरुष दोनो मे सबसे ज्यादा जाहिल होने की होड है',\n",
       " 'इतना खुश रहो कि दुनिया परेशान हो जाये कि इसे किस बात की खुशी है ।',\n",
       " 'अभिनेता सुशांत सिंह राजपूत ने खुदकुशी कर ली है मुंबई में उनके घर से उनका शव मिला है sad ',\n",
       " 'mann_k_bhav mann_ke_bhav जिंदगी की राहों में मुस्कुराते रहो हमेशा क्योंकि उदास दिलो कोहमदर्द तो मिलते हैं हमसफ़र नहीं कव्यांश',\n",
       " 'कोई मुझ से पूछ बैठा ‘बदलना‘ किस को कहतेहैं?सोच में पड़ गया हूँ मिसाल किस की दूँ ?\"मौसम\" की या \"अपनों\" की।sad lonlinessawarenessweek ',\n",
       " 'निडर_राष्ट्रवादी_पत्रकारsudhirchaudhari जी आपको जन्मदिन पर बधाई और हार्दिक_शुभकामनाएं…आने वाला प्रत्येक नया दिनआपके जीवन में अनेकाे सफलताएँ एवं अपार खुशियाँ लेकर आयेमहाकाल की कृपा आप पर सदैव बनी रहेईश्वर आपको दीर्घायु एवं उत्तम_स्वस्थ प्रदान करे ',\n",
       " 'sad भारत माँ के वीर सपूतों को नमन ',\n",
       " 'i\\'m sad\"phir mere dil sy awaz aati mayoosi kufar hai allah hai na wo sub theek karey ga yaqeen maano phir mujhi sub theek lagna shuru ho jata hai\"post',\n",
       " 'saritasidh खुशी तन स्वस्थ तो मन स्वस्थ खुशी मन का ही प्रातिर्भाव मंदिर मस्जिद भटके मानव परमैं खुशी उसके मन में समाई हुईजय_श्रीरामजिंदगी covidー ',\n",
       " 'मैं भी इस जहां मेंमहज एक किरदार ही तो हूंखुशियों का ग़मो काखरीदार ही तो हूंमैं भी इस जहां मेंमहज एक किरदार ही तो हूं।।chracter happi sad',\n",
       " 'हमारे सबसे ज्यादा पसंदीदा खिलाड़ी अफगानिस्तान के रशीद_खान की अम्मी का इंतकाल हो गया है आप सभी लोग उनकी मगफिरत के लिए दुआ करे अल्लाह उन्हें जन्नत नसीब करे मेरा दिल आज बहुत दुखी हुआ आप सबको यह खबर देते हुए zainabajaz halima_sultan_ junaid_amu rofl_ravishl ',\n",
       " 'सच मे मुझे बडा दुख होता है जब मे किसी विशेष संप्रदाय के लोगों को अंडा बैचते या साईकल का पंचर बनाते हुए देखता हु।क्या हालत हो गयी है लाल किले के मालिको की। कटाक्ष',\n",
       " 'uski baarat pheeki pad gai thisara gao mere gham mein sharik tha - (na-maloom)shayari ghazal urdu poetri nazm ashar indian shair india paki pakistan pakistani pashto hindi punjabi sad quot quot',\n",
       " 'नाराज़ बैठे हो ??\"नाराज़गी का दरवाजा खोल के बैठे होतुम ना जाने क्यों नाराज़ बैठे हो।मुस्कुराना तुम्हे बखूबी आता हैमगर फिर भी तुम उदास बैठे हो।।\"बाg नाराज़ प्यार उदास aapkejazbaat bajrangbhagat bajrangautam ',\n",
       " 'पैसों से आप ना तो खुशी खरीद सकते ना ही ज़िन्दगी rip sushantsinghrajput ',\n",
       " '★→ 『अपना』 तो बस एक⃣ असूल️ हैंsmile करो dil️️ से और _dosti निभाओ _jigar से',\n",
       " 'दिन हो गए लेकिन तुम्हें नहीं भुला पा रहे हैं sushant smile boycottkhan ',\n",
       " \"hum 's wale jab - saal ke sirf enjoy ke liy ghar ghar khelt ye saal wale sach hi maan liy bhenchod - saal ki age mein shaadi/homeymoon ki baatein kar rhe hai️fridaymotiv fridaymorn fridayfeel fridayvib sarcasm\",\n",
       " 'suraj sale pappu k chamchegand chaatl apni maalik kijhat k baalbetha rh vrna kaan se itni mwaad nikl dunga ki doctor ko bhi samjh na aayegi wayhappi pappudiwas',\n",
       " 'बिखरा पुर्ज़ा पुर्ज़ा जिस्मो-जाँ के अंदर काथम गया हो जैसे कोलाहल समंदर कामोनिका सिंहsad rip sushantsinghrajput heartfeltcondol dakaniadabfound monikasingh monikasinghpoet ',\n",
       " 'जरुरी नहीं sad पोस्ट करने वाले को इश्क ही हुआ होघरवालों द्वारा लतिआया गया भी तो हो सकता है ',\n",
       " 'kamyabi k safar mein dhoop badi kaam aayichhaoñ agar hoti gay hote - (na-maloom)shayari ghazal urdu poetri nazm ashar indian shair india paki pakistan pakistani pashto hindi punjabi sad quot quot',\n",
       " 'koi toh bol raha tha aaj duniya khatam hone wali hai kaha hai wo log?jun bologuruji arrestamishdewgan meme factsmatt sarcasm funniesttweet likeforlik folloforfolloback',\n",
       " 'हज़ार गम मेरी फितरत नही बदल सकते क्या करूँ मुझे आदत मुस्कुराने की हैsmile keepsmilinglov happi child mumbai mumbaikar indian bharati feel mumbai maharashtra ',\n",
       " 'सुना हैं मोहब्बत है उसकोचलो छोड़ो हमसे होती तो कोई बात होती ।।- k k ( कृष्ण कान्त मीणा )- instagram/haayedard - facebook/haayedard haayedard lovevictor lovemus quoteoftheday quot shayritwitt shayari sad sadquot ishqiya mohabbattujhealvida lovefight ',\n",
       " 'narendramodi दादी बांग्लादेश बसाएं नाना पाकिस्तानइनके पप्पू बच्चे हमें सिखाएं देशभक्ति का ज्ञान happi birthday pappudiwa',\n",
       " ' सदी का सबसे बड़ा सूर्य ग्रहण गोविंद देव जी के मंदिर में हरि नाम संकीर्तन चलते रहे coronavirusoutbreak covid covid_ covid covidー stayathom stayhomestaysaf narendramodi bjp helpinghand hope smile peac biharregi _शून्य_जनपद',\n",
       " 'सुशांत सिंह राजपूत के निधन से देश ने बहुत शानदार युवा एक्टर व एक बेहतरीन कलाकार खो दिया भगवान उनकी आत्मा को शांति दे। bollywood star die shushantsinghrajput sad unnati_found shushantsinghrajput sundayvib shushantsinghrajput shushantsinghrajput sucid sucid ',\n",
       " 'sardesairajdeep yeh khel sahi hai maharashtra wala bhi theek tha par mp jo hua woh ek giri hui harkat hai bjp dwarakyun \"nishpaksha\" patrakar chacha sarcasm',\n",
       " 'rajubhandaribjp khajandassbjp भारतीय जनता पार्टी उत्तराखंड के प्रदेश उपाध्यक्ष एवं राजपुर रोड के माननीय विधायक आदरणीय खजान दास जी को जन्मदिवस की बहुत-बहुत बधाई एवं शुभकामनाएं प्रभु श्री राम आप को स्वस्थ एवं दीर्घायु रखे। happi birth day',\n",
       " 'bilaw zardari - naqli bhutto sarcasm',\n",
       " 'asay logon ki madad krain kuch log asa b hain jin k pass pehni k liya kapri nai hain khani k liya khana nai sad pandem covid_ savepoorlif ',\n",
       " 'चाइना और पाकिस्तान केकुकुरमुत्तों तुम्हारी खुशी ज्यादा दिन टिकने वाली नहींसबूत माँगने और विधवा विलाप की तैयारी करोचाइना को उसकी औकात दिखाने के लिए सेना ने सर्हद पर दिल्ली में सरकार ने पूरी तैयारी कर रखी है तुम्हारी और चाइना की फट के होने वाली है नमक हरामो',\n",
       " 'मेरी लाड़ली भतीजी हर्षिता नागर को जन्मदिन की हार्दिक बधाई और शुभकामनाएं।।happi birthday ',\n",
       " 'और खुशी स्कूल में फीस जमा नही करने के कारण ताना सुनने लगीउस छोटी सी बच्ची को मेला घुमने और बर्फी खाने का शौक मन में ही रह गया। छोटे किसान और मजदूरों के परिवार में जो दर्द है उसे समझने में पूरी उम्र भी गुजर जाएगी तो भी शायद वास्तविक दर्द को महसूस नही कर सकते आपऔर च',\n",
       " 'आंखे बंध करके तुम्हारी मोजुदगी को महसूस करने के सिवायमेरे पास तुमसे मिलने का कोई दूसरा रास्ता नहीं है।sadmahanaatma lovely_',\n",
       " 'सुखबीर बादल ने धोखाधड़ी के आरोप में अमित रतन को पार्टी से किया निष्कासित akalid sad sukhbirbad fraud accus amitratan expel parti ',\n",
       " 'bottl ko muh kyu lagaya girl girl love follow followm tfler ladi swag hot cute picoftheday beauti photooftheday instagood fun smile pretti hair… ',\n",
       " 'paah paah paah paaaaaahsmil smallstream smworldwid smworldwid smworldwid smworldwid smworldwid shameonaajtak shattawal ',\n",
       " 'ki kahiy bahla hi dhokha mildaromant singl punjabi quot dailyquot punjabishayari memepag punjabimem romanc dailyrom dhokha sadsongpunjabi punjabisadsong sad ',\n",
       " 'doctoratlarg जी नही जनाबश्री राहुल गांधी एवं प्रियंका गांधी एवं रेहान गांधी को छोड़कर बाकी इंडियंस मैं जरूर है nepot favourit groupism gaslick l lehsunएक सच्चा कांग्रेसीsarcasm',\n",
       " 'naa copi kriy kise nusadda apna style kise nu pasand nakhra te kise nu pasand ae smile pglkudi ',\n",
       " \"happi father' day बिना आवाज़ बिना आंसू के जो रोता है वो बाप होता है। जो अपने बच्चो की तकलीफों के छेदो कोअपनी बनियान में पहन लेता है वो बाप होता है। ये सच है कि महीने पालती है मां हमें पेट में पर महीने जो दिमागमेट होता है वो बाप होता है।।\",\n",
       " 'खुशी कोई मंजिल नहीं रास्तों का ही लुत्फ है।खुशी की चाह में रास्ते में ही दम न तोड़ें।टिक्स वाणी',\n",
       " 'happi birthdayमेरे अजीज बड़े भाई मा देवाराम जी पंवार निदेशक आईजी महाविद्यालय बाटाडू आईजी विद्यालय झाक सचिव आईजी सेवा संस्थान बाड़मेर को जन्मदिवस की ढेरों बधाई एवं शुभकामनाएं ।devaramigआपका अनुज राजेन्द्र लहुआ बाड़मेर ',\n",
       " ' प्रदेश में आज से कोरोना के प्रति जन जागरूकता अभियान जून से जून तक चलेगा coronavirusoutbreak covid covid_ covid covidー stayathom stayhomestaysaf narendramodi bjp helpinghand hope smile peac _बीपीएड_नियुक्ति_पत्र_जारी_करे',\n",
       " 'मैं उस रक्षा विशेषज्ञ को दो शब्द लेकर खोज रहा हूं जिसने कहा था चीन से हमें कोई खतरा है ही नहीं क्योंकि वहां वाले तो मां-बाप की इकलौती औलाद होते हैं।sudhirchaudhari कहीं ये आप तो नहीं?bndकटाक्ष',\n",
       " '\"जिंदगी मे चुनौतियाँ हर किसी के हिस्से नहीं आतीक्योकि किस्मत भी किस्मत वालो को ही आज़माती है \"be_you fashion beauti smile happi style danc inspir mother mrs_india_international_ indian_icon indian_icon_award ',\n",
       " 'सूरज की किरणे तेज दे आपको खिलते हुए फूल_खुशबू दे आपकोहम जो देंगे वो भी कम होगा देनेवाला जिंदगी की हर खुशी दे आपको।मेरे परम प्रिय मित्र कुँ_अर्जुनसिंह_सिसोदिया_को जन्मदिन की अनंत शुभकामनाएं ',\n",
       " 'पेट्रोल डीजल के दामों के बारे में सरकार से सवाल करने वालों को राष्ट्र विरोधी घोषित कर दिया जाएगाsarcasm',\n",
       " 'pk सही में ये बादल छंट जायेंगे फिर दुख ना रहेगा फिर वही खुशी की सुबहऔर हंसी की शाम होगीहिंदी_शब्द मिठी',\n",
       " 'अरे योग कर ले भाईhappi yoga day ',\n",
       " 'आदरणीय श्री rahulgandhi जी आपके परिवार वालों ने इतना पैसा खर्चा कर के आपको विदेश से पढ़ाया लेकिन अफसोस आपको संरेन्डर (surrender) की स्पेलिंग नही आती  हमारी मान लो साहब आप इंग्लिश स्पीकिंग का कोर्स कर लो दिन में लिखना और बोलना सिख जाएंगे आप कटाक्ष ',\n",
       " 'kuch haseen pal kuch haseen yaadein ️️️ pic instap instapictur instadaili pictureoftheday throwback smile behappi becont love mumbai maharashtra ',\n",
       " 'जैसी उसकी डिग्री वैसा उसका ज्ञानझूठे उसके साथी झूठे उसके बयान मेरा_भारत_महान chinaindiabord sarcasm bjptherealantin chowkidar_kamjor_hai',\n",
       " 'अगर मंजिलों की फिक्र करोगे तो रास्ते बुरा मान जाएंगे ।maihardiari travel travelphotographi smile snapseededit bollywood director actor writer ',\n",
       " 'दुख:द घटना ',\n",
       " 'मेडिटेशन से आता है आत्मबलऔरआत्मबल से मिलती है खुशियाँआत्मबल के हैं अनेक फायदे:-meditatemedit ',\n",
       " 'जिंदगी एक बार मिलती हैउसे भरपूर जियोचाहे परिस्थितियां कैसी भी होउसे लड़ना सिखोक्योंकि हर मुश्किल हालात से लड़ते हुए आगे बढना ही तो जीवन हैपरिस्थितियों से घबरा करयूं जिंदगी खत्म न करोdepress ssr alwaysal happi ️️️️️️',\n",
       " 'माही के मैनेजर का खुलासा बोले- सुशांत सिंह राजपूत के निधन से बहुत दुखी हैं धोनी  mahendrasinghdhoni sad sushantsinghrajput dead ',\n",
       " 'हमारे सबसे ज्यादा पसंदीदा खिलाड़ी अफगानिस्तान के रशीद_खान की अम्मी का इंतकाल हो गया है आप सभी लोग उनकी मगफिरत के लिए दुआ करे अल्लाह उन्हें जन्नत नसीब करे मेरा दिल आज बहुत दुखी हुआ आप सबको यह खबर देते हुए ',\n",
       " 'srila prabhupadakrishna devot love inspir motiv photooftheday fashion beauti happi cute iskcon trend ',\n",
       " 'shaam dhale har panchi ko ghar jana padta hai kaun khushi se marta hai marjana padta haisirf rooh ka nikal jana maut nhi kabhi kabhi log aapko hal lakr khade kar dete hainhar san maut ka ahsa hota hai depressionisr sad ripsushantsinghrajput ',\n",
       " 'photograph : shuridbhaishurid shuridgraphi groom tie ig gatedhora gate moment wed smile laugh weddingphoto jamai happygroom insta instagood pagri beauti formal sherwani photoart… ',\n",
       " 'ripsush sad sadnew bollywood rip q qbhai??? ',\n",
       " 'ach log jaldi chale jate haisushantsingh sad ',\n",
       " 'कटाक्ष अगर bjp कि सरकार होती तो पेट्रोल और डीजल रूपये/ लीटर मिलता rahulgandhi hansrajmeena priyankagandhi nareshbagdi_nk yogrishiramdev ',\n",
       " 'band geet vi hoo jaan ge tusi hathyaar tah band kardopunjabi asla weapon sidhumoosewala sidhu ak punjabimem comedi latestmem latestcomedi punjabicomedi humour sarcasm ',\n",
       " 'tum ho soch rahe ho rahi h jo ha veer aaya jung kari ladke love instagood cute tbt photooftheday instamood iphonesia tweegram picoftheday iger girl beauti instadaili summer instagramhub iphoneonli follow igdaili bestoftheday happi picstitch ',\n",
       " 'आज तुझे चंद पर ले चालू photo instadaili lfl music cute k likeforlikeback follow life follow happi viral likem art style sdv explorepag meme model follow beauti smile… ',\n",
       " 'राजस्थान की शेरनीराजस्थान विश्वविद्यालय की आन बान शान वर्तमान छात्र संघ अध्यक्ष बहिन पूजा_वर्मा को जन्मदिन की हार्दिक बधाई एवं शुभकामनाएं। happi birthdayपूजा वर्मा rajasthan universitypoojavermaru ',\n",
       " 'यादों में तुम••ख्वाबों में तुम••उदासी मैं तुम••खुशी में तुम••फिक्र मैं तुम••जिक्र मैं तुम••बस पास नहीं मेरे तुम••• (डॉक्टर मुस्तफा अली)incindia incindial rahulgandhi priyankagandhi rssurjewala acharyapramodk irobertvadra ',\n",
       " 'कटाक्ष :-हमने तोह टिकटोक हटा दिया के करोड़ जाने से रोक देंगे लेकिन साहेब तोह करोड़ दे बैठे ।जबकी कतार में हमारी अपनी टाटा भी थी जो मजबूती और अच्छे काम के लिए जानी जाती है । ',\n",
       " 'narendramodi भारत में सबसे महत्वपूर्ण\"आसन\"\"आश्वासन\" होता है happi yoga day',\n",
       " \"happi intern yoga day &amp; father' dayदैनिक जीवन में भी इनका सम्मान किया जाना चाहिए। दिखावे के लिए फोटो लगाने से कुछ नहीं होता।\",\n",
       " 'एक वो दिन था जब sushantsinghrajput ने propos किया ankitalokhand को feel sad missyou susantsinghrajput ',\n",
       " 'कभी यहां बात करते हो कभी वहां बात किया करते हो । आप लोगों तो बड़े घराने की लड़कियां हैं मैडम हम से कहा बात करती हो ।love vijay sad',\n",
       " 'hafizgandhi गाय का पेशाब पीना पुण्य है लेकिन दलित के हाथ से पानी पीना पाप और धर्म भ्रष्ट हो जाता है। आखिर क्यों?कटाक्ष',\n",
       " 'aaj sabs lamba din haibut know ki aaj sabs choti raat bhi haisarcasm solareclips solareclips',\n",
       " 'incmp अगर आज नेहरू जी होते तो शी जिनपिंग की बीवी को एडविना की तरह पटाकर सिगरेट पिलाकर अपने वश में कर लेते और तिब्बत ही नहीं सीधे शंघाई पर कब्जा कर लेते इश्क़ और जंग में सब जायज़ है (नेहरू की किताब द ठरकी नेहरू से ) जय कांग्रेस आक थू कटाक्ष',\n",
       " \"पिताअमीर हो या गरीब औलाद के लिए हमेशा बादशाह होता है।सुप्रभातhappi father' day ️\",\n",
       " 'rolitiwarimish कार्यवाही हो गयी कटाक्ष ',\n",
       " 'पिछली सरकार के साल के कार्यकाल में जवान शहीदमोदी सरकार के साल के कार्यकाल में जवान शहीदअब भी देश सुरक्षित हाँथों में है?voice_lesकटाक्ष',\n",
       " 'sone ki chain import nhi hotibalkichain se sona import hota haisarcasm',\n",
       " \"khushi ka har lamaha paa hota haijab pita saath hota haihappi father' day bapalov u bapa️\",\n",
       " 'ज़िंदगी की कुछ खास दुआए लेलो हमसेजन्मदिन पर कुछ नजराने ले लो हमसेभर दे रंग जो तेरे जीवन के पलो में…आज वो हसी मुबारक बाद ले लो हमसेhappi birthday syedmahinoor ',\n",
       " \"हम जिस विशाल वृक्ष के पनपते हुए बीज है।happi father' day \",\n",
       " 'rahulgandhihappi birthdayजननायक माननीय श्री राहुल गांधी जी को जन्मदिन की शुभकामनाएं एंव बधाई ।rahulgandhirgwayanadoffic rajbabbarmp ',\n",
       " 'hindinama सभ्यता द्वारा घायल हुए लोगों के लिएयोग सबसे बड़ा मरहम है।happi intern yoga day ',\n",
       " 'आस्था से बढ़कर इस दुनिया में कुछ भी नहीं neelamgudda monikachaudhari love photooftheday portrait babi instagram cute friend hair swag iger picoftheday girl beauti fashion follow smile pretti followm photo life funni cool hot desi twitter ',\n",
       " 'jaihindsonu singhchunni जीने की उसने हमे नई अदा दी है; ️ खुश रहने की उसने दुआ दी है;ऐ खुदा उसको खुशियाँ तमाम देना; जिसने अपने दिल मे हमें जगह दी है।love ',\n",
       " 'jo log zyaada hast hai na unk andar gham sabs zyaada hota hai divyanshkhatri quoteoftheday trend twitter smile',\n",
       " 'payalmehta itbp_offici अन्तर्राष्ट्रीय योग दिवस की सभी देश वासियों को बहुत बहुत बधाईयांhappi yoga dayyoga स्वस्थ जीवन सुखी जीवन',\n",
       " 'गाय का पेशाब पीना पुण्य है लेकिन दलित के हाथ से पानी पीना पाप और धर्म भ्रष्ट हो जाता है। आखिर क्यों? voice_lesकटाक्ष',\n",
       " 'living_dream bhai tuje sarcasm word pata hai kya hota hai ? ek kaam kar fridg ka door open kar freezer se ice nikal aur laga  abb ye matt poochna kaha pe ',\n",
       " 'dynamiccreativ जांच तो सीबीआई तक जानी चाहिएसुशांत सिंह तो आपके बिहार साइट के थेसुन कर बहुत दुख हुआ मुझे सुशांतकिसके अंदर  क्या भूचाल मचा है चेहरा  ये क्यूँ नहीं बताता sushantsinghrajput ॐ शांति',\n",
       " 'dr_uditraj incindia लाल आखें दिखानेवाले वालें का जूमला कफुर हो गयागोदी मिडिया का साथ मिला तो भी इचं दिखानेवाले चीन के आगे भीगी बिल्ली हो गया हमने उजियारे में जवान खोए आखिर फर्जी चौकीदारों का हुजूम कहां खो गयाpoetrylov poetrycommun nationsfirstकटाक्ष',\n",
       " 'iacabhi myvivek kya baat kr rhe hotumh nhi pta(hum log modiji ke lite rs/ litr bhi denge) sarcasm',\n",
       " 'दुख के बादल है ये भी छंटजायेंगेसुख की सुबह आयेगी जरूर हमारे ये दिन जल्दी ही बदल जायेंगेहिंदी_शब्द मिठी',\n",
       " 'mili_b_da गुज़र गया वो वक़्त जब तेरी हसरत थी मुझको अब तू खुदा भी बन जाए तो भी तेरा सजदा ना करू।sad life',\n",
       " 'शब्द हीन हूं क्या लिखूं मैं पापा पर वह तो वे कलाकार हैं जो हर परिस्थिति के अनुसार अपने किरदार निभाते हैंanjali️happyfathersday smile love goodmorningtwitterworld haveaniceday',\n",
       " 'agar shadi hi nahi kerni thi birthday per kyu aayi thi alwaysal wednesdaymotiv meme sarcasm twitter',\n",
       " 'arayanaenno nikhileshchanuअभिनेता सुशांत सिंह राजपूत आत्महत्या की खबर दुखद है । अभिनय में आप ने पूरे देश का नाम रोशन किया। भगवान दिवंगत आत्मा को शांति दे suicideawarenessmissy ripsush shoke sad restinpeaceshushantsinghrajputsushantsinghrajput ',\n",
       " 'खुशी की बात यह है कि-चीन के सैनिक को भारत के जवान ने मार गिराएपरंतु भारत ने अपने जवान खो भी दिए।शहीदों को मेरा नमन\"मसाले भी जली है और कायम है मिसालें भीबस अब शहीदों के घर इक दियाभरसक जलते रहना चाहिए\"जय_हिंद_की_सेना चीन_तेरी_ऐसी_की_तैसी',\n",
       " 'saaqi ki har nigah pe bal kha ke pii gayalehron se khelta hua lehra ke pii gayaa rehmat e tamam meri har khata maafmain intaha e shauq mein ghabra ke pii gayasad',\n",
       " 'भारतीय सिनेमा के युवा प्रतिभावान अभिनेता सुशांत सिंह राजपूत जी का अचानक यू चले जाना एक झटका है हमसब के लिए इतने कम उम्र मे तो लोग संघर्ष कर रहे होते है जितनी उम्र मे उन्होंने ये मुकाम हासिल कियाआपके जाने से आज बहुत आहत दुखी हूँ ripsushantsinghrajput',\n",
       " 'happi fathersday पिताजी… पिताजी जीवन है सम्बल है शक्ति है सबकुछ है उन मासूम आँखों में सारा जमाना है माँ ज़मीन पिताजी ख़्वाबों का खजाना है |सज जाते है सब रंग-ए-जूनून सुबह से माँ है छाँव पिताजी जिंदगी का आशियाना है | ',\n",
       " 'pyaar deewana hota hai chtiyapa hota haisarcasm',\n",
       " 'शिक्षा में क्रांति करने के बाद जैसे ही क्रांतिवीर मनीष सिसोदिया ने दिल्ली के स्वास्थ्य मंत्रालय का कार्यभार संभाला कोरोना संक्रमितों का नया कीर्तिमान और कोरोना मामलों का अर्धशतक बना बैठेकटाक्ष saturdaythought coronaviru saturdaymotiv coronavirusoutbreak ',\n",
       " 'rajnathsingh narendramodi कड़ी निन्दा चाचा अपना काम कीजिए प्रचार करने को न्यूज़ चैनल है। आप क्यों तकलीफ लेते है।कटाक्ष',\n",
       " 'qweenofjhansi jay ho qween ️happi yoga ',\n",
       " 'इंसान के कन्धों पर इंसान जा रहे हैं कफ़न में लिपटे हुए कुछ अरमान जा रहें हैं मिली जिन्हें जिंदगी में बेवफ़ाई वो वफ़ा की तलाश में शमशान जा रहे हैं poem sad brokenheart',\n",
       " 'kyun meri rahein mujs puch ghr kaha hai?kyun mujs aak dastaq puch darrr kaya hai?rahein esi jinki manzil hi nhi dhundo muje ab rehta hu yhidil h kahi dhakan h kahi sans h magr kyun zinda mai nhi?sad',\n",
       " 's_sanatani bhai majey le raha hai sarcasm ya fir sach mein?',\n",
       " 'कौन कहता है कि मौत आई तो मर जाऊँगीमैं तो नदी हूँ समुंदर में उतर जाऊँगीlifehel alon sad ',\n",
       " 'अखिल भारतीय कांग्रेस पार्टी के पूर्व राष्ट्रीय अध्यक्ष आदरणीय श्री rahul gandhiजी को जन्मदिन की हार्दिक शुभकामनाएं और बधाईमें ईश्वर से आपके दीर्घायु होने सदैव स्वस्थ एवं प्रसन्न रहने की कामना करता हूँ happi birthday rahul gandhi ji ',\n",
       " 'मैं खुद तो हो जाऊंगा \" मगर तुम्हे कभी नही होने दूंगा वोह एक लफ्ज़ जिसे उदास कहते हैं ️️️️aaliya_shama ',\n",
       " 'अपनी जिंदगी से नाराजगी को मौत से साझा करने चला गया उफ्फ्फ rip ripsushantsinghrajput shoke sad beautifulsoul lifesadquot broken सुशांत_सिंह_राजपूतsushantsinghrajpoot read thought yourquoteapp  ',\n",
       " 'इतना क्यों सिखाए जा रही हो जिंदगी हमें कोन सी सदियाँ गुजांरनी है यहाँ। गुलज़ार gulzarkalragulzarpremi शायरी shayari shayri shayariindia shayar हिंदी काव्यांश काव्य_कृति काव्य hindi hindipoetri शायरांश sad sad pain life patiencechalleng ',\n",
       " 'rahulgandhi incindia happi birth day sri rahul gandhi ji',\n",
       " 'jo khud nahi samjh auro ko samjhaya humn repostfake_alfaz motiv mohabbat instagram happi human goodvib ex lovehurt ishq viral trend ',\n",
       " 'आईएम भोपाल टीम की ओर से haydonlisa को जन्मदिन की ढेर सारी शुभकामनाएंlisahaydonbirthdaylov parti happybirthday happi cake birthdaycak instagood friend birthdaygirl like fun music photographi photooftheday follow art birthdayparti cute ',\n",
       " 'मेरी शौहरत मेरे पिता की वजह से हैhappi father day ',\n",
       " 'मेरी हर सांस में तू हैमेरी हर ख़ुशी में तू हैतेरे बिन जिन्दगी कुछ नहींक्योंकि मेरी पूरी जिन्दगी ही तू है ',\n",
       " 'someon =yaar pyar karo chutiyapa nahime=dono alag alag hote hain kya?sarcast sarcast sarcasm twitter retweeet',\n",
       " 'dubda suraj janda hoya khare kine khawab daboo gyabeauti dildadoost sad sunset hma natur travel naturephotographi photographi best gujranwala pakistan ',\n",
       " 'rahulgandhi हमारे सबसे ज्यादा पसंदीदा खिलाड़ी अफगानिस्तान के रशीद_खान की अम्मी का इंतकाल हो गया है आप सभी लोग उनकी मगफिरत के लिए दुआ करे अल्लाह उन्हें जन्नत नसीब करे मेरा दिल आज बहुत दुखी हुआ आप सबको यह खबर देते हुए rashidkhan_ ',\n",
       " 'रूतबा मेरे सर को तेरे संविधान से मिला ये सम्मान भी मुझे तेरे संविधान से मिलाऔरों को जो मिला है वो मुक्कदर से मिला हमें तो मुक्कदर भी तेरे संविधान से मिलाना जिंदगी की खुशी ना मौत का गम।जब तक है दम जयभीम कहेंगे हम।। rkक्रांतिकारी जयभीम ',\n",
       " 'मुझे खैरात में मिली खुशियां अच्छी नहीं लगती मैं अपने_गमों में भी रहता हॅू… नवाबों_की_तरह attitudequot instagramfit naldehragolfclub viratpkthakur ',\n",
       " \"happi father' day आई लव यू डैड ।वो माता-पिता ही हैं जिनसे आपने मुस्कुराना सीखा कद्र करो माँ बाप कीदुआओं में उनकी ताकत है। \",\n",
       " 'राजस्थान विश्वविद्यालय की आन बान शान वर्तमान छात्र संघ अध्यक्ष बहिन पूजा_वर्मा को जन्मदिन की हार्दिक बधाई एवं शुभकामनाएं। happi birthdayपूजा वर्मा rajasthan univers ',\n",
       " 'thatbrokenpoet वो मुस्कुरा के खंजर चलाते रहेहम अपना समझ के भुलाते रहे।love tfler tweegram photooftheday like amaz smile followfollow likelik look instalik iger picoftheday food… ',\n",
       " 'rahulgandhi priyankagandhi incindia dineshsundriyai rahulbal_ vidyarthe पिता धर्मः पिता स्वर्गः पिता हि परमं तपः। पितरि प्रीतिमापन्ने प्रीयन्ते सर्वदेवताः॥आपकी छाया से ही ये जीवन सरल हो पाया। आपके आदर्श ही मेरे जीवन की सबसे बड़ी आशा है। happi fathersday ',\n",
       " \"happi father' dayaapn sikhaya ungli pakad ke chalna aapn samghaya kais girk hai sambhalna apki waje se hi ye mukam hasil kiya aap hi ho meri khushiyon ki pahachan jo lakho mein ek hai wo hai mere dadu jo dur hokar bhi saay ki tarah har waqt mere saath hai wo hai mere dadu \",\n",
       " 'आज का इंसान सच्ची बातें दिल पे नहीं लेता।और झूटी दिमाग़ पर ज़रूर ले लेता हैsourabhpatel mythought downtoearth kurta indian lifestyl happi positivevib noattitud kisan bigboss ',\n",
       " 'happi father dayहमें छोड़कर ना जाने आप कहां चले गए? ओ मेरे पापा तुम कहां चले गए? आपके वजूद से ही मेरा वजूद था आप नहीं है तो मैं नहीं हूं। ',\n",
       " 'pyar करोगे तो परेशान \\u200dरहॊगॆ। शादी करोगे तो उदास रहोगे । love करोगे तो devda रहोगे । और हमसे दोस्ती करोगे तो बिंदास रहोगे ।',\n",
       " ' bloklist ka pata nahi par ignor list bahut se chutiyon se bhari padi haimem sarcast sarcasm twitter retweeet',\n",
       " 'देश का वफादार ही राष्ट्र भक्त हैंभाजपा/कांग्रेस का वफादार राष्ट्र भक्त नही हो सकता voice_lesकटाक्ष',\n",
       " 'कुछ लोग हमारी हैसियत पूछते लगे उनकी शक्सियत बिक जाए इतनी हैसियत है हमारी love followback twitter tweegram photooftheday like amaz smile followfollow likelik look instalik iger picoftheday food instadaili instafollow followm boycottkaranjohar ',\n",
       " 'मुबारकबादजन्मदिन कि हार्दिक बधाई एवं शुभकामनाएं भैया जी जिए हजारों साल भगवान से यही दुआ करते हैactorvijayभैयाhappi birthday bhaiyaआपका अपना भाई सिंगर भाई बिट्टु यादव राज्य बिहार(पटना) ',\n",
       " 'ज़ब परिस्थिति बदल जाए तो रणनीति बदलना ही एक मात्र उपाय होता है वरना यदि आप पुरानी परिस्थिति के बारे मे सोचते रहोगे तो आप किसी भी दुख या समस्या से बाहर नहीं आ पाओगे ',\n",
       " 'zindagi jeena kais hai ye sikha karkhud jeena bhul gayaitsssrripsush sushantsinghrajput sushantsingh rip godbless sad heartrend',\n",
       " '|| ••••अपने खिलाफ बातों को अक्सर मैं ख़ामोशी से सुनती हूँ क्योकिजवाब देने का हक़ मैंने वक़्त को दे रखा है… quot sad ••••||',\n",
       " 'हाँ मैं हूँ गुनेहगार तेराजो ना समझा प्यार तेरानफरतेंगलतफहमियाँ नहीं तुमसे अब कुछ भीसिर्फ मजबूरियाँ हैं अब दोनों के दरमियाँsmileloyalsdairi',\n",
       " 'किसी का चेहरे की मुस्कराहट की वजह बनेंखुशी ही नहीं नहीं सुकून भी मिलेगा।सुप्रभात ',\n",
       " 'sir aap ye kya kr gyeaaps ume ni thi beliv nhi ho rha ki aapka ye hsta hua chera ab hme kbhi dekhn ko ni milegasushantsingh ripsushantsinghrajput sad ripssr',\n",
       " 'kuch log aapko khud ki life se nikal chuke hote haiaur aapko pata bi ni chalta ki aapka kat chuka hai sarcast',\n",
       " 'फिल्म इंडस्ट्री मे भी लोग परिवारवाद चला रहे है जैसे हम राजनीति मे देखते है। shushantsinghrajput bollywood dirti sad',\n",
       " 'amitshah चीनी_सैनिकों से झड़प में शहीद सैनिक की मां ने कहा-दुखी हूं लेकिन बेटे पर गर्व है।\"',\n",
       " 'ek umar guzari hai main dosto ke sathaap jeet nahi sakt hain mujhs fareb mein - omshayari ghazal urdu poetri nazm ashar indian shair india paki pakistan pakistani pashto hindi punjabi sad quot quot',\n",
       " 'muje lagta ke ab waqt aa chuka amit shaha ji ko ladakh bhejn kaq ke zeher hi zeher ko katta n bhaichaina agar naag amit ji shehsh naag heindianpolit indiachinafaceoffsarcasm',\n",
       " 'आदरणीय नेता rahulgandhi जी को जन्मदिवस की हार्दिक बधाई व शूभकामनाए। आपने सदा गरीब व असहाय लोगो के हको की लङाई लङी।आपने सदा सत्य की लङाई लङीइस सत्य की यात्रा मे लाखो युवा आपके साथ कन्धे से कन्धा मिलाकर चले।भगवान आपको बहुत सारी खुशिया दे happi birthday rg raga ',\n",
       " 'happi happyfathersday fathersday मेरे पिताजी शान्त स्नेह से सरोबारपिताजीपापाबाबाडैडी एक मज़बूत दीवाल happyfathersday कुछ लोग कहते हैं ये सब डे मना के क्या करना पर इस एक दिन का ऐहसास पूरे साल वज़ूद में रहता है ना shrikanttuli itsmadhurima',\n",
       " 'कुछ लोग तुम्हारा मान देख के बातें करेंगेतो वही कुछ अपना समय।line bylekhika truth smile love',\n",
       " 'dane dane par jyse khane wala ka naam likha hota haiwys hee dhokedard aor zakhmoon par ashiqoon ka hak hota haisarcasm hillariouspoetri love funniesttweet broken_heart_tal',\n",
       " 'thought shailzazindagi k safar akel tey karna sikho zindagi ko akel jeena sikho kisi k sath batan zindagi pure nahi ho jate ha lakin aadhur jarur ho jate haithoughtfortheday mythought quotebym trendingnow like followm sad calm',\n",
       " 'मेरी पिक्चर कैसी लगी हु न मैं हॉट? पहली बार मिलने पर क्या करोगी मेरे साथ?hot hotmodel hot sexi happi smile cute india stun beauti amazingbeauti girl follow instagram facebook hottestgirl lovely_neha ',\n",
       " 'thak jao agar duniya ki mehfilon sehum aawaz de dena aksar hum bhi akel rahet hai️sad tweet_by_sid',\n",
       " ' pyar amar h aur amar rahega marega toh wo jo isko marega feel sad alon',\n",
       " 'suryapsinghia ajitanjum romanaisarkhan yadavakhilesh ppbajpai rashtrapatibhvn अजब तनाव है माहौल में कहें किस से चोरों ने देश को दिमक की तरहखोखला किया अब तो कुछ कोइसी का मलाल है अवसाद भरी जिंदगी में कहें किस से काव्य कटाक्षरचनाकारराकेश_पाण्डेय ',\n",
       " 'हमें खुशी नहीं है कि हमारे देश के वीरों ने पांच चीनी सैनिकों को माराबल्कि मैं दुःखी हूं कि हमारे तीन बहादुर सैनिक शहीद हुए।इस शहीदों की शहादत का बदला पांच नहीं बल्कि पांच_हजार होना चाहिए।।हम_हैं_तैयार globaltimesnewsindiachinafaceoff chinaindiafaceoff ladakhbord',\n",
       " 'लाई है किस मक़ाम पे ये ज़िंदगी मुझे…महसूस हो रही है ख़ुद अपनी कमी मुझे…sad love',\n",
       " 'बहुत मुश्किल है सभी को खुश रखनाचिराग जलाते ही अंधेरे रूठ जाते हैं todaysmotiv happi',\n",
       " 'laxmim rahulgandhi sachinpilot ashokgehlot incrajasthan mahilacongress priyankagandhi rohanrgupta hanumancongress tikaramjullyinc happi birthday rahul gandhi ji',\n",
       " \"कहते हैं पिता जब तक जिंदा रहते हैं तब तक बेटे के पैरों में कभी कांटे भी नहीं चुभते क्योंकि पिता हमेशा अपने बेटे को अपने कंधों पर उठाकर चलता है अरमान पूरे नहीं होते मेरे अपनी कमाई से जितना मजा आता था पापा आपके सिक्कों से लव यू पापाhappi father' day \",\n",
       " 'officekaju आप अपनी इस जिन्दगी की राहों में हमेशा मुस्कुराते रहोक्योंकि उदास दिलों को तो हमदर्द मिल जाते हैं पर हमसफ़र नहीं',\n",
       " 'भारत चीन सीमा झड़प में साहिबगंज के डिहारी निवासी कुंदन_ओझा शहीद हो गए जो अपने पीछे पत्नी व एक मात्र दिन की पुत्री छोड़ गए।भगवान उनके परिवार वालों को इस दुख को सहने की शक्ति प्रदान करे ',\n",
       " 'shabbat shalom yhwh happi shabbat spiritualart ',\n",
       " 'lastrejectionnn jai shree ram ramayan sitaramyechuri trendingnow love care strong happi modi shameonaajtak shame life folloforfolloback follofolloback follobackinstantli like',\n",
       " 'जरुरी नहीं sad पोस्ट करने वाले को इश्क ही हुआ होघरवालों द्वारा लतिआया गया हो ये भी तो हो सकता है ',\n",
       " 'happi birthday भारत के युवराज राहुल गाँधी जी को जन्म दिन की हार्दिक सुभकामनाये rahulgandhi priyankagandhi sumit_dpyc omveeryadavinc iyc_upwest ',\n",
       " 'भादरा के दबंग विधायक बलवान जी पुनिया को जन्मदिन की हार्दिक शुभकामनाएं happybirthday balwanpoonia_ युवाओं के भविष्य',\n",
       " \"vo maa k kehn pai kuch raubmujh pr rakhta haiyehi wajah jo mujh chumn se jhijhakta hai judii hai iski hr ek haan meri haan semer bagair hain isk hr khwaab veeranehappi father daymay father' live long healthi life ameen\",\n",
       " 'हम हार जीत success failur में इतना उलझ गए हैकि हम zindagi जीना भूल गए है zindagi में सबसे ज्यादा कुछ import है तो वो है खुद zindagi️ripsushantsinghrajput rip sad moment rememb lovey alwaysproud ',\n",
       " \"sarcasm भक्त: झूठ के कपाल पे सत्य का 'प्रहार' हूँ हाँ मैं भी 'चौकीदार' हूँग़ुलाम: डूबती नांव का मैं तो एक 'चप्पू' हूँ गौर से देखो दोस्तों मुझे मैं भी एक 'पप्पू' हूँdeshbhakt vs deshdrohinamo vs raga\",\n",
       " ': ek baat puchu sachi baatao gai??m : haan pucho lo??sh : tum mere siva kisi aur se pyaar toh nai kart na??m : nahish : saachi baatao????m sarcasm ',\n",
       " 'kitabo se nahi mene zindagi ke tokhro se sikak kitabo se nahi mene zindagi ke tokhro se sika mushkilo mein bhi hasna yeh mene apn abbu se sika fatherandson fathersday father happy… ',\n",
       " 'खुशी देना ही खुशी पाने का सबसे बड़ा सार है _twitter friendship beachlif zanzmer ',\n",
       " 'मेरी तपन मे अब जतन ही किस बात का जिंदा रहना भी है तो जिंदगी देने के लिए। खुशी कर्म कर्मा मंजिल ',\n",
       " 'हर वो शायरी जिसमें हमने तुझे महबूब लिखा जमाने ने सुना और कहा वाह क्या खूब लिखाlove sad folloforfolloback',\n",
       " 'khair dil hi toh thaa bhar gyea hogahavelikachakkar pizgaczhel releasejeelendebyatifaslam cri shushantsinghrajput sad help tuesdayvib',\n",
       " 'लगातार नौवें दिन डीजल-पेट्रोल के दाम बढ़े हैं मोदीजी से कुछ बोलने की उम्मीद न रखें उन्हें मास्क हटाना पड़ेगाकटाक्ष',\n",
       " 'आज का दिन जुम्मनो के लिये बहुत बडा दिन है जुम्मनो की खुशी का ठिकाना नहीं होगा आज तो दावत वगैरा partyy shaartyy चल रही होगी आज का दिन बहुत भारी दिन है जुम्मनो के लियेबहुत भारी बड़ा',\n",
       " ' tum alag nahi lajawab ho ishq ko bohat badman karn walo ko tum karara jawab ho sarcast sarcasm twitter retweeet',\n",
       " 'himanshumansudav love sad model missyou photo photographi photograph instadaili instagram follow bollywood sirohi ',\n",
       " 'naino se lufz na churay aur lufzo se naino ko na bhigayephilosophi sad truethat',\n",
       " 'nepot ke baad bhi nahi chal paan ki frustrat sonam kapoor sm par bklli kark nikalti hai sad sonamkapoor',\n",
       " 'ये कैसी पत्रकारिता है?ऐसे समय में दुख संतृप्त परिवार को संवेदनाएं देनी चाहिएया फिर इस प्रकार कि पत्रकारिता करनी चाहिएshameonaajtaksushantsinghrajputaajtakसंवेदनाएं ',\n",
       " \"sonamakapoor सबको अपने माँ बाप पर गर्व होना चाहिए।क्योंकि ये आप के पूर्व जन्म का फल है कि आप इतनी अच्छी फैमिली में पैदा हुई।इसमे लोगो को कोई दिक्कत नही होनी चाहिए।लेकिन अब आप अपनी मेहनत की खा रहीं है।happi father' day\",\n",
       " 'बाहर से जो करता है बहुत प्यार से बातें अन्दर से वही \"शख्स\" हमारा नहीं होता।sad ',\n",
       " 'aaj kal bahut muskura rahe ho tum lagta hai phir se mere mohabbat ke girfta mein ho tumarpoetryworld poetri mypoetri love smile ',\n",
       " 'ॐdjrafaholiiv rafaholiiv insearchofthebestvib ishinelikeadiamond goodvib vibe music friend smile posit fantast gay tattoo freedom gaysp oliiverbyoliiv lgbt love photooftheday… ',\n",
       " '_shahrukhansari nuckelshuffl sahibaparodi anas_khan nagrik ajaz profnoorul aafrin insaafparodi realnavedkhan bagh msjoha khubaibrah dxdevil भाई मैंने twitter पर कभी भी गलत लैंग्वेज यूज नहीं की फिर हमारी आईडी क्यों सस्पेंड हुई ? वह sad अलग प्रकार का था',\n",
       " 'ना दुनिया खतम हो रही हैऔर ना ये रोज़-रोज़ का रोना sad dailymem dailymotiv zindagi memesdaili fun',\n",
       " 'आज तो चीन की ख़ैर नहीं टुकड़े-टुकड़े कर देंगे हमारे tv चैनल वाले शाम तक कड़ी निंदा भी हो जाएगी देख लेना chines chinaindiabord chinaindiafaceoff china justsay sarcasm',\n",
       " 'हमें पढ़ाओ न रिश्तों की कोई और किताब पढ़ी है बाप के चेहरे की झुर्रियाँ हम ने - मेराज फ़ैज़ाबादी happyfathersday happyfathersday happi',\n",
       " 'कैसी भी हो मुश्किल मुश्किल हो जाती आसान गर अपने होंठों पर रख लें इक प्यारी मुस्कान anamikaamb poem smile ',\n",
       " 'दुखद पहले मौत की खबर सुनी ऋषि कपूर जीइरफान पठान जी अब सुशांत सिंह राजपूत जो कि तीन महान सितारे थे क्या-क्या भगवान ने दिखा दिया इस साल सारी दुखद खबर इस साल ही आनी है हे भगवान अब आगे मत दिखाना क्या सारे कष्ट इस साल ही लिखे हैं क्या सब के जिंदगी में।bollywood sad ',\n",
       " 'ipl की टीम csk की टीम के डॉक्टर डॉ मधु थोट्टापपिल्लई को उनके द्वारा किए गए एक विवादित ट्वीट में pm care फंड और बलिदानी सैनिकों पर कटाक्ष करने के लिए निलंबित कर दिया है।डॉक्टर मधु में आईपीएल की शुरुआत से ही csk के आधिकारिक टीम डॉक्टर था ',\n",
       " 'फिक्र है सबको खुद को सही साबित करने कीजैसे ये ज़िंदगी ज़िंदगी नहीं कोई इल्जाम है।life end depress anxieti death death sad',\n",
       " 'रात गहरी थी डर भी सकते थेहम जो कहते थे कर भी सकते थेतुम जो बिछड़े तो ये भी ना सोचाहम तो पागल थे मर भी सकते थे।।sad',\n",
       " 'सहज सरल स्वभाव से परिपूर्ण कांग्रेस आईटी सेल के प्रदेश महासचिवभावी पार्षद प्रिय भाई माखन सिंह राजावत जी को जन्मदिन की बहुत बहुत बधाई एवं अंनत शुभकामनाएं। happi birthday bhai ',\n",
       " 'हुआ है शह का मुसाहिब फिरे है इतरातावगरना शहर में ग़ालिब की आबरू क्या हैख़ुद पर कटाक्ष करना यह तो कोई ग़ालिब से सीखे मुग़ल सम्राट बहादुर शाह जफ़र के दीवाने-ख़ास में उनकी काफ़ी पूछ थी हालांकि ग़ालिब ने खुद को कभी दरबारी कवि नहीं मानाghalib nepot',\n",
       " 'नफरत करोगे तो अधुरा किस्सा हूँ मै मुहब्बत करोगी तो तुम्हारा ही हिस्सा हु मै।love sad',\n",
       " 'kaash tum mere dil sai khele na hote heartbroken lovequot brokenheart poetri feel like sadedit shayari heartbreakquot life followforfollowback loveyourself explor heartbrokenquot sad explorepag depress likeforlik salmankhangang viratkohli ',\n",
       " 'aisa nahi hai ke bulan se aa gayajab rahe na saka bahan se aa gayasad tweet_by_sid',\n",
       " 'खुश रहना है तो जिंदगी के फैसले अपनी परिस्थिति देख के ले दुनिया को देखकर जो फैसले लेते है वो दुखी रहते हैbmksजय_माता_कीbmks_india bscp_bharat krishna_bscp sudhadewangan ravigupta',\n",
       " 'आदरणीय श्री राहुल गांधी जी को जन्मदिवस की हार्दिक बधाई एवं शुभकामनाएं।मैं ईश्वर से आपके उत्तम स्वास्थ्य एवं दीर्घायु जीवन की कामना करता हूँ।happi birthday rahul gandhi ji ',\n",
       " 'jagannathadham itssitu tame jibar thila sethiki bhai tame jai thile ame case ta jiti thante sad',\n",
       " 'ajitanjum देश का वफादार ही राष्ट्र भक्त हैंभाजपा/कांग्रेस का वफादार राष्ट्र भक्त नही हो सकताकटाक्ष',\n",
       " 'zindagi ki yhi reet hai haar k baad hi jeet hai :)life smile',\n",
       " 'chardi jawaani chandigarh khaa geya\\u200d️babbumaan kidha_paajistaysaf khush reha karoonli smile matter',\n",
       " 'sudhirchaudhari sir matlab neutral hone ki koshish bhi nahi karna aapko?mediasoldsad',\n",
       " 'आदि से अनंत तक बस यही रही है परंपरा कायर भोगे दुख सदा वीर भोग्य वसुंधराराजा रामचंद्र की जय ',\n",
       " 'कोशिश बहुत की समझदार बनने की लेकिनमुझे खुशियां हमेशा बेवकूफींया न करने से ही मिली है ️परिंदा',\n",
       " 'rohit timesnow satyajay incindia altnew zoo_bear free_think sarcasm tha bhai',\n",
       " 'nahi hogi keh deng wafadari nahi hotimagar hums talluk mein adakari nahi hoti - (na-maloom)shayari ghazal urdu poetri nazm ashar indian shair india paki pakistan pakistani pashto hindi punjabi sad quot quot',\n",
       " 'jun - श्री श्री राधा माधव मंगल आरती दर्शनहरे कृष्ण हरे कृष्ण कृष्ण कृष्ण हरे हरे। हरे राम हरे राम राम राम हरे हरे।। krishna devot love inspir motiv photooftheday fashion beauti happi cute iskcon trend ',\n",
       " 'meri khamoshiya padh sako tumitn gehr bhi nahi utr ho mujhmein ~ (na-maloom)shayari ghazal urdu poetri nazm ashar indian shair india paki pakistan pakistani pashto hindi punjabi sad quot quot',\n",
       " 'लोग किरदार निभाते हुए मर जाते हैं sushantsingh sucid sad ',\n",
       " 'itsssr आ जा यारnepot murder shushantsingrajput aparna_dwivedi alokasen bollyhungama bollywood_lif mauryanihit akash satsangiarjita atul singhh_shwetaunhappi kangana worstyear nepot वंशवाद instantbolli sad ',\n",
       " 'तकलीफ ये नहीं की किस्मत ने मुझे धोखा दियामेरा यकीन तुम पर था किस्मत पर नहीsad ',\n",
       " 'abpnew bhai ye kya ? sarcasm ',\n",
       " 'ye guftagu k hunar kya tumhein nahi malumdilo par lafz nahi lehj asar kart hain ~ (na-maloom)shayari ghazal urdu poetri nazm ashar indian shair india paki pakistan pakistani pashto hindi punjabi sad quot quot',\n",
       " 'पिता_दिन_की_शुभकामनाये पिता एक ऐसा व्यक्ती है जो जब आप दुखी हो तो आपको नजदीक लेता है आप गलती करे तो आपपर नाराज होता हैआप सफल हुये तो खुशी मनाता है लेकिन आप हार भी गये फिर भी आपपर विश्र्वास रखता है',\n",
       " '_unpreceded_ smile teeth without teeth konsi rakhni hai️️ ',\n",
       " 'min pahl raabta dekh kar khatam ki jais hi instagram open kiya dekha sushantsinghrajput sir ne sucid kar liyasushantsinghrajput ripsushantsinghrajput actor achiev bollywood today ripssr rip jaihind mumbai maharashtra patna sad parent msdhoni india rip',\n",
       " 'राजस्थान पुलिस si की भर्ती हेतु कार्य को ही पूर्ण होना चाहिए था परन्तु पान में मस्त vasundharabjp सरकार युवा विरोधी थी में आप को पूर्ण विश्वास दिलाता हूं वर्तमान में सरकार आप की है आप की समस्या को शिघ्र ता से शीघ्र समाधान करके खुशी देगी । increase_approved_post_si',\n",
       " 'jagrannew देश तो भारत के जवानों के साथ हो गयालाल आखें दिखानेवाले वालें का जूमला कफुर हो गयागोदी मिडिया का साथ मिला तो भी इचं दिखानेवाले चीन के आगे भीगी बिल्ली हो गया हमने उजियारे में जवान खोए आखिर फर्जी चौकीदारों का हुजूम कहां खो गयाnationsfirstकटाक्ष ',\n",
       " \"सख्त सी आवाज़ के पीछे कही प्यार सा छिपा रह्ता हैउसकी रगो में एक हिम्मत का दरिया सा बहा करता है।कितनी भी परेशानिया या दिक्कत पडती हो उसपर हंसकर झेल जाता है पिता किसी से कुछ ना कहता है।happi father' dayu r alway heroआपको हर चीज़ के लिये। \",\n",
       " 'चिंता तो तुम्हें तब होना चाहिए जब तुम अपने आप को नहीं समझते जिंदगी में कभी उदास मत होना किसी की बात से निराश मत होना यह जिंदगी संघर्ष चलती रहेगी कभी अपने जीने का अंदाज मत खोना',\n",
       " 'जिंदगी कभी मुश्किल तो कभी आसान होती हैं कभी उफ तो कभी वाह होती हैं ना भूलना कभी अपनी smile कोकयोंकि इससे ही हर मुश्किल आसान होती हैं शुभ सबेरा miत्रों ',\n",
       " 'aaj kuchh alag karn ka man kr rha haito batao kya kiya jay love tfler tweegram photooftheday like amaz smile followfollow likelik look instalik iger picoftheday food instadaily… ',\n",
       " 'sscgd दो बरस बीत गया \"ssc gd \"\"झुलसाता जेठ मास शरद चांदनी उदास सिसकी भरते सावन का अंतर्घट रीत गया दो बरस बीत गयाअब तो भर्ती करा लो साहब crpfindia pibhomeaffair amitshah hafizgandhi hansrajmeena sharmakadambini constablegd malignantsoldr',\n",
       " 'zindgi kitni aasan ho jati agar hum sab ye fam commentor ki baat maan letepar nahisarcasmfakeopinion looser justblam ',\n",
       " 'अगर आप किसी की खुशियाँ लिखने वाली पेन्सिल नहीं हो सकते हैं तो एक अच्छा सा इरेजर बनिए जो उनका दुःख मिटा सके।jaibhim tuesdayvib tuesdaymorn tuesdaymotiv',\n",
       " \"बाप की ज़िन्दगी बीत गईबेटे की ज़िन्दगी बनाते बनातेhappi father' dayfath day spl  \",\n",
       " 'हर हाल में खुश रहना सीख लो उस दिल को क्या उदास रखना जिसमें मेरा भोले बसता होजय_भोलेनाथ की being_suchita meshital_ oye_ishuu_ sushma_pandeymansisi ssnaina_ ',\n",
       " 'rip miss दफ़्न से पहले नब्ज़ जांच लेना साहेब कलाकार उम्दा है कहीं किरदार में न हो shushantsinghrajput sad rip',\n",
       " 'uski bewafai mai kho gaya woh rishta varna usn toh agl janam keh bhi vaadey kiy thaeshayari hindishayri hindipoetri hindi mondaythought mondaymotivaton writingcommun write bewafa fakelov newpost sad sadquot quot quot lifequot quotesaboutlif',\n",
       " '\"ऊँची कुर्सी पर बैठने के लिए गारे में मजबूती खून के रंग से लाई जाती है।\"- कमल उपाध्याय  कटाक्ष बखानू_बबा',\n",
       " 'khushiyo se ahem cheez zinda rehna hai sidharthshuklasidnaazshehnaazian sidnaazforev sidra missingyoushehnaaz shehnaazian shehnaazgiii asimriaz trend rashamidesai himanshikhurana askhina bhuladungam sad delhi depressionisr ',\n",
       " 'ndtv मोदी है तो मुमकिन है sad',\n",
       " 'iamakshaydhawan jo ladki ladk ko chhedti hai vo sashakt ladki hoti hai vo apn maa baap saa sasur pati ya kisi ko bhi jhooth case phasa sakti hai sarcasm',\n",
       " 'sudhirchaudhray iska karan kon hai?? kabhi kabhi apni chiz bhi prayi lgne lgti hai dukh sabhi deshvashiyon ko hona chahiye कटाक्ष',\n",
       " 'icute__princess जिन्हें आपका हंसना पसंद नहींवो अपना सर फोङेहमें तो आपका उदास रहना पसंद नहीं',\n",
       " 'श्री arvindkejriw जी ने आज योगा दिवस के अवसर पर रोज की तरह अपने दिन की शुरूआत योग के साथ की happi yoga day ',\n",
       " 'hahahaha अब इससे ज़्यादा क्या बुरे दिन आयेंगे की इसे अब अपनी सफ़ाई में आपने फैंस से गवाही मांगनी पड़ रही हैसलमान के फैंस पता नहीं कितना awkward feel कर रहे होंगे इस समय westandbysalmankhanjusticeforsushanthsinghrajputsarcast',\n",
       " 'bhai bhai bhai love instagram photoofthedaybeauti happi tbtlikelik followm picofthedayfollow summer art instadailyfriend repost natur girlfun style smile food instalikelikeforlik famili travel fit ',\n",
       " 'dubai - dubai photo ig:raseemruwaiz picsdubai dubai mydubai visitdubai photooftheday picoftheday instalik citi skylin skyscrap design love instagood happi travel kind patient metropoli stayhom keysofdubai ',\n",
       " \"मेरा साहसमेरा सम्मान है पितामेरी ताकतमेरी पहचान है पिताhappi father' day पितृ दिवस पर दादा जी स्वनाथूराम जी व पिताजी स्व शंकरलाल जी को शत शत नमन । \",\n",
       " 'जब अकेलापन भी साथ छोड़ देता हैतो बस मौत ही अपनी सी लगती हैalon sad goodnight',\n",
       " 'मीडिया को कांग्रेस अध्यक्षा से ये पूछना ही चाहिए कि भक्तों के भगवान से ऐसा सवाल ही क्यों पूछा जिसका जवाब ही नहीं आता था ।।कांग्रेस देशद्रोही है ?? profdilipmandalgalwanvalleyfaceoffगोदी_मीडियाविपक्ष_ने_क्या_किया??कटाक्ष',\n",
       " ' टैक्स माफी के लिए बस ऑपरेटर्स ने अशोक गहलोत और खाचरियावास का किया स्वागत एवं दीया धन्यवाद coronaviru coronawarnapp covid stayhom hope indian narendramodi bjp nsui contestalert smile bestpresidentev love pappudiwa brightwinucandoit',\n",
       " 'आपका नन्हा prakharmahto dadi और mamma के साथ cake कटिंग कर रहा हैchildren kid love famili babi child parent fun happi instagood parent cute babi photographi art photooftheday life… ',\n",
       " \"social media वो गोली है जिसे टाइम लिए बिना दुनिया 'covidistan' सी दिखती हैtweeterworld socialmedia covidー covid coronaviru socialdistanc funniesttweet smile\",\n",
       " 'happi birthday too- lichi mam aap ne hamara sath nahi diya aap ne ham se vada kiya tha bhir bhi aap ne ham se hamesa ke liy juda ho gye ye aap ne sahi nahi kiy lichi mam aap hamesa yad aayegi miss lichi mam ',\n",
       " \"jindagi mai hi galati baar-baar krta hoonpehla ye ki mai 'galati karta hoo' aur doosra mai ye sochn sochn lagta hoo ki ye 'galati main ki kb'?sarcasm life\",\n",
       " 'kitna bhi mask laga lo sach aur smile baahar aa hi jati hai truth smileupproject smile mask',\n",
       " 'मौन व्रत है अभी \"भक्तों के हिसाब से आप पाकिस्तान के एजेंट हैं शायद जो ऐसी बातें कर रहे हैं या फिर आप कांग्रेसी चमचे है\" sarcasm ',\n",
       " \"मेरा साहसमेरा सम्मान है पितामेरी ताकतमेरी पहचान है पितhappi father' day \",\n",
       " 'शुभदिवसgoodmorningtwitterworldकभी आशा की \"खुशी\"कभी निराशा का \"गम\"कभी कुछ खोकरकभी कुछ पाने की आशाशायद यही है जिन्दगी की\"परिभाषा\"जयश्री_कृष्ण_जीraadheyee_raadheyeesp️shilpa jyotivashisht nirajku geetadhoulakha paramsoul nav_ca ',\n",
       " 'frame : bharatisangle photographi fashion model instagood instadaili india positivevib picoftheday instap mumbai instagram photooftheday iger potrait chennai happi chennaimodel… ',\n",
       " \"happi father' day क्या आप भी महसूस करते हैं कि ये बातें आपके दिल में हैं लेकिन कभी जुबां पर नही ला सके तो इन शब्दों को समर्पित कीजिये अपने पिता के नाम चैनल को like share व subscrib जरूर करें \",\n",
       " 'jab bhi social media par stori ya post daalo jo hums naraz hai usko hi lgta hai ki usk liy hai sad',\n",
       " 'ट्विटर पे ये अच्छा है किसी भी बड़े नेता पत्रकार या हीरो के नाम का इस्तेमाल करके आईडी बना कर फॉलोवर्स ले लो और फिर अपना नाम चिपका दो ये बहुत ट्रेंड मे है। कटाक्ष',\n",
       " 'bollywood सितारों के फिल्मों को देखकर आप और हमलोगों उन्हें शिखर तक पहुंचाया उसके बदले में सिर्फ फिल्मों में antihindu एजेंडा ही चलाया गया। अब समय आ गया है कि फेक स्टारों को अपने दिलों दिमाग से बाहर निकालें।sushantsinghrajputboycottfakestar boycottbollywood sad ',\n",
       " ' meri na sahi khariyat iss dil ki puch liya karo ji dil mein tum reht hosarcast meme sarcast sarcasm twitter retweeet',\n",
       " 'wish u happi birthday u adarniy shrimati sunita mam ji bhagwan apko hamesha kush rakh ',\n",
       " 'happi father day धरती सा धीरज और आसमान सी उंचाई हैजिन्दगी को तरस के खुदा ने ये तस्वीर बनाई हैहर दुख वो बच्चों का खुद पे वो सह लेतें हैउस खुदा की जीवित प्रतिमा को हम पिता कहते हैकभी अभिमान तो कभी स्वाभिमान है पिताकभी धरती तो कभी आसमान है पिता ',\n",
       " 'happi rathyatra ',\n",
       " \"मेरी पहचान आप से पापा…क्या कहूं मेरे लिए आप क्या हो पापा…रहने को तो है पैरों के नीचे यह जमीन…पर मेरे लिए तो मेरा आसमान आप हो पापाpapahappi father' day love u much papa \",\n",
       " 'जीवन म कितने ही लोग से मतभेद होते है सम्बन्ध_विच्छेद लड़ते है मगर मौत के साथ वो सब भी खत्म मौत पर जश्न का कारण नही होता । प्रभु भाई सुशांत_सिंह की आत्मा को शांति दे परिवार को दुख सहन करने की शक्ति दे ॐ शांति shushantsinghrajput ',\n",
       " ' चीन के राष्ट्रपति का फूंका पूतला - पावटा । छात्र नेता अजय चौहान coronavirusoutbreak covid covid_ covid covidー stayathom stayhomestaysaf narendramodi bjp helpinghand hope smile peac _बीपीएड_नियुक्ति_पत्र_जारी_करे _शून्य_जनपद',\n",
       " 'sunildu rahulgandhi जय हनुमान ज्ञान गुण सागर जय कपीश तिहु लोक उजागर राम दूत अतुलित बाल धामा अंजलि पुत्र पवन सूत नामा जय श्री राम जय हनुमानआप सभी राम भक्तों को हनुमान जयंती की हार्दिक शुभकामनाएं। happi hanumanjayanti rahulgandhi ',\n",
       " 'hum thehr gunahgaar yaarouss mang raha tha namazi bhi koi - (na-maloom)shayari ghazal urdu poetri nazm ashar indian shair india paki pakistan pakistani pashto hindi punjabi sad quot quot',\n",
       " 'दुख और विपदा जीवन के दो ऐसे मेहमान हैं जो बिना निमंत्रण के ही आते हैंशुभ प्रभात',\n",
       " 'happi birthday rohit जनपद बागपत बड़ोत कोतवाली में तैनात आरक्षी रोहित भाटी को जन्मदिन की बहुत बहुत शुभकामनाएं ',\n",
       " 'jinh pasand nahi tha bharat unh plane se waapi laya gaya jo bharat ke nirmaan lage unh paidal ghar jaana pada sad truth governmentofindia narendramodi pmofindia',\n",
       " 'इतना कुछ पाने के बाद भी अगर इंसान जिदंगी से हार जाए तो उसने क्या पाया और क्या वो खोए  sad worstyear sushantsinghrajpoot sushant ripsush restinpeac जिदंगी को हारना उत्तम नहीं है जिदंगी को जीना सर्वोत्तम है ',\n",
       " 'सुख भी मुझे प्यारा है दुख भी मुझे प्यारा है छोड़ो मैं किसे प्रभु दोनों ही तुम्हारे हैं सुख में तेरा शुक्र करो दुख में फरियाद करूं जिस हाल में तू रखें मैं तुझे याद करूंmondaymorn',\n",
       " 'cute सा है face मेरा killer है मेरी styleथम जाती है लोगो की dhadkan जब करती हु smilehyderabadescort independenthyderabadescorts------------------------------ ',\n",
       " 'कमजोर लीडरशिप के कारण हुआ शिअद का बुरा हाल: परमिंदर ढींढसा sad akalid shiromaniaklalid leader weakleadership parminersinghdhindsa ',\n",
       " \"इस जहां में अपना बनाया कुछ भी नहीं है यह इज्जत भी मेरे बाप की इज्जत है alway miss papa happi father' day \\u200d️\",\n",
       " 'लोगो से अगर उन्हीं के तरीक़े से बात की जाए तो बुरा मान जाते है neelamgudda monikachaudhari love photooftheday portrait babi cute friend hair swag iger picoftheday girl guy beauti fashion follow smile pretti followm photo life funni cool hot ',\n",
       " 'bhai usko sarcasm bolt hain dictionari khol aur matlab dekh aur chal maanliya galat hai tu sahi bata de? challeng dograjournalist ',\n",
       " 'अगर आज नेहरू जी होते तो शी जिनपिंग की बीवी को एडविना की तरह पटाकर सिगरेट पिलाकर अपने वश में कर लेते और तिब्बत ही नहीं सीधे शंघाई पर कब्जा कर लेते इश्क़ और जंग में सब जायज़ है (नेहरू की किताब द ठरकी नेहरू से ) जय कांग्रेस आक थू कटाक्ष',\n",
       " 'तिजारा_विधायक_संदीप_यादव जी को शादी की सालगिरह की हार्दिक_शुभकामनाएँईश्वर आपकी जोड़ी सदा खुश सलामत व दीर्घायु बनाए रखे  happi anniversari mla tijara alwar rajasthan ',\n",
       " 'ki mujh bhuln ki koshish baar baar kar raha hogemytiktokvideo mylook myedit shayari sad stori mmi tweerer ',\n",
       " 'मुस्कुराते रहियेखाना बनाते रहियेमुस्कुरायेंगे तो खाना अच्छा बनेगा खाना अच्छा बनेगा तो आप और मुस्कुरायेंगे :)mondaymotiv smile behappi stayposit goodvibesonli monday morn weekday stayhom staysaf ',\n",
       " 'कह दिया ना बस बात ख़त्म अब कोई बहस नहीं ।मोदी_ही_पप्पू_है chinaindiafaceoff chowkidar_kamjor_hai bjpfailsindia factsmatt लद्दाख़ sarcasm chinaindiabord allpartymeet मेरा_भारत_महान chinacomesmodirun',\n",
       " 'हर सोशल मीडिया अकाउंट की टाइमलाइन निराशावादी हो गयी है एक बार इनसे गुज़र जाने के बाद आँसू नहीं थमते हर दिन हम अपने ही अंत की ओर खिंचे चले जा रहे हैं अंत वह जो अंतहीन है sad dailynew',\n",
       " 'tu pyar hai kisi aur ka tujhekhilata abhishekpilata robinghumata abhinavchahta koi aur hailolsarcasm sarcasticammyy senseofhumor',\n",
       " 'rel : \" aur beta padhai kese chal rahi hai ??\"me : bass chalti hi jaa rahi hai itni door nikal gayi hai ki mere pohoch se bahat haisarcast rel mevsrel',\n",
       " 'इतनी नफ़रत कहाँ से लाते हो तुम लोग क्या मिल जाता है मरने के बाद भी किसी को नही छोड़ते पूरा देश ग़म में डूबा है और ये खुशी मना रहा है हाँ जो प्यार को बढ़ावा दे ये उसी से नफ़रत करता है ये है उपदेश_राणाचेक करिये ',\n",
       " 'जन्मदिन_खास:- “जन्मदिन का ये लम्हा मुबारक हो आपको”“ख़ुशियों का ये लम्हा मुबारक हो आपको”“आने वाला कल लाये”“आपके लिये ख़ुशियाँ हज़ार और”“वो ख़ुशियाँ मुबारक हो आपको”संदीप_निषाद जिला_उपाध्यक्ष_प्रयागराजयुवा_मोर्चा (निषाद पार्टी) nishadparti ',\n",
       " 'विश्वास का यह बंधन यूं ही बना रहेआपके जीवन में प्रेम का सागर यूं ही बहता रहेदुआ है रब से सुख और समृद्धि से जीवन भरा रहेशादी की सालगिरह की आपको ढेरों शुभकामनाएं।happi marriag anniversari ajanta ji &amp;suresh ji ',\n",
       " 'tuesdaythoughtsज़िंदगी एक सेल्फ़ी जैसी होनी चाहिये जो कभी कभी clear ना दिखे लेकिन smile️ हमेशा देती रहेlukeshwarnir ',\n",
       " 'उत्तराखंड के गौरव पूर्व मुख्यमंत्री एवं महाराष्ट्र के माननीय महामहिम राज्यपाल आदरणीय भगत सिंह कोश्यारी जी को जन्मदिवस की बहुत-बहुत बधाई एवं शुभकामनाएं आप स्वस्थ हो दीर्घायु हो प्रभु से यही कामना करता हूंhappi birth day ',\n",
       " 'जेब खाली हो फिर भी मना करते नहीं देखामैंने पिता से अमीर इंसान नहीं देखाhappi father day',\n",
       " 'raat hai chand hai sitar hainbe-saharo ke sau sahar hain - pandit vidya ratan asishayari ghazal urdu poetri nazm ashar indian shair india paki pakistan pakistani pashto hindi punjabi sad quot quot',\n",
       " 'पुराने ज़माने में फ़ादर्स डे नही होता थापिताजी का जब दिल करता था तो जूता उठा कर बच्चों को याद दिला देते थे कि \"मैं बाप हूँ\"happi father\\' day ',\n",
       " 'हम बाकी सभी रिश्तों के साथ पैदा होते हैं पर दोस्ती ही एक मात्र रिश्ता है जिसे हम खुद बनाते हैंdownload cheatingnot now  safeindia stayhomesingl lockdown friendship friend love fun happi bestfriend memori friendmakingapp ',\n",
       " 'दुश्मनी इतनी करो साहब ना खुद पर हावी हो ना दूसरों पर प्यार और दोस्ती इतने गहरी करो कि लोग \"दुश्मनी\" शब्द ही भूल जाए motiv happi mentalhealth smile tuesdaythought zindagi friend ',\n",
       " 'jab hum mar jate h tbhi logo ko humari acchai dikhti h sushantsinghrajput broken sad',\n",
       " 'ba agadi badhna yestai mulayam muskan ko sath rahirahossmil studentslivesmatt smilematt powerofsmil ',\n",
       " 'आज का सुविचारmanishsai happi life gratitud gratitudequot quot studygram quot quotestagram daily_thoughts_and_quot dailythought inspirationalquot motivationalquot daili dailymotivation… ',\n",
       " 'प्रेम एक ऐसा अनुभव है जो इंसान को कभी हारने नही देता खुशियां राजकिशोर_रजक ',\n",
       " 'ऊपर वाले के लेख कभी गलत नहीं होतेlove true sundayvib sunday sundaymotiv motiv vibe smile sundayservic sure surelysimpl instagood instalov likeforlik facebookpost facebook twitterfleet sundayfunday god godisgod godisgood ',\n",
       " 'बहुत दुख होता है ऐसा देख और सुन करहमेसा लोगे से अच्छा बरताव करेंdepress jokeunderstand thisquot depressionisr depress life suicideawar sad writersofig writersofindia writer ',\n",
       " 'pehl meri ba kismat soh rhi thiab mein bhi usk saath soh rhafunni sarcast sarcasm memesdaili indian hindi hindiquot',\n",
       " 'acharyapramodk अगर आज लहरू जी होते तो शी जिनपिंग की बीवी को ऐडविना की तरह पटाकर सिगरेट पिलाकर अपने वश में कर लेते और तिब्बत ही नहीं सीधे शंघाई पर कब्जा कर लेते इश्क़ और जंग में सब जायज़ है (लहरू की किताब द ठरकी लहरू से ) कटाक्ष',\n",
       " 'काश बनाने वाले ने दिल कांच के बनाये होतेतोड़ने वाले के हाथ में ज़ख्म तो आये होतेshayaribadastoor sad',\n",
       " 'दूसरे को कष्ट देकर हासिल किया हुआ सुखबहुत कम समय का होता है दुख आना निश्चित है सुप्रभात आज का दिन शुभ व मंगलमय हो',\n",
       " 'khamoshi padhna seekhlo  kyuki tute huy log lafjo ka istem nhi kart |zaynsaifi sad broken heart loserboi fail',\n",
       " 'मुसाफिर हूं यारों ना घर है ना ठिकाना बस चलते जाना है चलते जाना हैphotographyday natur photolov camelrid cityphotographi cityrid cultur camel camellov lovephotographi happi stayhomestaysaf ahmedabad_diari ahmedabadphotographi ',\n",
       " \"happi father' dayहम सब ने मां पर बहुत सारी बातें कही है। जैसे मां देवी है मां ईश्वर का रूप है। सब ठीक है लेकिन एक बात ये भी सत्य है कि उस मां की पहचान ही पिता से है उस मां का इस संसार में कोई वजूद नहीं है एक पिता के बिना। एक मां मां नहीं बन सकती है जब पिता का साथ न मिला हो।\",\n",
       " 'गलवान_घाटी में हिंसक झड़प का मामलासारण के जवान सुनील कुमार हैं सुरक्षितपहले जवान के शहीद होने की आई खबरएक जैसे दो नाम होने से हुआ असमंजसजवान के घर और गांव में खुशी की लहरपरसा थाना क्षेत्र के दिघरा गाँव का है जवान',\n",
       " 'kuldeepkumarbjp bjpuk khajandassbjp भारतीय जनता पार्टी उत्तराखंड के प्रदेश उपाध्यक्ष एवं राजपुर रोड के माननीय विधायक आदरणीय खजान दास जी को जन्मदिवस की बहुत-बहुत बधाई एवं शुभकामनाएं प्रभु श्री राम आप को स्वस्थ एवं दीर्घायु रखे। happi birth day',\n",
       " 'sunderl सही कहा आपने चाचा_जी वो पप्पू का ही जिक्र हुआ था इसलिए मेरे ध्यान में परिवार नहीं आया लेकिन मेरी गलती को आपने ठीक कर दिया जिसके लिए मुझे खुशी है',\n",
       " 'सिद्धू के ‘आप’ में जाने की चर्चा के बाद कांग्रेस के साथ अकाली-भाजपा में भी हड़कंप congress elect bjp akalid sad aamaadmiparti aap navjotsinghsidhu ',\n",
       " 'mein intezaar hutu koi sawaal kar???yakeen rakhm tujh la-jawaab kar dunga️sad tweet_by_sid',\n",
       " 'काजू बादाम छोड़ोऔरधोखा खाओज्यदा अकल आएगीsad love music art happi follow photographi life like aesthet quot instagood depress instagram meme tumblr cute mood meme depress funni anim fashion bhfyp sadquot zee_talk rjrajnish ',\n",
       " 'आज का सुविचारmanishsai happi life gratitud gratitudequot quot studygram quot quotestagram daily_thoughts_and_quot dailythought inspirationalquot motivationalquot daili dailymotivation… ',\n",
       " 'खुश हुआ करते थे तुम्हारी मुस्कान देखकर कमबख्त मास्क ने वो खुशी भी छीन ली╔════════════════════════╗ ╚════════════════════ ',\n",
       " 'कौन कम्बख्त अकेला रहना चाहता हैकोई समझने वाला तो मिले यहाँ जो भी मिलता है समझा कर चला जाता है-alon sad love depress mood lone depress sad follow broken like quot life cri sadquot sadedit happi photographi black suicid bhfyp ',\n",
       " 'मुझे पतझड़ की कहानियाँ सुना के उदास न कर ऐ जिंदगीनए मौसम का पता बता जो गुजर गया वो गुजर गया smile beposit behappi loveyourself saturdaymotiv saturdaymorn saturdaymood saturdaythought weekendvib goodmorningtwitterworld  ',\n",
       " 'मदद मांगना आपको कमजोर नहीं बनाता है। डिप्रेशन आत्मघाती विचार नकारात्मकता- सहायता है हमें + पर कॉल करें - आप अकेले नहीं हैं depress sad lone depress suicid stress therapi mentalhealth motiv helpm bollywood sushantsinghrajput hindi news ',\n",
       " 'news channel sinc morning: “bhartiya fauj ne apna ‘khufiya’ viman pi galwan ghattey ke nazdeek tainaat kar diya hai”ironi',\n",
       " 'नफरत कमाना भी आसान नहीं हैं इस दुनिया मेंबहुत सी खुबिया रखनी पड़ती हैंकिसी की आँखों में खटकने के लिए। friend friend fun funni smile bff bf gf love instagood iger friendship parti chill happy… ',\n",
       " 'jun - श्री श्री राधा माधव मंगल आरती दर्शनहरे कृष्ण हरे कृष्ण कृष्ण कृष्ण हरे हरे। हरे राम हरे राम राम राम हरे हरे।। krishna devot love inspir motiv photooftheday fashion beauti happi cute iskcon trend ',\n",
       " 'bjpindia jpnadda bjp विधायकों के खिलाफ शिकायत दर्ज करना गलत है। वे सभी सच्चे पण्डित की तरह सच्चे हैं। कुलदीप सिंह सेंगर एक ऐसे देशभक्त हैं जो राष्ट्र की सेवा कर रहे थे। बीजेपी को लोगों को बेवकूफ बनाना बंद करना चाहिए। sarcasm taunt punishculprit',\n",
       " 'भारतीय जनता पार्टी उत्तराखंड के प्रदेश उपाध्यक्ष एवं राजपुर रोड के माननीय विधायक आदरणीय खजान दास जी को जन्मदिवस की बहुत-बहुत बधाई एवं शुभकामनाएं प्रभु श्री राम आप को स्वस्थ एवं दीर्घायु रखे। happi birth day ',\n",
       " 'jaana zaroori hai\" ek taraf se acha hi hai \" why pleas nosushantsinghrajput सुशांत_सिंह_राजपूत mentalhealth ripsush ripsushantsinghrajput rip bgm pavitrarishta manav zeetv sad heartbreak ',\n",
       " 'mohabbat aaj bhi tums haibata karjataa kardikha karsad tweet_by_sid',\n",
       " 'pmoindia narendramodi चीनी_सैनिकों से झड़प में शहीद सैनिक की मां ने कहा-दुखी हूं लेकिन बेटे पर गर्व है।\"',\n",
       " 'rt iskconchd: jun - श्री श्री राधा माधव शृंगार आरती दर्शनहरे कृष्ण हरे कृष्ण कृष्ण कृष्ण हरे हरे। हरे राम हरे राम राम राम हरे हरे।। krishna devot love inspir motiv photooftheday fashion beauti happi cute iskc… ',\n",
       " \"मेरे होठों की हँसी मेरे पापा की बदोलत हैमेरी आँखों में खुशी मेरे पापा की बदोलत है पापा किसी खुदा से कम नहीक्योकि मेरी ज़िन्दगी की सारी खुशी पापा की बदोलत हैhappi father' day\",\n",
       " 'chand la kar koy nhi dega apn chehr se jagmagaya kar behappyalway postivevib smile',\n",
       " 'आदमी अपना दुख तो किसी तरह बर्दाश्त कर लेता हैलेकिन उससे दूसरों का सुख बर्दाश्त नही होता।radhey_radhey',\n",
       " 'drkirodilalbjp govinddotasra राजस्थान में एक शिक्षक भर्ती अधूरी पड़ी है उसे पूरा करवाये rd ग्रेड शिक्षक भर्ती रीट_लेवल_वन_एवं_टू वेटिंग_लिस्ट जारी_कर_ एवं _पदों पर नियुक्ति_दे राज्य सरकार जिससे युवाओं को सरकारी सेवा करने का अवसर मिल सके साथ ही परिवार में खुशी आ सके।',\n",
       " 'तुम उसे कॉफी पीने के बहाने बुलाते रहोगेऔर वो कहीं चाय की प्याली पकड़े दिल लुटा आयेगी ।। zamana wordcloud sarcasm wordporn',\n",
       " 'umr-a-javani phir kabhi na muskurai bachpan ki tarhamain khilon bhi kharid main shaitaniya bhi kark dekhi - (na-maloom)shayari ghazal urdu poetri nazm ashar indian shair india paki pakistan pakistani pashto hindi punjabi sad quot quot',\n",
       " 'कभी ख़ुद पे कभी हालात पे रोना आयाबात निकली तो हर इक बात पे रोना आयाsad situat',\n",
       " 'खाली हाथ आये हैखाली हाथ लेकर जायेंगे फिर ये इतना हंगामा क्यूsad kyahogaya jindgi',\n",
       " \"अपने पिता को स्वस्थ रहने के लिए योग करने को प्रेरित करें। क्योंकि मां की तरह ही पिता का भी हर इंसान के जीवन में खास महत्व होता है। भले ही एक पिता अपने प्यार का इजहार बच्चे से न करे लेकिन हर पल साये की तरह वो उसके पीछे खड़े होकर सहारा देते हैं।happi father' day \",\n",
       " 'मेरी हर सांस में तू हैमेरी हर ख़ुशी में तू हैतेरे बिन जिन्दगी कुछ नहींक्योंकि मेरी पूरी जिन्दगी ही तू है ',\n",
       " 'हिन्दुओं यह वही सुशांतसिंह राजपूत थाजो कठुआ रेप में खुदको हिन्दू होनेपर शर्मिंदा थाऔर पद्मावती केसमय उन्हें राजपूत होनेपर शर्म आतीथी जिसने केदारनाथ मूवीबनाकर लवजिहाद को बढ़ावादिया जो jnu का समर्थकरताथा यह मुल्लो की चमचागिरी नही तो क्या है दुख मुझेभीहै rip (मैं सनातनी)',\n",
       " 'ये खुद खुशी शब्द भी किसी ने करता कमाल का दिया ।जब कोई खुशी नहीं हो इंसान के चारों तरफ अंधेरा और जीने की कोई ख्वाहिश न हो वो सांसें तो ले रहा हो लेकिन अन्दर से भरा हुआ ।ऐसी अवस्था को आखिर खुद खुशी क्यू कहा जाए ।ये खुद खुशी नहीं है ।ये यातनाओं का अन्तर है ।',\n",
       " 'याद रखिए हमारे परिवार की खुशियां हमारे साथ ही हैंletspledgedontsuicidesushantsingh',\n",
       " 'जिस प्रकार एक कुम्हार के थाप से मिट्टी भी सुंदर घड़े का रूप ले लेता है ठीक उसी प्रकार पापा के डांट फटकर से ही तो संस्कारी पुत्र का निर्माण होता हैhappi fathersday abhimishrasatna panditratnakar incmp',\n",
       " 'सपने तो मेरे थे पर उनको पूरा करने का रास्ताकोई और दिखाए जा रहा था और वो हैं मेरे पापाhappi father day ',\n",
       " 'अमित शाह जी गृहमंत्री कम \"चुनावी चीयर लीडर\" ज्यादा है।कटाक्ष priyajoshi_pj rajasthan_pyc',\n",
       " \"happi b'day thalapathi vijya \",\n",
       " \"rekhta मुश्किल की घड़ी में अक्सर मेरे साथ खड़े थे वोमेरी गलतियां थी फिर भी मुझे हर बार समझा कर माफ किए थे वोकमियों की अहसास तो मुझे कभी हो नहीं पाई कपकपा कर सोते थे और मेरे ऊपर थी रजाईhappi father' day\",\n",
       " 'imrankhanpti मंजिल दूर और सफर बहुत हैछोटी सी जिंदगी की फिक्र बहुत हैमार डालती यह दुनिया कब की हमेंलेकिन “पापा” के प्यार में असर बहुत हैhappi fathersday हैप्पी फादर्स डे ',\n",
       " 'ik pehl hi bohat thodi si thi ye zindagiaur kuch jaldi mein main chhod di thodi bohat - charagh sharmashayari ghazal urdu poetri nazm ashar indian shair india paki pakistan pakistani pashto hindi punjabi sad quot quot',\n",
       " 'mai batauñ kya wo dastañ mere dil se kyu wo utar gayamer samn koi baat ki mere samn hi mukar gaya - (na-maloom)shayari ghazal urdu poetri nazm ashar indian shair india paki pakistan pakistani pashto hindi punjabi sad quot quot',\n",
       " 'kash ye juth hota dhonifan heartbroken ripshushantsinghrajpootshushantsinghrajput sucid sadcricketmsdhonitheuntoldstorydhoni bollywood msdhoni dishpatani daleepmeel rmanu_djbravochennaiipl ',\n",
       " 'sarkaru vaari paata ssmb urstrulymahesh parasuramsolo happi birthday day super star krishna ',\n",
       " 'repost rjektaaaj thoda zyada sawadhani se live hoga pretti panawasthy_ pminstal smile pankhuri actor tv movi pankhuriawasthi gautamrod instamood fun chat love life rjekta stayhom celebshin celebshin ',\n",
       " 'उस पर एतबार की हद जानना चाहते हो तो सुनोउसने दिन को रात कहा और हम सो गएsmile love',\n",
       " 'सुखदेव ढींडसा का बड़ा बयान भाजपा समेत अकाली दल को दिया तगड़ा झटका sukhdevdhindsa statement bjp akalid elect sad ',\n",
       " '______️ यारानासोना नहीं चांदी नहीं यार तो मिला_______ chahat__ प्रिन्सेस्  नयी सुबह का नया नजारा______ठन्डी हवा ले के आई पैगाम हमाराजागो ऊठोतैयार हो जाओ chahat_ छुटकु खुशियाँ से भरा________ आज का दिन हो तुम्हारा  ',\n",
       " 'अभी महीने का रिचार्ज करवाया है फोन का।तब तक के लिए रुक जाओ यार sarcasm meme ',\n",
       " 'rahulgandhi गरीब मजलूम और आम_आदमी के दुख दर्द के साथी शांत और सौम्य_स्वभाव के अंतर्मुखी_व्यक्तित्व के धनी देश के युवाओं बेरोजगारों किसानों मजदूरोंके उज्ज्वल_भविष्य जनप्रिय_नेता राहुल_गांधी जीको उनके जन्म_दिन पर हार्दिक_बधाईउनकी दीर्घायु और उत्तम_स्वास्थ्य की मंगलकामना',\n",
       " 'चेहरे की खुशी से न जला करो यारो पता ही नही चलताकौन कितना दर्द समेटे हैsusanthsinghrajput',\n",
       " 'udaa bahut raha hu par kabhi jahir n kiya theek ho ba ise lovj ne sab sambhal liyasad life mood ',\n",
       " 'jinko hathi chiti ka joke smj mai nahi atha tha woh log aaj kal meme sarcasm ka baat kr rahesarcast meme',\n",
       " \"happi father' dayapna father shb gareeb ho kamzoor ho jaisa bhi ho logun ke baap ke saath comparison kar ke unka kaadh aur shaan choti mat karohar waqt unki izzat karo tareef karobaap baap hota hai\",\n",
       " 'swetasinghat अजब तनाव है माहौल में कहें किस से चोरों ने देश को दिमक की तरहखोखला किया अब तो कुछ कोइसी का मलाल है अवसाद भरी जिंदगी में कहें किस से काव्य कटाक्षरचनाकारराकेश_पाण्डेय ',\n",
       " 'वंशिका वेलफेयर सोसाइटी द्वारा कोरोना वारियर्स का सम्मान किया गया समान  via youtub coronaviru covid covidindia bjp narendramodi stayhom staysaf help smile lifestyl coronawarrior coronaupd hollywood trend flyingbeastarmi',\n",
       " 'tujh mila �\"\"�•• publicfigur bangladesh bangladeshi instagram trend tiktok fyp viral friend smile instagood life popularp likeforlik happi handsom tbt fashion instalik amaz style like adida instacool instafollow ',\n",
       " 'aakashm happi intern yoga daysabhi ko yoga diva ki hardhik subhkamnay aakashm',\n",
       " 'chitraaum लाल आखें दिखानेवाले वालें का जूमला कफुर हो गयागोदी मिडिया का साथ मिला तो भी इचं दिखानेवाले चीन के आगे भीगी बिल्ली हो गया हमने उजियारे में जवान खोए आखिर फर्जी चौकीदारों का हुजूम कहां खो गयाpoetrylov poetrycommun nationsfirstकटाक्ष ',\n",
       " 'hasta har koi hai magar dil se khush bohot kam log hai divyanshkhatri trend quoteoftheday smile',\n",
       " 'अगर कोई आपके साथ छल करता हैतो उससे दुखी नहीं होना चाहिऐक्यूंकि उससे आपको सबक मिलता हैकि कौन साथ रहने लायक हैऔर कौन साथ छोङने लायक हैशुभरात्रि मन_की_बात ',\n",
       " \"happi father' dayमेरी इज्जत मेरी शोहरत मेरा रुतबाऔर मेरे मान है मेरे पितामुझको हिम्मत देने वाले मेरे अभिमान है मेरे पिता पूजनीय पिता जी आपको सादर चरण स्पर्श व आपका आशीर्वाद मुझ सहित परिवार पर बना रहे। \",\n",
       " '\"कोई हुनर कोई राज कोई राह कोई तो तरीका बताओदिल टूटे भी न साथ छूटे भी न कोई रूठे भी न और ज़िन्दगी गुजर जाए।\"mondaythought mondayvib mondaymorn suicide_is_not_solut love smile happi followback twittergram likesforlik like beunitedspreadpost',\n",
       " 'agar waqt ugali krna band kr de tho khush mt hona ho saktha hai bamboo lene gaya hoga smile',\n",
       " \"जीवन में पिता का होना बहुत ही आवश्यक है क्योंकि बिना पिता के जीवन बिना छत के घर और बिना आसम़ान के ज़मीन के जैसा है।happyfathers'day_ \",\n",
       " 'greec paralia katerini hotel honorata hotelhonoratagmailcom + ️+ ️hotel hotelhonorata grecja hotelgreec grecjahotel sun beach summer sea vacat trip famili friend moment happi memori ',\n",
       " \"'' फ्यूचर ससुर / पापा जी को भी happi father day️\",\n",
       " 'आज का सुविचारmanishsai happi life gratitud gratitudequot quot studygram quot quotestagram daily_thoughts_and_quot dailythought inspirationalquot motivationalquot daili dailymotivation… ',\n",
       " 'चुपके से एक दिन रख आऊँ सभी खुशियाँ उनके सिरहाने में जिन्होंने एक अरसा बिता दिया मुझे बेहतर इंसान बनाने में happyfathersday ',\n",
       " \"zakir bhai dil ki saari baat bol gye yaarrula diy yaarlov papahappi father' day fathersday \",\n",
       " 'अगर आज नेहरू होते तो शी जिनपिंग की बीवी को एडविना की तरह पटाकर सिगरेट पिलाकर अपने वश में कर लेते और तिब्बत ही नहीं सीधे शंघाई पर कब्जा कर लेते इश्क़ और जंग में सब जायज़ है नेहरू की किताब ( द ठरकी नेहरू से )आक थू कांग्रेस कटाक्ष ',\n",
       " 'बहुत खूबसूरत है तुम्हारी मुस्कुराहटपर तुम मुस्कुराते कम होसोचता हूं देखता रहू तुम्हें पर तुम यूं नजर आते कम हो million dollar smile fridaymorn smile happi fridayfeel fridaymotiv shayri posit motiv ',\n",
       " 'उसके आदर्श है उसके। संस्कार हैं बिना पिता के तो जीवन बेकार है️️खुशी का हर लम्हा पास होता है जब पिता साथ होता है️️',\n",
       " 'सबका साहस सबकी इज्जत सबका सम्मान है पिता।सबकी ताकत सबकी पूँजी सबकी पहचान है पिता।।घर की एक एक ईंट में शामिल उनका खून पसीना। सारे घर की रौनक उनसे सारे घर की शान है पिता।।सबका शोहरत सबका रुतबा सबका मान पिता।सबको हिम्मत देने वाले सबके अभिमान है पिता।।happi father day ',\n",
       " 'meme memesdaili meme memeswholesom meme indianmem sarcasm sarcast dankmem funniesttweet funniestmem memelov srk sharukh_khan shahrukhkhan shahrukh desimom friend - chal bahar ghumn chalt hai bada maja ayegam : ',\n",
       " 'jo dost baap hu mai tera wale dialog bolt hai unko bhi happi fathar day',\n",
       " 'ajitpawarspeak ncpspeak nawabmalikncp मुझे समझ में नहीं आता है तुम लोगों को इतनी खुशी कैसे महसूस होती है ऐसे में जब इस देश पर उल्टा टाइम चल रहा है?',\n",
       " 'क्यों नहीं ? चीनी जवान भी तो सरकारने ही भेजे थे उसकी भी जिम्मेदारी लेगी सरकार sarcasm indiachinafaceoff galwanvalley indianarmi jaihindkisena aajtak ',\n",
       " 'ｐａａｓ ａａｏ statu love statuswhatsapp whatsappstatu instagram video tiktok whatsapp follow like quot music marathi sad maharashtra trend lovequot song lovestatu detik stori instagood kerala india likeforlik followforfollowback bhfyp ',\n",
       " 'ख़ुशी के लिए काम करोगे तो ख़ुशी नहीं मिलेगीमगर खुश होकर काम करोगे तो ख़ुशी जरूर मिलेगी',\n",
       " 'mujh phirs pukaro na mera naam lekarmujh mehsu karna hai khudko tumhar hontho par - (na-maloom)shayari ghazal urdu poetri nazm ashar indian shair india paki pakistan pakistani pashto hindi punjabi sad quot quot',\n",
       " 'हमारे गांव में एक मास्टर जी रहते थे वो मोहल्ले के बच्चों को अपने स्कूल आने को कहते थे। जब मैं बड़ा हुआ तो पता चला- स्कूल मास्टर के बेटे का बस उनके भतीजे की कैंटीन उनके भांजे की और पढ़ाने वाले भी सब उनके रिश्तेदार ही थे आज मास्टर जी में सरकार में मंत्री हैं कटाक्ष',\n",
       " 'drkumarvishwa तुम गगन के चंद्रमा हो मैं धरा की धूल हूँतुम प्राणों के देवता हो मैं समर्पित फूल हूँतुम हो पूजा मैं पुजारी तुम सुधा मैं प्यास हूँ happi world music daykvstudio खूप खूप शुभेच्छाअन्तर्राष्ट्रीय योग दिवस शुभेच्छा ',\n",
       " 'ishq tere rooh se hai️isli tujh khuda se mant haibat agr jism ki hotito husan ke bazaar hotefollow morebrokenheart love sad broken lovequot quot brokenheartquot instagram… ',\n",
       " 'सिर्फ इतनी सी बात हैकि तुम हो तो हम हैं। singerchandani         myworld myheart mylif mylook mystyl myattitud beauti beauti smile smile smilefac cute cutegirl couples… ',\n",
       " 'मैं तो \"पत्थर\" हूँ मेरे माता-पिता \"शिल्पकार\" हैमेरी हर \"तारीफ़\" के वो ही असली \"हक़दार हैं 𝑯𝒂𝒑𝒑𝒚 𝑭𝒂𝒕𝒉𝒆𝒓‘𝒔 𝑫𝒂𝒚\\u200d\\u200d𝑳𝒐𝒗𝒆 𝒀𝒐𝒖 𝑫𝒂𝒅 ',\n",
       " 'आदरणीय महाराज साहब श्रीमंत यशोधरा राजे सिंधिया जी yashodhararaj जन्मदिन की अनंत शुभकामनाएं बधाई प्रणामआप शतायु हों ईश्वर आपकी सभी मनोकामना पूर्ण करे ।।आपका आशीर्वाद विश्वास बना रहे।best wish happi birthday maharajsahab ji ',\n",
       " 'shinchan kaon dekhta hai jaldi btao abhi bhi kaon se cartoon dekht ho smile',\n",
       " \"happi father' day-धरती से अंजान था मैं।दुनिया मैंने देखी नहीं।सिजता रहा खून पसीना।दुनिया उसे समझी नहीं।धरती से अंजान था मैं।दुनिया मैंने देखी नहीं।करता राहा मेहनत वह ।सहता रहा मेहनताना।धरती से अंजान था मैं।दुनिया मैंने देखी नहीं।अपने फिक्र किया न उसने। \",\n",
       " 'नादान होते है वोजो वफा कि तलाश करते है ये नही सोचते किअपनी सांस भी एक दिन बेवफा हो जाती है।sad mondaymotiv',\n",
       " 'महवा विधायक ओम प्रकाश हुड़ला जी को जन्मदिन की हार्दिक शुभकामनाएं happi birthday mla sahab इंजी डीसी बैरवा ',\n",
       " 'zyadahorahahai pati-parmeshwar hota hai sarcasm',\n",
       " 'आप रोज कहते हो कुछ देर में बात करेंगेकुछ देर में हमारी आँख ही न खुली तो आप क्या करेंगेshayari indianarmi hindipanktiyaan sad',\n",
       " 'ख़ुशनसीब हो तुम जो मन मार कर जी रहे हो।जमाने मे तो लोगो ने अपनी भूख को मार रखा है।।।।।writingcommun covidindia trendingtop poetri shayari sarcasm trend',\n",
       " 'अगले हफ्ते सब फसल बिक जाएगी और पिता जी आकर सारी फीस भर देंगें प्रिंसिपल : चुप करो तुम एक साल से बहाने बाजी कर रही होखुशी चुप चाप क्लास मे जाकर बैठ जाती है और मेला घूमने के सपने देखने लगती हैतभीओले पड़ने लगते हैतेज बारिश आने लगती है बिजली कड़कने लगती हैअभी तो और है',\n",
       " 'ashoswai bacch ko dara diya china ne indiachinafaceoff ndtvtopstori republ india kashmiri happi',\n",
       " 'hum bhi koshish mein hai ke jee lag jaye️jaisa aapka laga hua hai️sad tweet_by_sid',\n",
       " 'जो तुम इतना मुस्कुरा रहे थे क्या गम था जो तुम छुपा रहे थे वह कौन सा कारण था जो अंतिम विकल्प चुनना पड़ाहर हँसी के पीछे खुशी नहीं होती। आज आप ने साबित कर दिया।ripसुशांत_सिंह_राजपूत ',\n",
       " 'हम भारतीय की देशभक्ति देखनी है किसी को ?ठीक है flipcart पर redmi फ़ोन का sell लगने दो ।आउट ऑफ स्टॉक होते ही समझ जाना china का किस कदर विरोध कर रहे हम सब ।कटाक्ष',\n",
       " 'राजस्थान पुलिस के गौरव मेरे छोटे भाई श्योराम रावत को जन्मदिन की हार्दिक शुभकामनाएं मैं आपकी लंबी उम्र और अच्छे स्वास्थ्य की मंगल कामनाएं करता हूंhappi brithday bhai jharli sikar ',\n",
       " 'sad koi mujh chahy ',\n",
       " 'kuch iss tarah wo mujh ignor krta haikuch iss tarah wo mujh ignor krta haifir kya main bhi use block kar diyasmil',\n",
       " \"whosunilgrov tum bhi career bachan ke liy chaatog pta nahi tha pyar gutthi ki itna gir jaog tumhar talent ka /¹⁰ yaani / hissa bhi katil salman khan 'dcompany' wale ke pass nahi phir bhi chaatna pad rha sad realiti filmmafiya\",\n",
       " \"अपने पिता को स्वस्थ रहने के लिए योग करने को प्रेरित करें। क्योंकि मां की तरह ही पिता का भी हर इंसान के जीवन में खास महत्व होता है। भले ही एक पिता अपने प्यार का इजहार बच्चे से न करे लेकिन हर पल साये की तरह वो उसके पीछे खड़े होकर सहारा देते हैं।happi father' day \",\n",
       " 'आओ सीखें रोज उर्दू के शब्द  love instagram fashion beauti like art happi photographi followm travel fit natur girl fun smile lifestyl music friend motiv season famili rekhta urdu english hindi healthi work india support ',\n",
       " 'वहाँ सलाम को आती है नंगे पाँव बहार खिले हैं फूल जहाँ तेरे मुस्कुराने से -अहमद मुश्ताक़sukhanwar tasirhasan anoorvasinha akanksha_aksh goodmorningworld smile ',\n",
       " 'achaa tujh cheen kar mujh sabr sikhaya ja raha hain happi so_deep',\n",
       " 'kiun chalti hai pawan?kiun jhoomey hai gaggan?kiun machalta hai ye mannn?na tum jano na humskyphotographi edit walkingcloud movingcloud blue white victori smile covidawareness… ',\n",
       " \"मां के प्यार व पिता के प्यार में सिर्फ इतना सा फर्क है कि मां का प्यार हमें महसूस हो जाता है पर पिता का नहींhappi father' day \",\n",
       " 'आज ट्विटर पर किसी यूजर के ट्वीट में एक शब्द देखा हंसी तो बहुत आई पर वास्तविकता भी काफ़ी थी। दरअसल शब्द था- \"छप्पनेश्वर\" मुझे तो लगा कोरोना से लड़ने के लिए भगवान ने कोई नया अवतार ले लिया हो sarcasm',\n",
       " 'muskurah jhoothi bhi hoti hai insaan ko dekhna nahi samajhna sikho divyanshkhatri quoteoftheday trump trend smile',\n",
       " 'bohat roshan kiya dar ko tumhar aaj tak humn andheroab charagh-a-dil bujhana chahta hu main - amit abrshayari ghazal urdu poetri nazm ashar indian shair india paki pakistan pakistani pashto hindi punjabi sad quot quot',\n",
       " 'm_imdsay somsinghthapa jagannkaushik pnrathod bhuvneshwar_ devendr ashokku kailashitawadi vaaniu rabindrabahad susmita kalyan_dubey manjuchattarje utthisth_bharat umeshctyagi bhootnath rajubhaiboricha jugalkhetan gravim lallan rcgarg iamarunt shivaniv sushmadw wetwokrishna smehta amaresh balmukundpott shukdeo_pandey kunjkishor gautam premkaushalpktc rasiksuthar rajasthan latarai harshsolankibjp rrb madhusudhansan ht ssooryavanshe rio manjusinghlda raghul drsanjib_ rajeshkotak cspnagpur naglesaravan bhanupr bspatel sadsangam टेलीविजन चैनल से अपने फिल्मों के जीवन की शुरुआत करने वाले shushantsinghrajput का असमय जाना बेहद दुखद_घटना  ईश्वर सुशांत_सिंह_राजपूत के परिवार को इस दुख को सहने की शक्ति प्रदान करें  ',\n",
       " \"जून पिता दिवसhappi father' day love u papa jiहमारे वास्ते जो अपना सब दुख भुल जाता है पिता कहते हैं जिसे वहि अपना विधाता है ravikishann \",\n",
       " 'mero sarkar le aam janta ko byapar support garda khusi lagcha hou atyantaisarcasm ',\n",
       " \"अपने पिता को स्वस्थ रहने के लिए योग करने को प्रेरित करें। क्योंकि मां की तरह ही पिता का भी हर इंसान के जीवन में खास महत्व होता है। भले ही एक पिता अपने प्यार का इजहार बच्चे से न करे लेकिन हर पल साये की तरह वो उसके पीछे खड़े होकर सहारा देते हैं।happi father' day \",\n",
       " 'हजारों मौजूद \\u200d️विकल्पों के बीच किसी एक को अनिवार्य बनाये रखना ही \"इश्क़\" हैsmile',\n",
       " 'happi anniversaryवैवाहिक जीवन के सुखद वर्ष पूर्ण हुए ईश्वर की असीम कृपा हमारे परिवार पर सदैव ऐसे ही बनी रहे प्रभु श्रीराम से यही प्रार्थना है।साथ ही आप सभी मित्रों का स्नेह और आशीर्वाद  ',\n",
       " 'ji zaman mai mai hu uss zaman ko guzrey huy ek zamana hogaya haishayari folllowm twitter sad hindi quot quot likelik likeforlik hindipoetri hindishayari poetri poetrycommun writingcommun feel art',\n",
       " 'soch ka sachkuch soch rh thkuch der bad long paus are ky soch rh thsarcasm',\n",
       " 'जिस पल में आपको खुशियाँ मिली हैंसच पूछिए तो वही जिंदगी है।जिस पल से आपकी यादें जुडी हैंसच मानिए तो वही जिंदगी है।जिस पल में ज़माने से तारीफ़े मिली हैंसच जानिए तो वही जिंदगी है।बज़्म सुप्रभात जितेन्द्र७७७ ',\n",
       " 'acharyapramodk अगर आज नेहरू जी होते तो शी जिनपिंग की बीवी को एडविना की तरह पटाकर सिगरेट पिलाकर अपने वश में कर लेते और तिब्बत ही नहीं सीधे शंघाई पर कब्जा कर लेते इश्क़ और जंग में सब जायज़ है (नेहरू की किताब द ठरकी नेहरू से ) जय कांग्रेस आक थू कटाक्ष',\n",
       " 'इंतजार उसका करना चाहिएजिसकी आने की उम्मीद होउसका इंतजार करके क्या फायदा जो मज़बूरी न होते हुए भी तुम्हारे लिए आना ही ना चाहता हो।life sad',\n",
       " 'घायल करने के लिए लोगहथियार चलाते हैमेरी तो smile ही काफी है… ',\n",
       " 'परेशान कोई करता था कभी\\u200dआज खाली आसमान खाली सफर है। shayari love sad alon think ',\n",
       " 'jun - श्री श्री राधा माधव शृंगार आरती दर्शनहरे कृष्ण हरे कृष्ण कृष्ण कृष्ण हरे हरे। हरे राम हरे राम राम राम हरे हरे।। krishna devot love inspir motiv photooftheday fashion beauti happi cute iskcon trend ',\n",
       " ' एनएसयूआई ने राजस्थान सरकार से किया आग्रह donlineconcertstayathom swineflu corona coronaupd coronavirusindia covidpandem covid stayhom stayconnect kashmir narendramodi bjp smile hojaega indian peac laddakh galwanvalleyclash',\n",
       " 'चलो अन्तर्राष्ट्रीय योग दिवस मनाये पूरे विश्व में हम योग कराये happi intern yoga day हिन्दू युवा वाहिनी दक्षिणी दिल्लीamitshah myogiadityanath bjpdelhi narendramodi manojtiwarimp hyvsouthdelhi ',\n",
       " \"zindagi se bohat bad'zan hainkaash ek baar marr gay hote - jaun eliashayari ghazal urdu poetri nazm ashar indian shair india paki pakistan pakistani pashto hindi punjabi sad quot quot\",\n",
       " 'ab chalta rahega silsila kudhkhushi ka es dur maikyuki na jane kitn naukri ghar se beghar ho gay haicovid helpinghand sad unemploy',\n",
       " 'अगर कोई आपके साथ छल करता हैतो उससे दुखी नहीं होना चाहिऐक्यूंकि उससे आपको सबक मिलता हैकि कौन साथ रहने लायक हैऔर कौन साथ छोङने लायक हैशुभरात्रि मन_की_बातwith karalasuresh ',\n",
       " 'लोग मुझसे मेरी खुशी का राज पुछ रहे हैंं इजाज्त् हो तो तेरा नाम ले लुं ।?lovecrush musii',\n",
       " \"happi father' dayइस मौके पर मैं अपने माता-पिता को बहुत याद कर रहा हूँ।शायद इस कमी को पुरा करना बहुत कठिन है। विन्रम श्रद्धांजलि।इस अवसर पर मेरे बेटे - बेटियों ने मिलकर मेरे माता-पिता की कमी को पुरा करने एंव उसे खुशनुमा माहौल में बदलने की कोशिश की। \",\n",
       " 'aj yaad kareng kaal ko bhul bhi jaeng sad realiti',\n",
       " 'सुख का अर्थ है जो मिल रहा है उसका आनंद लेना और दुख का अर्थ है कि मुझे और चाहिए ।bmksजय_माता_कीshri_shaktiputra_ji_mahrajbmks_india bscp_bharat b_s_chouhan krishna_bscp ravigupta ',\n",
       " 'indinnederland meaindia drsjaishankar hardeepspuri airindiain venurajamoni मेरे दिल की ख्वाईश है कि airindiain नीदरलैंड से दिल्ली मुम्बई की उड़ानें भरें जैसे पहले jetairway थी hoop one day?? nederland से अगर इंडिया जाना है तो एक ही एयरलाइन है klm happi yoga day everyon rinku den haag ( hagu ) ',\n",
       " 'मैं तो \"पत्थर\" हूँ मेरे माता-पिता \"शिल्पकार\" हैमेरी हर \"तारीफ़\" के वो ही असली \"हक़दार हैं 𝑯𝒂𝒑𝒑𝒚 𝑭𝒂𝒕𝒉𝒆𝒓‘𝒔 𝑫𝒂𝒚\\u200d\\u200d𝑳𝒐𝒗𝒆 𝒀𝒐𝒖 𝑫𝒂𝒅miss dad ',\n",
       " \"milindkhandekar बात तो man' land जोन में इंफ्रास्ट्रक्चर तैयार करने और चीन द्वारा उसे अपना कहने के बारे में है sad explanation\",\n",
       " 'एक बार अर्जुन ने श्री कृष्ण से कहा:इस दीवार पर कुछ ऐसा लिखो की ख़ुशी में पढूं तो दुःख हो और दुःख में पढूं तो ख़ुशी हो।श्री कृष्ण ने लिखा\"ये वक़्त भी गुज़र जाएगा\"जय श्री कृष्णा ',\n",
       " 'ईश्वर आपके आत्मा को शांति दे ripsushantsinghrajput rip ripsush sushantsinghrajput sad sadnew sadnew ',\n",
       " 'chahe dukh ho�\"\"�•• publicfigur bangladesh bangladeshi instagram trend tiktok fyp viral friend smile instagood life popularp likeforlik cute happi tbt fashion instalik amaz style like adida instacool instafollow htfla ',\n",
       " 'lambaalka गाय का पेशाब पीना पुण्य है लेकिन दलित के हाथ से पानी पीना पाप और धर्म भ्रष्ट हो जाता है। आखिर क्यों?कटाक्ष',\n",
       " 'ajaypandita एक कांग्रेस_कार्यकता के क़त्ल पर सभी कांग्रेसी नेता चुपआप नेता चुप इनके समर्थक चुपजो अपने समर्थक के हुए क़त्ल के इंसाफ के लिए खड़े होना तो दूर दुख के दो शब्द न कह पाएं वो कैसे आमजनता के हितैषी होंगे',\n",
       " 'राजस्थान के कोटा में एक सरकारी अस्पताल में वर्षीय व्यक्ति की तब मौत हो गई जब उसके परिजनों ने कूलर चलाने के लिए वेंटिलेटर का प्लग कथित तौर पर हटा दिया।व्यक्ति को कोरोना वायरस संक्रमण होने के संदेह में भर्ती करवाया था बाद में जांच रिपोर्ट में वह कोरोना से संक्रमित नहीं था sad ',\n",
       " 'sudhirchaudharyजन्मदिन की बहुत बहुत शुभकामनाएँ हमेशा खुश रहो मस्त रहो आबाद रहोभगवान राम आपको दीर्घायु दे happi birthdayजन्मदिन___की___हार्दिक___शुभकामनाएं•••',\n",
       " 'mskajalaggarw कल बहुत सी शुभकामनाओं में यह छोटी सी शुभकामना खो जाती इसलिए आज दे रहा हूंwish u happi birthday mskajalaggarw mam happybirthdaykajalaggarw happybirthdaykaj hbdkajalaggarw queen smile kajalagarw ',\n",
       " ': ॐ शांति शांति _____________________________depress sad news surviv helpless hope hopeless commit sucid sorrow tough time pass away death omsanti actor inspir great fine… ',\n",
       " 'जेब खाली हो फिर भी मना करते नहीं देखामैंने पिता से अमीर इंसान नहीं देखा happi father’ day dad ',\n",
       " 'हमेशा अपने चहेरे पर मुस्कान बनायें रखें। कया पता कोई उदास चेहरा। आपकों देख कर मुस्कुरा जाये। ।।alw smile सुप्रभात wednesday',\n",
       " 'उदास कर देती है हर शाम मुझेऐसा लगता जैसे कोई भूल रहा हो मुझे ',\n",
       " 'fathersdayजिंदगी जीने के लिए papa द्वारा दिया गया यह मंत्र मुझे हर निराशा से दूर रखता है खुश रहने के लिए हमेशा अपने से नीचे और दुखी रहने के लिए अपने से ऊपर के लोगो का जीवन स्तर देखनाsolareclips internationalyogaday musicday ',\n",
       " 'सारी ज़िंदगी इसी फ़िक्र में गुज़र जाती है कि। लोग क्या कहेंगे आख़िर में लोग सिर्फ़ इतना ही कहते है إِنَّا لِلّهِ وَإِنَّـا إِلَيْهِ رَاجِعونَsad breakup ziddi_naazi ilost_myjourney shabnam ',\n",
       " 'andhera tera main le liya mera ujla sitaara tere naam kiya photo smile person handsom tradit look darshanbudhrani wed love happi indianarmi loveindia ',\n",
       " 'राजस्थान विश्वविद्यालय की आन बान शान वर्तमान छात्र संघ अध्यक्ष छोटी बहिन poojavermaru को जन्मदिन की हार्दिक बधाई एवं शुभकामनाएं। happi birthday ',\n",
       " 'realdonaldtrump sadclownlosertrumprallyfail resignnowcoronarallyha ha ha ha ha ha ha ha',\n",
       " 'sambitswaraj आदि से अनंत तक बस यही रही है परंपरा कायर भोगे दुख सदा वीर भोग्य वसुंधराराजा रामचंद्र की जय ',\n",
       " 'ab lagta hai ladakh jane ke liy beje ka visa lena padega sad ️ desh bech raha hai modi chinacomesmodirun chinaattack chinaindiabord',\n",
       " ' एनएसयूआई के प्रदेश स्तरीय मुख्यालय पर रक्तदान शिविर का आयोजन - रमेश कुमार भाटी coronaviru coronawarnapp covid stayhom hope help peacefulprotest narendramodi bjp nsui contestalert smile bestpresidentev love pappudiwa brightwinucandoit',\n",
       " 'jun - श्री श्री राधा माधव शृंगार आरती दर्शनहरे कृष्ण हरे कृष्ण कृष्ण कृष्ण हरे हरे। हरे राम हरे राम राम राम हरे हरे।। krishna devot love inspir motiv photooftheday fashion beauti happi cute iskcon trend ',\n",
       " 'jab jubaan ho kesari daant ho lal dentistjok humour meme patalok smile ',\n",
       " 'यही तो मसला है रिश्तेदारों का वो बात नहीं करते सीधा जहर उगलते है। chugli se achi hai meri chaitealov morn vibe positivevib love happi motivationalquot motiv likeforfollow likeforlik ',\n",
       " \"पिता एक उम्मीद है एक आस है परिवार की हिम्मत है और एक विश्वास हैबाहर से सख्त और अंदर से नरम हैपिता संघर्ष की आंधी में हौसले की दीवार हैपरेशानियो से लड़ने की दोधारी तलवार हैबचपन मे खुश करने वाला खिलौना हैनींद लगे तो पेट पर सुलाने वाला बिछौनहैhappi father' day \",\n",
       " 'ख्त्म कर दी थी जिन्दगी की हर खुशियाँ तुम परकभी फुर्सत मिले तो सोचना मोहब्बत किसने की थी  ',\n",
       " 'jeevan kharach khup sundar aah depress anxieti mentalhealth mentalhealthawar love sad ptsd mentalil selfcar depress selflov suicid stress recoveri therapi mentalhealthmatt life bipolar heal health quot motiv pain trauma ',\n",
       " 'आप के ही नाम से जानी जाती हूँ \"पापा \"भला इससे बड़ी सोहरत मेरे लिये क्या होगीhappi father day papa love u king',\n",
       " 'बिहार ब्रेकिंग न्यूज़ : बिहार राज्य में छात्र के लिये खुशी की लहर हजार पॉलिटेक्निक और इंजीनियरिंग छात्रों को मिलेगा रोजगारराज्यभर के हजार पॉलिटेक्निक और इंजीनियरिंग छात्रों को रोजगार मिलेगा। बिहार राज्य विज्ञान एवं प्रौद्योगिकी विभाग के प्रधान सचिव ब्रजेश ',\n",
       " 'खत्म कर के अपनी ख्वाहिशों को हमारे सपनों को सजाता हैवो पिता ही तो है जो खुद पीछे रहकर हमें आगे बढ़ाता हैअपना सब कुछ कुर्बान कर देता हैसारे सुख हमारे नाम कर देता हैबेटा मेरा उड़े आसमान मेंये सोचकर पापा अपने पंख तक नीलाम कर देता हैhappi fathersday father ',\n",
       " 'dil ne ye kaha hai dil semohobat ho gayi hai khud se :) divyanshkhatri quotesoftheday trend smile selflov',\n",
       " 'खुशी तो इस बात की है\\u200d️ हम दोनों ही धोखा खा गए मैंने तुम्हे औरों से अलग समझा और तुमने मुझे औरों जैसा समझा --- ',\n",
       " 'pakistan main pesa kamanay k liy bhi pese chahiy hotayironi bitterr busi',\n",
       " 'योग हमें शारीरिक एवं मानसिक दोनों रूपों में योग्य बनाता है आज की भागदौड भरी जिन्दगी मे योग मानसिक और शारीरिक स्वास्थ्य को बनाए रखने और तनाव को दूर रखने का सर्वोत्तम साधन है। yoga great gift india whole world happi intern yoga day जून देवीनिहारिकाजी ',\n",
       " 'rip miss दफ़्न से पहले नब्ज़ जांच लेना साहेब कलाकार उम्दा है कहीं किरदार में न हो shushantsinghrajput sad ',\n",
       " 'रूला कर उसने मुझसे कहाअब मुस्कुराओ मै हँस पडाक्योकी सवाल हँसी का नही उसकी खुशीका था   ',\n",
       " ' कुबेत से प्रवासी राजस्थानी जयपुर पहुंचे संस्थागत क्वॉरेंटाइन में भेजा एसीएस डॉक्टर अग्रवाल donlineconcertstayathom swineflu corona coronaupd coronavirusindia covidpandem covid stayhom stayconnect kashmir narendramodi bjp smile',\n",
       " 'जून को cm capt_amarind बुला सकतेहै केंद्र ऑर्डिनेंस पर सर्वदलीय बैठक।क्या सभी पार्टियों का एक मत होगा फैसला?aap harpalcheemamla विधानसभा का विशेष सत्र की मांग कर चुके हैं।sad drcheemasad कह चुके है कि कांग्रेस में इसे मान चुकी है।incpunjab प्रदर्शन कर चुकी है।',\n",
       " 'call friend follow \"mayan calender\" me: bhai vo st jun aagaya kuch huva nahe abheetakfriend: din abhitak khatam nahe huva haiummid pe duniya kaayam haisarcasm mayancalendar endoftheworld',\n",
       " 'corona se bachn ke liy ghar par rahedepress se bachn ke liy apn doston aur gharwalo se apni baatein aur problem share karemem meme twitter retweeet sarcast sarcasm',\n",
       " 'परेशान क्यों होते हो ?अल्लाह है ना संभाल लेगा वह dua trust faith allah iman difficulti happi quotes_of_rakibul_islam_salafilov tfler tweegram photooftheday smile followfollow… ',\n",
       " 'happi birthday rahul gandhi ji ',\n",
       " 'बधाई हो ज़ी सभी को आज़ का दिन ब्लॉक धुराला के लिये बोहत बड़ी ख़ुशी लेकर आयाआज़ धुराला ब्लॉक ने आधा_किला औऱ खरीद लियानाम चर्चा घर के लिये बिल्कुल पास लगते हीपिता_जी की रहमत हुई जीसभी को एक बार फ़िर से ब्लॉक धुराला की समूह साध_संगत की तरफ़ से सभी को बेअंत बार बधाई ',\n",
       " 'खुश रहिये happi love instagood like photooftheday smile beauti follow cute fashion instagram photographi life fun followm instadaili girl art style friend selfi natur photo happi instalik famili helpindiaonlin ',\n",
       " 'हानि लाभ जीवन मरण यश अपयश ये आपके वश में नही होता सच है ।। फिल्मों में आत्महत्या न करने की प्रेरणा देने वाले सुशांत सिंह ने खुद आत्महत्या कर ली बेहद दुखद।। भगवान उनकी आत्मा को शांति दे sad',\n",
       " 'beingsalmankhan beingsalmankhan : doubt thoma dekho bhai ka dil kitna bada hai aansu aa gay yeh padh kar sarcasm',\n",
       " 'मेरी हर सांस में तू हैमेरी हर ख़ुशी में तू हैतेरे बिन जिन्दगी कुछ नहींक्योंकि मेरी पूरी जिन्दगी ही तू हैlove ',\n",
       " 'तेरे_बगैर मेरा हर लम्हा अधूरा है हर खुशी अधूरी हैतू साथ है तो मेरी हर साँस पूरी है दिल को धड़कने के लिये तेरा पास होना जरूरी है ',\n",
       " 'yess struggling  kisika haq chhink age badhn bahot mehnat lagti hai bhai sarcast bycottkarnjohrgangmovi nepotisminbollywood bollywoodnepot sushantnomor sushanthsinghrajput killer starkid',\n",
       " 'मुझको छाँव मे रखा और खुद भी वो जलता रहा मैंने देखा एक फ़रिश्ता बाप की परछाई में happi fathersday',\n",
       " 'par_god kuch samajh nahin aa rahayeh ho kya raha haiearthquak sad ',\n",
       " 'घोड़ो को ना मिली घास और गधे खा रहे चवनप्रासsarcasm funniestmem ',\n",
       " 'देश के लोगों की खुशियों के लिए जो अपनी ख़ुशी भी त्याग दे ऐसा दम एक फौजी ही रख सकता है।जय हिंद जय भारत जय हो भारतीय सैना ',\n",
       " 'tribeccaangi rahulgandhi ba kar pagli rulaegi kyaironi',\n",
       " \"bbchindi बात तो man' land जोन में इंफ्रास्ट्रक्चर तैयार करने और चीन द्वारा उसे अपना कहने के बारे में है sad explanation\",\n",
       " \"happi father' day️️️पापा आप मेरा वो गुरूर हैं जोकोई भी कभी भी नहीं तोड़ सकतामेरी पहचान से आप से पापा…क्या कहूं आप मेरे लिय क्या हो पापा…रहने को है पैरों के नीचे यह जमीन…पर मेरे लिए तो मेरा आसमान आप हो पापा। \",\n",
       " 'lo maam liya toota nhi tere hathon se mera dil ️ sad',\n",
       " 'तुम पर जब गुजरेगी तो तुम भी जानजाओगेजिस तरह मैं ना भुला प्यार में उसको शायद तुम भी किसीको ना भुला पाओगे।love sad lifemahanaatma lovely_ loveraj',\n",
       " 'samjhr ho na aap instagram followｍ style follow instadaili travel life cute fit natur beauti girl fun photo amaz likeforlik instalik selfi smile lifestyl model… ',\n",
       " 'amritkanyaaaa क्या है की काँग्रेसियो के खिलौने की सर्विसिंग चाइना में ही होती है sarcasm',\n",
       " 'meri muskurahat teri muskaan se badi haijaantey ho kyon?thought smile hindi random ',\n",
       " 'नीतीश_कुमार जी डरपोक मुख्यमंत्री साबित हुए। दिन बाद भी जनता के बीच निकलने की हिम्मत नही जुटा पा रहे हैं।वहीं नेता प्रतिपक्ष yadavtejashwi जी लगातार जनता के बीच हैं।उनके दुख-दर्द से रूबरू हो रहे हैं।बिहार को चाहिए तेजस्वी जी जैसा cm इसलिए अबकी बार तेजस्वी_सरकार ।',\n",
       " 'dil sambhal jaa jara phir katwan chala hainn tuuuumem sarcasmmem memesdaili',\n",
       " 'sanu ek pal �\"\"�•• publicfigur bangladesh bangladeshi instagram trend tiktok fyp viral friend smile instagood life popularp likeforlik cute happi tbt fashion instalik amaz style like adida instacool instafollow htfla ',\n",
       " 'तो भाई फ़िल्म में itsssr को की उमर मे जो रोल मिलने चाहिये थे वो इन नवाबो को मिलते हैं ओर मिलेंगे क्युकी sushanthsinghrajput जैसे उन्दा कलाकार तो हम खोते जा रहे हैं sadmaliniawasthi arnabgoswami rajatsharma kanganaranaut rubikaliyaquat republictv',\n",
       " 'yog diwa ki subhkamnaye;unh bhi jo happi yoga day\" stori daal k fir se gay',\n",
       " 'जो व्यक्ति किसी दूसरे के चेहरे पर हँसी और जीवन में ख़ुशी लाने की क्षमता रखता है_ईश्वर उसके चेहरे से कभी हँसी और जीवन से ख़ुशी कम नहीं होने देता।_ ',\n",
       " 'परिवारो को तनावमुक्त रखने के लिए fccteam पूरी तरह सचेत है और अब इस कड़ी में dswb chairperson dolly_seema ji की पहल happi famili happi commun tip द्वारा आपके परिवार में तनावमुक्त माहौल बनाने में मददगार साबित होगी।advrajendrap ministrywcd msisodia smritiirani ',\n",
       " 'सुशांत सिंह राजपूत ने की आत्महत्या ।।घर में फांसी लगा कर जान दी ।।। sad news sad restinpeac itsssr ',\n",
       " 'dear shushantsinghrajput aaj yakeen hua jene ke liy success success se jayada matter happi krti hai shayd tum happi nahi humko motiv sikha ke khud har gye rest peac',\n",
       " 'साजिशों की शुरुआत हो चुकी है लेकिन दुख इस बात का है कि इसमें हमारे देश के जवान मारे जा रहे हैं',\n",
       " 'happi father day allah bless allah meri umar bhiii mere papa ko lg jy ameen es zulm ki duniya mein faqat pyar mere papahain mere liy saya-e-deewar mere papanafrat ke jazeron se mohabbat ki hadon takbass pyaar hi pyaar hai ba pyar mere papa ',\n",
       " 'आशिकों की बस्ती में ये टूटा मकान किसका हैकहीं पे दिल कहीं पे जान ये बिखरा सामान किसका हैlove instagood fashion fashionblogg photooftheday beauti art photographi happi picoftheday ',\n",
       " 'क्या कोई बता सकता है सफलता का मतलब इस मुस्कुराते चेहरे के पीछे कितने गम छुपे थे कोई नहीं जनतामगर मेरे भाई सुशांत ये गलत है आपके गम आपके जीवन की तुलना में ज्यादा नहीं थेखुश रहना मेरे दोस्तsad sushant sushantsuicid sushant sushantsinghrajpoot sushanthsinghrajput ',\n",
       " 'आज_देखा है तुझे देर के बादआज का दिन गुज़र न जाये कहींना_मिला कर उदास लोगों सेहुस्न तेरा बिखर न जाये कहींnikhilt',\n",
       " ' वंशिका वेलफेयर सोसाइटी की तरफ से शहीद जवानों को श्रद्धांजलि coronavirusoutbreak covid covid_ covid covidー stayathom stayhomestaysaf narendramodi bjp helpinghand hope smile peac _बीपीएड_नियुक्ति_पत्र_जारी_करे _शून्य_जनपद',\n",
       " 'समय एक जैसा नहीं रहता है हर इंसान एक परिस्थिति में नहीं जीवन यापन करता है। खुश रहिये हर परिस्थिति में खुश रहने की वजह ढुड़िये। लोगो मे भी खुशी बाँटिये।happylifesmilelovehuman ',\n",
       " 'jaan na koi kya chlta kissi ki zindagi mekii bhoj nich woh daab kr betha haipaar agr us insaan ke yaha hote waqt tumh koi frk nhi thaausk jaan ke baad rone ka bhi tumhara haaq nhichowkidar_kamjor_haicri cryingforlov sad shushantsinghrajput',\n",
       " 'happi face ️ surbhi gaudham ',\n",
       " 'स्वर्ग और नरक ऊपर कहीं नहीं हैजिस घर में सुख है घर स्वर्ग है और जिस घर में दुख है वो घर नरक है ',\n",
       " 'song : ye jo tum itna muskura rahe ho kya gum hai jisko chupa rahe ho i felt riphuman ripsushantsinghrajput sad',\n",
       " 'weekendfun jokeoftheday सब रोगों की एक दवाई हँसना सीखो मेरे भाई इसलिए हमेशा हंसते और मुस्कुराते रहिए खुद हँसिये दूसरों को हँसाने का जरिया बनिए। joke smile laugh ketomacoil ketomacweekendfun ketomacjok patipatnijokesfor info : https:/ ',\n",
       " \"_waheguru_ papa ki pari jasi koi cheez nahi hoti actual jadu ki chadi papa ke pa hoti hai jo apn baccho ke har jarurat ko bin bole hi pura krte haihappi father' day aprajita love pitaji\",\n",
       " \"happi father' day dad everyon fatherek din leng unk kamr ki talashi dekh sahi aakhir saari takleef shupha lar rakht kha hai \",\n",
       " 'aap chronolog samjhiyemovi actor indian meme meme sarcasm staysaf indianmem nepot ',\n",
       " 'namo_anuradha सच क्या बोलोगे फेंकू के चक्कर में पंं़ जवाहर लाल नेहरू जी का नाम गन्दा कर दिया आपनेso sad',\n",
       " 'iareeb_ginsaan_ ramdas_tukai ab vapi ek koi jhoothi kahaani sunakar logo ko bewakoof banaya jayega aur ye murder ko suicid ka naam deke case band kar diya jayega shrideviji ki case ki tarah logo ko sab samajhm aan ke baavajood unh pretend karna hoga ki haa bhai aap hi sahi ho riphuman sad',\n",
       " 'jab tak bewafai kithokar na lage️har kissi koapni mohabbat prnaaj hota hai sad feel alon brokenheart',\n",
       " 'बड़े शौक से हमारी मजबूरी का मजाक उड़ाते हो।मरने के बाद बड़े अफसोस के साथ दफनाते हों।कटाक्ष voice_l',\n",
       " 'जाति धर्म से ऊपर उठकर करें रक्तदान रक्तदान महादान ( d b d )= =( s b d )( group )आज दिनांक जून को जिला सहारनपुर मानकमऊ निवासी की रहने वाली एक साल खुशी नाम की बेटी फादर अनिल… ',\n",
       " 'लफज सादा है पर इतने प्यारे हैं तुम हमारे हो—- हम तुम्हारे हैं happi sunday बज़्म अल्फ़ाज़े_बयां ',\n",
       " 'ye kha se aayi hogi seedh south korea sejinda pkdege bsiwalo ko kaaleen bhaiya khe h sha_sha_nk__ priyanssarcast sarcasm ',\n",
       " 'राजस्थान की शेरनीराजस्थान विश्वविद्यालय की आन बान शान वर्तमान छात्र संघ अध्यक्ष बहिन पूजा_वर्मा को जन्मदिन की हार्दिक बधाई एवं शुभकामनाएं। happi birthdayपूजा वर्मा rajasthan universitypoojavermaru ramkesh ',\n",
       " 'आपने मुझे चलना सिखायामुझे जीवन के तरीके भी सिखाएआपने अपना सब कुछ दे दिया है किबस मुझे उठते और चमकते देखना हैhappi father day',\n",
       " \"मेरा_साहस_मेरी_इज़्ज़त_मेरा_सम्मान_है _________ मेरे_पापा मेरी_ताकत_मेरी_पूँजी_मेरी_पहचान_है _____मेरे_पापा मेरी जिन्दगी मे आज जो शौहरत है वो सब मेरे पिता की बदौलत है happi father' day \",\n",
       " 'ज़िन्दगी जीने का ज्ञान सब बहुत देते पर अंदर का अकेलापन और खोखले रिश्ते मुजे मजबूर करते है कि ज़िंदगी का सफ़र अपनो के बिना अधूरा होता है। ये बात कोई समझ नही पाता और अपने अक़्सर जिंदगी भर यही भूल करते है। sad ',\n",
       " 'нαρρу вιятн∂αу тσ u️तुम्हारे जिन्दगी मैं खुशियों से ज्यादा ख़ुशियाँ आए ये दुआ है हमारीhappy__birthday hemapanch ',\n",
       " 'फादर का कोई डे नही होताबल्कि अपना प्रत्येक दिनपापा के कारण होता है happi father day ',\n",
       " 'jald hi kuch nyainstamood imag new mood happi ',\n",
       " 'eshitasingh_ sanjayazadsln बहोत अच्छी बात है|वैसे एक और जगह है जहाँ सब गुनाह माफ़ हो जाती हैं ️भारतीय जनता पार्टी|sarcasm',\n",
       " 'बाबु जी स्व पारसनाथ sad ',\n",
       " 'नफरतों के बाजार में जीने का अलग ही मजा है लोग \"रूलाना\" नहीं छोडते और जिंदादिल \" हसना \" नहीं छोडते ।smile',\n",
       " 'archoud आप दीर्घायु और आरोग्य हों और जिंदगी में हमेशा ही यश प्राप्त करें जन्म दिवस पर यही शुभकामना है कि आपको हर कदम पर जीत मिलेhappi birthday ',\n",
       " 'तन्हा-तन्हा सा पल और आप का अहसासइस से बेहतर शायद कुछ है नहीं मेरे पासtiwarinarendra keshariinc smile',\n",
       " 'नादान होते है वोजो वफा कि तलाश करते है ये नही सोचते किअपनी सांस भी एक दिन बेवफा हो जाती है।sad शायरी',\n",
       " 'dimaag mai soor ayenge khena chahe par keh na payengechehr par muskan dil mai gum aayenge lakin himmat mat haar phele se bhetarr din fir ayenge ️thought smile',\n",
       " 'आपके विचार में जिस सुशांत सिंह राजपूत ने अपनी जान देने का फैसला ले लिया होगा यदि कोई चीज़ उन्हें बचा पाने की क्षमता रखती थी तो वह क्या हो सकती थी? suicid depress sad anxieti mentalhealth depress suicid suicideprevent love alon mentalhealthawar ',\n",
       " 'किसी को तकलीफ देनामेरी आदत नहीबिन बुलाया मेहमान बननामेरी आदत नहीमैं अपने गम में रहती हूँनबाबों की तरहऔरो की खुशी देखकर जलना मेरी आदत नहीसबको हँसता हीदेखना चाहती हूँ मैकिसी को धोखे से भीरुलाना मेरी आदत नही',\n",
       " 'अभी तो ज़िन्दगी का पैगामआया भी नहीं तुमने देखकर मुस्कुराया नहीं।\\u200d shayari love meet smile ',\n",
       " 'अपनी कीमत उतनी ही रखिये जो आसानी से अदा हो सकेअगर अनमोल हो गए तोतन्हा हो जाओगे smile',\n",
       " 'kaha hai wo? kyu nahi aaya abi tak? kahi hum marr nahi gayai un k liyai brokenheart alon sad',\n",
       " 'चेला- घर में घुसकर मारुंगा गुरु यही कहा था ना आपने ?गुरु - हां बच्चावही तो कर रहा हूंघर में बैठकर मच्छर मार रहा हूंकटाक्ष गप्पू पर',\n",
       " 'स्वर्गीय श्री सुशांत सिंह राजपूत ने हमें छिछोरे मूवी में काम करके यह सिखाया कि संघर्ष से दूर ना भागे । आत्महत्या ना करें और अब खुद ही आत्महत्या कर ली।ripsush ripsushantsinghrajput ripssr fuck sad ',\n",
       " 'room bedroom ( ＾∀＾) today saturday photo happi hapi kyoto japan ',\n",
       " \"indiatvnew बात तो man' land जोन में इंफ्रास्ट्रक्चर तैयार करने और चीन द्वारा उसे अपना कहने के बारे में है sad explanation\",\n",
       " 'मुझे शुरू से कार ड्राइव करने वाली और गाली देने वाली लड़कियाँ बहुत पसंद थीं। ऐसा लगता था कि कम-से-कम ये तो कुछ भी सहती नहीं होंगी सब अपनी मर्जी से करती होंगी happi lingeri ',\n",
       " 'kabhi ghanta farak nai parta aur kabhi ghanto farak padta hai indianmem desimem sarcasm indian breakup friendzon longdistancerelationship ldr singl struggl',\n",
       " 'आज का सुविचारmanishsai happi life gratitud gratitudequot quot studygram quot quotestagram daily_thoughts_and_quot dailythought inspirationalquot motivationalquot daili dailymotivation… ',\n",
       " 'prabha + smile = actorprabha prabha smile prabhaslook ',\n",
       " 'आँसु आए तो खुद पोंछना लोग पोछेंगे तो सौदा करेंगे ripsush ️pc : pranavsan mohit_limay emotionalquot ironi lifeisabitch struggl struggleisr bollywoodactor sushantsingrajput… ',\n",
       " 'rahulgandhi इनके प्रधानमंत्री रहते कभी तुम ने इनकी बात मानीजो आज मोदी जी को नसीहत देने आए इनकी बात मानने के लिए ironi',\n",
       " 'जब दिल उदास हो तो हमसे बातें कर लेनाजब दिल चाहे तो मुलाक़ात कर लेनारहते हैं हम आपके दिल के किसी कोने मेंवक़्त मिले तो तलाश कर लेना ',\n",
       " 'ranikavita माना किफर्जी चोकीदारों के राज में इनका साथ भी अंधेरा से घना है मगर दुनिया के श्रमिकों दर्द में तो भी दिया ￼जला प्रकाश दिखाना कहाँ मना हैं कटाक्ष ',\n",
       " 'दिल्ली के स्वास्थ्य मंत्री satyendarjainको दिल्ली के सरकारी अस्पताल से निकाल कर दिल्ली के प्राइवेट अस्पताल में भर्ती कराया गया हैइतने पर भी ये दिल्लीवाले बोल रहे हैं की arvindkejriw ने दिल्ली में हेल्थ सेक्टर को वर्ल्ड क्लास नहीं बनायाकटाक्ष satyendrajain coronaviru ',\n",
       " 'ham unko bhi dua dete hai jise hamar name se bhi nafrat hai _______sad broken brokenheart naddu_dz__ anup_babu_ its_mrkaif zaidanwar rahmata',\n",
       " 'happi ekadashi jun - श्री श्री राधा माधव मंगल आरती दर्शनहरे कृष्ण हरे कृष्ण कृष्ण कृष्ण हरे हरे। हरे राम हरे राम राम राम हरे हरे।। krishna devot love inspir motiv photooftheday fashion beauti happi cute iskcon trend ',\n",
       " 'वो अक्सर मुझसे पूछा करती थी तुम मुझे कभी छोड़ कर तो नहीं जाओगेकाश मैंने भी पूछ लिया होता।sad ',\n",
       " 'movi nepotisminbollywood ki bahut badi sachai dikhayi haishi kaha hai end happi nhi pictur abhi baaki hai mere dostab nepot khatam nahi kia gaya na jane kitno ki end unhappi hi reh jaegijusticeforsushanthsinghrajputnepotismendsin ',\n",
       " 'जिस पल में आपको खुशियाँ मिली हैंसच पूछिए तो वही जिंदगी है।जिस पल से आपकी यादें जुडी हैंसच मानिए तो वही जिंदगी है।जिस पल में ज़माने से तारीफ़े मिली हैंसच जानिए तो वही जिंदगी है। सुप्रभात ',\n",
       " 'पुराने ज़माने में फ़ादर्स डे नही होता थापिताजी का जब दिल करता था तो जूता उठा कर बच्चों को याद दिला देते थे कि \"मैं बाप हूँ\"happi father\\' day ',\n",
       " 'मेरी हर सांस में तू हैमेरी हर ख़ुशी में तू हैतेरे बिन जिन्दगी कुछ नहींक्योंकि मेरी पूरी जिन्दगी ही तू है',\n",
       " 'ajaeybjp khajandassbjp भारतीय जनता पार्टी उत्तराखंड के प्रदेश उपाध्यक्ष एवं राजपुर रोड के माननीय विधायक आदरणीय खजान दास जी को जन्मदिवस की बहुत-बहुत बधाई एवं शुभकामनाएं प्रभु श्री राम आप को स्वस्थ एवं दीर्घायु रखे। happi birth day',\n",
       " 'askanshul राहुल - मोदीजी ने पैसा खिलाया है। sarcasm',\n",
       " 'smile eye  ink bhi andaaz ko logo ne nazar- andaaz kr diya:(ripsush ',\n",
       " 'hand sanit krte krte haathon ki lakeeren hi mit rahi hain joke meme sarcast',\n",
       " 'faizije aaj apki saalgirah hy nahi ji din hogi us din k liy happi wala birthday',\n",
       " 'उदास कर देती है हर शाम मुझेऐसा लगता जैसे कोई भूल रहा हो मुझे  ',\n",
       " 'खुशियां चाहे किसी के साथ भी बांट लेपर अपने गम किसी भरोसेमंद के साथ ही बांटने चाहिए।',\n",
       " 'happi birthday sudhirchaudhari jiorigin currenc note memor date baar baar din aay aap jiyo haajaro saal sudhirchaudhari ji ',\n",
       " 'pathar hazaro ne maar mujh lekinjo dil pe laga aa kar ik dost ne maara hai - suhail azimabadishayari ghazal urdu poetri nazm ashar indian shair india paki pakistan pakistani pashto hindi punjabi sad quot quot',\n",
       " \"पिता का रुतबा सबसे ऊंचा भगवान के रूप के समान है। पिता की अंगुली थाम के चले तो रास्ता भी आसान है।। happi father' day \",\n",
       " 'सुख के सब साथी दुख में न कोई किसी के नहीं देखा कि सुशांत ने दिसम्बर के बाद एक tweet नहीं किया। अब सबको याद आ रहा है। यही कड़वा सच है।sushantnomor sushantsinghrajput ironi depress',\n",
       " 'real_netan अगर आज नेहरू जी होते तो शी जिनपिंग की बीवी को एडविना की तरह पटाकर सिगरेट पिलाकर अपने वश में कर लेते और तिब्बत ही नहीं सीधे शंघाई पर कब्जा कर लेते इश्क़ और जंग में सब जायज़ है (नेहरू की किताब द ठरकी नेहरू से ) जय कांग्रेस आक थू कटाक्ष',\n",
       " 'hast hue chehr ka gam kaun padh sakta hai ?????tuesdayvib nepotisminbollywood love sad mask smile hope sobo mumbairain mumbai pune indiafightscorona indianmedia india anahitakapoor ',\n",
       " 'hasna se dukh kam nhi ho jata lekin use sahen ki himmat zarur mil jati hai ️️zindagi smile duniya ',\n",
       " 'बॉलीवुड एक्टर सुशांत सिंह राजपूत अब हमारे बीच नहीं रहे आपका जाना देश के लिए बहुत बड़ी क्षति है।आप हमेशा हमारे दिलो मे छाये रहेगे भगवानआपकी आत्मा को शान्ति दें ॐ शान्ति ॐ sushanthsinghrajput rip sad ',\n",
       " \"kaha jata h pita ke paao ko pakad kr rakho shayad kabhi kisi ka hath pakadn ki jarurt nhi padegi life uthn ke liyehappi father' dayun sabhi pita ke liy jinhon aaj hume kabil banaya ki aaj hum jo kuch h sb apn mata-pita ki wajah se \",\n",
       " 'मन उदास दिल ️ बेचैन हो जाता हैं जबतुम्हारा नाम सुनते हैं ____________ दूसरों के लबों से ______ ',\n",
       " 'कहने को साथ अपने एक दुनिया चलती है\\u200d️पर छुपके इस दिल में तन्हाई पलती हैtanhaiyan sad goodmorn goodmorningtwitterworld goodbyefesta goodcast',\n",
       " \"अपने अधूरे ख़ाब लेकर आपके ख़ाब को पूरा करने की जिद बाप में होती है खुद फटा कपड़ा पहन कर ईद में आपके लिए नई ड्रेस ले आना ये एक बाप ही कर सकता है अल्लाह सलामत रखे आपको अब्बू वैसे तो हर दिन आपका ही है मेरी हर साँस आपके लिए है happi father' day \",\n",
       " 'खुशीउड़ती हुई तितली के जैसी हैजिसे पकड़ने के लिए हम जितना दौड़ेंगे ये उतना ही हमसे दूर चली जायेगीऔरयदि हम शान्त मुद्रा मे जगह स्थिर हो जायेंगे तोये खुद पे खुद आपके कंधे के पास बैठ जायेगीखुशी के पीछे भागिए मतमहसुस कीजिएजयश्रीरामजिन्दगीthursdaythought',\n",
       " 'कल से मन दुखी भी है और आक्रोशित भी है मेरे देश के शेरो को नमन है ओरमें अपने मस्तक से उनके चरणों मे बारम्बार प्रणाम करता हूंbycottmadeinchina ',\n",
       " 'जिस पल में आपको खुशियाँ मिली हैंसच पूछिए तो वही जिंदगी है।जिस पल से आपकी यादें जुडी हैंसच मानिए तो वही जिंदगी है।जिस पल में ज़माने से तारीफ़े मिली हैंसच जानिए तो वही जिंदगी है। rmsraj',\n",
       " ' अंतर्राष्ट्रीय योग दिवस के उपलक्ष में फिट योग संस्थान द्वारा प्रतिभागियों का सम्मान - अरविंद सिंह coronavirusoutbreak covid covid_ covid covidー stayathom stayhomestaysaf narendramodi bjp helpinghand hope smile peac _शून्य_जनपद',\n",
       " 'mentalhealth ki hai ye baat haar mat maano raho saath\\u200d\\u200d\\u200dkush rah kar de isko maat khushiya hi sabs badi saugaat trend tuesdayvib tuesdaythought india health smile',\n",
       " '\"akel aay akel hi jayengy\" ye kahawat ab galat hogyi hai ab \"jo jo sampark aayngi vo log sab jyngy\"coronaviru coronahit sarcasm savag',\n",
       " 'मेरी हर सांस में तू हैमेरी हर ख़ुशी में तू हैतेरे बिन जिन्दगी कुछ नहींक्योंकि मेरी पूरी जिन्दगी ही तू है ',\n",
       " 'dil se khushi hoti h jab bhi papa keht h \"tu mera sher hai\" happi father\\' day',\n",
       " 'jo bhi hai dil sab nikaal dalo kyu ki jo chala gaya usk liy rone se accha hai jo zinda hai unk chehron pr muskaan laaoek smile dusro ke hothon pr laosmil laugh be_crazi mad khushi ok ok yaadonkidiari ',\n",
       " 'happi birthdayअजीज मित्र बंशीलाल चौधरी फर्स्ट इण्डिया न्यूज़ संवाददाता बालोतरा संपादक दिव्य पंचायत समाचार पत्र सदस्य ifwj बालोतरा को जन्मदिवस की हार्दिक बधाई एवं शुभकामनाएं ।।banshiआपका शुभचिंतकराजेन्द्र लहुआ बाड़मेर ',\n",
       " 'jo log onlin hote haipar \"geeen dot \" nahi dikhtai think corona bhi uss darta hoga ki chipku ya nahimem meme troll troll sarcasm funnytweet kevinparikh memesdaili memeworld joke hindimem bollywoodmem relat relatablemem',\n",
       " 'sushantsinghrajput depress sad bollywood bhai ap yad aaog ',\n",
       " 'हमारे सबसे ज्यादा पसंदीदा खिलाड़ी अफगानिस्तान के rashidkhan_ की अम्मी का इंतकाल हो गया है आप सभी लोग उनकी मगफिरत के लिए दुआ करे अल्लाह उन्हें जन्नत नसीब करे मेरा दिल आज बहुत दुखी हुआ आप सबको यह खबर देते हुए ',\n",
       " 'ppbajpai अजब तनाव है माहौल में कहें किस से चोरों ने देश को खोखला किया अब तो कुछ को इसी का मलाल है अवसाद भरी जिंदगी में कहें किस से काव्य कटाक्षरचनाकारराकेश_पाण्डेय ',\n",
       " 'राजस्थान की शेरनीराजस्थान विश्वविद्यालय की आन बान शान वर्तमान छात्र संघ अध्यक्ष बहिन पूजा_वर्मा को जन्मदिन की हार्दिक बधाई एवं शुभकामनाएं। जय भीम जय भारत happi birthday sisterपूजा वर्मा rajasthan universitypoojavermaru ',\n",
       " 'sadhavi अवतरण दिवस की बहुत बहुत शुभकामनाएँ हमेशा खुश रहो मस्त रहो आबाद रहोभगवान राम आपको दीर्घायु दे happi birthday हर हर महादेव',\n",
       " 'जिंदगी कभी मुश्किल तो कभी आसान होती हैं कभी उफ तो कभी वाह होती हैं ना भूलना कभी अपनी smile कोकयोंकि इससे ही हर मुश्किल आसान होती हैं शुभ सबेरा miत्रों ',\n",
       " 'wo suit bhi achi lagti hai wo jean bhi achi lagti hai magar jab jab muh fulaakar rakhti hai kya kamaal lagti hai lovewithoutlimit lovequot smile lovebright',\n",
       " 'उम्र के इस पड़ाव को दर्द से कमजोर ना होने दे धरासणा के साथ मुस्कुराए हर पल। dharasanamalistel basmuskuraao smile oldergener weightlift exercis strong backpain pain ayurved ayurveda ayurvedicoil jointpain backbackpain painrelief painfre ',\n",
       " 'trust yuhi badnaam hai sabs jyada risht \"autocorrect\" ne kharab kiy hai meme sarcast autocorrect relationshipadvic',\n",
       " 'क्या हम प्रेमदुख और मृत्यु को जान सकते हैं ?क्या हम हमेशा एक दूसरे को छवियों शब्दों और भावनाओं की तरह देखतेसुनते और महसूस करते हैं ?क्या प्रेमसत्य और यथार्थ को जाना जा सकता है ?',\n",
       " 'दिल तो बहुत उदास है ये जान करकि एक प्रतिभाशाली सफल अभिनेतायुवा इंसान सुशांत सिंह राजपूत ने आत्महत्या कर लीपर जाते-जाते सारे जगत को एक उदाहरण देकर गए हैंअपार धन दौलत खूब तरक्की एवं शौहरत होने के बाद भी इंसान के लिए मन की शांति होना बहुत जरूरी है।life sad rip',\n",
       " 'rahulgandhiजन्मदिन की ढेर सारी बधाई व शुभकामनाएं happi birthdayजन्मदिन मुबारक हो। rahul_gandhiहैप्पी बर्थडे राहुल जी ',\n",
       " 'दिल की आवाज़ में आवाज़ मिलाते रहिए जागते रहिए ज़माने को जगाते रहिए - हफ़ीज़ बनारसी बज़्म rekhta smile beposit behappi goodmorningtwitterworld ',\n",
       " 'harshitaindian friday sexi love hot model fashion beauti like follow beauti cute girl photographi instagood fit instagram lingeri girl photooftheday picoftheday art likeforlik followm pretti music followforfollowback portrait happi ',\n",
       " 'जवाब देने के लिए शुक्रिया। आज के युग में कानून की जानकारी बेहद अहम हैताकि कोई आपको बेवजह परेशान ना करे। sarcasm ',\n",
       " 'rel : beta zindagi aag badho aur khub tarakki karom : aap seh paoge?sannatahumor sarcast rel indianrel',\n",
       " 'अगर आज नेहरू जी होते तो शी जिनपिंग की बीवी को एडविना की तरह पटाकर सिगरेट पिलाकर अपने वश में कर लेते और तिब्बत ही नहीं सीधे शंघाई पर कब्जा कर लेते इश्क़ और जंग में सब जायज़ है (नेहरू की किताब द ठरकी नेहरू से ) कांग्रेस आक थू कटाक्ष',\n",
       " 'इसे कहते दोगलापन swetasinghat godimedia modidown shwetasingh latestnew love instagood fashion photooftheday beauti art happi picofthedaycut photographi tbt followmelikelik natur travel style repostsumm instagram instadaili ',\n",
       " 'jaan tu mera kya hai song lyric runarizvi geneliad imrankhan genelia  song broken brokenheart brokenheartsgalleri broken_heart_tal heartbreak heartbreak sadsong sad',\n",
       " 'एक दिल की आवाज़soul lifestyl thought beauti happi sad hope peac picoftheday mentalhealth heart psycholog smile hurt medit lifequot energi blackandwhit famili canon sport motion feel portraitphotographi quot peopl ',\n",
       " 'capf_gd_दो बरस बीत गया \"ssc gd \"\"झुलसाता जेठ मास शरद चांदनी उदास सिसकी भरते सावन का अंतर्घट रीत गया दो बरस बीत गयाअब तो भर्ती करा लो साहब crpfindia amitshah pmoindia defenceminindia pib_india',\n",
       " 'भारत में हर में व्यक्ति जन्म से ही न्यायाधीश होता है फिर भी हमारी न्यायपालिका इतनी कमज़ोर क्यों है?कटाक्ष',\n",
       " 'जिस भूमि पर एक तिनका नहीं उगता उस भूमि के लिए काँग्रेस की बेचैनी समझ से परे है। मोदी का क्या है वो तो बंजर भूमि के लिए पागल हो गया है। sarcasm लिख दूँ या?',\n",
       " \"जीवेत शरद शतम।।हम सबके चहेतेमाननीय राहुल गांधी जी को जन्म दिवस की बधाई ढेर सारी शुभकामनाएंमेरे परिवार एवम मित्रो की ओर सेhappi b'day rahul ji \",\n",
       " 'aur kya chahiy peac natur peac love photographi beauti sunset naturephotographi travel calm medit life peaceofmind photooftheday relax landscap instagood happi happi art… ',\n",
       " 'yog apnay apn jivan ko swasthay bnayehappi intern yoga day ',\n",
       " 'खुशी के फूल उन्हीं की झोली में गिरते हैं जो दूसरे की सेवा अपनों की तरह करते हैं ',\n",
       " 'चीन के मुद्दे पर ओवैसी इतना गुस्से में है कि वो अभी \"शी जिन पिंग\" को मिनट के लिए चीनी आर्मी/ पुलिस हटाने को कह पूरे चीन को खत्म कर देगाकटाक्ष',\n",
       " 'जो जानते है वो समझते हैं कि boy की मुहब्बत एक uncut_diamond है और girl की smile एक जौहरी| ॐ शान्ति |eveningvib',\n",
       " \"ख्वाइशों को मेरे उड़ान दे गयें पापा मुझे इक पहचान दे गयें ताउम्र चलतें रहें उनके कदम पेबहुत आला वो हमको ज्ञान दे गयें happi father' day\",\n",
       " '-सवारना छोड़ दिया खुद कोवरना इक दौर में हम भीकमाल के थेquot thought sawarna smile likeforlik followm abhisoni_ indori_rahat rahatindori ',\n",
       " 'एक शख्स अपने साथ ना जाने कितने सवाल ले गयाsushantsinghrajpoot life death pain broken yourquot sad alfazmer बज़्म शायरांश बिखरेशब्द ',\n",
       " 'समयनुसार बिहार चुनाव राजद +कांग्रेस बुरी तरह हार रही है। voice_lesकटाक्ष',\n",
       " 'sureshkkhanna myogiadityanath upgovt bjpup कहीं एसएसपी_प्रयागराज का इसी खुशी में तो ट्रांसफर करके कहीं वेटिंग में तो नहीं डाल दिया गया।यूपी_का_व्यापम_घोटाला',\n",
       " 'rsprasad officeofrsp narendramodi स्वामीजी काश आज आप हमारे बीच होता तो आप को ग्रामीणडाकसेवको की स्थिति देखके बहुत दुख होता। पूर्वाध शासनकाल मे देश के एक भी सांसद पगार और पेंशन नहीं लेता था। आज सब ले रहे हैं मगर आज ग्रामीणडाकिया पेंशन से बाकात रह गया है ७३साल से देश आजाद हैndtv ',\n",
       " \"पापा आपके लिए:-रात खून पसीना बहाकेमेरे ख्वाबों को पूरा करने वालेमेरी तकदीर बनाने वालेखुदा से भी बढ़कर मेरे पिता है।happi father' day papa \",\n",
       " 'ईश्वर कहते है …किसी को तकलीफ़ देकरमुझसे अपनी ख़ुशी कीदुआ मत करना लेकिन …अगर किसी को एक पल की भीख़ुशी देते हो तो …अपनी तकलीफ़ कीफ़िक्र मत करना…… ',\n",
       " 'जन्मदिवस की हार्दिक बधाई एवं अनन्त शुभकामनाएंamarjeetcg happi birthday amarjeetcg ',\n",
       " 'आज का सुविचारmanishsai happi life gratitud gratitudequot quot studygram quot quotestagram daily_thoughts_and_quot dailythought inspirationalquot motivationalquot daili dailymotivation… ',\n",
       " '★→ 『अपना』 तो बस एक⃣ असूल️ हैंsmile करो dil️️ से और _dosti निभाओ _jigar से ',\n",
       " 'चुभ जाती है बात कभी कभी लहज़े मार जाते हैं ये ज़िंदगी है साहब यहाँ गैरों से ज़्यादा हम अपनों से हार जाते हैंthoughtoftheday sad liferul',\n",
       " \"फादर डे पैली माथै में जूत पडता जद ठा पड जावतौ की आज रो दिन फादरसाहब रो है।happi father' day\",\n",
       " 'ek baar dekho chehron ki taraf life main itni muskilon ka saamna karn ke baad bhi smile kar rahe haiatmojoarjalojo amaalmallik  ',\n",
       " 'happi ekadashi jun - श्री श्री राधा माधव शृंगार आरती दर्शनहरे कृष्ण हरे कृष्ण कृष्ण कृष्ण हरे हरे। हरे राम हरे राम राम राम हरे हरे।। krishna devot love inspir motiv photooftheday fashion beauti happi cute iskcon trend ',\n",
       " 'बहुतों को बहुत सी शिकायतें हैं ज़िन्दगी सेबहुतों के पास थोड़ी सी ज़िन्दगी भी नहीं हैshushantsinghrajput ripsush सुप्रभात sad mood',\n",
       " ' pleas made girl boy toh bahi nahi hai tu mera keh ke apni baat manwa lete haimem meme sarcast sarcasm twitter retweeet',\n",
       " 'tute hue dill ke kisi kone mein samay hui hai meri mohabbatjo dar rahi hai bahar aan sedarr mohabbattujhealvida thoughtfortheday thoughtoftheday smile',\n",
       " 'srila prabhupadakrishna devot love inspir motiv photooftheday fashion beauti happi cute iskcon trend ',\n",
       " 'रफ्तार कुछ इस कदर तेज है जिंदगी की सुबह का दर्द शाम को पुराना हो जाता है untoldstorylockdown india￼ mumbai public￼ life happi untoldstori',\n",
       " \"जीवन की धरा में पग-डग दिशा प्रदान करने वाले मेरे पिताजी मेरे_पथ_प्रदर्शक happi father' day \",\n",
       " 'happi father day ।।जिनकी वजह से दुनिया मिली जिनकी वजह से हर चीज़ सीखी जिनकी वजह से आज हर मुकाम पा लिया जिन्होंने खुद दुःख पा कर सारे सुख हमारे लिए ला दिए वो और कोई नही हो सकते हमारे पिताजी के अलावा ।।अंतरराष्ट्रिय योग दिवस एवं पितृ दिवस की हार्दिक हार्दिक शुभकामनाए।',\n",
       " 'starkidsarey yar hmari kya galti hhmare gharwalo ne hums puch k thodi hume paida kiya thahum khud baad pata chalastarkid nepotisminbollywood karanjohargang shushantsinghrajput sarcasm sarcasmmem sagarcast lol',\n",
       " 'बिल्कुल सही arungovil सरजीवित रहकर तो हम कम से कम हालातों को बदल पाएंगेमरने के बाद तो सब कुछ खत्मपर ऐसी मौते एक सवाल छोड़ जाती है और एक सबक सवाल ये की इतनी चकाचौंध इतनी भीड़ फिर भी इंसान अकेला क्यों? और सबक ये की जिंदगी की सबसे बड़ी जरूरत खुशी पैसे से नही मिलती ',\n",
       " 'uski daal gal bhi jaegi pakk bhi jaegi tum ba sitti k bajn ka wait kart rhnasarcasm',\n",
       " 'wah gobhi ji wah  मोदी_ही_पप्पू_है factsmatt hypocrit chowkidar_kamjor_hai liarinchief modihaitohmumkinhai modimadedisast sarcasm ',\n",
       " 'आज जननेता युवा दिलों की धड़कन मा विधायक gorakhnath baba जी को जन्मदिन की बधाई हैपूरे मिल्कीपुर में खुशियां छाई है।।सुशील मिश्रा भाजपाmlagorakhnath ',\n",
       " 'happi birthday rahul gandhi ji ',\n",
       " 'kisi ki muskurahaton pe ho nisaarkisi ka dard le sako toh lo udhaarkisi ke waast ho tere dil pyaarjeena isi ka naam hai ️life pandem love smile happiness… ',\n",
       " 'हर बार उम्मींदे बेचैन नही करती हे साहबजब वे पूरी होती हे तो खुशियां अनंत देती हे narendramodi chouhanshivraj vdsharmabjp abhilashbjpmp ',\n",
       " 'मेरा प्यारा सा भांजा क्या smile है हाय अल्लाहकोई प्यारा सा नाम बताओ आप लोग जो छोटा हो पर quit हो ',\n",
       " 'muskurana yog hi hai: smile ek fayad anekbenefitsofsmil smile rvtalk depress mentalhealth justiceforsushantsinghrajput karanjohargang thstudents_livesmatt weakestpmmodi ckmkb ',\n",
       " 'har baat pe rulat ho insaan ho ya pyaaz sarcast sarcasm meme memesdaili meme meme',\n",
       " 'आज का सुविचारmanishsai happi life gratitud gratitudequot quot studygram quot quotestagram daily_thoughts_and_quot dailythought inspirationalquot motivationalquot daili dailymotivation… ',\n",
       " 'वो मेरी रस्सी थी मैं उसकी पतंग।छोड़कर हवाओं में हो गए असंग।।margrtmacwan drkumarvishwa breakheartsarcasm',\n",
       " 'टूटे कांच की तरह चकना चुर हो गएचुभ ना जाए कहीं इसलिए सबसे दूर हो गए।sad life',\n",
       " 'jaib khali ho phir bhi mana nahi karta baap se ameer insan dekha nahi main happi father day ',\n",
       " 'archoud आपके जीवन में नए रंगो के साथ नई सोचईमानदारीदया और करुणा का संचार हो happi birth day',\n",
       " 'matlb ki duniyaa hai sahabjab tak pyaar tha apn aaj apn sath kal kisi ke sathsad',\n",
       " 'मैं जिनकी परछाई हूँ  be_you fashion beauti smile happi style danc inspir mother mrs_india_international_ mrs_india_universe_ model_of_the_year_ indian_icon indian_icon_award architect ',\n",
       " \"batao beet gay ap ko gay huy aj bhi ek baki h thod ke sare bandhan ek baar gale lag kar rone ki chah baki hhappi father' day\",\n",
       " 'kisi bach k khilon jaisa mera hona bhi na hone jaisa hahaha mad sad',\n",
       " 'पहले ज़ख़्म ही शामिल हुये दिल के फ़साने में ख़ुशी दाख़िल हुई है अब मेरे ग़म के ख़ज़ाने मेंपड़ा वीरान घर अब चूड़ियों से ख़न_ख़नायेगातेरी जब छनकेगी पायल मेरे इस आशियाने मेंवीरान voic  ',\n",
       " 'पंजाब में शराब के बाद अब अवैध रेत खनन रोकेंगे टीचर्स sad ने की कैप्टन सरकार की आलोचनाpunjab | amarindersingh | illegalsandmining',\n",
       " 'हमेंं खालिस्तान नहीं बल्कि पूरे अधिकारों वाला राज्य चाहिए : ढींडसा sad congress punjab ',\n",
       " 'dukh sabki life hailekin iska matlab ye nahi kiatma hatya karloraast bhut hai dhundna aapko hai konsa sahi konsa galatsad india trendingnow trend writerslif writer twitter quot messagetotheworld ',\n",
       " 'trendulkar kuchh media karmi ke hisab se bhai sahb apni maut ke khud jimmedar hai duti ke waqt tafri nahi karni chahiy thi inhe sad senasemaafimangoaajtak aajtak ',\n",
       " 'धर्म की सबसे सरल व्याख्या हमारे कारण किसी भी आत्मा को दुख ना पहुंचे यही धर्म हैजय माता की जय गुरुवर कीbmksजय_माता_कीshri_shaktiputra_ji_mahrajbmks_india bscp_bharat poojabmk krishna_bscp ravigupta ',\n",
       " 'ankho k charagho mein ujal na rahengeaa jao k phir dekhn wale na rahenge - khumar barabankvishayari ghazal urdu poetri nazm ashar indian shair india paki pakistan pakistani pashto hindi punjabi sad quot quot',\n",
       " \"मुसीबत' और 'ख़ुशी' बिना किसीअपॉइंटमेंट के आ जाती हैइसलिए अपने आप को इतनातैयार रखे किमुसीबत के समय 'होश' औरख़ुशी के समय 'जोश' कायम रहे हर हर महादेव\",\n",
       " '\"पिता धर्मः पिता स्वर्गः पिता हि परमं तपः।पितरि प्रीतिमापन्ने प्रीयन्ते सर्व देवताः।।\" समस्त मित्रों को अंतर्राष्ट्रीय पिता दिवस की हार्दिक बधाई व शुभकामनायें happi father\\' day ',\n",
       " '\"★→ 『अपना』 तो बस एक⃣ असूल️ हैंsmile करो dil️️ से और _dosti निभाओ _jigar सेदेशहित में \" ',\n",
       " 'एक पड़ोसी टिड्डी भेज रहाएक पड़ोसी कोरोना भेज रहा और लद्दाख में टेंट भी गाड़ रहाएक पड़ोसी मन मर्जी के नक्शे छाप रहा है।।।।।।श्रीलंका भाई तु क्यो शरमा रहा है। आजा तू भी रावण कि मौत का बदला लेलेे । sarcasm',\n",
       " 'ann sheehan femalemuscl flexfriday saturdaymorn saturdayvib muscl massiv bodybuild pec flex chest chestday smile fitnessmotiv fit gain girl women strongwomen femalebodybuild gym grow getbig girlswithmuscl workout muscl ',\n",
       " 'राजस्थान की शेरनीराजस्थान विश्वविद्यालय की आन बान शान वर्तमान छात्र संघ अध्यक्ष बहिन पूजा_वर्मा को जन्मदिन की हार्दिक बधाई एवं शुभकामनाएं। happi birthdayपूजा वर्मा rajasthan universitypoojavermaru ramesh__azad ',\n",
       " 'खुशी के फूल उन्हीं की झोली में गिरते हैं जो दूसरे की सेवा अपनों की तरह करते हैं । ',\n",
       " \"कड़ी धूप में घनी छांव हैं बाबूजीहर मुश्किल में सच्चे सुझाव हैं बाबूजी।happi father' day fathers\",\n",
       " 'thedeshbhakt sattir wala dharm nhi chhoro ge shahab ab mtlb mt puchhna abhi tak mene googl nhi kiya hai sarcasm',\n",
       " 'happybirthdaytom आज मेरा जन्मदिन है। कोई wish नहीं करोगे।इसी खुशी में मै आज + को प्रमोट कर रही हूं। तो भिर डर किस बात की मुझे follow और retweet करके अपना हदेल कॉमेंट में डाल दो। मुझे follow करना ना भूले। ',\n",
       " \"- पिता - पिता रोटी है कपड़ा है मकान है - पिता - पिता छोटे से परिंदे का बड़ा आसमान है । एक बात हमेशा याद रखनी चाहिएजीवन में पिता का स्थान प्रभु से कम नहीं है।पिता दिवस की हार्दिक शुभकामनाएं happi father' day \",\n",
       " 'alway sadहमेशा की तरह आज वो फिर उदास था।दूर बहुत निकल गया जो बैठा पास था।एहसास के काँटे मुझे भी चुभ रहे होंगेसोच रहा था शख्सजो मेरा दर्द शानास थाsurind kaur￼ ',\n",
       " 'लोग पूछते हैइश्क क्या है?इश्क महज मोहब्बत नहीं हैइश्क दुआ हैइश्क लगाव हैइश्क यारी हैइश्क इबादत हैइश्क इज्जत हैइश्क परवाह हैइश्क हंसी हैइश्क ठहराव हैइश्क मंजिल हैइश्क सबसे ज्यादा एक दूसरे कीखुशी हैबज़्म ',\n",
       " 'आज “irony” भी सुबक सुबक कर रोने लगी जब एक पार्टी विशेष ने “vocalforlocal” सम्मेलन zoom पर करवाया ।kataksh',\n",
       " 'guddu bhaiya say :“middl class aadmi aadmi nhi chutiya hota hai chutiyachah bhenchod tum kitna bhi talent ho yahi paida hoke yahi nipat jaoge” felt : ( sarcasm memer',\n",
       " 'srila prabhupadakrishna devot love inspir motiv photooftheday fashion beauti happi cute iskcon trend ',\n",
       " 'राजस्थान विश्वविद्यालय की आन बान शान वर्तमान छात्र संघ अध्यक्ष बहिन poojavermaru को जन्मदिन की हार्दिक बधाई एवं शुभकामनाएं। happi birthday sisterपूजा वर्मा rajasthan univers ',\n",
       " 'yadavakhilesh बिना बीवी वालों को तो कोई मकान किराए पर नहीं देता इन्होंने देश दे दिया। कटाक्ष।',\n",
       " \"हसतमुख चेहराटिपलेला एक क्षण'फssss फोटुतला' फोटोग्राफी photographi photo smile express \",\n",
       " 'क्या हम मेला भी जाएंगे?खुशी पूछती हैहाँ हम मेला भी जाएंगे और पकोड़े बर्फी भी खाएंगे खुशी के पिता कहते है खुशी इस बात को सुनकर नाचने लगती है और घर आते वक्त रस्ते मे अपनी सहेलियों को बताती है कि मै अपने माँ पापा के साथ मेला देखने जाउंगी पकोड़े बर्फी भी खाउंगीऔर है',\n",
       " 'बस यूँ ही। celebr photoshoot deepfeel smile dark insid amj anandmohanjha ',\n",
       " 'राजस्थान विश्वविद्यालय वर्तमान छात्र संघ अध्यक्ष बहिन पूजा_वर्मा को जन्मदिन की हार्दिक बधाई एवं शुभकामनाएं। happi birthdayपूजा वर्मा rajasthan universitypoojavermaru ',\n",
       " 'ajitkasthana republ ani ironi नरेंद्र मोदी जी भारत के शत्रुओं पर आक्रमण करने के लिए सभी संसाधनों को जुटा रहे हैं लेकिन विडंबना देखिए पूरी वाड्रा कांग्रेस मोदी जी पर आक्रमण कर रही है। मनमोहन सिंह कह रहे हैं हम चीनी जनवादी प्रजातंत्र और पाकिस्तान से एक साथ लड़ेेंगे। कांग्रेस एकजुट नहीं है।',\n",
       " 'मैं अपनी जिंदगी ही वार दूँअपने पापा को आज मैं क्या उपहार दूँ ?तोहफे में फूल दूँ या गुलाबो का हार दूँ?मेरी जिंदगी में जो है सबसे प्याराउस पर तो मैं अपनी जिंदगी ही वार दूँhappi father’ day ',\n",
       " 'दुख जब हमारी कहानी सुनता है तो खुद दुख को दुख हो जाता हैsad sad real_ragini adarshsingh',\n",
       " 'शास्त्रों लिखा है: इंसान को जो माइलेज ज़िंदा रहते मिलनी चाहिए वो मरने के बाद ही मिलती हैlironi',\n",
       " 'nibbii - boyfriend banan ke bad ~ ( pyaar andha hota haim - beta pyaar andha nhi hota tune \"andhadhun\" pyar kiya hai ashusarcasm memesdaili sarcast viratkohli abdevilli',\n",
       " 'मेरे नेता “जननायक” श्री राहुल गाँधी जी को जन्मदिन की हार्दिक बधाई एवं शुभकामनाएं। मैं आपके उत्तम स्वास्थ्य और दीर्घायु की कामना करता हूँ। happi birthday harishrawatcmuk rahulgandhi rgwayanadoffic rtforindia manishtewari allavaru ghulamnazad pramodkhari pramodk ',\n",
       " 'कोरोना बीमारी से लड़ने के लिए लोगों को जागरूक करने की मुहिम के तहत सोमवार को महाराजा अग्रसेन चौक रेलवे रोड पर शरीर की प्रतिरोधक क्षमता बढ़ाने के लिए सभी युवा साथियों ने लोगों को हर्बल काढ़ा पिलाया। रोहतक भाजपा के कार्यकर्ता लोगों के सुख और दुख में सदैव साथ रहते हैं ',\n",
       " 'rahulgandhi hãppi ßîrthdãi ßhaîya rahulgandhi बाबा महाँकाल का आशीर्वाद सदैव आप पर बना रहे।जन्मदिन की बहुत बहुत शुभकामनाये।जय श्री महाँकालविकास मंडलोई',\n",
       " 'दुनिया के लोग मिलेंगे बहरूपिया के रूप में पिता पिता होता है पता चला आप के जाने सेमुझे रख दिया छांव में खुद जलते रहे धूप मेंhappi father day ',\n",
       " 'me_moharsingh sachinpilot rajcmo rajshikshanew माननीय शिक्षा मंत्री जी रीट_लेवल_वन_एवं_टू वेटिंग_लिस्ट जारी_कर_ एवं _पदों पर नियुक्ति_दे राज्य सरकार जिससे युवाओं को सरकारी सेवा करने का अवसर मिल सके साथ ही परिवार में खुशी आ सके।',\n",
       " 'युवा इंजिनियर imvkohli एवं क्रिकेट के दीवाने मेरे छोटे भाई nishchal_murdia जी को जन्मदिन की बहुत बहुत शुभकामनाये एवं बधाई happybirthday cake happi birthday birthdaywish पापा_का_परा ',\n",
       " 'happi thalapathi vijay anna',\n",
       " 'sonaman rajdevj dixit_ eklavya jeetensingh seriousfunnyguy kanpurwaleatul real_netan prayagrajwal prrretatma ranjeet sahilvika mishraaashish msbedi sweetu vinaydw sadhanadubey sweet_bhawna \"जो आपकी खुशी के लिए अपनी हार मान लेता होउससे आप कभी भी जीत ही नहीं सकतेसुप्रभात सखी ️ ',\n",
       " 'आज खुदा ने फिर पूछातेरा हँसता चेहरा उदास क्यों हैतेरी आँखों में प्यास क्यों हैजिसके पास तेरे लिए वक्त नहींवही तेरे लिए खास क्यो है ',\n",
       " 'साजिश की शुरुआत हो चुकी है लेकिन दुख इस बात का है कि इसमें हमारे देश का जवान मारा जा रहा है।',\n",
       " 'सुखदेव ढींडसा का बड़ा बयान भाजपा समेत अकाली दल को दिया तगड़ा झटका statement akalid bjp punjab polit elect part sad ',\n",
       " 'shabbat shalom happi shabbat torah ',\n",
       " 'आदि से अनंत तक बस यही रही है परंपरा कायर भोगे दुख सदा वीर भोग्य वसुंधराराजा रामचंद्र की जय ',\n",
       " 'itna bore hu ki mujh closeup bhi thaazki ka ehasaa nahi de paatamem sarcasm',\n",
       " 'room bedroom ( ＾∀＾) today saturday photo happi hapi kyoto japan ',\n",
       " 'डिप्रेशन के शुरुआती आठ लक्षण उदाहरण और इलाज anxieti mentalhealth mentalhealthawar love sad mentalil selfcar ptsd depress ',\n",
       " 'chamagadar raat ko isliy udt hai kyunki din mei kisi chines ne dekh liya tohsarcasm sarcast nikhil meme boycottchina',\n",
       " 'मौजूद वक़्त शायद आने वाला वक़्त के लिए मौजूदा इतिहास को एक नए रूप से लिख रहा है ।sad',\n",
       " 'भरोसा प्यार दोनो किया थाइसमें कोई खता तो नहींवो मेरे कुछ अपने ही थेजो आग लगाकर देखने आएकहीं कुछ बचा तो नहीं।।sad',\n",
       " 'happi father dayबात दिल की जान ले जोआंखों से दर्द पहचान ले जोदर्द हो चाहे हो खुशीआंसुओं की पहचान कर ले जोवो शख्स जो बेपनाह प्यार करेपिता ही तो है वो जो बच्चों के लिए जिएआई लव यू पापा ',\n",
       " 'सीख रहा हूं पापा से बलिदान त्याग की परिभाषा।।जब हमें प्यास लगी तो हमें पानी पिलाया भूख लगी तो खाना खिलाया।।भले ही खुद क्यों न रहे हों भूखा-प्यासा।।कौशिशें करता हूं क्योंकि पापा मेरे साथ हैं।।क्यूं घबराऊं मैं जब सिर पर मेरे पापा का हाथ है।।happi fathersday ️',\n",
       " 'baalti bhar ke gaaliya dunga ab agar kisi ne trust ka naam liya to sarcasm sarcast',\n",
       " 'munaf_ali tasnim_kapadia snehal margrtmacwan pankaj_ aaravagandhi rj_nakum wahअँधेरों में भटकना है परेशानी में रहना हैमैं जुगनू हूँ मुझे इक शब की वीरानी में रहना हैखुशी सिंह \"शाद\"',\n",
       " \"पिताअमीर हो या गरीब औलाद के लिए हमेशा बादशाह होता है।सुप्रभातhappi father' day ️\",\n",
       " 'जब तक में दुआओ सा सौ दफा तुम्हे पढ़ ना लूँ हाँ हमारे साथ तुम रहो जाने की बात न करो ripsushantsinghrajputdevast sad isol staystrong ',\n",
       " 'happi marriag anniversari mata ji aur pita ji aapk dono ke jeevan ye din bar bar aay ',\n",
       " 'sadनमक की तरह हो गई है ज़िन्दगी लोग स्वाद अनुसार इस्तेमाल कर लेते है',\n",
       " 'लद्दाख से चीनी मुठभेड़ में हमारे कमांडिग ऑफ़िसर और दो सैनिक हुए शहीद शहीद जवानों को शत्-शत् नमन sad',\n",
       " 'बस_एक_वजहरुपया-रुतबा कमाने के तरीके हैं हज़ारोंमुस्कुराने की बस एक वजह ढूंढ लो यारोंदूरियां-तल्खियां बढ़ाने के बहाने हैं हज़ारोंपास आने की बस एक वजह ढूंढ लो यारों seasonviewsp courtesi googleimagesearchsmil peac innoc onlyfan happinesscontinu ',\n",
       " 'क़ुबूल कैसे करूँ उन का फ़ैसला कि ये लोग मेरे ख़िलाफ़ ही मेरा बयान माँगते हैं sad ',\n",
       " \"माँ बाप का दिल जीत लो कामयाब हो जाओगे। वरना सारी दुनिया जीत कर भी हार जाओगे ️ happi father' day \",\n",
       " 'narendramodi चीनी_सैनिकों से झड़प में शहीद सैनिक की मां ने कहा-दुखी हूं लेकिन बेटे पर गर्व है।\"',\n",
       " 'यह जरूरी नहीं कि आप हर वक्त मुस्कुराते रहे हंसते रहेकभी-कभी दिल खोल कर रोना भी चाहिए जिससे आपके दुख उसमें बह जाए।',\n",
       " 'अगर आज नेहरू जी होते तो शी जिनपिंग की बीवी को एडविना की तरह पटाकर सिगरेट पिलाकर अपने वश में कर लेते और तिब्बत ही नहीं सीधे शंघाई पर कब्जा कर लेते इश्क़ और जंग में सब जायज़ है (नेहरू की किताब द ठरकी नेहरू से ) जय कांग्रेस आक थू कटाक्षincindia',\n",
       " 'सुमधुर_संध्या_बंदनहे__श्याममुश्किल हो हालातयाद तुम आते होमन हो उदासयाद तुम ही आते होयूँ तो जिंदगी मेंअपनो की जरूरत पड़ती हैसाथ तुम ही निभाते हो श्री_राधे_राधे️जय_श्री_राधेकृष्णा️ ',\n",
       " 'तेरी खुशी से ही नहीतेरे गम से भी रिश्ता है मेरातू ज़िंदगी का एक अहम हिस्सा है मेराये दोस्ती तुमसे सिर्फ़ लफ़्ज़ों की नहीरूह से रूह का तुम से रिश्ता है मेरा ',\n",
       " 'wo mahroom taleem se magar mujko prhaya unho nepassena ad se barh kr mre hatr bhaya hekhra rhta ho jo shakhoon apna sar utha k memr papa ne aj mujko wabil bnaya hehappi father day',\n",
       " 'theunborngirl bazmoffici तुम्हारी धड़कन में बसी हैं मेरी रूह तुम्हारी हर smile में मै ही तो हूंबज्म good night tc',\n",
       " 'आज का दिन बहुत ही सुन्दर है क्यू की आज -- को गोरखपुर के माननीय सांसद श्री ravikishann शुक्ला जी के निजी पी आर ओ पवन दुबे जी pawandu का जन्मदिन है proभईया आप को जन्म दिन की बहुत बहुत बधाई हो happi birthday ',\n",
       " 'खुश रहना है तो जिंदगी के फैसले अपनी परिस्थिति को देखकर लेदुनिया को देखकर जो फैसले लेते हैं वह दुखी हीं रहते हैं',\n",
       " 'happi motorcycl day tribemc doha qatar doha state qatar ',\n",
       " 'dil krta hai thora roo lomagr usay wada kiya tha teray liy kabhi nhi rooingay sad',\n",
       " '¡jipi jai sunday domingo sonrisa smile selfi selfiehol selfiegram selfietim instadayli selfiemood instaselfi instalik selfiemood instagirl happi dientona felizota chill… ',\n",
       " \" ऑनलाइन लर्निंग- चिल्ड्रन्स समर फेस्टिवल' जून तक आयोजन- बुधवार जून को आर्ट टॉक coronaupdatesinindia worldwar indiachinafaceoff indianarmi boycottchineseproduct jaihindkisena indianarmyzindabad bycottchina covid bjp help smile peac\",\n",
       " 'एक न्यूज चैनल ये दिखा रहा है कि दुनिया खत्म हो रही है दूसरे चैनल पर चल रहा ग्रहण का अगले साल आप पर क्या असर पड़ने वाला हैironi',\n",
       " 'pti_new मोदी है तो मुमकिंन है चाये पैदल ही चलना पड़े मेरे मजदूर भाइयो की तरह लेकिन आयेगा तो मोदी----sarcasm',\n",
       " 'दुखद खबर जम्मू कश्मीर के कुलगाम में तैनात शिमला गांवसरदारशहर के वर्षीय राष्ट्रीय राइफल के सैनिक लीलु राम सारण का निर्धन हम सबके लिए दुखद है ईश्वर से प्रार्थना है कि जवान सहित लीलू राम की आत्मा की शांति मिले एवं उनके परिवार को इस दुख की घड़ी में सहन करने की',\n",
       " 'ये बात सुनकर पास ही खड़ी एक बुजुर्ग कहती है बेटा खुशी मेरे लिए क्या लाओगी मेले से ?काकी हमारी फसल बहुत अच्छी हुई है मैं आपके लिए नए कपडे लाऊंगी खुशी कहती हुई घर दौड़ जाती है  अगली सुबह खुशी स्कूल जाकर अपनी मैडम को बताती है की मैडम इस बार हमारी फसल बहुत अच्छी हुई हैऔर है',\n",
       " 'dil hi saaf rakhlo shakal ka vais bhi kuchh nahi kar sakte meme meme meme memesdaili sarcasm sarcast',\n",
       " 'हर रोज करो योग जीवन भर रहो निरोग।शरीर मन और आत्मा को जोड़ने का विज्ञान है योग।शरीर में रोग-प्रतिरोधक शक्ति बढ़ाकर ही कोरोना बीमारी से लड़ा जा सकता है। ऐसे में योग का महत्व और ज्यादा बढ़ जाता है। इस वर्ष covid के चलते घर पर रहकर ही योग करें। happi yogaday ',\n",
       " 'योगी जी चाहे तो तुरंत भारत को corona मुक्त कर सकते है। बस उन्हें भारत का नाम बदलकर न्यूजीलैंड रखना है।sarcasm',\n",
       " 'मेरे होठों की हँसी मेरे पिताजी की बदौलत हैमेरी आँखों में खुशी मेरे पिताजी की बदौलत हैपिताजी हमारे किसी भगवान से कम नहीक्योकि मेरी ज़िन्दगी की सारीखुशी पिताजी की बदौलत है ।पिताजी को मेरा सादर प्रणाम हर हर महादेव।।जयमाँभारती।।happi father’ day',\n",
       " '“तुम गए क्या शहर सूना कर गएदर्द का आकार दुगना कर गए ripsush ripsushantsinghrajput ripssr sad rip msdhoni',\n",
       " 'kaun kitn dard ko dil chupa raha hai samjh nahi pata hai koijab behadd tod dete hai halat kisiko tab hi maut ko gale lagata hai koimay soul rest peacesusantsinghrajput msdhoni depress sucid bollywood sad ripsush restinpeac',\n",
       " 'अब बिहार से कोई भी लड़का मायानगरी के इस भयावह जाल में फसने से पहले खुद को रोक लगा या उसके परिवार वाले रोक देंगेकैसा उदाहरण दे के चले गए tum bhul nhi pawogeshushant_singh_rajput bollywoodbreak mumbai sad srp sonusood salmankhan bollywood amitabhbach',\n",
       " 'क्या बे तुम तो कायर निकले लड़ना था। साला तुमसे प्यार हो गया था धोनिया की जीवन की घर घर पहुचाये लोगो को लड़ने का सन्देश देकर खुदे हार गए। shock sad itsssr',\n",
       " \"rakeshkhatana बात आपकी सही है मुझे बहुत खुशी होगी उस तस्वीर को लेने में लेकिन नौकरियां लगने के बाद कौन याद करता है? अभी तक जो नौकरी लगे है वो न जाने कहाँ गायब हैं- हजारों की नौकरी लगने के बाद कोई मिलने नहीं आता हाँ / के फ़ोन ज़रूर आये थे आपको शायद बुरा लगे पर यह 'दुखद अपितु कटु सत्य' है\",\n",
       " 'या तो वहां बिहारी सैनिक नहीं होंगे या तो मोदी की हुंकार ने इतना डर भर दिया है। sarcasm ',\n",
       " \"️बेमतलब की दुनिया में वो हमारी शान है️किसी शख्स के वजूद की 'पिता' ही पहली पहचान है।happi father day\",\n",
       " \"बिना उनके एक पल भी गवारा नहींपिता ही साथी हैपिता ही सहारा हैपिता ही खुशियों का पिटारा है।happi father' day papa g  luv much  father luv \",\n",
       " 'apni takat ho apni kamjori bant hue dekha mainesad',\n",
       " 'योग मनुष्य के शरीरमन और आत्मा कोऊर्जाताकत और सौन्दर्य प्रदान करता हैंhappi yoga diwa ',\n",
       " '‘मैं हूं ना’ हर किसी की जिंदगी में हो ताकि डिप्रेशन में आने पर कह सकें मन की बात____________________depress anxieti mentalhealth mentalhealthawar love sad mentalil selfcar depress selflov suicid stress recoveri therapi ',\n",
       " 'भारत-चीन बॉर्डर से बहुत बड़ी खबर साल में पहली बार lac पर भारतीय जवान शहीद sad ',\n",
       " 'tum par marn se behtar thahum kisi hadhs mein marr jate - (na-maloom)shayari ghazal urdu poetri nazm ashar indian shair india paki pakistan pakistani pashto hindi punjabi sad quot quot',\n",
       " 'jaihindsonu pandey rajput लाजवाब है सोनू जी �� हम तो खुशियाँ उधार देने का कारोबार करते हैकोई वक़्त पे लौटाता नहीं है इसलिए घाटे में हैlove ',\n",
       " 'ripsush ni jana tha tumko kyu chalay gay apnay papa ko akela rota chod chalay gay aub rakhi pay wo behnay kisko bandhegi rakhi aysa kyu kiya tumnay k sabko rula gayi feel ki stress kya hota haibut kash koi hota us wakt apkay pass feel sad',\n",
       " 'एक पंडित भी घोर कष्ट में आ जाता है यदि वह किसी मुर्ख को उपदेश देता है यदि वह एक दुष्ट पत्नी का पालन-पोषण करता हैया किसी दुखी व्यक्ति के साथ अत्यंत घनिष्ठ सम्बन्ध बना लेता हैं।।',\n",
       " 'zyada achey b mat bano yad rkho k meethey phal hamesha chaku ki nok par hotey hain happi',\n",
       " \"पिता के होने से सारी मुश्किल आसान होती है पिता से ही तो बच्चों की पहचान होती है।happi father' day \",\n",
       " 'ghamand na kar mere dostsuraj aaj chand ban gyatu insaan haib sarcast photo shot me ',\n",
       " 'दिल तो बहुत उदास है ये जान करकि एक प्रतिभाशाली सफल अभिनेतायुवा इंसान सुशांत सिंह राजपूत ने आत्महत्या कर लीपर जाते-जाते सारे जगत को एक उदाहरण देकर गए हैं:अपार धन दौलत खूब तरक्की एवं शौहरत होने के बाद भी इंसान के लिए मन की शांति होना बहुत जरूरी है।life sad rip ',\n",
       " 'छू ले आसमान ज़मीन की तलाश ना कर जी ले ज़िन्दगी खुशी की तलाश ना करतक़दीर बदल जाएगी खुद ही तेरी मुस्कुराना सीख ले वजह की तलाश ना कर सुप्रभात',\n",
       " \"शुभ_प्रभात खुशी के लिए काम करोगे तोखुशी नहीं मिलेगी••••लेकिन खुश होकर काम करोगे तोखुशी और सफलता दोनों मिलेंगी️️️️️️️️️️good morn friend' nice day \",\n",
       " 'में सच ही बोलूंगा।भाई दुख तो होता है जब कोई अच्छा इंसान इस दुनिया से जाता हैं पर भाई कायरता का काम होता है आत्महत्या करना और तुम एक कायर की मिसाल कायम कर गए अपने चाहने वालो के लिए दुख दे गए। मां भवानी आपकी आत्मा को शांति प्रदान करे।sushantsinghrajput',\n",
       " 'happybirthday girl besti friendsforev happi vishnavi ',\n",
       " 'aajkal aacha comedi karn laga hai ye salmankhan  fan kon hai yeiska aisa hi hai arijitsingh wale case vi aisa hi hua tha isko mera favourit celebr hi milta hai like arijit shushant arrestmurdererofsush beinghumansalmankhan sad ',\n",
       " \"पिताअमीर हो या गरीब औलाद के लिए हमेशा बादशाह होता है।happi father' day ️अंतरराष्ट्रीय योग दिवस की शुभकामनाएं\",\n",
       " 'rahulgandhi kanhaiyakumar yadavtejashwi tejyadav dr_uditraj hansrajmeena incindia rishibagre तो उसमे चाइनीज एवम् पाकिस्तानी भी होंगे तथा उनकी संख्या कम नहीं होगी। तुम्हारास्तर बस कटाक्ष तथा मखौल उड़ाने से इतर कुछ नहीं थावो भी गलवानघाटी जैसे संवेदनशील_मुद्दे पर। rishibagre जी का प्रतिउत्तर में किया गया ट्वीट तुम्हे लज्जित करने के लिए पर्याप्त है यानि \" मियां की ',\n",
       " 'jaihindsonu singhchunni satyapr कितने वीरान है ये दिन और सूनी रातेहर उदास पल का हिसाब तुम्हे दूँ मैं कैसेlove ',\n",
       " 'bollywood sadquot sad thoughtfortheday feelingsज़िन्दगी भी बड़ी धोखेबाज है कब साथ छोड़ दे किसी को नहीं पता️️miss u kammo️️',\n",
       " 'wise man said “ jab tak desh saneema hai log chutiy bant rahenge” - ft ramadh singh gangsofwasseypur boycottkaranjohargangmovi nepot boycottbollywoodnepot twitter sarcast',\n",
       " 'dharti pe jo mujh na apna ske wo mujh sitara bn chamkta dekhega dedic sushantsinghrajput ️️ rip bollywood msdhoni chichor pk bestactor raabta feel sad unbeliev shock restinpeac kedarnath nepot ',\n",
       " 'बहुत ही दु:खद भगवान उनकी आत्मा को शांति दे और इस दु:ख की घड़ी में उनके परिवार जनों को शक्ति दे।sad news ',\n",
       " 'baat jab bhai ki ho toh dimaag nahi sirf dil kaam karn lagta hai ️️️brother weddingdairi wed shadi smart smile person attitud amaz darshanbudhrani verifi verif lookoftheday love instagram facebook indianarmi ',\n",
       " 'पिता के बिना जिंदगी विरान होती हैतन्हा सफर में हर राह सुनसान होती हैजिंदगी में पिता का होना जरूरी हैपिता के साथ से हर राह आसान होती है।happi father day ambikapur india ',\n",
       " 'lolz musharaf ki baqiyaat ab civil supremaci ki tabeleegh dy rahy ironi \\u200d️\\u200d️ ',\n",
       " ': kisi ne bataya tum kitni khubsurat ho?sh : nahim : hoti tohi batateirealistech irealistech teamirealistech girltalkza girl girl girlfight fact fun funniestmem meme lol laughter beauti sarcasm sarcast carryminatiroast',\n",
       " 'महसूस करोगे तो कोरे काग़ज़ पर भी नज़र आएंगेहम अल्फ़ाज़ हैं तेरे हर लफ़्ज़ में ढल जाएंगे खुशीशुभरात्रि ',\n",
       " 'insearch_ajit chouhanshivraj बहुत सही कहा आपने नम्बर एक कटाक्ष',\n",
       " \"पापा आप संबल हैंआप अभिमान हैंआप स्वाभिमान हैंआप साँस हैंआप शक्ति हैंआप समर्पण की प्रतिमूर्ति हैंआप जीवटता के जीवंत हस्ताक्षर हैंआप शान हैंआप मान हैआप मेरे लिए जान हैपापा आपको नमन हैआपकी तारीफ से नहीं कर सकता हुँ happi father' day \",\n",
       " 'यहाँ लोगों को अपना इगो नहीं छोड़नाअपनी गलती नहीं माननीअपने लोगों को time नहीं देना उनको आपके support की जरूरत है या नहीये भी नहीं सोचना हैसबको सिर्फ अपने घोड़े dodan हैसिर्फ मे सही हु तुम गलत ये prove करना हैपर आपके मरने के बाद आपकाhe legent वाला पोस्ट डालना हैsad',\n",
       " 'जादा किसी चीज मे उल्झो मत अगर नाहि हो रहा तो कोई बात नहीं पर खुद पे ज्यादा बोझ रखो मत जितना संभाळ साको उतना ही लेनायाहा हार जीत तो चलती रहेगी mind balanc stress happi',\n",
       " 'दिखाई बेशक किसी को न दे पर शामिल ज़रूर होता हैहर खुदकुशी करने वाले का कोई न कोई कातिल ज़रूर होता है।ripsush ssr nepot mondaythought sushantsinghrajput sad suicide_is_not_solut news gonetoosoon mentalhealthisimport rip ',\n",
       " ' मुस्कुराओ क्योंकि आपकी हॅंसी किसी की ख़ुशी का कारण बन सकती है _cutypiess manvika__ priyank riya__supriyasmilepleas  ',\n",
       " 'dbbu_n_dabaliya ke dil ke pitar se kuch mithi si yadein love respect khushi dil dilkibatein masum unconditionallove️ smile aankhekhulihoyabandh️ dbbudabaliyacouplegoalscouplescouplelove… ',\n",
       " 'raazi -thakur harshit negishayrilov shayri hindipoetri truelov writer real writersofinstagram startup therealisticdic music smile foryou instagramm viral vibe feel workfromhom hurtquot motiv motivationalquot pahadishayar ',\n",
       " \"हैँ समाज का नियम भी ऐसे पिता सदा गम्भीर रहे मन में भाव छुपे हो लाखोँ आँखों से न नीर बहे happi father' day love u papa \",\n",
       " 'चिट्ठी न कोई संदेश जाने वो कौन सा देश जहां तुम चले गएlucknow mumbai sushantsingh suicid bollywood sad ',\n",
       " 'मेरे जोशबंदों अबतल्ख़ियां उतारिएहंसिए हंसाइए थोड़ा मुस्कुराइएsmile jock ',\n",
       " 'ज़िंदगी में अगर कुछ सबसे ज्यादा import है तो वो है खुद जिंदगी।ripsush greatactor motiv sushantsinghrajput wildernessindia msdhoniuntoldstori chhichhor kedarnath ripsush omshanti worstyear sad depress anxieti bollywoodactor ',\n",
       " 'कामयाब व्यक्ति अपने चेहरे पर दो ही चीजें रखता है- मुस्कराहट और खामोशी।successsmil silencemondaythought',\n",
       " 'योग हमें उन चीजों को ठीक करना सिखाता है जिसे सहा नहीं जा सकता है । और उन चीजों को सहना सिखाता है। जिन्हें ठीक नहीं किया जासकता happi intern yoga day ',\n",
       " 'sushantsinghrajput suicid क्यों?? चमक धमक सिर्फ दिखावा है इस फिल्म इंडस्ट्री का बाकी सब अंदर से टूटे हुए हैं चाहे फिर वो कितना भी महान अदाकार क्यों न सबकी जिंदगी सिर्फ दिखावा है सिर्फ घोर दिखावा sad',\n",
       " 'बड़े पूंजी वालों को खेती सौंपने के लिए लाये जा रहे कानून – रामपाल जाट  via youtub coronaviru covid covidindia bjp narendramodi stayhom stayhomestaysaf help smile lifestyl coronawarrior coronaupd hollywood trend flyingbeast',\n",
       " 'लद्दाख बोर्डर पर सेना की तरफ से एक टीले पर राहुल के बैठने का बंदोबस्त किया जाना चाहिए कि वो सब लाइव देख सके और बाद में अपनी जिज्जी के साथ मिल के चीन की सरकार के साथ साझा भी कर सके। साथ में इसको इंडिया चाइना के अग्रिमेंट भी पकड़ा दो ताकि बीच में पढता रहेकटाक्ष ekhivillain',\n",
       " 'हर जगह मुझे आपके ही नाम से पहचान मिलती है पापा भला इससे बड़ी शौहरत इस ज़माने में ये किया होगी मेरे पापा।। happi fathersday ️️fathersday love_u_papa',\n",
       " 'never date person \"who diet\" jo khud ke bodi ka na ho saka wo tumhara kya khak hoga️mem memesdaili meme memeswholesom meme indianmem indianmem fact diet trust love sarcasm sarcast humor hilari funniesttweet funniestmem',\n",
       " 'अटल_जन_शक्ति_संगठन के प्रदेश_अध्यक्ष_गुजरात श्री_हरदेश_प्रजापति_जीआपको जन्मदिन पर बधाई और हार्दिक_शुभकामनाएं…आने वाला प्रत्येक नया दिनआपके जीवन में अनेकाे सफलताएँ एवं अपार खुशियाँ लेकर आयेमहाकाल की कृपा आप पर सदैव बनी रहेअटल_जन_शक्ति_संगठन ',\n",
       " 'kya khushiya pedh par ughti hai ke jab jee chaha pedh se tod diya sidharthshuklasidnaazshehnaazian sidnaazforev sidra missingyoushehnaaz shehnaazian shehnaazgiii asimriaz trend rashamidesai himanshikhurana askhina bhuladungam sad delhi depress ',\n",
       " 'dynamiccreativ दुख चाहे कितना भी आयेलेकिन दुख की परछाई कभीअपने बच्चो पर नही आने देते हैऐसे होते है पिताफिर बच्चे कैसे भूल जाते है यार \\u200d️\\u200d️',\n",
       " 'फ़िक्र तो उसे होती है जिसे मुहब्बत होतुम तो सिर्फ खेल रहे थे जज़्बातों से।sad',\n",
       " 'post daaln ka bhi ek funda hai-rakht kisi aur ke liy hai-feel kisi aur ko aati hai-galatfemi koi aur par leta hai-repli koi aur hi kar jata haisarcasm meme',\n",
       " ...]"
      ]
     },
     "execution_count": 69,
     "metadata": {},
     "output_type": "execute_result"
    }
   ],
   "source": [
    "corpus"
   ]
  },
  {
   "cell_type": "code",
   "execution_count": 70,
   "metadata": {
    "colab": {
     "base_uri": "https://localhost:8080/",
     "height": 52
    },
    "executionInfo": {
     "elapsed": 136,
     "status": "ok",
     "timestamp": 1706520812748,
     "user": {
      "displayName": "Priyanshu Gupta",
      "userId": "03767503421074668028"
     },
     "user_tz": -330
    },
    "id": "EUfXIgMu-OMv",
    "outputId": "0ae2d940-588f-47d3-be2c-19c451bf1980"
   },
   "outputs": [
    {
     "data": {
      "text/plain": [
       "'ईश्वर की सबसे खूबसूरत धरोहर \"पिता\" के त्याग बलिदान उनकी मेहनत तथा प्रेम को हम सच्चे हृदय से नमन करते हैंhappi father\\' dayaawazehindhappyfathersday fathersday aawazehindnew drkumarvishwa adcrickettak mirchibollywoo journonikku '"
      ]
     },
     "execution_count": 70,
     "metadata": {},
     "output_type": "execute_result"
    }
   ],
   "source": [
    "corpus[1]"
   ]
  },
  {
   "cell_type": "code",
   "execution_count": 71,
   "metadata": {
    "colab": {
     "base_uri": "https://localhost:8080/"
    },
    "executionInfo": {
     "elapsed": 135,
     "status": "ok",
     "timestamp": 1706520812748,
     "user": {
      "displayName": "Priyanshu Gupta",
      "userId": "03767503421074668028"
     },
     "user_tz": -330
    },
    "id": "mp6uDRWOyLsU",
    "outputId": "bdb85050-431e-4ed4-80ac-342f3cf172c9"
   },
   "outputs": [
    {
     "data": {
      "text/plain": [
       "1132"
      ]
     },
     "execution_count": 71,
     "metadata": {},
     "output_type": "execute_result"
    }
   ],
   "source": [
    "len(msg)"
   ]
  },
  {
   "cell_type": "code",
   "execution_count": 72,
   "metadata": {
    "id": "w2LwcbdByLvW"
   },
   "outputs": [],
   "source": [
    "onehot_rep=[one_hot(words , voc_size) for words in corpus]"
   ]
  },
  {
   "cell_type": "code",
   "execution_count": 73,
   "metadata": {
    "id": "smtuOKYOVEkl"
   },
   "outputs": [],
   "source": [
    "# For New Word\n",
    "#a=[\"ईश्वर की सबसे खूबसूरत धरोहर पिता के त्याग बलिदान उनकी मेहनत तथा प्रेम को हम सच्चे हृदय से नमन करते हैंhappi father' dayaawazehindhappyfathersday fathersday aawazehindnew drkumarvishwa adcrickettak mirchibollywoo journonikku\"]"
   ]
  },
  {
   "cell_type": "code",
   "execution_count": 74,
   "metadata": {
    "id": "9sYrdN_vVEwD"
   },
   "outputs": [],
   "source": [
    "#[one_hot(words , voc_size) for words in a]"
   ]
  },
  {
   "cell_type": "code",
   "execution_count": 75,
   "metadata": {
    "colab": {
     "base_uri": "https://localhost:8080/"
    },
    "executionInfo": {
     "elapsed": 7,
     "status": "ok",
     "timestamp": 1706520812749,
     "user": {
      "displayName": "Priyanshu Gupta",
      "userId": "03767503421074668028"
     },
     "user_tz": -330
    },
    "id": "27WMoLwWyLyq",
    "outputId": "9ecc9585-1a97-4459-e058-ff6aa01985f3"
   },
   "outputs": [
    {
     "data": {
      "text/plain": [
       "[4911,\n",
       " 2148,\n",
       " 3907,\n",
       " 1893,\n",
       " 4001,\n",
       " 2359,\n",
       " 1716,\n",
       " 293,\n",
       " 4950,\n",
       " 3693,\n",
       " 2939,\n",
       " 3154,\n",
       " 2416,\n",
       " 1765,\n",
       " 2379,\n",
       " 3196,\n",
       " 3720,\n",
       " 3058,\n",
       " 1184,\n",
       " 3872,\n",
       " 3523,\n",
       " 2226,\n",
       " 1383,\n",
       " 3857,\n",
       " 4105,\n",
       " 1202,\n",
       " 1042,\n",
       " 2928,\n",
       " 2216]"
      ]
     },
     "execution_count": 75,
     "metadata": {},
     "output_type": "execute_result"
    }
   ],
   "source": [
    "onehot_rep[1]"
   ]
  },
  {
   "cell_type": "code",
   "execution_count": 84,
   "metadata": {},
   "outputs": [],
   "source": [
    "from tensorflow.keras.preprocessing.text import Tokenizer\n"
   ]
  },
  {
   "cell_type": "code",
   "execution_count": 85,
   "metadata": {},
   "outputs": [],
   "source": [
    "tokenizer = Tokenizer(num_words=5000)\n",
    "tokenizer.fit_on_texts(df['text'])\n",
    "vocab_size = len(tokenizer.word_index) + 1\n",
    "\n",
    "# Pad sequences\n",
    "maxlen = 100  # Maximum sequence length\n",
    "X = tokenizer.texts_to_sequences(df['text'])\n",
    "X = pad_sequences(X, padding='post', maxlen=maxlen)\n",
    "\n"
   ]
  },
  {
   "cell_type": "code",
   "execution_count": 86,
   "metadata": {},
   "outputs": [],
   "source": [
    "# Pad sequences\n",
    "maxlen = 100  # Maximum sequence length\n",
    "X = tokenizer.texts_to_sequences(df['text'])\n",
    "X = pad_sequences(X, padding='post', maxlen=maxlen)\n",
    "\n",
    "y = df['label']\n",
    "\n",
    "# Split the dataset into training and testing sets\n",
    "X_train, X_test, y_train, y_test = train_test_split(X, y, test_size=0.2, random_state=42)\n",
    "\n",
    "# Build the LSTM model\n",
    "model = Sequential()\n",
    "model.add(Embedding(vocab_size, 32, input_length=maxlen))\n",
    "model.add(LSTM(100))\n",
    "model.add(Dense(1, activation='sigmoid'))\n",
    "model.compile(optimizer='adam', loss='binary_crossentropy', metrics=['accuracy'])\n",
    "\n"
   ]
  },
  {
   "cell_type": "code",
   "execution_count": 87,
   "metadata": {},
   "outputs": [
    {
     "name": "stdout",
     "output_type": "stream",
     "text": [
      "Epoch 1/5\n",
      "15/15 [==============================] - 4s 81ms/step - loss: 0.5906 - accuracy: 0.7878\n",
      "Epoch 2/5\n",
      "15/15 [==============================] - 1s 79ms/step - loss: 0.4597 - accuracy: 0.8298\n",
      "Epoch 3/5\n",
      "15/15 [==============================] - 1s 72ms/step - loss: 0.4574 - accuracy: 0.8298\n",
      "Epoch 4/5\n",
      "15/15 [==============================] - 1s 77ms/step - loss: 0.4599 - accuracy: 0.8298\n",
      "Epoch 5/5\n",
      "15/15 [==============================] - 1s 74ms/step - loss: 0.4640 - accuracy: 0.8298\n"
     ]
    },
    {
     "data": {
      "text/plain": [
       "<keras.callbacks.History at 0x2d2de98ccd0>"
      ]
     },
     "execution_count": 87,
     "metadata": {},
     "output_type": "execute_result"
    }
   ],
   "source": [
    "model.fit(X_train, y_train, epochs=5, batch_size=64, verbose=1)\n"
   ]
  },
  {
   "cell_type": "code",
   "execution_count": 88,
   "metadata": {},
   "outputs": [],
   "source": [
    "model.save('lstm_model.h5')"
   ]
  },
  {
   "cell_type": "markdown",
   "metadata": {
    "id": "ZrPD9tIlPzGO"
   },
   "source": [
    "**Embedding Representation**"
   ]
  },
  {
   "cell_type": "code",
   "execution_count": 77,
   "metadata": {
    "id": "dX9oeOnfQ6be"
   },
   "outputs": [],
   "source": [
    "# Taking Maximum word in sentence   which is 20\n",
    "sent_length=100"
   ]
  },
  {
   "cell_type": "code",
   "execution_count": 81,
   "metadata": {},
   "outputs": [
    {
     "ename": "NameError",
     "evalue": "name 'tokenizer' is not defined",
     "output_type": "error",
     "traceback": [
      "\u001b[1;31m---------------------------------------------------------------------------\u001b[0m",
      "\u001b[1;31mNameError\u001b[0m                                 Traceback (most recent call last)",
      "Cell \u001b[1;32mIn[81], line 1\u001b[0m\n\u001b[1;32m----> 1\u001b[0m embedded_docs \u001b[38;5;241m=\u001b[39m \u001b[43mtokenizer\u001b[49m\u001b[38;5;241m.\u001b[39mtexts_to_sequences(df[\u001b[38;5;124m'\u001b[39m\u001b[38;5;124mtext\u001b[39m\u001b[38;5;124m'\u001b[39m])\n",
      "\u001b[1;31mNameError\u001b[0m: name 'tokenizer' is not defined"
     ]
    }
   ],
   "source": [
    "embedded_docs = tokenizer.texts_to_sequences(df['text'])\n"
   ]
  },
  {
   "cell_type": "code",
   "execution_count": 78,
   "metadata": {
    "id": "aqlZRUHRyL48"
   },
   "outputs": [],
   "source": [
    "embedded_docs=pad_sequences(onehot_rep , padding='post' , maxlen=sent_length)"
   ]
  },
  {
   "cell_type": "code",
   "execution_count": 79,
   "metadata": {
    "colab": {
     "base_uri": "https://localhost:8080/"
    },
    "executionInfo": {
     "elapsed": 999,
     "status": "ok",
     "timestamp": 1706520813743,
     "user": {
      "displayName": "Priyanshu Gupta",
      "userId": "03767503421074668028"
     },
     "user_tz": -330
    },
    "id": "5V0vgiNhyL8E",
    "outputId": "4bf43d9e-53fd-4605-a3d1-a8fde708e072"
   },
   "outputs": [
    {
     "name": "stdout",
     "output_type": "stream",
     "text": [
      "[[2414, 2090, 1973, 3919, 1126, 1973, 2386, 4971], [4911, 2148, 3907, 1893, 4001, 2359, 1716, 293, 4950, 3693, 2939, 3154, 2416, 1765, 2379, 3196, 3720, 3058, 1184, 3872, 3523, 2226, 1383, 3857, 4105, 1202, 1042, 2928, 2216], [1277, 1265, 2382, 2160, 3934, 1897, 4604, 4868, 2371, 268, 4435, 2299, 4868, 2971, 3290, 1579, 3023, 2232, 3529, 1614, 1536, 2667, 4106, 2362, 3221, 1614, 3794, 4106, 1680, 2072, 3324, 3813, 780, 3214, 3122, 1614, 2667, 1787, 3646, 1908, 2970, 3794, 3349, 2887, 3548, 799, 3813, 4723, 3324, 4868, 2937, 3221, 2072, 3384, 3581, 3652, 4868, 422], [3884, 3058, 2351, 3593, 2249, 2339, 2993, 4875, 1961, 3262, 4901, 448, 2530, 3559, 1341, 2394, 2706, 2269, 1889, 742, 4730, 1830], [4501, 1634, 2530, 1547, 745, 2362, 745], [1661, 4325, 1102, 2148, 666, 839, 2530, 4591, 14, 256, 605, 3867, 1716, 890, 2845, 2890, 1485, 4955, 2530, 4007], [210, 2820, 1009, 3058, 3526, 2870, 2670, 853, 3839, 1191, 999, 2148, 1250, 3780, 1191, 3839, 1392, 1947, 2670, 1824, 2148, 4593, 3044, 1179, 3058, 1583, 2670, 1179, 3789, 1406, 2362, 1303, 2787, 4330, 1121, 2069, 1198, 4963, 3435], [2242, 3450, 3799, 487, 594, 4137, 1614, 3494, 1842, 1851, 3527, 2888, 1895, 3946, 2347, 1677, 3836], [3428, 1341, 3746, 2148, 2591, 664, 2470, 3248, 1696, 4288, 273, 468, 4601, 1433, 3747, 721, 721, 3869, 2956, 1808, 4009, 1078, 825, 2534, 844], [3065, 1237, 2148, 4656, 2530, 2995, 1631, 1716, 3197, 3712, 876, 2605, 2148, 293, 876, 2174, 2818, 2148, 2461, 2269, 2530, 2174, 2818, 2392, 2879, 3667, 2148, 1603, 3058, 1177, 822, 3327, 1373, 1120, 1631, 2148, 591, 4451, 2148, 1603, 1069, 695, 427, 4360, 4325, 3192, 193, 1373, 3351, 2708, 4875, 2837, 773], [1414, 1414, 877, 4698, 1408, 1062, 2249, 4106, 4323, 1843, 1040, 4106, 363, 3883, 3350, 2081, 3051], [524, 4545, 2178, 4051, 2144, 2530, 876, 524, 3786, 1825, 1191, 4405, 2735, 2879, 4325, 3498, 1070, 2530, 3867, 4402, 2148, 2528, 2539, 1852, 2530, 2549, 822, 1244, 1051, 4875, 1604, 1435, 2144, 4591, 2598, 2530, 3004, 524, 2530, 3438, 498, 4202, 3178, 1866, 656], [524, 3458, 4849, 1659, 145, 2860, 4593, 2530, 2362, 3198, 1879, 1250, 2957, 4684, 1134, 1887, 4401, 10, 3949, 3706], [185, 1003, 1070, 2381, 2754, 1273, 4013, 4179, 806, 61, 948, 2144, 666, 1268, 3118, 890, 3265, 3945, 3265, 433, 2362, 721, 3198, 265, 1729, 2530, 3046, 886, 1460, 774, 1507, 1838], [4793, 1631, 1120, 1524, 1716, 2720, 1716, 890, 4537, 1944, 1587, 1404, 1407, 4875, 1304, 521, 4537, 2700, 4220, 4875, 890, 1501, 1120, 2879, 1936, 1404, 556, 1716, 1632, 44, 2542, 4537, 482, 3573, 3664, 1341, 4856, 12, 1351, 961, 2379, 4875, 4528, 1673, 1297, 482, 3378, 3092], [731, 2566, 1129, 1041, 3440, 4872, 279, 1341, 2981, 1249, 1765, 4196, 2698, 3683, 1613, 1341, 1765, 4026, 2981, 1249, 2995, 990, 731, 1249, 2269, 2698, 4496, 36, 3659, 4556, 1191, 975, 715, 1304, 876, 2177, 2412, 2148, 401, 4007, 4549, 1866, 735, 1021], [185, 2786, 4606, 1341, 1403, 4840, 2786, 4907, 1341, 1403, 1113, 1138, 3164, 3677, 922, 185, 1857, 3164, 2269, 1403, 2530], [328, 2544, 4072, 143, 718, 1765, 3600, 226, 4749, 2148, 448, 448, 3031, 766, 3600, 3654, 269, 3115, 2370, 2677, 1758, 1191, 3438, 2370, 3075, 4875, 2845, 3872, 2670, 130, 3197, 1106, 858, 3058, 2221, 3872, 2670, 3232, 729, 4732, 1716, 3372, 4875, 2566, 2553, 1120, 1887, 1716, 3757, 4169, 3913], [210, 2820, 1009, 3058, 3526, 2870, 1478, 3839, 1191, 999, 2148, 4795, 1191, 3839, 1392, 1947, 1514, 2148, 4593, 3044, 1179, 3058, 1583, 3523, 2787, 4330], [4995, 2820, 1431, 4873, 672, 3862, 3636, 1212, 2577, 3032, 4516, 3863, 3447, 2243, 721, 4111, 4754, 153, 4849, 461, 4563, 4208, 3701, 4111, 4241, 1866, 4284, 55, 994, 1651, 721, 885, 885], [3003, 4576, 4576, 2362, 3810, 4330, 2362, 1844, 3636, 831, 1060, 3949, 3023, 2093, 2975, 4311, 3636, 415, 411, 2364, 4551, 2975, 1944, 2833, 313, 1504, 2008, 3858, 2975, 930, 3471, 153, 2362, 1844], [2359, 4875, 284, 3654, 2148, 3338, 1341, 3116, 3418, 2148, 1112, 1260, 2148, 978, 2530, 4591, 1220, 2841, 1750, 123, 4263, 4777, 3642, 1765, 474, 1341, 2269, 273, 969, 3037, 2200, 2148, 890, 1384, 2226, 4330], [4290, 4832, 1716, 464, 1486, 2724, 1409, 2535, 3284, 4730, 1550, 3827, 4902, 718, 1765, 4749, 2148, 890, 57, 1844, 4934, 3548], [2851, 2148, 4836, 66, 1550, 4341], [959, 4238, 1682, 3118, 3907, 3600, 1372, 185, 2428, 185, 4117, 959, 15, 2530, 3438, 1341, 2634, 4325, 2901, 1273, 2288, 3313, 2488, 2901, 1149, 3044, 2635, 2901, 1149, 1191, 1599, 1430, 4448, 2362, 2226, 4330], [4730, 1863, 4976, 718, 1765, 4749, 2148, 890, 3031, 4321, 1571, 887, 3387, 3042, 1191, 3369, 1716, 3043, 2148, 2786, 3533, 1191, 2786, 1551, 1716, 1173, 2095, 1716, 3334, 1191, 1033, 2148, 3856, 3284, 4730, 1863, 4976, 718, 3683, 751, 1716, 204, 1761, 1306, 1844, 1133, 1104, 1893], [91, 544, 2144, 1120, 4202, 2269, 4856, 2323, 1568, 666, 2786, 4202, 2269, 935, 1676, 3872, 1921, 4860, 1120, 4104, 3225, 1478, 2530, 2730, 1435, 2148, 1692, 2126, 3760, 2530, 2025, 3195, 2072, 2698, 4472, 1120, 2487, 2269, 4148, 3116, 3306], [4705, 4003, 1765, 2030, 3225, 3058, 1720, 2470, 3248, 1696, 4288, 273, 468, 4601, 1433, 3747, 721, 721, 3869, 2956, 1808, 4009, 1078, 825, 2534, 844], [4922, 4717, 1191, 2446, 829, 3058, 185, 2011, 1010, 4537, 3579, 4187, 261, 2362, 4356, 3514, 3606], [3546, 4910, 2530, 4055, 3884, 4769, 2530, 1179, 3600, 747, 4052, 2530, 1534, 1807, 2767, 1716, 562, 2144, 1462, 3242], [3428, 2148, 2993, 3075, 2148, 1172, 4855, 3486, 2148, 3721, 2887, 1541, 839, 4276, 2570, 4951, 3923, 4313, 1765, 4749, 2148, 890, 3031, 4321, 1117, 1844, 4486, 3186, 3120, 4531, 3867, 4545, 1471, 416], [26, 2004, 4516, 1212, 4601, 2180, 829, 180, 4712, 4503, 1085, 2916, 4702, 1044, 673, 4202, 1652, 4551, 222, 3550, 265, 1087, 933, 1203, 2734, 3811, 4040, 4007, 989, 989], [957, 4867, 4020, 4918, 3354, 353, 685, 646, 4783, 163, 353, 3045, 718, 1191, 3831, 4867, 1511, 3009, 829, 4084, 2148, 4980, 3058, 2954, 4968, 4537, 4099, 2670, 448, 387, 829, 4867, 2193, 1625, 285, 3867, 424, 4827, 1163, 2681], [2107, 732, 2340, 3478, 1286, 3053, 937, 2075, 3866, 3964, 748, 1351, 180, 3307, 1916, 3197, 89, 4022, 180, 1191, 3884, 2039, 2488, 2216, 3812, 999, 4266, 731, 3656, 2346, 3459, 731, 452, 3247, 4457, 1319, 4911, 4875, 2269, 1120, 2530, 261], [1766, 606, 1866, 2226, 3813, 7, 1733, 4033, 3906, 3568, 3641, 2556, 606, 4007, 989, 1866, 1972, 1588, 4033, 3906, 3669, 1562, 3678, 2706, 2236, 4698, 3184], [2362, 3905, 4330, 4723, 3677, 3040], [1571, 3214, 2305, 1842, 4348, 1902, 1060, 4091, 766, 3004, 2119, 4287, 3799, 1821, 1772, 1044, 673, 4202, 1652, 4551, 222, 3550, 265, 1087, 933, 1203, 2734, 3811, 4040, 4007, 989, 989], [4814, 2338, 2698, 3867, 1241, 1716, 3197, 2487, 3648, 1455], [4180, 267, 1697, 3440, 1244, 1855, 3438, 3004, 2262, 3667, 470, 2148, 1603, 4609, 4233, 1100, 3440, 2408, 3652, 1460, 4250, 2530, 2362, 3198, 4593, 1866, 1053, 2957, 10, 1186, 2867, 1250, 676, 3739, 3652, 886, 3949, 3739, 1170, 4904], [2987, 1273, 522, 1754, 25, 3438, 747, 4036, 1631, 315, 4922, 3897, 2792, 2678, 2808, 4299, 2427, 4007], [4953, 3507, 2148, 2232, 2309, 1742, 4325, 1345, 3009, 2156, 3058, 4937, 614, 3806, 1218], [1216, 3677, 2765, 4609, 1981, 2670, 2280, 3507, 2530, 2392, 591, 1341, 1451, 4189, 4950, 4996, 3285, 1666, 3869, 4225, 779, 1250, 1460, 1346, 4031, 4462, 721, 4803, 879, 1680, 3446, 573, 216], [2309, 3813, 433, 4537, 1120, 2280, 2076, 1341, 876, 4656, 2391, 4996, 4110, 3725, 522, 1220, 3313, 1120, 494, 3058, 1682, 4996, 3923], [2802, 841, 4831, 1100, 4268, 435, 4106, 1680, 4007, 4640, 3967], [70, 4601, 502, 4679, 3058, 718, 1341, 3258, 2190, 2148, 1282, 612, 2141, 3624, 1149, 4278, 429, 2144, 2728, 4960], [2627, 1758, 1664, 1191, 2851, 2232, 4617, 4955, 2530, 3351, 1054, 2148, 3721, 2232, 482, 4325, 2598, 2839, 3351, 1716, 429, 4537, 3351, 4875, 3884, 1935, 4325, 4991, 2839, 4167, 3105, 3760, 3867, 4856, 3867, 3351, 3606, 4365, 3398], [4026, 3058, 999, 3624, 2879, 2530, 1191, 507, 2879, 2530, 3118, 1631, 1716, 2285, 1765, 1184, 2530, 2394, 1220, 120, 3058, 3600, 3038, 269, 3333, 1604, 822, 553, 4457, 3712, 2530], [2759, 657, 2237, 3636, 233, 1002, 743, 1842, 3172, 2537, 1229, 1078, 721], [4725, 2359, 1791, 1716, 4965, 3313, 769, 2530, 165, 1836, 2269, 2754, 4537, 2144, 3438, 4900, 3595, 363, 3117, 1967, 185, 3114, 959, 4112, 2530, 2359, 185, 1783, 185, 397, 185, 322, 2530, 68, 4072, 2362, 2226, 4330], [2772, 1832, 4875, 2698, 1120, 959, 2194, 4117, 4996, 2852, 4666, 269, 940, 4996, 2027, 2786, 752, 2144, 202, 2634, 1655], [1710, 65, 4990, 4181, 2888, 3753, 1117, 3606, 4426, 2515, 2449, 65, 4990, 4181, 2888, 3753, 760, 4051, 420, 2394, 2408, 149, 721], [729, 180, 3096, 1120, 312, 2148, 2874, 1273, 1205, 1191, 3884, 1147, 1120, 312, 2166, 1273, 1304, 4039, 2269, 1830, 2539], [2550, 3636, 3434, 1740, 1842, 2576, 4007], [3884, 3683, 4656, 4875, 405, 1765, 812, 3739, 1176, 1614, 1035, 1120, 3683, 4656, 4875, 2530, 2879, 4171, 4462, 4254, 295, 1058, 4443, 4443, 935, 1273, 640, 933, 2269, 3624, 4593, 1621, 1377, 4431, 2408, 873, 2670, 1601, 3150, 2937, 1692, 1127, 3630, 720, 4412, 265], [1282, 1614, 2313, 3442, 551, 4106, 3349, 3572, 1842, 4756, 771, 851, 2060, 375, 382, 3731, 3581, 138, 4440, 2950, 1928, 510, 2434, 3205, 1644, 328, 4616, 4954, 4971, 2624, 4675, 2437, 2048, 4652], [12, 3884, 4501, 2530, 2345, 740, 4537, 2636, 2706, 3884, 269, 1357, 2345, 408, 4322, 1415, 3550], [1947, 1775, 458, 353, 1601, 612, 3027, 2103, 2148, 1763, 1763, 92, 4306, 2144, 12, 1740, 132, 2467, 1413, 269, 2309, 1191, 2735, 4127, 1824, 2530, 4591, 4472, 1273, 2827, 4217, 3438, 3944, 160, 769, 2452, 4550, 1997, 4325, 254, 2231, 4860, 4115, 1765, 37, 1600, 3016, 1745], [1369, 2999, 4516, 4367, 457, 1656, 2870, 2975, 4089, 550, 3369, 192, 2975, 2339, 3655, 4467, 1263, 4047, 4007, 2186, 1605, 4020, 2427, 848, 691], [1220, 3884, 1425, 592, 2148, 3011, 1750, 2269, 1414, 3234, 2625, 1341, 3990, 2530, 3438, 2269, 3683, 3884, 3058, 103, 4183, 2530, 557, 4986], [3428, 2148, 4216, 3486, 2148, 3721, 2887, 1541, 839, 2009, 4624, 2570, 3923, 4313, 718, 1765, 4749, 2148, 890, 3031, 4321, 3171, 2362, 1844, 3923, 4313, 718, 3120, 2561], [1819, 4283, 456, 1949, 612, 3884, 3225, 3205, 236, 3061, 2148, 556, 4115, 612, 3757, 3205, 2530], [4520, 3058, 3164, 516, 876, 448, 4180, 611, 4960, 4180, 4180, 4576, 1716, 1371, 2765, 2879, 251, 3683, 611, 1765, 4325, 2682, 4939, 1120, 3492, 3058, 4437, 4537, 11, 2478, 3379, 4656, 3115, 4801, 1191, 1137, 3058, 4325, 1721, 277, 1120, 4016, 1765, 474, 1273, 2587, 4556, 236, 975, 2530, 274, 25, 4875, 132], [2939, 3409, 2476, 236, 1418, 4875, 3819, 4071, 1191, 3438, 2879, 2581, 2144, 3048, 4758, 2156, 1716, 3895, 1341, 3716, 1341, 4803, 2639, 962, 531, 30, 944, 208], [4591, 3053, 3425, 4325, 731, 1337, 448, 2670, 458, 353, 1601, 4007], [2305, 3808, 2530, 4104, 223, 1341, 4717, 4875, 336, 1888, 4937, 3508, 3058, 4666, 4996, 2019], [3428, 2148, 4216, 3486, 2148, 3721, 2887, 1541, 839, 2009, 4624, 2570, 4951, 3923, 4313, 1765, 4749, 2148, 890, 3031, 4321, 3171, 2362, 1844, 737], [2095, 180, 1062, 318, 4885, 1614, 3295, 4007], [228, 4134, 1770, 3058, 2971, 4537, 4175, 4842, 111, 3438, 3969, 1341, 3121], [183, 1716, 839, 3226, 1807, 3558, 4867, 3396, 2313, 1765, 4749, 3171, 890, 2626, 1844, 4517], [1309, 4136, 228, 199, 2386, 718, 3748, 1120, 1109, 3386, 2148, 3598, 1765, 1431, 2148, 978, 2126, 2810, 4222, 1220, 349, 1341, 4996, 3513, 1191, 4344, 2269, 4325, 2466, 3785, 2144, 3602, 4996, 3513, 4214, 1191, 4945, 1341, 461, 2306, 2530, 2386, 2148, 660, 2356, 582, 2386, 3058, 3867, 197, 700, 1185, 3092], [2193, 3907, 2488, 2662, 604, 1073, 1716, 2058, 3234, 2148, 3099, 4875, 175, 4537, 482, 2530, 3507, 414, 2765, 3693, 162, 1716, 3197, 4752, 3016, 2231, 3101, 2131, 2630, 3016, 959, 3128, 199, 448, 3624, 3659, 3507, 899, 3867, 4477, 1544, 1523, 2944], [199, 1524, 556, 4657, 1341, 2193, 4243, 757, 1716, 876, 448, 2269, 1644, 1191, 217, 2190, 1631, 1716, 3197, 203, 4537, 1981, 2755, 844, 3923, 2365, 4007], [4610, 1341, 1729, 3678, 4971, 944, 1096, 820, 4092, 305, 4092, 2437, 2455, 537, 944, 3878, 2437], [713, 4023, 4664, 2786, 4407, 3867, 4386, 180, 1341, 1285, 3345, 1420, 3884, 1341, 4747, 1621, 1341, 4857, 1403, 12, 4013, 1425, 3700, 1765, 1988, 1420, 3867, 750, 3867, 396, 261, 1060], [2359, 2602, 4325, 159, 4335, 4325, 159, 1425, 820, 3051, 3174, 3441, 2841, 2148, 2309, 1716, 3197, 2281, 2841, 1716, 1129, 204, 1716, 3197, 4461, 4498, 4072, 2362, 2226, 4330], [2008, 3441, 75, 4088, 4244, 3813, 2476, 4589, 4610, 2439, 1425, 1316, 1733, 694, 2107, 3827, 1842, 2322, 4007], [236, 2539, 4660, 2530, 2148, 269, 3820, 3702, 4162, 209, 4876, 167, 1838, 1341, 248, 2879, 2530, 1191, 2995, 2879, 2890, 2530, 1055, 4077, 7, 4176, 3836, 3841, 580, 1249, 2701, 4475, 3207], [2667, 4660, 4325, 4960, 4127, 169, 1341, 4687, 3501, 1716, 1481, 607, 4769, 2670, 3177, 3229, 884, 2269, 529, 1758, 1204, 3836], [2839, 322, 3521, 4889, 1191, 4347, 2677, 999, 1705, 4017, 1661, 2937, 510, 721, 4668, 3964, 3130, 1377, 3120, 4866, 1705, 4870], [1903, 1348, 560, 4007, 3636, 1551, 4109, 1781, 306, 1921, 1306, 2206, 1781, 4369, 2798, 2975, 3003, 180, 4723, 1735, 3206, 1781], [3111, 199, 4226, 1341, 236, 1799, 448, 448, 2488, 3884, 3659, 3832, 2879, 3147, 4325, 769, 694, 2148, 296, 522, 4325, 3480, 2901], [3993, 4730, 4730, 373, 127, 3514, 4443, 3908, 3120, 3029, 3120, 3120, 3120, 3029, 4559, 3029, 1830, 3029, 1830, 1830, 1830, 3029, 1923, 1981, 4025, 2408, 887, 4816, 2860, 4593, 2530, 2362, 3198, 3122, 1078], [4104, 4912, 3278, 4824, 4288, 1765, 4163, 1887, 3058, 2291, 434, 1370, 2379, 2765, 2879, 1273, 4305, 412, 458, 718, 2148, 978, 4007, 180, 1983, 2144, 4445, 2592, 4317, 1815, 714, 1983, 2144, 4445, 2592, 4317, 1815, 714, 1983, 2144, 4445, 2592, 4317, 1815, 3225], [1581, 3023, 1212, 2726, 1614, 4145, 4753, 2042, 224, 4589, 2737, 2834, 1472, 3471, 1680, 333, 4973, 1044, 673, 4202, 1652, 4551, 222, 3550, 265, 1087, 933, 1203, 2734, 3811, 4040, 4007, 989, 989], [1546, 2148, 3677, 1094, 375, 2988, 1215, 1546, 269, 4660, 747, 747, 4672, 4537, 4672, 4537, 876, 830, 2774, 465, 4643, 1273, 1273, 3512, 3739, 721, 4829, 2283, 1448], [2392, 2362, 3221, 4330, 2683, 3946, 4377, 4707, 1893, 3813, 1853, 180, 3552, 2975, 313, 1865, 2845, 3443, 153], [199, 2193, 1202, 429, 4545, 1218, 1462, 4875, 4749, 1576, 1462, 3782, 4875, 2269, 2895, 3507, 414, 4438, 3058, 2157, 4882, 1462, 1716, 3654, 2148, 1039, 1341, 666, 1475, 1343, 853, 4493, 2205, 236, 2269, 853, 4872, 3654, 1807, 2845, 2030, 1844, 3302], [2362, 2226, 331, 3507, 959, 3438, 253, 2670, 2354, 2879, 2225, 2879, 4325, 3222, 334, 322, 3058, 3507, 3058, 2805, 858, 3507, 3118, 3347, 666, 4537, 2514, 1765, 2530, 3231, 1716, 2126, 3867, 2466, 3118, 3197, 1120, 959, 2916, 3507, 4537, 4937], [1414, 405, 754, 4900, 83, 1614, 2008, 1619, 724, 2352, 3225, 867, 765, 371, 1842, 3172, 2537, 1078, 1229, 721], [1220, 2359, 1765, 1004, 4348, 1716, 3197, 1179, 92, 1765, 3034, 1825, 4337, 1282, 2148, 978, 2269, 2359, 4875, 2879, 2786, 3944, 1716, 3654, 1341, 4472, 4422, 769, 4960, 1836, 2269, 876, 2359, 1220, 1682, 4875, 3694, 3508, 3058, 1273, 3016, 4278, 2786, 1956, 2088, 2148, 978, 3438, 4872, 776, 3048, 3722, 490, 1544, 354, 2226, 4330], [728, 728, 4122, 2488, 2870, 4954, 2148, 3609, 2879, 4532, 2488, 3461, 3507, 940, 4664, 2280, 1924, 1956, 3009, 440, 2144, 1120, 4214, 558, 4810, 1341, 876, 3620, 51, 2488, 2896, 1443, 1103, 4444], [4867, 448, 1019, 4517, 3913, 964, 4007, 4007, 2427, 4350], [1216, 1770, 612, 3252, 4325, 4044, 3683, 1951, 2148, 4211, 4007], [3825, 1716, 3557, 2144, 544, 520, 1191, 4215, 612, 1145, 3884], [876, 2359, 2225, 2225, 1220, 2841, 1716, 1120, 2144, 2879, 4696, 2116, 363, 4530, 2379, 3508, 1191, 1750, 4671, 3479, 4325, 3872, 2362, 2226, 4330], [4328, 1405, 4746, 2532, 84, 721, 1186, 2359], [3659, 3677, 4396, 1716, 251, 2879, 12, 4123, 912, 2786, 4701, 1784, 3058, 2633, 4537, 4790, 2408, 2408, 774, 2053, 2860, 3652, 1101, 721, 3247, 4803, 3130, 3468, 3680], [3473, 3659, 4026, 4749, 4337, 2530, 1244, 126, 1988, 1341, 2269, 3813, 2454, 4937, 4026, 4875, 1661, 4325, 3391, 1341, 2269, 3813, 3648, 721], [578, 1621, 1341, 3058, 4321, 4955, 2148, 3191, 3016, 398, 3225, 1501, 3178, 3788, 3245, 2892, 844, 3841, 3923, 333, 215, 4288, 468, 721, 721, 4754, 4601], [713, 4023, 4664, 2786, 4407, 3867, 4386, 180, 1341, 1285, 3345, 1420, 3884, 1341, 4747, 1621, 1341, 4857, 1403, 12, 4013, 1425, 3700, 1765, 1988, 1420, 3867, 750, 3867, 396, 261, 1060], [1952, 4660, 666, 2698, 458, 4591, 1413, 3058, 1599, 3193, 4996, 3208, 4325, 3712, 1704, 494, 1765, 3766, 4996, 879, 466], [876, 312, 2198, 3580, 4955, 2530, 3477, 312, 2651, 3580, 4955, 2530, 401, 1030, 1341, 1538, 2879, 2563, 4955, 2530, 863, 312, 3714, 1716, 780, 1703, 4955, 1467, 4867, 1403, 2232, 3527, 4955, 2530, 4262, 1403, 2879, 4423, 2148, 202, 4875, 3663, 3480, 3480, 4971, 4297, 2892, 2892, 2158], [666, 2225, 4628, 2530, 2531, 786, 3225, 2140, 1409, 2408, 1866, 4754, 2196, 3404, 697, 721, 4294, 3274, 887, 653, 3769, 2317, 3631, 1031], [2995, 2502, 1341, 3402, 1191, 1250, 4875, 1528, 666, 1524, 612, 2269, 3480, 4005, 2530, 1631, 1716, 1304, 2148, 4588, 3503, 3128, 1765, 4722, 1952, 4263, 2670, 4911, 3009, 285, 1716, 1369, 1765, 236, 3884, 3882, 2148, 99, 3169, 2988, 3225, 3058, 2157, 2530, 1765, 1631, 2148, 3728, 1716, 3757, 3114, 4517, 3480, 4601], [3867, 922, 3624, 1273, 2631, 1765, 2765, 4873, 4325, 4946, 1390, 3058, 2179, 1765, 1843, 4749, 2901, 2530, 4691, 1765, 4325], [241, 4536, 3888, 841, 4101, 917, 2231, 2667, 871, 1842, 1656, 3214, 4267, 2060, 438, 1060, 1030, 829, 614, 16], [1431, 2702, 1614, 4390, 2298, 1431, 4348, 1696, 839, 4173, 538, 1996, 1553, 3004, 4723, 4723, 2120, 1376, 2812, 1044, 673, 4202, 1652, 4551, 222, 3550, 265, 1087, 933, 1203, 2734, 3811, 4040, 4007, 989, 989], [70, 1955, 228, 197, 1716, 3600, 3934, 3631, 2874, 1765, 1071, 1944, 4996, 1544, 1120, 1216, 3428, 3058, 4158, 4638, 4241, 4419, 2530, 3428, 2148, 1033, 4875, 3092], [51, 1446, 2786, 4872, 1765, 4860, 111, 3648, 3345, 2309, 3058, 1861, 2530, 4617, 111, 3648, 4010, 353, 1601], [915, 573, 4901, 1182, 75, 2008, 4938, 1079, 1941, 614, 1895, 3507, 2524, 3804, 3344, 1352], [975, 1341, 3032, 2891, 4537, 293, 1273, 4537, 3849, 1341, 3532, 1372, 4875, 3677, 2235, 1572, 2530, 4591, 2225, 2305, 4348, 427, 2539, 236, 685, 431, 4674, 3599, 2351, 3480, 380, 3677, 1273, 3496, 3738, 2446, 4875, 3074, 3234, 4191, 4475, 4537, 2901, 2530, 236, 1415, 948, 3946, 1112, 2305, 772, 1716, 3197, 3302, 4960], [2225, 2879, 1770, 1716, 1405, 2148, 381, 1765, 1357, 1244, 2309, 4875, 2211, 1273, 2103, 1039, 3507, 4325, 2311, 1765, 3438, 3609, 1750, 479, 788, 1872, 3659, 2865, 1273, 975, 269, 1770, 612, 3128, 4875, 1621, 4104, 520, 1807, 1341, 1613, 185, 1177, 4875, 2670, 4013, 4741, 81, 4207, 236, 4477, 1703, 1716, 3657], [3164, 1341, 2786, 4547, 2148, 1338, 2530, 3962, 2379, 1112, 4547, 1765, 4165, 4842, 2595, 1235, 4996, 2595, 974, 3654, 1341, 1425, 180, 1191, 2309, 2269, 1071, 1120, 2225, 2379, 492, 4875, 3217, 4325, 2785, 1273, 2269, 180, 2309, 293, 1317, 2148, 2379, 4707, 4996, 4939], [525, 2232, 2246, 2975, 2100, 4106, 2110, 3230, 2737, 2863, 2188, 4955, 2667, 614, 1842, 4971, 944], [2923, 4601, 4088, 1370, 199, 3507, 2193, 1625, 769, 1120, 3507, 1765, 1644, 2148, 631, 4973, 448, 3884, 67, 4799, 2785, 1750, 1631, 1716, 876, 2879, 3207, 3092, 1191, 3377, 4325, 969, 4683, 199, 461, 3480, 1758, 2670, 4216, 199, 1927, 3377, 3058, 2017, 81, 482, 2530, 3026, 3058, 1631, 1798, 1829], [2108, 1765, 3120, 2148, 440, 3058, 4068, 1413, 1341, 2416, 3415, 2970, 306, 1596, 2272, 2272, 721, 2760, 704, 265], [1431, 3870, 12, 3319, 871, 1733, 758, 3349, 4627, 1060, 253, 180, 848, 3086, 3136, 1733, 1842, 2975, 2364, 4879, 3773, 268, 1060, 3329, 143, 46, 4879, 4239, 1606, 2996, 75, 1115, 2364, 1842, 1431, 2364, 2742, 872, 4088, 4627, 2364, 3138, 3450, 2472, 2673, 4711, 4971], [2008, 1066, 457, 4854, 1740, 4193, 4348, 2144, 522, 890, 4325, 363, 1191, 2880, 2144, 2765, 4592, 3872, 2670, 183, 2879, 2516, 2516, 1981, 1641, 11, 11, 199, 2392, 3058, 460, 1716, 890, 2487, 2879, 3757, 2720, 1981, 4922, 2110, 4350, 4732, 4007, 31], [4753, 2356, 810, 1715, 1893, 3932, 4971, 4171, 3799, 3023, 4589, 3349, 913, 262, 153, 810, 3019, 4503, 1019, 3211, 3211, 1614, 1910, 1842, 1212, 46, 1910, 1060, 2196, 1361, 1212, 4538], [226, 360, 3758, 296, 1716, 1061, 323, 2670, 3573, 2733, 1765, 2951, 1191, 2223, 1716, 1286, 3845, 1716, 3197, 2269, 1120, 687, 2176, 792], [839, 1881, 1060, 1460, 4137, 180, 3715, 1910, 1614, 2170, 2008, 3214, 3652, 3023, 1655, 3471, 1031, 4007], [1044, 2338, 4537, 293, 4744, 3110, 2269, 3782, 467, 660, 1367, 4902, 4227, 4330, 3399, 2049, 2049, 644, 3835, 2976, 2928, 1231, 721, 1372], [236, 975, 4457, 2530, 251, 1750, 2379, 1273, 4161, 522, 3677, 4325, 4996, 2901, 4461, 3748, 2670, 3677, 2765, 1055, 4591, 2005, 1544, 2670, 1220, 624, 1341, 975, 3058, 3632, 4080, 1943, 1777, 371, 966, 3327, 2205, 3128, 1120, 3600, 2879, 4911, 4960, 1866, 721], [3832, 202, 2530, 3453, 3128, 1765, 2877, 3885, 4057, 3722, 3284, 3065, 3065, 1881, 4822, 2131, 4565], [4875, 1858, 3328, 2178, 1665, 3326, 1863, 4976, 718, 1765, 4524, 2200, 2148, 3031, 4815, 2180, 1006, 1599, 3760, 1893], [433, 4283, 4052, 111, 185, 975, 744, 4875, 3438, 1956, 2698, 4591, 2651, 4955, 1599, 1807, 1716, 3861, 1415], [1431, 4201, 3813, 7, 4560, 3636, 2573, 993, 1842, 621, 1552, 3351, 1962, 1257, 2292, 2150, 3795, 2966, 4971, 3017, 2734], [2145, 4020, 197, 1716, 2724, 2570, 3519, 3207, 3936, 1949, 4730, 1863, 4976, 718, 1765, 4749, 2148, 890, 3031, 4321, 4815, 2180, 990, 1844], [4971, 3341, 1636, 1636, 939, 938, 3636, 3415, 3471, 2238, 3636, 3415, 871, 4781, 3086, 3218, 2649, 1910, 3471, 1842, 985, 4369, 2992, 506, 3383, 1733, 483, 1842, 1614, 2887, 4516, 2107, 1728, 3581, 2887, 3383, 2573, 2299, 4668, 837, 3799], [2975, 829, 1819, 228, 199, 3218, 718, 3748, 1120, 1109, 3386, 2148, 3598, 1765, 3618, 2148, 978, 2126, 2810, 4222, 1220, 349, 1341, 4996, 3513, 1191, 4344, 2269, 4325, 2466, 3785, 2144, 3602, 4996, 3513, 4214, 1191, 4945, 1341, 461, 2306, 2530, 3218, 2148, 660, 2356, 582, 3218, 3058, 3092], [3993, 4730, 4730, 373, 127, 3514, 4443, 3908, 3120, 3029, 3120, 3120, 3120, 3029, 4559, 3029, 1830, 3029, 1830, 1830, 1830, 3029, 1923, 1981, 4025, 2408, 887, 4816, 2860, 4593, 2530, 2362, 3198, 3122, 1078], [185, 2786, 4606, 1341, 1403, 4840, 2786, 4907, 1341, 1403, 4862, 1138, 3164, 3677, 922, 185, 1857, 3164, 2269, 1403, 2530], [2969, 1691, 2632, 2340, 4100, 2382, 2291, 3214, 3383, 2912, 2087, 1551, 3214, 1301, 487, 3913, 4064, 959, 1060, 3971, 51, 4452, 2544, 1126, 1733, 3383, 1177, 2226, 4330], [2986, 2622, 774, 1507, 3248, 2362, 2860, 1866, 989, 3634, 2316, 313, 1733, 3117, 3568, 4016, 1842], [4317, 364, 4996, 487, 4875, 1403, 4104, 2879, 1017, 2630, 1341, 2530, 4902, 2408, 1866, 774, 4250, 3652, 1053, 145, 2860, 2530, 4816, 1887, 4938, 2378, 4593, 1852, 721, 2957, 3869, 3949, 676, 3739, 4904, 1170], [4506, 948, 1765, 1120, 236, 2765, 155, 11, 171, 3854, 745, 1765, 2121, 92, 4160, 1908, 4451, 3810, 4325, 1824], [2733, 2148, 1413, 1567, 931, 4020, 2269, 1997, 2144, 2786, 4907, 2630, 1071, 2530, 4107, 1401, 2530, 4193, 1956, 1716, 3197, 2144, 3009, 1605, 1341, 1717, 4206, 3856, 1071, 3042, 1523, 4741], [3677, 4325, 2530, 1778, 1765, 165, 2017, 2530, 2970, 1765, 2048, 4996, 1273], [1378, 2549, 1614, 3190, 1245, 2278, 2865, 3023, 4880, 7, 1614, 3214, 672, 3190, 1378, 223, 117, 3308, 2362, 2408, 4666, 1186, 1866, 2362, 3949, 4378, 4248, 3195, 1859, 2378], [2329, 92, 4115, 2148, 111, 4325, 1071, 1191, 3731, 4304, 1341, 2148, 4207, 1971, 1682, 4325, 1071, 721], [1483, 1199, 2888, 1431, 4640, 4076, 1199, 1060, 4507, 2009, 3794, 2825, 2330], [2362, 2226, 4330, 2693, 3573, 2110, 360, 1574, 462, 2530, 2400, 3728, 448, 3786, 2989, 3534, 1220, 3128, 4875, 3161, 2269, 607, 4129, 1273, 412, 4104, 236, 2879, 4735, 2845, 3443], [4842, 1765, 1627, 1341, 3216, 2169, 2867, 577, 3045, 3991, 1126, 537, 4401, 2362, 2667, 3213, 145, 930, 4546, 4396, 4431, 939, 123, 3148], [3677, 3673, 4971, 2713, 4728], [559, 2225, 2225, 3150, 3276, 1191, 4842, 1716, 1837, 3058, 448, 4653, 3786, 931, 4960, 3065, 3702, 4211, 3781, 1513, 458, 4007, 4004], [3891, 2296, 1614, 3066, 871, 1842, 2075, 885, 871, 1781, 1488, 3717, 4516, 2107, 1357, 778, 289, 4885, 1991, 3447, 2226, 4330], [3884, 401, 1317, 2786, 3944, 1765, 769, 2530, 2539, 714, 4937, 4875, 231, 1997, 3677, 2867, 1632, 4937, 4875, 4591, 1770, 1765, 1317, 1273, 431, 4867, 1765, 3334, 1765, 1250, 431, 1359], [2316, 3028, 4871, 330, 1614, 339, 3222, 2095, 1581, 1680, 1580, 2917, 2060, 1711, 852, 4543, 1545, 4971, 2752], [2193, 3907, 2488, 2662, 604, 1073, 1716, 2058, 3234, 2148, 3099, 4875, 175, 4537, 482, 2530, 3507, 414, 2765, 3693, 162, 1716, 3197, 4752, 3016, 2231, 3101, 2131, 2630, 3016, 959, 3128, 199, 448, 3624, 3659, 3507, 899, 3867, 4477, 1544, 1523, 2944], [2074, 1341, 828, 1341, 3283, 4013, 2038, 1341, 522, 4013, 2414, 4013, 2311, 4264, 4325, 3118, 292, 3420, 443, 2258, 1909, 504, 3190, 2716, 4700, 3409, 2476, 312, 1962], [4004, 4764, 3971, 3993, 4730, 4730, 373, 127, 4594, 4443, 3908, 3120, 3029, 3120, 3120, 3120, 3029, 4559, 3029, 1830, 3029, 1830, 1830, 1830, 3029, 1923, 1981, 4025, 2408, 887, 4816, 2860, 4593, 2530, 2362, 3198, 3122, 162], [2346, 1988, 4996, 1716, 2727, 4537, 4472, 1988, 4996, 1716, 2048, 2879, 2774, 2920, 756, 31, 3275, 2453, 4410], [3128, 1120, 448, 2305, 2530, 236, 3712, 2530, 876, 2138, 4284, 4778, 3944, 458, 353, 1601, 612, 3721, 4996, 3135, 11, 11, 3722, 2261, 1765, 876, 1115, 4309, 1981, 2670, 2913, 853, 4801, 2077, 2680, 4321, 2914, 455, 1716, 475, 2879, 3944, 1716, 3197, 999, 2148, 1250, 3677, 448, 1572, 4960, 4007, 201, 471], [2737, 2288, 1346, 3471, 3799, 4693, 3858, 4348, 391, 1376, 2812, 1044, 673, 4202, 1652, 4551, 222, 3550, 265, 1087, 933, 1203, 2734, 3811, 4040, 4007, 989, 989], [916, 4814, 2305, 154, 461, 4369, 2230, 2530, 1433, 59, 70, 1512, 4601, 1157, 1955, 2114, 4934], [4226, 858, 1303, 2603, 4996, 4383, 612, 3118, 1631, 515, 3890, 2148, 3923, 2148, 2797, 3257, 1631, 2144, 1935, 1930, 2427, 1885, 1058, 799, 3898, 3271, 2713, 833, 4401, 4142, 1644, 683, 4769, 721, 2204], [2362, 1844, 2379, 3910, 180, 1766, 3654, 2148, 2221, 3872, 2670], [2434, 2434, 871, 1842, 3572, 3905, 3318, 1186, 4250, 1186, 4508, 4820, 3433, 2283, 721, 2530, 1644], [2193, 3907, 2488, 2662, 604, 1073, 1716, 2058, 3234, 2148, 3099, 4875, 175, 4537, 482, 2530, 3507, 414, 2765, 3693, 162, 1716, 3197, 4752, 3016, 2231, 3101, 2131, 2630, 3016, 959, 3128, 199, 448, 3624, 3659, 3507, 899, 3867, 4477, 1544, 1523, 2944], [3898, 4601, 4383, 1370, 199, 3507, 2193, 1625, 769, 1120, 3507, 1765, 1644, 2148, 631, 4973, 448, 3884, 67, 3507, 1716, 2785, 269, 1631, 1716, 876, 2879, 3207, 3092, 1191, 3377, 4325, 969, 4683, 199, 461, 3480, 1758, 2670, 4216, 1927, 2017, 81, 482, 2530, 199, 1888, 3782, 3058, 1631, 1798, 3659, 3629], [2193, 3907, 2488, 2662, 604, 1073, 1716, 2058, 3234, 2148, 3099, 4875, 175, 4537, 482, 2530, 3507, 414, 2765, 3693, 162, 1716, 3197, 4752, 3016, 2231, 3101, 2131, 2630, 3016, 959, 3128, 199, 448, 3624, 3659, 3507, 899, 3867, 4477, 1544, 1523, 2944], [2193, 1949, 1863, 4976, 718, 4875, 199, 4749, 2530, 4278, 731, 666, 4749, 4325, 55, 4278, 2379, 2765, 1120, 3101, 3031, 431, 702, 2670, 2362, 1844, 153, 1893], [4594, 1716, 3941, 234, 3717, 4357, 3575, 1716, 1141, 3917, 1475, 721, 2643, 3921, 887, 2421, 1469, 2206, 4816, 4267, 3872], [3245, 3338, 3245, 2362], [120, 2200, 2148, 890, 57, 2832, 4985, 4234], [4104, 1120, 3559, 612, 2879, 12, 4954, 234, 3490, 1218, 2530, 4104, 3804, 2879, 2311, 2670, 1765, 2145, 3058, 1782, 4573, 792, 1341, 796, 3164, 1750, 1078, 1078, 265, 830, 721, 3988], [4955, 2201, 3327, 2095, 3092, 2095, 3158, 3725, 4793, 465, 560], [3065, 3884, 2148, 4656, 2530, 1427, 4202, 3722, 2995, 1631, 1765, 876, 1468, 269, 110, 4875, 507, 2451, 2867, 2194, 3677, 52, 3120, 4561, 4266, 2144, 2276, 92, 3058, 132, 3216, 1758, 2530, 4500, 2129, 4875, 2034, 3212, 2879, 132, 1661, 3438, 2879, 304, 4182, 1758, 4223, 2598, 2530, 2786, 4258, 3956, 387, 269, 3907, 2488, 4561, 455, 2148, 4764, 2530], [312, 3813, 2243, 1765, 1413, 1222, 4537, 3579, 1765, 2229, 479, 4656, 2148, 2309, 2530, 4461], [2058, 458, 353, 1601, 612, 474, 4996, 182, 2530, 2405, 1341, 3600, 4860, 3058, 1052, 2619, 1501, 2530, 4007], [1534, 180, 861, 1534, 3813, 861, 975, 2148, 1324, 1341, 4328, 2243, 1599, 4337, 2305, 4477, 3051, 1120, 1824, 2670, 4641, 4325, 1313], [522, 845, 3058, 1051, 4472, 2890, 479, 1765, 4737, 3276, 1341, 1485, 482, 3736, 3516, 479, 2148, 3460, 1634, 2148, 293, 1025, 3152, 180], [3722, 1961, 351, 718, 4873, 4749, 2144, 3031, 1191, 890, 979, 856, 3107, 3334, 4987, 3654, 1341, 2753, 4469, 4321, 2913, 3902, 2030, 1506, 2148, 4923, 3507, 2144, 2006, 2677, 1857, 4873, 457, 4321, 4746, 1004, 3169, 3016], [4007, 1524, 3606, 1716, 4619, 4399, 1765, 1184], [3702, 4007, 306, 3004, 1117, 1492, 1444, 187, 586, 1417, 1842, 592, 1842, 4516, 1656, 4803, 1099, 287, 573, 1576, 1711, 306, 4463, 4803, 1099, 3648, 3973, 2107, 3804, 1842, 2716], [264, 2309, 4146, 1004, 1120, 999, 1004, 2309, 999, 4875, 2269, 255, 3296, 1614, 3403, 96, 1130, 2309, 4872, 999, 1341, 1590, 2277, 2110, 3945], [4013, 2879, 3683, 315, 4778, 876, 2020, 2269, 1120, 4128, 4875, 4660, 2097, 2269, 1120, 2638, 2879, 3683, 315, 4778, 876, 2020, 2269, 1120, 3839, 2362, 4007], [2193, 3907, 2488, 2662, 604, 1073, 1716, 2058, 3234, 2148, 3099, 4875, 175, 4537, 482, 2530, 3507, 414, 2765, 3693, 162, 1716, 3197, 4752, 3016, 2231, 3101, 2131, 2630, 3016, 959, 3128, 199, 448, 3624, 3659, 3507, 899, 3867, 4477, 1544, 1523, 4873, 3187, 4781, 2382, 1699, 654, 4601], [4226, 269, 12, 1143, 3884, 769, 2530, 251, 269, 1770, 3466, 3316, 1716, 1576, 1765, 423, 1042, 293, 3170, 4875, 4606, 2313, 1523, 2921, 3453, 1297, 4537, 4207, 2530, 2565, 3878, 1716, 1073, 2854, 3092], [2732, 2507, 3695, 710, 2686, 257, 2257, 3004, 2410, 2992, 4947, 75, 4516, 481, 3678, 1044, 673, 4202, 1652, 4551, 222, 3550, 265, 1087, 933, 1203, 2734, 3811, 4040, 4007, 989, 989], [1579, 2019, 4537, 394, 4875, 1087, 887, 1716, 2019, 3621, 1273, 25, 2232, 1579, 2019, 3543, 4528, 2616, 1401, 417, 2392, 2879, 4922, 2305, 2019, 2441, 1636, 1579, 1682, 2305, 3188, 2710, 983], [2491, 3058, 3507, 1273, 1120, 2309, 2696, 702, 1273, 2269, 3150, 201, 694], [3531, 1089, 1120, 2539, 909, 4639, 3316, 2774, 3210, 3058, 1191, 2338, 732, 333, 3058], [360, 4537, 1981, 4278, 153, 4325, 3783, 1102, 1758, 2670, 4204, 721, 2097], [4589, 3764, 4016, 4088, 2386, 3813, 1002, 2049, 3813, 231, 851, 851, 2013, 1431, 2386, 4016, 1729, 1733, 1282, 231, 2863, 2386, 1614, 4219, 2992, 3235, 4228, 1614, 2371, 4106, 1780, 2965, 2842, 4429, 3858, 4971], [2296, 4473, 4213, 180, 779, 660, 4698, 2959, 3617, 180, 4085, 4392, 1515, 4717, 2975, 3225, 4994, 3770, 217, 1614, 2554, 1060, 3214, 2299, 4516, 3275, 2409, 3017], [3760, 686, 686, 389, 2687, 1716, 3609, 1497, 482, 4537, 197, 1037, 3139, 4785, 4936, 201, 694, 4455, 749, 2869, 3442], [3692, 4325, 4007, 3143, 92, 4937, 1765, 4666, 2269, 3659, 2621, 1442, 1727, 482, 2879, 1120, 4537, 2901, 2530], [4251, 180, 1142, 2992, 1952, 4783, 233, 4279, 2316, 3383, 4503, 1194, 4516, 481, 3678, 1044, 673, 4202, 1652, 4551, 222, 3550, 265, 1087, 933, 1203, 2734, 3811, 4040, 4007, 989, 989], [1212, 1357, 2100, 4468, 75, 4610, 4145, 2682, 4137, 2649, 1842, 4202, 1842, 1656, 2232, 3993, 4184, 2318, 1644, 3077, 4971, 1902, 676, 2824], [667, 2735, 185, 2076, 132, 1250, 702, 666, 3267, 12, 1430, 4594, 2148, 905, 4442, 2362, 2188, 2678, 4876, 222, 666, 4167, 2678, 2004], [1531, 2670, 243, 2530, 1207, 2141, 908, 1071, 1120, 522, 4656, 1071, 2839, 180, 180, 3120, 3799, 4401, 774, 673, 1507, 673, 673, 2248, 3459, 2537, 989, 624, 3678, 4007, 60, 4832, 2072, 4589], [4601, 4614, 3137, 128, 3486, 3809, 2701, 3508, 3191, 909, 4080, 4875, 304, 2362, 1844, 2646], [3216, 4875, 3907, 4444, 3893, 4158, 3897, 2624, 718, 1716, 3296, 1341, 713, 3212, 2549, 4050, 1758, 2632, 4288, 4288, 4288, 3945, 1747, 3747, 4601, 468, 885, 4103, 721, 4754, 4669, 195, 1700], [458, 353, 1601, 1716, 3557, 3058, 1631, 612, 448, 4918, 352, 1775, 256, 876, 2168, 2818, 1297, 1218, 3933, 3693, 3334, 1765, 1250, 4238, 2427, 2103, 2496, 2778, 4007, 1160, 684, 2778, 2398, 2778, 2778, 4710, 4710], [4181, 4597, 3266, 3637, 1842, 2004, 997, 3214, 1099, 75, 1843, 3038, 3349, 3206, 2887, 2008, 1066, 2124, 1421, 1842, 468, 1636, 849, 1345, 3526, 4971], [432, 2249, 2145, 1033, 4832, 4006, 1716, 758, 4918, 4321, 1776, 404, 1716, 3326, 4593, 3284, 140, 330, 718, 1765, 218, 2148, 448, 448, 3031, 4321, 2307, 607, 4730, 1830, 3507, 1765, 1004, 4321, 457, 393, 2362, 1132, 4330], [1221, 886, 1036, 4324, 4971], [1867, 1790, 1614, 3208, 3419, 2364, 2232, 3136, 1079, 3799, 3998, 180, 3292, 2769, 180, 2170, 2516, 4868, 3799, 4491, 180, 2170, 826, 4868, 4007, 1683, 4288, 4481], [4131, 1191, 4991, 1252, 143, 2309, 2488, 360, 2517, 4263, 3331, 686, 1191, 3415, 2553, 2148, 4520, 2847, 1765, 1244, 4226, 1705, 1716, 3197, 2948, 612, 41, 2144, 409, 1341, 3225, 612, 1857, 4520, 4996, 2583, 2530, 143, 1191, 4131, 2148, 1978, 1716, 455, 4263, 2530, 3983, 4847], [185, 4395, 643, 1803, 722, 1765, 4749, 2148, 890, 3031, 1191, 990, 1844], [1191, 2309, 4973, 1341, 1309, 3953, 132, 92, 1716, 4447, 1134, 1241, 2714, 4965, 3786, 4852, 1765, 1961, 2059, 1191, 3478, 3873, 4875, 701, 999, 1341, 2269, 81, 2895, 192, 3351, 1191, 4014, 1716, 2708, 1341, 4591, 1317, 2530, 4472, 714, 1341, 1857, 1599, 2879, 3110, 2898, 1120, 2879, 1216, 2824, 1317, 1765, 1235, 132, 4996, 702, 3471, 3361], [3423, 2152, 413, 143, 1548, 1765, 1235, 92, 1716, 3126, 4264, 3655, 948, 4875, 522, 3477, 564, 4325, 2527, 270], [3501, 1683, 612, 918, 1716, 2844, 1341, 3186, 1309, 1765, 4832, 3058, 3205, 2639, 3385, 4007, 3313, 1903, 4577, 4069, 65, 2976], [2851, 1060, 2246, 765, 1878, 886, 886, 2408, 1460, 1250, 1441, 3548, 510, 3265, 3198, 2957, 2530, 2860, 145, 3949, 721, 1370, 2051], [4492, 4492, 4492, 1354, 918, 3629, 3629, 3629, 3629, 3629, 3508, 3165], [1614, 3069, 4809, 1733, 4686, 3885, 1135, 4040, 989, 181, 1137, 4835, 1023, 634, 1712, 4686, 3253, 2871, 4007], [885, 718, 132, 3454, 1863, 4976, 4321, 3699, 4976, 4321, 506, 4976, 1765, 605, 3382, 1272, 4013, 966, 2530, 238, 3690, 4770, 3099, 4165, 3636, 371, 4214], [3268, 1501, 778, 876, 2899, 1793, 2867, 876, 786, 4457, 430, 1342, 876, 786, 4457, 3616, 721, 2532], [2362, 2226, 4330, 4737, 3856, 4737, 107, 1716, 4591, 2602, 2530, 3438, 1967, 769, 4960, 4591, 1220, 4603, 2148, 2670, 1716, 2140, 1586, 2426, 1341, 107, 969, 2530, 3438, 1967, 769, 4960, 236, 4226, 2530, 1765, 1196, 4980, 2530, 1282, 3191, 490, 1341, 2144, 1196, 4591, 2027, 769, 2530, 3438, 1967, 769, 2309], [2309, 522, 3137, 4325, 4317, 4875, 2269, 1645, 349, 2148, 1949, 1341, 1562, 1341, 2269, 588, 1273, 133, 2620], [2362, 2823, 3224, 3558, 4867, 2722, 2127, 718, 1242, 4055, 282, 3764, 2513, 282, 3573, 2932, 2100, 282, 40, 2765, 2333, 1765, 218, 2148, 4614, 3031, 4321, 2307, 4647, 2030, 853, 2388, 2333], [758, 1341, 199, 3058, 2651, 1716, 4149, 2872, 1901, 4473, 4445, 3058, 4445, 1750, 4349, 2632, 4288, 4288, 4288, 3945, 1747, 3747, 4601, 468, 885, 4103, 721, 4754, 1373, 1725, 4499, 2639, 3016], [4013, 1112, 2759, 294, 1765, 1147, 1415, 2030, 4783, 4955, 1149, 3040, 2141, 2698, 556, 3058, 3191, 522, 4169, 2530, 2269, 4325, 4337, 2307, 4937, 1120, 1282, 1967, 2148, 1191, 1537, 3748, 2605, 1370, 236, 3507, 1120, 4325, 1237], [975, 269, 4661, 2786, 1770, 1716, 735, 4325, 4333, 3969, 2879, 3969, 4306, 1765, 2269, 1284, 2530, 4616, 3785, 4593, 2530, 721, 2362, 2867, 1898, 887, 1626, 2162, 265, 526, 222, 2703, 222, 2703, 3856], [698, 2148, 732, 2045, 431, 4873, 2117, 1523, 2925, 4521, 431, 516, 4591, 3990, 3438, 2879, 884, 3327, 3094, 975, 2148, 2786, 2309, 431, 4739, 4174, 426, 4865, 2253, 4122, 1585, 1765, 4749, 2148, 1571, 2307], [2223, 2731, 1716, 4102, 1716, 866, 1341, 3225, 3058, 3538, 92, 4115, 1765, 751, 2718, 706, 4996, 1218, 4407], [3556, 1997, 1341, 236, 1683, 2558, 459, 2392, 3884, 1273, 51, 2392, 2639, 2309, 2148, 2117, 4545, 2148, 51, 1278, 1415, 3550], [91, 1179, 4996, 3480, 4868, 2787, 4330], [3284, 4730, 4793, 718, 3910, 2708, 4115, 612, 312, 3032, 1608, 4996, 1716, 4873, 966, 3058, 650, 4278, 935, 4873, 2562, 1275, 2148, 1554, 132, 2598, 4457, 2281, 3923, 1602, 3507, 167, 816, 4875, 1811, 4996, 3923, 360, 1341, 4107, 1191, 248, 2169, 2703, 3507, 3092], [2364, 518, 1650, 2364, 518, 1214, 1150, 1536, 1795, 946, 4401, 1055, 4508, 721, 31, 2377, 2408, 2678, 2004], [3713, 1244, 2428, 3995, 2413, 4513, 4872, 356, 423, 4872, 266, 959, 1524, 4991, 519, 4971, 3265, 3323, 440, 1842], [228, 3416, 2148, 3738, 131, 1120, 1562, 4744, 2281, 2703, 509, 1887, 1906, 721, 4159, 2427, 3973, 2790, 4698], [3884, 2356, 557], [3735, 3058, 1401, 2530, 2038, 3058, 1583, 2530, 2532, 1716, 2670, 4081, 2551, 4976], [975, 876, 61, 1583, 2519, 2131, 984, 3841, 1070, 2879, 606, 2761, 3810, 2786, 2625, 757, 3058, 1742, 1523, 1632, 994, 2269, 1120, 3654, 2945, 3058, 34, 588, 975, 3253, 1273, 4168, 26, 893, 2362, 464], [2046, 1716, 1752, 4875, 589, 2352, 458, 353, 1601, 1716, 3557, 3058, 448, 3624, 2670, 3982, 663, 4007, 694, 2759], [2193, 3907, 2488, 2662, 604, 1073, 1716, 2058, 3234, 2148, 3099, 4875, 175, 4537, 482, 2530, 3507, 414, 2765, 3693, 162, 1716, 3197, 4752, 3016, 2231, 3101, 2131, 2630, 3016, 959, 3128, 199, 448, 3624, 3659, 3507, 899, 3867, 4477, 1544, 1523], [2866, 3031, 4025, 2408, 887, 4816, 2860, 4593, 2530, 2362, 3198, 3122, 1078], [694, 79, 672, 4981, 1060, 851, 467, 2988, 1842, 4147, 4315, 2975, 1265, 1842, 3420, 2988, 3097, 937, 3636, 3437, 467, 2550, 1691, 1414, 1414, 2232, 3284, 2555, 436, 2804, 4106, 614, 3136, 3645, 2550, 3636, 1415, 871, 1842, 955, 4007, 1513], [1931, 836, 262, 255, 3453, 4170, 460, 11, 1343, 3562, 721, 659, 702, 1878, 1651, 4462, 145, 3558, 2530, 2356, 1891, 496], [3781, 4007, 182, 2427, 201, 3989, 829], [3333, 2232, 1013, 2586, 2518, 327, 4007], [3092, 228, 468, 1765, 3225, 1071, 1120, 2223, 1191, 2731, 789, 2403, 4501, 4793, 4365, 4963, 1099, 3446, 4323], [1115, 453, 1155, 4322, 4202, 3817, 4352, 4276, 3620, 1115, 2759, 3504, 2039, 1856, 3108, 382, 1023, 4769, 4549, 4203, 1003, 408, 4971], [211, 2107, 2321, 1680, 2107, 1, 1781, 3349, 3461, 1695, 109, 1330, 1679, 977, 2408, 145, 3198, 4540, 2860, 1432, 2639, 2053, 2957, 1181, 886, 2530, 4401, 1134, 610, 1430, 1460, 1652, 815, 2362, 1755], [199, 2706, 211, 2144, 3480, 1315, 4938, 4401, 3194, 1186, 3198, 180, 4219, 1460, 1866, 1460, 2362, 1642, 2110, 1053, 2867, 3144, 2967, 1644, 1247, 1460, 2530, 3412], [3428, 2148, 4216, 3486, 2148, 3721, 2887, 1541, 839, 2009, 4624, 2570, 4951, 3923, 4313, 1765, 4749, 2148, 890, 3031, 4321, 3171, 2362, 1413, 4313, 3120, 672], [2074, 1341, 828, 1341, 3283, 4013, 2038, 1341, 522, 4013, 2414, 4013, 2311, 4264, 4325, 3118, 292, 3420, 443, 2258, 4599, 4955, 4793, 4963, 3661, 1819, 1768], [3092, 3573, 1836, 1373, 315, 1218, 1716, 3737, 25, 3058, 2736, 3990, 4278, 4732, 1836, 3737, 431, 2019, 4227, 4139, 1341, 4457, 2280, 2563, 2879, 3440, 4591, 3738, 1191, 3600, 2845, 1716, 3197, 790, 2870, 2530, 4461], [4601, 1524, 1341, 3907, 2304, 4559, 4758, 769, 2530, 2362, 2787, 4330], [2362, 1303, 2787, 4330, 3005, 2226, 3329, 3654, 1341, 2879, 3249, 4112, 3205, 111, 1733, 4402, 1716, 3197, 953, 568, 3058, 3677, 4325, 67], [876, 3438, 360, 2698, 251, 694, 612, 2005, 3205, 2172, 1765, 4167, 4007, 1859, 1281], [2225, 3257, 4656, 3872, 4537, 2225, 2307, 4656, 3205, 3872, 4537, 4461, 3507, 1576, 1120, 3558, 3678, 2148, 2183, 2670, 4614, 2379, 3058, 2141, 4656, 1100, 4537, 4721, 3677, 4007], [4537, 686, 4875, 4595, 1310, 3461, 2530, 4278, 1156, 1716, 4696, 3058, 23, 1310, 1272, 1191, 774, 1048, 4537, 3782, 4960, 1351, 2232, 3092], [4610, 3971, 2705, 750, 249, 3406, 1614, 4610, 3971, 938, 356, 3214, 16, 3171, 3171], [4328, 228, 199, 2386, 718, 3748, 1120, 1109, 3386, 2148, 3598, 1765, 1431, 2148, 978, 2126, 2810, 4222, 1220, 349, 1341, 4996, 3513, 1191, 4344, 2269, 4325, 2466, 3785, 2144, 3602, 4996, 3513, 4214, 1191, 4945, 1341, 461, 2306, 2530, 2386, 2148, 660, 2356, 582, 2386, 3058, 3867, 197, 700, 1185, 3092], [36, 4537, 293, 1373, 1537, 1716, 3197, 1599, 4328, 769, 27, 2226, 4330, 3606], [4974, 917, 4537, 4207, 3092], [1360, 3225, 1716, 3782, 1716, 4557, 1341, 4856, 4125, 3225, 1716, 3782, 1716, 4557, 1341, 4856, 1789, 2879, 1631, 4789, 3359, 1341, 2530, 4866, 1967], [1483, 1614, 3149, 4428, 1691, 2871, 2975, 3496, 4428, 871, 16], [4315, 3636, 672, 1416, 1696, 871, 4465, 3527, 617, 871, 1177, 2226, 4330, 228, 2845, 3682], [2011, 2148, 3677, 4472, 221, 346, 1675, 2144, 3677, 4855, 3480, 3923, 4469, 431, 2407, 4591, 1017, 3654, 1716, 1978, 1454, 3438, 2992, 66, 475, 3480, 3923, 3779, 1844, 2869], [2379, 935, 3002, 3418, 1716, 3891, 1523, 2757, 1306, 2226, 4330], [3980, 3155, 3326, 4730, 1863, 4976, 718, 1765, 4749, 2148, 2307, 800, 3031, 4178, 312], [2291, 3452, 1442, 2255, 1523, 1576, 1716, 2898, 3907, 4444, 3902, 1306, 1303, 2787, 4330], [1862, 3058, 60, 3683, 1413, 1341, 3677, 2879, 4325, 3305, 3973, 2408, 2860, 1652, 1881, 774, 3198, 1852, 1676, 510, 1181, 2957, 886, 2530, 4593, 1460, 721, 1370, 1250, 4938, 1866, 4675, 465, 3265, 2937, 4267], [4887, 496, 1724, 2148, 3124, 4022, 4004, 364, 4383, 2530, 3606, 3813, 4348, 2148, 3124, 4752, 4383, 2530, 4501, 416, 3183, 3902, 4497, 2877, 3040, 1220, 3128, 269, 3191, 296, 4383, 709], [3349, 2232, 2280, 1146, 1842, 4516, 454, 4157, 2410, 3971, 2280, 871, 1842, 3172, 2537, 1078, 4267, 721], [4149, 4440, 4006, 835, 1179, 2200, 2148, 414, 1631, 521, 1765, 448, 448, 4139, 2787, 1606, 1004, 3654, 1075, 3654], [686, 4875, 4595, 1310, 3461, 2530, 4278, 1156, 1716, 4696, 3058, 23, 1310, 1272, 1191, 774, 1048, 4537, 3782, 4960, 1351, 2232, 4866, 1967], [646, 4817, 841, 1210, 4971, 2010, 2996, 1842, 621, 871, 1842, 2008, 233, 4106, 3588, 3636, 2060, 3553, 4106, 3225, 2975, 4365, 3437, 3023, 2667, 772, 1431, 1238, 4098, 4202, 2060], [1291, 479, 1120, 3856, 1750, 790, 1287, 353, 1120, 3910, 3271, 4964, 1716, 3995, 4996, 448, 3884, 3659, 12, 3402, 3609, 666, 4360, 270, 2530, 4889, 236, 739, 4325, 3539, 694, 713, 1250], [3409, 2476, 4599, 2565, 1587, 1404, 1407, 4875, 1304, 521, 4537, 2700, 4220, 4875, 890, 1501, 1120, 2879, 1936, 1404, 556, 1716, 1632, 44, 2542, 4537, 482, 3573, 3664, 1341, 4856, 12, 1351, 961, 2379, 4875, 4528, 1673, 1297, 335, 3378, 3768], [3215, 2665, 621, 1910, 1821, 1780, 1906, 1691, 4064, 4589, 2232, 904, 3813, 873, 1025, 2409, 3214, 1852, 4971], [3884, 1716, 1683, 2530, 236, 2879, 4280, 2148, 4954, 837, 966, 2193, 236, 360, 234, 2269, 1250, 1112, 1415, 3550], [4003, 1079, 368, 3322, 482, 3438, 2858, 251, 4324, 4795, 3440, 1358, 4104, 1403, 416, 2879, 2488, 412, 1120, 2879, 1285, 3524, 1273, 4003, 1866], [1415, 1794, 1149, 666, 794, 4013, 1751, 2144, 731, 1120, 3804, 2818, 2670, 4591, 2786, 3599, 1716, 3134, 1220, 2020, 2579, 2545, 721, 2408, 3884, 2621], [2316, 4685, 1733, 3471, 3835, 4543, 1844, 1315, 765, 3356, 4543, 893, 867, 1644, 4971, 4267], [653, 2513, 458, 353, 1601, 3721, 2148, 4477, 412, 2530, 4461, 3969, 1341, 3507, 612, 2995, 1631, 4875, 3212, 284, 1862, 3933, 365, 3334, 1765, 1250, 431, 981, 3781, 2080, 4007, 2036], [2309, 2148, 4656, 3867, 2530, 1765, 556, 1716, 2190, 1765, 1524, 1716, 4856, 612, 3806, 3150, 1524, 612, 1220, 4856, 1297, 2879, 1994, 1765, 959, 1184, 3987, 2879, 1969, 2530, 1191, 3031, 2530, 3888, 1010, 4104, 285, 1716, 4860, 3625, 1957, 2675, 433, 2867, 3867, 871, 2148, 2948, 556, 4324, 918, 2148, 771], [2036, 1614, 672, 2929, 2060, 1977, 4901, 3813, 3655, 2101, 2975, 2568, 3206, 3897, 3813, 3655, 4124, 4531, 4785, 4710, 46, 672, 3255, 4473, 213, 4785, 4781, 2992, 2328, 3813, 3655, 585], [2145, 1748, 1716, 352, 560, 2058, 458, 353, 1601, 718, 4875, 136, 2944, 3897, 111, 876, 4308, 2530, 295, 1716, 3197, 3384, 884, 1599, 269, 1120, 2765, 1551, 4996, 1758, 3748, 2530, 3100, 1599, 269, 4472, 236, 4960, 2901, 2492, 25, 3058, 199, 448, 2739, 3624, 3736, 1513], [2362, 3857, 3915, 3318, 3654, 2530, 3908, 2530, 99, 2530, 3003, 2530, 2288, 2180, 159, 1341, 935, 2776, 2530, 3606, 1303, 3318, 278, 4875, 2602, 2530, 1762, 11, 2530, 461, 2407, 558, 2092, 4954, 3058, 3606, 2530, 4589, 3318, 975, 4875, 3805, 2530], [3604, 4178, 871, 1842, 133, 871, 16], [4859, 1341, 4823, 92, 1716, 475, 197, 2269, 2772, 1550, 1585, 612, 409, 1716, 199, 4586, 4875, 17, 1495, 2651, 4475, 4875, 3334, 337, 1191, 2651, 764, 4875, 3425, 105, 3306, 666, 1696, 4333, 2632], [3700, 4601, 2593, 2588, 429, 666, 2845, 3906, 1896, 92, 1765, 1039, 466, 4960, 3507, 2232, 458, 3513, 1481], [3178, 1001, 2107, 2575, 3839, 2787], [3944, 1716, 838, 2144, 3944, 4749, 1758, 2670, 2765, 1341, 328, 1523, 3677, 2548, 4749, 1318, 2670, 1359, 203, 975, 1341, 819, 3438, 2877, 2148, 3917, 1341, 3593, 4749, 1758, 2670, 2381, 4007, 1519], [3755, 46, 2207, 2977, 4325, 1551, 4202, 1842, 3755, 2977, 2161, 1588, 4325, 4462, 675, 1842, 2207, 171, 4249, 698, 1733, 1691, 3427, 2988, 2737, 4749, 1482, 4485, 1781, 2439, 2889, 1781, 2439, 2878, 1781, 1739, 3755, 1033, 4756, 1691, 4007], [3681, 3918, 841, 3542, 1267, 4468, 1842, 4971, 4947, 351, 1729, 2992], [747, 1071, 2530, 1765, 202, 3937, 1120, 4617, 3875, 1120, 2812, 3736, 3534, 1341, 3259, 4428, 1015, 4007], [478, 2145, 197, 4832, 1716, 2724, 4020, 2570, 3284, 4730, 3760, 3985, 1765, 4749, 2148, 890, 2307, 1191, 3838, 4911, 3058, 3910, 457, 455, 2006, 1004, 4321, 4625, 4348, 2148, 2221, 822, 3736, 2362, 1844, 3760, 1104, 1893], [4013, 494, 1120, 4537, 4444, 4216, 4528, 2225, 132, 455, 343, 1357, 876, 1111, 2346, 2305, 2556, 2670, 3857, 2504], [2280, 975, 3058, 2182, 1765, 202, 3058, 3193, 92, 4052, 482, 4750, 201, 1513, 2080, 4007, 2256, 905, 3475, 458, 353, 4456, 3767, 1021, 984], [312, 2232, 3647, 4749, 4769, 4537, 975, 3191, 1190, 3786, 2946, 3893, 2530, 2637, 460, 1511, 3178, 3678, 5, 4616, 2706, 2798, 4571, 83, 2077, 83, 3811, 3921, 1827, 4007, 4007, 4549, 1866, 4025], [4793, 4599, 2362, 1132, 4330, 2483, 3760, 1104, 1893], [3349, 268, 3471, 2299, 3145, 1060, 2065, 4410, 1015, 4174, 4816, 3906, 774, 2362, 1864, 3274, 3620, 85, 224, 1642, 1078], [4662, 4283, 4001, 2148, 401, 3058, 4608, 1765, 4749, 2148, 4815, 2180, 868, 2976, 4754, 2362, 2314, 1837, 145, 1852, 786, 3652, 3949, 1186, 4250, 2860, 1460, 1053, 161, 3198], [185, 2914, 3118, 2359, 2148, 1603, 3058, 851, 3221, 4330], [185, 2786, 4606, 1341, 1403, 4840, 2786, 4907, 1341, 1403, 4862, 1138, 3164, 3677, 922, 185, 1857, 3164, 2269, 1403, 2530], [4305, 239, 3591, 4367, 4525, 3275, 4104, 2406, 2406, 1194, 3799, 621, 944, 944, 4971, 4267, 457], [1314, 2296, 3712, 2997, 1381, 856, 4499, 538, 1041, 4302, 4007, 709, 1870, 10, 1887, 180, 4250, 2768, 3649, 933], [4793, 2193, 3907, 2488, 2662, 604, 1073, 1716, 2058, 3234, 2148, 3099, 4875, 175, 4537, 482, 2530, 3507, 414, 2765, 3693, 162, 1716, 3197, 4752, 3016, 2231, 3101, 2131, 2630, 3016, 959, 3128, 199, 448, 3624, 3659, 3507, 899, 3867, 4477, 1544, 1523, 2944], [387, 3118, 2194, 1765, 1017, 3032, 3058, 1501, 236, 4112, 2879, 12, 1017, 3032, 3058, 366, 1765, 4591, 1501, 2530, 3438, 3356, 3058, 1501, 3191, 1120, 3356, 2879, 1017, 3032, 3058, 510, 975, 2148, 2309, 1273, 202, 4875, 2842, 1750, 2530, 588, 638, 2255, 238, 2002, 638], [12, 2310, 1341, 1359, 3115, 1755, 4325, 931, 4013, 1220, 2868, 1341, 2879, 3704, 1621, 802, 2148, 978, 2226, 2482, 3812, 2783], [2362, 2226, 4330, 3937, 2471, 2944, 1707, 2420, 30, 2359, 2269, 2670, 2734, 964, 1523, 575, 3217, 2774, 3606, 1967, 4927, 1341, 3693, 1783, 4960], [3428, 3486, 2148, 3721, 2887, 1541, 839, 2009, 4624, 2570, 4951, 3923, 4313, 1765, 4749, 2148, 890, 3031, 4321, 3171, 2362, 1413, 4313, 3120, 4531], [1712, 3438, 1464, 1716, 3892, 3204, 2680, 666, 4842, 1716, 2539, 479, 1441, 2053, 2860, 3652, 1101, 721, 3247, 4803, 3130, 3468, 1181, 2957, 2468], [4793, 4963, 4599, 2227, 3932, 3102, 2359, 73, 2359, 8, 2359, 4123, 4164, 3832, 3196, 3625, 2741, 3637, 4900, 3058, 2269, 236, 3654, 1615, 4537, 1495, 3910, 2619, 2269, 3118, 3654, 2148, 3907, 4180, 491, 4960, 2362, 3857], [2362, 2226, 3625, 4640, 1362, 2097, 3813, 3101, 4194, 3096, 2820, 809, 1842, 4462, 732, 4337, 2975, 1733, 1431, 4007, 4060, 4794, 313, 1733, 2107, 46, 2476, 1614, 1631, 3349, 4194, 2992, 2008, 1842, 1656, 1842, 3004, 4322, 3349, 2095, 4548, 3214, 1350, 1614, 3870, 672, 1367, 3004, 617, 1842, 1656, 1842, 3004, 4322], [199, 4875, 3944, 96, 1889, 3128, 427, 4325, 2568, 3482, 4823, 2144, 3873, 3480, 969, 106, 4088, 3283, 4576, 222, 3869, 2362, 4294, 4480, 857, 2144], [2362, 3221, 829, 605, 1273, 25, 3507, 1673, 3897, 1981, 1585, 3118, 1751, 4922, 1673, 3897, 1981, 3910, 2552, 3058, 2269, 959, 2552, 2698, 3507, 4325, 2530, 1120, 4013, 4325, 4682], [3591, 131, 1120, 1222, 4271, 1760, 131, 1120, 2305, 4332, 4461, 2408, 131, 1120, 45, 4332, 4461, 1191, 908, 4336, 131, 1120, 4400, 4332, 4461], [2597, 3636, 2996, 3471, 1843, 1180, 3601, 1245, 2975, 3585, 2975, 1896, 4432, 1308, 944, 4971, 4267, 457], [1631, 4875, 2216, 2269, 751, 2690, 3781, 197, 4875, 2216, 751, 2690, 132, 4537, 2901, 4866, 1967], [3677, 2765, 4457, 4679, 2950, 4721, 3693, 3298, 424, 412, 2232, 4679, 2530, 4457, 2408, 2408, 4267, 2053, 2860, 3652, 1101, 721, 3247, 4803, 3130, 3468, 1181, 2957, 4315, 4401, 2759, 1250, 3790], [1957, 1765, 890, 3031, 4321, 2307, 2452, 718, 1545, 756, 3782, 3933, 3058, 3141, 4752, 3872, 1330, 1844, 1677, 666, 4867, 4041, 4867, 2688, 4291, 398, 3271, 2867], [3195, 3599, 1250, 412, 1120, 4891, 318, 2269, 876, 3214, 1430, 769, 2530, 231, 974, 3507, 4141, 3599, 1716, 866, 269, 1581, 4332, 1120, 3507, 1770, 2879, 3884, 293, 2286, 3058, 768, 4325, 607, 4484], [778, 3965, 2820, 1842, 1431, 2627, 959, 3965, 3314, 1463, 694, 2808, 201, 4864, 4007, 4301], [2457, 808, 3853, 1765, 3004, 4013, 562, 3058, 3567, 3736, 2927, 1952, 4875, 3043, 2981, 2858, 1765, 431, 4005, 3054, 989, 4007, 414], [939, 4013, 3736, 4918, 486, 1273, 1361, 1682, 4691, 4325, 3655, 4104, 3677, 4530, 826, 2670, 4104, 4127, 1716, 2218], [1770, 4875, 1405, 2148, 4820, 2148, 1603, 4718, 2269, 4325, 4325, 4520, 2879, 3154], [153, 313, 1431, 621, 1821, 1683, 3178, 600, 4543, 1818, 1691, 2107, 3521, 1614, 4795, 1431, 2848, 3206, 4271, 2737, 3441, 3994, 1864, 1060, 600, 4287, 1513, 4007, 912], [2364, 2232, 3284, 268, 1614, 1866, 2975, 3437, 4792, 1194, 3763, 3284, 2996, 2190, 600, 1720, 1614, 4795, 3953, 1479, 1842, 944], [2174, 4163, 269, 2879, 2765, 815, 4052, 1758, 2530, 197, 2379, 2276, 269, 4693, 4960, 2778, 2427, 3749, 4007], [1157, 502, 4679, 3058, 718, 1341, 3258, 2190, 2148, 1282, 612, 2141, 3624, 1149, 4278, 429, 2144, 2728, 4960], [2008, 3059, 2707, 1842, 3597, 71, 3813, 3680, 2283, 3471, 3292, 3799, 1553, 4008, 2992, 4530, 1044, 673, 4202, 1652, 4551, 222, 3550, 265, 1087, 933, 1203, 2734, 3811, 4040, 4007, 989, 989], [2988, 1800, 3813, 2737, 1367, 2524, 1479, 798, 2873, 1893, 1060, 4425, 1104, 4815, 3813, 4570, 1733, 4570, 1060, 3986, 2774, 3469, 2316, 683, 798, 1893, 751, 683, 4492, 4951], [3284, 1949, 4793, 718, 1765, 218, 2148, 890, 3031, 256, 817, 964, 2081, 1373, 256, 3896, 2156, 1716, 2906, 2148, 2817, 1333, 2081, 2412, 2148, 2817, 1193, 2412, 2148, 1084, 269, 2134, 352, 3910, 890, 1385, 3058, 4958, 2730, 4225, 4873, 448, 2180, 4245, 431, 2362, 1844, 4497, 1552], [2362, 4737, 3857, 3118, 3318, 4669, 2866, 3058, 1230, 876, 2694, 4007, 4737, 3677, 2765, 2556, 2670, 236, 461, 3744, 1011, 1716, 666, 2890, 2144, 3683, 876, 360, 4875, 2852, 2995, 3782, 4909, 1341, 3704, 2530, 1273, 1637, 2187], [3677, 2765, 4283, 2281, 465, 1716, 1889, 4459, 2639, 3677, 666, 2481, 4030, 606, 721, 2408], [4626, 4626, 1843, 3152, 3097, 997, 3636, 203, 1127, 871, 1242, 4346, 1005, 1311, 327, 1843, 2765, 3636, 135, 871, 16, 3789, 2408, 1902, 3475, 3195, 3003], [1021, 4958, 180, 1142, 2160, 4210, 438, 4327, 778, 1060, 2160, 3965, 4327, 4551, 180, 4723, 202, 778, 760, 3471, 2107, 2518, 3461, 2554, 48, 4850, 2107, 2518, 4740, 4088, 2411, 3513, 3652, 1250, 4007, 2054], [185, 1003, 1070, 2381, 2754, 1273, 4013, 4179, 806, 61, 948, 2144, 666, 1268, 3118, 890, 3265, 3945, 3265, 433, 2362, 721, 3198, 265, 1729, 2530, 3046, 886, 1460, 774, 1507, 1838, 270, 3624], [1744, 1647, 2316, 4145, 1614, 2741, 4383, 1175, 829, 3338, 177, 4589, 3214, 2160, 2911, 517, 3794, 2825, 2330], [3591, 3367, 1781, 3023, 3367, 2867, 1642, 1357, 1656, 3349, 3932, 1642, 4167, 4007, 1015], [810, 2756, 438, 4768, 4680, 3258, 1567, 3455, 2530, 4002, 1341, 127, 479, 3058, 3876, 612, 1631, 1765, 1155, 2148, 1583, 3205, 4104, 1120, 3677, 1889, 4875, 363, 2530, 1521, 1697, 975, 1341, 127, 479, 3058, 83, 4276, 4372], [3191, 2309, 4325, 2530, 1765, 2193, 1631, 1716, 1218, 612, 3479, 502, 4679, 1765, 622, 4013, 1990, 1149, 1765, 2193, 2820, 3226, 2190, 3258, 3009, 285, 2148, 4588, 4875, 3663, 3479, 4325, 2772, 3479, 4927, 3677, 1356, 2670, 2789, 1603, 2838, 272], [1930, 2530, 479, 755, 427, 236, 2011, 1269, 4537, 4769, 2530, 359, 2280, 3574, 4915, 2408], [448, 2625, 2530, 414, 1765, 3813, 1267, 4961, 2269, 2910, 1886, 11, 2670, 4403, 2362], [2805, 4793, 3836, 75, 3842, 1566, 4963, 2147, 3388, 2375, 2362, 1844, 3760, 1104, 1893], [2556, 2670, 2359, 251, 1750, 3263, 1043, 2670, 878, 1750, 429, 1716, 3231, 1341, 2225, 1390, 2879, 4325, 4617, 4337, 2359, 1599, 1220, 429, 1765, 1220, 1713, 2144, 2226, 3510, 2530, 2548, 2995, 4325, 3748, 3118, 2280, 4234, 3058, 134, 775, 1401, 2698, 1751, 3910, 607, 3058, 2471, 2944, 197, 2226, 4330], [3913, 3507, 2280, 3683, 3164, 2148, 1324, 1341, 1599, 4328, 493, 2305, 1393, 1765, 1120, 3117, 155, 11, 2670, 2144, 4641, 4325], [1524, 556, 544, 718, 1341, 1987, 1716, 4931, 2609, 4824, 4114, 3258, 4537, 1981, 4591, 1220, 776, 63, 256, 876, 3214, 360, 2148, 3259, 3739, 4424, 3600, 2708, 4115, 1765, 3683, 3884, 1765, 3882, 2148, 99, 3169, 3016], [3591, 4006, 4578, 2362, 3591, 4771], [2766, 4327, 1475, 3207, 790, 1026, 3513, 2408, 2940, 3527, 2362, 2444, 3508, 4754, 1866, 2824, 1134, 1018, 3652], [3692, 4325, 4007, 3143, 92, 4937, 1765, 4666, 2269, 3659, 2621, 1442, 1727, 482, 4537, 236, 2879, 1120, 4537, 2901, 2530], [2362, 1844, 1524, 1716, 1726, 1863, 2139, 718, 1765, 4524, 360, 2148, 890, 81, 4793, 4963, 1930, 2647, 1093, 1669, 2372], [2293, 1716, 1172, 4593, 2024, 718, 4325, 1765, 4749, 2148, 890, 2307, 4754, 4325, 4288, 1716, 204], [487, 3862, 180, 3296, 272, 2364, 4544, 2340, 4050, 2778, 1395, 3349, 3021, 3010, 2975, 3100, 1842, 3952, 1842, 2659, 1531, 2008, 3086, 46, 3086, 806, 3046, 3799, 4388, 1531, 1885, 1973, 3221, 1357, 2226, 4712, 2759, 2867, 1866, 4144], [2379, 111, 1952, 1614, 4221, 1341, 312, 3744, 1981, 4882, 2379, 778, 516, 4609, 1981, 2530, 778, 1341, 3907, 2488, 3677, 4428, 2530, 1120, 3438, 2530, 494, 2372, 201, 4007, 1343, 1538, 1689, 4244], [4971, 2690, 4695, 1716, 759, 427, 2412, 4875, 1579, 3736, 939, 4013, 2879, 3262, 2278, 970, 775, 4875, 4013, 1120, 876, 407, 3736, 1178, 3058, 2468, 4473, 12, 4013, 2879, 876, 679, 1810, 4069, 1322, 4069, 1552], [2008, 1910, 736, 65, 4267, 2686, 4773, 3086, 416, 538, 4686, 211, 3004, 461, 4551, 3023, 2975, 3604, 1357, 4868, 3450, 4516, 4773, 2025, 2929, 4267, 4773, 4971], [2684, 2975, 3471, 3086, 778, 3813, 1629, 2975, 3546, 2684, 2975, 3471, 3086, 778, 3813, 1629, 2975, 2031, 1229, 2992, 3214, 4856, 4597, 3086, 780, 2006, 2975, 2031, 1669, 3857, 3221, 342], [2309, 2877, 2269, 2309, 4304, 4875, 3907, 4444, 3392, 2530, 4267, 3769, 2891, 4314], [185, 606, 269, 4104, 1020, 2269, 479, 4656, 4875, 3263, 433, 2879, 2530, 1120, 975, 1952, 1716, 1036, 2309, 2119, 2189, 3137], [2786, 3438, 3178, 3933, 3573, 2706, 3078, 3582, 2091, 612, 1531, 1191, 2141, 2736, 666, 2077, 3950, 4007, 2824], [2320, 1117, 1733, 1357, 2821, 2269, 3125, 1919, 94, 613, 2860, 2778, 4007, 721, 1453], [3758, 4716, 360, 2731, 2223, 1716, 1061, 323, 2670, 2733, 3058, 3677, 4873, 2148, 815, 1273, 2827, 3101, 1575, 715, 753], [199, 4875, 360, 4458, 1716, 3757, 448, 1143, 360, 2530, 4458, 2148, 2309, 4875, 4706, 4325, 3327, 199, 1120, 4549, 3713, 1091, 4471, 2065, 4769, 648, 199, 4875, 360, 448, 2463, 360, 2530, 4458, 1716, 3630, 2463, 4444], [211, 2406, 3471, 1716, 2107, 224, 1060, 4705, 1618, 531, 42, 1060, 211, 2560, 375, 2107, 944, 4971, 4267, 457], [4752, 2408, 4007, 1247, 1859, 4938, 4250, 1931, 4401, 774, 1460, 2427, 1161], [463, 2975, 4969, 4516, 430, 3023, 625, 2975, 463, 1060, 4516, 4324, 4007, 1938], [238, 3813, 7, 3214, 3471, 693, 3085, 1614, 233, 3809, 1043, 221, 1843, 2324, 1141, 2859, 1842, 4007, 2858], [236, 1070, 4251, 2530, 1055, 2556, 1341, 3884, 1591, 2708, 1765, 416, 3680, 253, 2392, 3683, 975, 1765, 4251, 2587, 1106], [4896, 899, 1220, 3606, 1967, 2144, 2728, 3677, 1840, 236, 3507, 1716, 2724, 4524, 4875, 1603, 2530, 1765, 3507, 2232, 1755, 4949, 1341, 2201, 3225, 2156, 1765, 522, 3303, 132, 2169, 4916, 4104, 3507, 2280, 2939, 2148, 1478, 1785, 1306, 2226, 4330], [768, 3058, 4591, 822, 2530, 448, 1682, 3058, 1889, 3902, 3058, 2639, 4701, 3326, 4325, 3022], [4610, 2549, 1245, 1458, 1680, 2107, 211, 1800, 1842, 306, 2975, 3004, 3906, 3813, 2010, 2992, 2107, 1654, 4202, 371, 2408, 721], [239, 2132, 240, 3673, 3274, 498, 1186, 1852, 721, 2196, 806, 4503, 1489, 4248, 2806, 3178, 1726, 2408, 3706], [2973, 2061, 466, 4301, 4129, 2243, 2478, 3610, 4020, 1775, 59, 4452, 63, 4838, 1637, 4867, 2981, 4267, 2144, 2225, 2879, 3757, 1594, 4820, 4325, 2148, 2392, 4457, 2569, 2232, 3769, 1281, 731, 4007, 1032, 975, 4875, 2698], [1273, 1413, 261, 4537, 4769, 3051, 1273, 236, 3092, 3092, 4875, 3867, 4007, 2421, 270, 778, 4042, 3949], [199, 1120, 556, 2148, 1337, 4325, 208, 208, 4996, 3990, 2193, 937, 466, 4937, 51, 1750, 2593, 294, 2879, 4537, 2898, 465, 1543, 4126, 519, 2838, 31, 2925, 4971], [3191, 4897, 1273, 1956, 2148, 522, 1191, 660, 3544, 2530, 1967, 1716, 1405, 2148, 1683, 2379, 612, 2598, 3818, 4737, 4737, 2362], [1070, 2879, 4537, 2625, 2625, 4537, 2870, 1947, 3152, 1220, 1825, 2144, 4187, 132, 3625, 67, 381, 1399, 2381, 721], [412, 1175, 202, 2148, 4477, 362, 4349, 1457, 2783, 75, 718, 4104, 458, 353, 1601, 4591, 1765, 2820, 4991, 2649, 1201, 666, 666, 3933, 612, 2876, 1218, 3683, 3782, 2180, 412, 4477, 3683, 3782, 2269, 1404, 2530, 4377, 3933, 4104, 1632, 2351, 3302, 666, 3722, 1998, 3683, 3782, 2269, 3120, 2670, 666, 461, 1716, 975, 859, 4007], [277, 2148, 4001, 2644, 2148, 4001, 1716, 3420, 1767, 1350, 4721, 1765, 3600, 1442, 3975, 1981, 876, 1355, 2269, 1341, 2595, 2940, 4581, 1191, 2717, 4679, 2144, 3092, 92, 1716, 3197, 1293, 4996, 1218, 1842, 1350, 1341, 57, 2148, 3411, 3058, 2269, 2644, 1716, 3177, 4001, 3420, 2698], [3738, 2530, 899, 494, 1765, 1997, 77, 92, 1006, 236, 2011, 2011, 4325, 522, 1059, 3410, 1256, 2186, 1125, 4568, 4568, 4007], [1534, 576, 3440, 4215, 2879, 702, 1161, 4591, 2556, 1201, 4996, 2879, 702, 286, 4591, 1472, 1120, 236, 2879, 1273, 2454, 1120, 2467, 1201, 4617, 2879, 702, 372], [2919, 1615, 1641, 3058, 3035, 197, 801, 2780, 1716, 758, 4415, 2785, 426, 4867, 117, 353, 3741, 718, 1765, 4749, 2148, 448, 448, 3031, 4321, 1388, 3171, 2362, 1844, 841], [3659, 2530, 3097, 4875, 426, 3994, 2530, 2600, 520, 1341, 3210, 2148, 2591, 666, 324, 2144, 3092, 2890, 3867, 1120, 522, 3210, 3058, 4427, 3541, 4700, 3226, 4566, 3631, 1716, 1951, 3707, 1341, 3693, 894, 1051, 3440, 938, 3210, 612, 494, 1765, 2225, 3714, 3123, 4325, 2992, 238], [2993, 131, 1120, 4372, 2990, 3736, 2345, 1855, 1268, 1120, 4283, 2269, 3063, 2754, 4213, 4007], [3746, 211, 3004, 1117, 1206, 3260, 4516, 1194, 728, 3229, 1519, 4202, 4167, 3652, 1353, 3678, 1800, 1866, 2686, 653, 1486, 598, 4007, 2967, 2186, 676, 1442, 2697], [4871, 3471, 1842, 3813, 1499, 2975, 2524, 2077, 1680, 4516, 4164, 4365, 2975, 2524, 585, 3794, 2825, 2330], [3813, 433, 2530, 1120, 975, 1716, 560, 2280, 3599, 465, 1716, 3480, 1413, 1765, 1357, 4591, 560, 3513, 2530, 3438, 3624, 1043, 91, 30, 2217, 265, 2422, 831, 1981, 2422, 4317, 996], [3284, 4730, 1863, 4976, 718, 1765, 218, 2148, 890, 3031, 4321, 4207, 4911, 3058, 3910, 4746, 199, 4321, 457, 3654, 2148, 2221, 822, 1240, 1844, 3760, 1104, 1893], [239, 2252, 4033, 810, 1336, 2492, 841, 4033, 4327, 4830, 16, 168, 4538, 2192, 28, 4007], [2756, 1631, 4875, 2216, 2269, 751, 2690, 3781, 197, 4875, 2216, 751, 2690, 132, 4537, 2295], [778, 1614, 3611, 170, 1842, 1475, 180, 7, 1733, 2283, 1842, 1866, 721], [776, 683, 2117, 3042, 2326, 1684, 1552, 2759, 4945, 1378, 721, 3764], [3003, 153, 2371, 3574, 4137, 1614, 3375, 3214, 3471, 438, 3284, 2902], [3654, 3058, 1571, 1750, 2539, 3141, 4769, 2530, 2, 2434, 1856, 3884, 2081, 4619, 4105, 442, 4372, 2148, 3867], [2329, 448, 2148, 176, 1274, 2148, 4088, 3115, 1599, 2774, 1273, 92, 3058, 2269, 1359, 2530, 4684], [1519, 2317, 3301, 4599, 2041, 3360, 1830, 4976, 1762, 4971, 75, 841], [3471, 3646, 2086, 1182, 1315, 3471, 1219, 150, 3369, 2992, 4645, 3471, 3383, 4516, 481, 3678, 1044, 673, 4202, 1652, 4551, 222, 3550, 265, 1087, 933, 1203, 2734, 3811, 4040, 4007, 989, 989], [3993, 4730, 4730, 373, 127, 4594, 4443, 3908, 3120, 3029, 3120, 3120, 3120, 3029, 4559, 3029, 1830, 3029, 1830, 1830, 1830, 3029, 1923, 1981, 4025, 2408, 887, 4816, 2860, 4593, 2530, 2362, 3198, 3122, 1078], [46, 4071, 4691, 4591, 4544, 4748, 3214, 3471, 3501, 2107, 4604, 4516, 481, 3678, 1044, 673, 4202, 1652, 4551, 222, 3550, 265, 1087, 933, 1203, 2734, 3811, 4040, 4007, 989, 989], [2765, 2020, 2579, 1523, 4617, 11, 2670, 2808, 4710, 4007], [471, 607, 4749, 965, 4111, 3310, 1296, 1190, 4784, 2642, 2427, 484, 4111, 2857, 2989, 3935, 2237, 1746, 1401, 3389, 238, 4992, 1684, 4007], [458, 236, 4325, 2148, 3969, 612, 12, 2234, 2491, 2260, 4922, 2144, 2698, 3969, 2144, 2640], [4325, 841, 1431, 621, 4971], [1431, 3448, 180, 2791, 621, 1657, 3471, 1868, 1843, 1308, 3471, 158, 596, 3450, 3799, 4516, 481, 3678, 1044, 673, 4202, 1652, 4551, 222, 3550, 265, 1087, 933, 1203, 2734, 3811, 4040, 4007, 989, 989], [2359, 360, 2148, 4805, 2359, 876, 4660, 4532, 2530, 4591, 251, 3507, 3624, 4537, 1120, 4873, 3279, 969, 2530, 3507, 3224, 3016, 1120, 1477, 343, 769, 2746, 4284, 2105, 1120, 2309, 1648, 2530, 4278, 3507, 111, 2879, 154, 2392, 2879, 1477, 4117, 3832, 2530], [4838, 721, 2863, 3288, 2863, 2535, 3344, 1371], [3748, 177, 1752, 253, 4106, 2682, 1614, 4885, 1733, 774, 3553, 4794, 1182, 694, 153, 2888, 4710, 4106, 4112, 1513, 2790, 3138, 2427, 3292, 912, 201, 2798, 2678, 2004, 4843, 4007, 780, 276, 265, 201], [3428, 1108, 606, 2148, 4003, 2050, 2173, 1765, 2269, 2805, 3677, 2867, 2698, 1623, 4113, 1341, 2337, 2777, 3225, 352, 2718, 3440, 1341, 3507, 1765, 2805, 3147, 4183, 1149, 839, 1341, 3225, 3507, 2148, 2530, 3507, 2148, 2286, 1765, 4098, 3738, 3058, 3685, 4060, 413, 2309, 4610, 4461, 2474, 3545, 2716, 606], [4072, 1631, 1120, 1524, 1716, 2720, 1716, 890, 4537, 1944, 1587, 1404, 1407, 4875, 1304, 521, 4537, 2700, 4220, 4875, 890, 1501, 1120, 2879, 1936, 1404, 556, 1716, 1632, 44, 2542, 4537, 482, 3573, 3664, 1341, 4856, 12, 1351, 961, 2379, 4875, 4528, 1673, 1297, 3198], [1658, 3786, 3856, 1716, 776, 2643, 1682, 4036, 3602, 358, 2771, 423, 1341, 876, 460, 4875, 1521, 4036, 3080, 822, 3184, 2879, 3951, 293, 3303, 676, 4537, 125, 1968, 2827, 3782, 2530, 2359, 1770, 3058, 3677, 1273, 1071, 1306, 2226, 4492, 2082, 1882, 3419, 2786, 2656, 1716, 3353], [197, 1120, 153, 878, 3677, 2867, 251, 4922, 1220, 3507, 1765, 4325, 1063, 975, 1341, 2225, 2305, 2351, 3677, 1770, 2148, 4656, 3058, 2096, 2351, 3677, 3867, 975, 1551, 3165, 3188, 2225, 1220, 1724, 4875, 4999, 2351, 965], [975, 2225, 2625, 1120, 2225, 1947, 1071, 2670, 2225, 1352, 1120, 2225, 2736, 1071, 2670, 1273, 1454, 2225, 2280, 721, 3614, 591, 2269, 2786, 2625, 1947, 1071, 2670, 1462, 1327, 4522], [4610, 4852, 2406, 531, 3636, 1099, 1821, 3521, 3668, 2906, 621, 4794, 1001, 2408, 1441, 2053, 2860, 3652, 1101, 721, 3247, 4803, 3130, 3468, 1181, 2957, 4315, 2750], [1787, 1147, 4291, 3032, 482, 4489, 2008, 4114, 823, 680, 1858, 4432, 2305, 677, 674, 3830, 4875, 4892, 2503, 482, 1147, 4291, 3032, 2445, 1120, 4003, 3705, 3923, 1602, 3318, 4900, 1157, 4537, 4365, 1332, 534, 2202], [933, 1763, 793, 2107, 3827, 2316, 4589, 2275, 1431, 4028, 1449, 1614, 1910, 1282, 4072, 4159, 886, 3955], [228, 3507, 1770, 2148, 3902, 1744, 4263, 3544, 4325, 4537, 702, 2670, 1120, 876, 2338, 4036, 137, 3196, 4591, 1052, 3114, 4445, 3392, 1453, 3859, 4567], [1967, 2148, 3150, 3032, 120, 2148, 3150, 2313, 109, 2226, 3623, 4330, 1961], [2786, 1621, 1341, 3813, 433, 2682, 3923, 1112, 3128, 1765, 666, 2305, 4671, 3933, 959, 3700, 4543, 342, 1421, 2148, 3509, 2378, 2423, 1656, 2335, 810, 2349, 2845], [201, 2143, 2231, 3058, 1175, 2878, 479, 1543, 4732, 2818, 3280, 2530, 1370, 2020, 1341, 1273, 4537, 2778, 4007, 201], [2732, 2904, 4756, 1699, 3727, 2887, 3950, 3748, 2486, 1357, 2609, 3594, 2086, 3214, 318, 3088, 2945, 1997, 3921, 3811, 4250, 2626, 3930, 2236, 741, 2229, 723, 4007, 60, 989, 989, 3336, 1821], [1545, 4827, 2144, 1890, 1716, 3197, 440, 1341, 3738, 1018, 1716, 2407, 3058, 1930, 2870, 4960, 163, 4052, 3092, 3913, 1908], [3157, 2975, 950, 3535, 1033, 657, 1842, 2716, 3223, 4551, 2978, 4357, 1068, 262, 1078, 2706, 2984, 6, 1151, 4007, 3150, 955], [1743, 2108, 2530, 1120, 322, 2530, 4007], [1424, 3349, 3044, 3757, 1060, 2086, 1842, 487, 3149, 3044, 3383, 1842, 487, 780, 3862, 3891, 41, 948, 2023, 4947, 4551, 1060, 3214, 4749, 168, 172, 803, 1842, 4971], [2854, 1653, 193, 4236, 1842, 1414, 1414, 4698, 3798, 3214, 3256, 1674, 1659, 1842, 4836, 2231, 2162, 1060, 4068, 4794, 3092], [4333, 3739, 203, 3938, 2673, 3479, 134, 666, 2194, 792, 1120, 3938, 2305, 433, 3479, 4325], [4730, 3737, 718, 612, 199, 1095, 2200, 1716, 2936, 2144, 4202, 2148, 978, 1220, 360, 2148, 3977, 1179, 1716, 890, 2148, 2362, 2787, 4330], [2827, 4104, 591, 4928, 666, 2221, 360, 2578, 2148, 2229, 4104, 2280, 4528, 1341, 964, 3392, 3058, 1894, 3765, 1485, 4769, 1141, 1716, 3392, 1661, 4325, 411, 3501, 4167, 4996, 1758, 2981, 3683, 2556, 1759], [841, 841, 841, 2408, 774, 1765, 2362, 3616, 1250, 4707, 1134, 1053, 2577, 2587, 10, 3323, 2867, 721, 4315, 2220, 2378, 1887, 4230], [3734, 3734, 4938, 4170, 1367, 3188, 3734, 1518, 2389, 2860, 2957, 3468, 233, 924, 1543, 4857, 2408, 145, 2362, 1887, 1069, 3467, 4254, 1433, 1199], [959, 4958, 4112, 2530, 4731, 4585, 322, 2530, 1179, 2226, 4330, 120, 2200, 2144, 1651, 718, 3141, 718, 256, 3318, 533, 3075, 718, 1765, 1873, 1873, 1184, 4461], [251, 1698, 2879, 890, 3739, 363, 4022, 2539, 202, 2269, 2280, 3786, 931, 910, 4007, 4986], [1646, 1765, 197, 2153, 3058, 236, 691, 2269, 2867, 1765, 4759, 1716, 3933, 3058, 4660, 3538, 2269, 2232, 592, 2549, 2100, 2269, 4325, 1401, 2698, 1871, 2161, 2530, 2996, 3437, 612, 666, 3205, 3092], [2237, 4379, 1716, 3197, 2539, 4091, 612, 3080, 3086, 1191, 4776, 4875, 3205, 4036, 4321, 1375, 4027, 1696, 78, 4288, 1433, 4103, 222, 4601, 468, 38, 4135, 721, 236, 2408, 2646, 2466], [3938, 2982, 2624, 4133, 1191, 2845, 1716, 890, 2314, 1915, 4996, 4955, 42, 2950, 2408, 2378, 1881, 2188, 780, 3949, 2362, 145, 780, 3198, 1881, 4250, 1053, 2860, 798], [2886, 1546, 3438, 66, 2530, 2346, 1719, 3197, 4737, 1413, 810, 3786, 4927, 2382, 2181, 3945, 4288, 1696, 2389, 1902, 721], [2362, 1844, 3426, 1593, 608, 313, 2888, 783, 4723, 3471, 3195, 313, 2888, 2333, 2975, 915, 4794, 75, 3569, 3214, 313, 2888, 2333, 2975, 2033, 3813, 231, 4778, 2107, 2125, 1431, 313, 2888, 3637, 3471, 3088, 1593, 608, 313, 2033, 2684, 3275, 2143, 1593, 608], [1399, 4756, 1733, 2290, 2242, 2242, 2121, 4719, 1431, 1614, 4756, 3196, 371, 4617, 3023, 1445, 4756, 1431, 1598, 1598, 1800, 4322, 1614, 1431, 3196, 3597, 1614, 905, 4971, 1866], [1551, 3214, 1525, 2667, 538, 1729, 3023, 721, 625, 2524, 1733, 3827, 1842, 606, 1651, 721, 1525], [1064, 2389, 2530, 3832, 4759, 1716, 1776, 3058, 3507, 4991, 1716, 2350, 2670, 1216, 4591, 918, 1889, 4996, 1758, 2670, 293, 2392, 3507, 1139, 2146, 2530, 4971], [959, 4958, 4112, 2530, 4731, 4585, 322, 2530, 4178, 2226, 4330], [4381, 491, 2148, 2309, 2225, 2315, 4875, 2735, 2225, 3677, 4050, 3677, 4304, 2148, 3491, 3141, 2530, 3164, 2148, 4030, 991, 3120, 1631, 961, 3500, 3996, 2450, 2136, 672, 2024], [4494, 3413, 4250, 4593, 1247, 145, 4401, 265, 4294, 2957, 1795, 2678, 774, 2860, 1181, 3846, 1899, 2362, 986], [2362, 2226, 4330, 666, 3507, 2879, 1235, 3872, 2670, 1765, 236, 1889, 3910, 3128, 1341, 2670, 4278, 2225, 4051, 2144, 132, 1554, 4217, 1120, 3009, 4832, 1765, 2828, 2255, 1220, 2359, 1716, 3212, 466, 1765, 3652, 3347, 256, 2604, 966, 2988], [4088, 3214, 2886, 1546, 1843, 295, 4947, 2716, 3927, 3349, 150, 514, 1842, 1921, 1733, 2306, 1842, 1614, 4880, 231, 1842, 4007], [695, 427, 236, 2338, 2530, 1770, 2879, 3558, 1949, 1142, 293, 4741, 1716, 3212, 4875, 1506, 413, 2569, 105, 4996, 4268, 3480, 3923, 1191, 2392, 666, 3212, 58, 1147, 236, 448, 4813, 269, 4960, 3092], [2427, 2996, 1716, 4894, 1765, 1357, 3507, 1191, 563, 3101, 4275, 1750, 1966, 4872, 110, 1341, 1425, 4894, 1341, 604, 1211, 2269, 1544, 2895, 4104, 2556, 607, 482, 2530, 1765, 1596, 3431, 1765, 1220, 1393, 838, 3058, 768, 496, 2055, 4007], [46, 4516, 3637, 2875, 499, 1117, 1614, 4325, 2170, 4367, 1893, 1117, 2992, 211, 1265, 3116, 1644, 944, 4971, 4267, 457], [2050, 2845, 2362, 1844, 2845, 3001, 3324, 1061, 608, 1893, 2856, 485, 2798, 596, 185], [2362, 3221, 4330, 736, 4036, 220, 1191, 2916, 3786, 4213, 2079, 1765, 1740, 1716, 416, 612, 236, 1735, 849, 4274, 3884, 3438, 2841, 4875, 494, 427, 3438, 1486, 2982, 3916, 416, 2148, 3754, 4618, 1765, 2379, 2359, 2556, 935, 4403, 1120, 2225, 2389, 2530, 588, 736, 1120, 2225, 2916, 2530, 2359], [2362, 2788], [185, 322, 3507, 3058, 2805, 858, 3118, 3197, 3507, 666, 4537, 2514, 1765, 1120, 2530, 3231, 1716, 2126, 3867, 2466, 3118, 3197, 1120, 959, 2916, 3507, 4537, 2797, 2226, 4330, 2408, 2845, 30, 784], [3654, 1058, 456, 2269, 2765, 3058, 3929, 3748, 2530, 169, 314, 1742, 2530, 4216, 202, 1716, 890, 3438, 461, 2879, 3253, 202, 2144, 1397, 4875, 4447, 132, 769, 4461, 607, 4867, 458, 353, 2148, 3334, 1765, 1250, 431, 2708, 1765, 3884, 3182, 92, 2148, 99, 431, 713, 1250, 2778], [556, 1716, 4422, 4875, 2646, 1576, 2685, 4461, 2009, 1949, 1723, 2205, 2632, 4288, 4288, 4288, 3945, 1747, 3747, 4601, 468, 885, 4103, 721, 4754, 1373, 1725, 4499, 2639, 3016, 195, 1700], [1389, 4793, 3867, 4905, 304, 4703, 321, 3867, 4912, 539, 943, 64, 1830, 1834, 3280, 1766, 1818, 4269, 691, 4922, 1193, 4589, 3867, 4730, 1830, 3867, 4827, 414, 1830, 4759, 1765, 4905, 3981, 2148, 890, 3171, 2362, 4411, 4793], [4589, 3238, 962, 3672, 4454, 4468, 75, 3951, 3214, 1212, 4516, 481, 3678, 1044, 673, 4202, 1652, 4551, 222, 3550, 265, 1087, 933, 1203, 2734, 3811, 4040, 4007, 989, 989], [3884, 1191, 3594, 3654, 1716, 1147, 1055, 3403, 2670, 4591, 4737, 4214, 1716, 2269, 31, 1363, 817], [2362, 1844, 1519, 1700, 4518, 1833, 667, 1341, 4913, 4885, 976, 4500, 1765, 4749, 2148, 448, 448, 2307], [1851, 4457, 3471, 75, 831, 3663, 614, 2975, 336, 4378, 3727, 3349, 831, 3813, 2025, 330, 3663, 4269, 851, 897, 2525, 4007, 606, 1459, 4601, 4543], [312, 3677, 4304, 1716, 475, 2879, 228, 3944, 4875, 3058, 111, 412, 1120, 3124, 666, 3000, 1191, 666, 3438, 12, 4007, 3389, 4350, 4204, 3781, 1017, 4875, 1765, 1913, 4746, 4325, 2530, 4875, 1765, 516, 1171, 2530], [180, 2879, 12, 2515, 2530, 3884, 2879, 12, 2515, 2530, 2141, 4013, 3230, 607, 4127, 2269, 2998, 2670, 180, 1341, 1285, 3345, 2774, 3884, 1341, 2966, 4798, 935, 1621, 1341, 1403, 2827, 4013, 2706, 1988, 4042], [3198, 4036, 2530, 4668, 959, 3410, 2530, 185, 1585, 2870, 2530, 2156, 2148, 3198, 251, 1100, 2754, 4958, 919], [4885, 1261, 1716, 4447, 3659, 164, 4875, 4744, 1621, 1633, 281, 4007, 3385, 4520, 432, 4335, 3896], [3683, 315, 1341, 666, 2176, 3677, 2879, 4325, 2530, 3867, 3890, 2879, 3118, 1967, 2148, 3890, 2530, 1882, 2143, 784, 2362, 2226, 4330, 3827], [2156, 3058, 228, 1415, 1716, 3956, 3058, 4656, 2148, 412, 1120, 4744, 2281, 11, 2530, 3305, 3973, 2408, 2860, 1652, 1881, 3198, 1852, 1676, 510, 1181, 2957, 886, 1612, 2530, 4593, 1460, 721, 1370, 1250, 4938, 1866, 4675, 465, 3265], [841, 1921, 4971, 4171, 3799, 1203, 288, 3023, 2371, 253, 3023, 693, 3543, 2632, 1842, 4984, 3637, 2301, 829, 1256, 3185], [228, 199, 2386, 718, 3748, 1120, 1109, 3386, 2148, 3598, 1765, 1431, 2148, 978, 2126, 2810, 4222, 1220, 349, 1341, 4996, 3513, 1191, 4344, 2269, 4325, 2466, 3785, 2144, 3602, 4996, 3513, 4214, 1191, 4945, 1341, 461, 2306, 2530, 2386, 2148, 660, 2356, 582, 2386, 3058, 3867, 197, 700, 1185, 3092], [3485, 4593, 4114, 4291, 718, 1765, 1760, 2148, 4032, 2148, 890, 3757, 928, 1962, 2081, 3813, 958, 256, 457, 2814, 4857, 2362, 3509, 3600, 2575, 4904, 3120], [1614, 3021, 3327, 1614, 3375, 2242, 2242, 4106, 4468, 657, 2989, 3047, 3678, 4007, 295, 4114, 2787], [4328, 2343, 2313, 2673, 1120, 4814, 2338, 1067, 4814, 2338, 1067, 1120, 3507, 1191, 2682, 3886, 721, 31, 3089, 4424, 2926, 3514, 1645, 1433, 4478], [3202, 1218, 1273, 2539, 4656, 817, 4104, 522, 2242, 4325, 1146, 2269, 2701, 2530, 2838, 3323, 440, 1842, 2599, 3077, 3368, 4971, 519, 4487, 959, 1524, 4991, 853], [2786, 1148, 1646, 2059, 2148, 633, 2580, 4537, 4207, 2530, 876, 61, 1646, 3322, 25, 1716, 475, 492, 4325, 690, 2786, 360, 2379, 1220, 2269, 3766, 2148, 401, 1190, 3897, 4749, 1758, 2670, 3766, 731, 4591, 4911, 2530, 4007, 4284], [4984, 3591, 1842, 4551, 3023, 3636, 2475, 4081, 85, 3526, 1212, 3023, 2421, 4021, 905], [2450, 3023, 3357, 3508, 1139, 693, 1, 1842, 979, 3112, 391, 1733, 1581, 1, 1842, 3225, 2060, 3437, 153, 1842, 1614, 3004, 3258, 2975, 4772, 4294, 2450, 58], [2232, 3276, 1766, 3058, 3263, 4537, 4922, 2765, 666, 155, 3782, 2530, 2880, 1716, 475, 2879, 1770, 1765, 132, 4182, 2034, 1631, 614, 1341, 1965, 2530, 1191, 236, 2309, 1011, 4955, 2530, 939, 4591, 1682, 1765, 4609, 431, 236, 2578, 3058, 3276, 822, 2530, 236, 2530, 4613, 1481, 1024], [4749, 4472, 3413, 4875, 236, 2855, 66, 4537, 4772, 4875, 236, 2855, 66, 4537, 3803, 856, 4026, 4701, 3757, 1615, 667, 4617, 1615, 66, 4537, 3308, 4463, 1406, 4918, 725, 492, 4463, 4832, 4506], [3147, 4875, 3867, 2809, 1000, 2269, 105, 1605, 3654, 1341, 2416, 4875, 321, 1000, 2269, 3228, 2658, 2530, 1359, 3058, 180, 1191, 2291, 3058, 3654, 1899, 1272, 2148, 4032, 2148, 4873, 4614, 1384, 1068, 3509, 3349, 1893, 3005, 248, 1893], [3477, 876, 1886, 3713, 2169, 3650, 4591, 2225, 2225, 13, 1273, 82, 4278, 1043, 1599, 4664, 28], [4006, 1716, 271, 2724, 2535, 4321, 2480, 1716, 3326, 4346, 3457, 3284, 3833, 353, 4255, 718, 1765, 218, 2148, 448, 448, 3031, 4321, 2307, 3507, 1004, 4537, 457, 4537, 607, 3058, 3141, 2221, 822, 930, 1132, 4330], [2694, 419, 4537, 2392, 2879, 1011, 3872, 4325, 2365, 2359, 3058, 340, 3944, 4325, 302, 3221, 4330], [356, 1842, 457, 1842, 3358, 1914, 163, 3813, 4006, 3738, 3799, 109, 3134, 1647, 3396, 1044, 673, 4202, 1652, 4551, 222, 3550, 265, 1087, 933, 1203, 2734, 3811, 4040, 4007, 989, 989], [4548, 3677, 1341, 1433, 3744, 132, 769, 1038, 4875, 251, 3128, 822, 2698, 1120, 4851, 1782, 4996, 2841, 1765, 1988, 3313, 1544, 1201, 1765, 4013, 1967, 3736, 2362, 2226, 4330], [2379, 3382, 414, 1956, 1716, 890, 2201, 3748, 2670, 2144, 4336, 2269, 876, 3214, 879, 2530, 2346, 2379, 494, 2313, 419, 2890, 2510, 4907, 3626, 3082, 3769, 1852, 2408, 3949, 2362, 4963, 2283, 3051], [3039, 2232, 2774, 1602, 1273, 494, 2144, 3018, 4537, 1273, 2150, 2144, 1682, 1191, 4336, 3384, 576, 2774, 1765, 2765, 3039, 1415, 2269, 4609, 412, 4816, 2362, 2550, 721, 4297, 778, 1852], [4088, 4589, 3660, 2518, 1781, 4270, 3344, 1060, 884, 633, 1957, 1781, 694, 3475, 4007], [2188, 2646, 1345, 4873, 3813, 2320, 1060, 4723, 2573, 890, 2398, 3578], [199, 4875, 4497, 2362, 1866, 3631, 3205, 989, 3725, 989, 3345, 2877, 1591, 4467, 989, 3966, 2952, 4596, 2406, 196], [2416, 876, 4660, 4752, 2530, 4591, 3944, 1765, 2225, 1778, 132, 363, 3115, 3437, 3224], [2434, 4937, 1716, 1146, 2225, 3757, 4325, 4754, 3267, 2398, 2696, 4208, 4816, 498, 721, 3712, 4064, 3731, 145, 779, 676, 4646, 1507, 1965, 2573, 2622, 3563, 1156], [448, 3884, 769, 2530, 4660, 465, 1191, 1799, 3629, 3481, 3058, 2338, 4824, 2254, 844, 4717, 955, 2186, 1866, 4732, 4007, 2971, 4566, 4698], [525, 46, 2188, 4859, 2316, 1991, 3674, 2992, 3214, 4880, 617, 2316, 1907, 944, 4971, 4042, 222, 3811, 2860], [1819, 228, 199, 3218, 718, 3748, 1120, 1109, 3386, 2148, 3598, 1765, 3618, 2148, 978, 2126, 2810, 4222, 1220, 349, 1341, 4996, 3513, 1191, 4344, 2269, 4325, 2466, 3785, 2144, 3602, 4996, 3513, 4214, 1191, 4945, 1341, 461, 2306, 2530, 3218, 2148, 660, 2356, 582, 3218, 3058, 3092], [1370, 1888, 4937, 612, 3128, 273, 1716, 4545, 4390, 4937, 1716, 4696, 1341, 1921, 1120, 4693, 1349, 4007], [3019, 1765, 1998, 4309, 2901, 3205, 3659, 1267, 884, 2556, 4875, 769, 2530, 3884, 4262, 3717, 2530, 261, 199, 4875, 360, 1462, 256, 4718, 4537], [2631, 3293, 1050, 4306, 3591, 1053, 2232, 3126, 3636, 330, 1691, 3450, 3389, 4007, 3475, 3195, 636, 3715], [1429, 1149, 30, 1273, 4860, 2530, 1273, 4706, 2539, 4050, 111, 2530, 4050, 111, 3833, 10, 620, 2824, 1369, 3319, 1349, 1840, 2966, 4435, 2362, 3747, 623, 1762, 4802], [2362, 2226, 1485, 461, 612, 1282, 2144, 448, 2180, 1889, 2643, 4960, 197, 1282, 1764, 2530, 1282, 4911, 4875, 268, 4960, 461, 714, 2530, 4278, 876, 4656, 236, 2879, 2412, 2530, 1765, 1112, 1282, 2148, 322, 2269, 2359, 3058, 2530, 1112, 1282, 4875, 3683, 2108, 1341, 522, 2552, 4325, 2530, 876, 2359, 1716, 3618, 876, 1282, 1282, 4325, 2488, 3153, 2530, 251, 2359, 4875, 890, 1273, 1501, 49], [3207, 4958, 1341, 3236, 718, 4875, 1927, 1716, 4856, 3248, 3827, 2670, 1580, 4856, 1716, 3258, 455, 2148, 3937, 640, 197, 1147, 3212, 455, 3058, 3659, 4829, 1716, 4860, 1191, 4243, 1341, 2309, 2148, 895, 2930, 1049, 1716, 1851, 4004, 4875, 2530, 4856], [1627, 1512, 2249, 2145, 1033, 4832, 4006, 1716, 758, 4918, 4321, 1776, 404, 1716, 3326, 4593, 3284, 140, 330, 718, 1765, 218, 2148, 448, 448, 3031, 4321, 2307, 607, 4730, 1830, 3507, 1765, 1004, 4321, 457, 393, 2362, 1132, 4330], [1878, 1997, 2141, 964, 429, 718, 3438, 2701, 4875, 2269, 1613, 3659, 2698, 4937, 3118, 2627, 1341, 2708, 4325, 2153, 4278, 185, 3224, 1765, 964, 714, 4996, 1218, 482, 3197, 12, 2309, 2530], [2007, 1716, 3740, 1341, 25, 2148, 1219, 1716, 475, 197, 1716, 890, 1772, 3746, 1341, 2879, 4191, 899, 3555, 468, 3385, 4007, 4975, 313, 1069], [2992, 3884, 2025, 1212, 17, 4106, 2529, 3021, 771, 3872, 2889, 4106, 1611, 3794, 2825, 2330], [4602, 1874, 3773, 407, 714, 1909, 2408, 1186, 1053, 2362, 1460, 4250, 1866, 3652, 673, 989, 145, 2186, 774, 1644, 4180, 3198, 2458, 1644, 2186, 4675, 4319, 4593, 3739, 60, 3140, 4153, 3748], [199, 4875, 4497, 2362, 1866, 3631, 3205, 989, 3725, 989, 3345, 2877, 1591, 4467, 989, 3966, 2952, 4596, 2406, 196], [3813, 3659, 3872, 1201, 143, 381, 1357, 2212, 1575, 612, 3438, 2309, 2879, 2950, 346, 1811], [747, 2009, 1889, 433, 1653, 1859, 714, 856, 1120, 3725, 3593, 4591, 2879, 4501, 2530, 1361, 4996, 4052, 3782, 2530, 1015, 4007, 2408, 2186, 2458, 3007, 2186, 4007, 1460, 3475, 3652, 989, 1866, 2860, 60, 1353, 2362, 4250, 870, 4299, 3739], [12, 3335, 2148, 1850, 1531, 1716, 2305, 1273, 4996, 4501, 4016, 1634, 4875, 1661, 2720, 4591, 3110, 482, 3438, 3110, 482, 721, 756, 31, 653, 4333, 1732, 4903, 666, 3215, 3884], [4948, 1653, 4873, 4885, 4325, 1220, 4960, 1488, 1394, 2628, 3544, 603, 2530, 3191, 2144, 3191, 2988, 3507, 4310, 4325, 2670, 2186, 4007, 3007, 2186, 4299, 4020, 477, 2550, 4816, 3720, 2427, 694, 3811, 881], [881, 3232, 4815, 4126, 4153, 1135, 2888, 1793, 1780, 906, 4412, 3195, 862, 3813, 2571, 3168, 4106, 3195, 372], [2993, 375, 2879, 1947, 4325, 2670, 3683, 1413, 3044, 3786, 2354, 1738, 4556, 4617, 2148, 159, 1341, 3233, 1716, 1036, 1852, 1852, 3949, 4675, 721, 225, 784, 3125, 2408, 145, 1181, 3769, 2976, 4114, 342], [3993, 4730, 4730, 373, 127, 4594, 4443, 3908, 3120, 3029, 3120, 3120, 3120, 3029, 4559, 3029, 1830, 3029, 1830, 1830, 1830, 3029, 1923, 1981, 4025, 2408, 887, 4816, 2860, 4593, 2530, 2362, 3198, 3122, 1078], [70, 1955, 468, 4283, 1716, 808, 3251, 1756, 2890, 3757, 4960, 3804, 414, 3196, 1107, 2148, 978, 3196, 1204, 1461, 353, 2782, 876, 1055, 3265, 2670, 4591, 751, 2148, 40, 4996, 1758, 637, 3934, 1765, 1576, 1765, 3761, 1245, 2078, 2890, 1733, 4971, 1792, 3868], [2145, 1033, 4832, 4006, 1716, 758, 4918, 4321, 1776, 404, 1716, 3326, 4593, 3284, 140, 330, 718, 1765, 218, 2148, 448, 448, 3031, 4321, 2307, 607, 4730, 1830, 3507, 1765, 1004, 4321, 457, 393, 2362, 1132, 4330], [897, 993, 1842, 2008, 3552, 2975, 1260, 1733, 1842, 1014, 4640, 2659, 458, 353, 1601, 2550, 3781, 1513, 201, 3624, 156, 3276, 1041, 4007, 2429], [3906, 4610, 3214, 3222, 2972, 3313, 2943, 4453, 3794, 2825, 2330], [560, 4601, 502, 4679, 3058, 718, 1341, 3258, 2190, 2148, 1282, 612, 2141, 3624, 1149, 4278, 429, 2144, 2728, 4960], [1655, 1731, 3993, 4730, 4730, 373, 127, 3514, 4443, 3908, 3120, 3029, 3120, 3120, 3120, 3029, 4559, 3029, 1830, 3029, 1830, 1830, 1830, 3029, 1923, 1981, 4025, 2408, 887, 4816, 2860, 4593, 2530, 2362, 3198, 913], [3118, 1346, 2148, 51, 3118, 1751, 2148, 3614, 4840, 159, 1341, 2309, 3118, 1751, 2148, 3614, 2530, 1751, 1770, 416, 3058, 884, 2539, 185, 3150, 2148, 2180, 2309, 1751, 2148, 3614, 851, 2226, 4330], [457, 3872, 4106, 4268, 1691, 2703, 780, 2718, 2975, 4807, 4106, 2580, 2742, 721], [4814, 666, 3884, 1120, 1770, 978, 299, 4996, 969, 1450, 3718, 2150, 4875, 180, 299, 132, 866, 3780], [1749, 1255, 3428, 1341, 876, 4877, 4003, 2129, 4595, 2530, 4472, 2034, 1585, 1336, 3035, 4877, 4003, 4705, 2113, 2779, 4321, 3405, 4948, 374, 2639, 4996, 4321, 4534, 2144, 1725, 431, 398, 3225, 4226, 4288, 1765, 3884, 40, 92, 4875, 2936, 155, 4217, 890, 2269, 2708, 1341, 2309, 607, 1616], [4922, 4472, 530, 4448, 1716, 3941, 1208, 3642, 3438, 1370, 2446, 2148, 3259, 3844, 3128, 2083, 837, 2839, 511, 1876, 4971, 3865], [519, 839, 3579, 306, 1414, 4516, 4856, 3145, 1614, 2138, 3555, 3214, 2926, 3597, 4198, 3214, 1141, 3473, 4516, 481, 3678, 1044, 673, 4202, 1652, 4551, 222, 3550, 265, 1087, 933, 1203, 2734, 3811, 4040, 4007, 989, 989], [2225, 359, 427, 2225, 757, 427, 3867, 1300, 219, 1120, 2786, 3625, 4656, 427, 3867, 2013, 1548], [419, 4696, 4693, 4762, 4696, 2030, 459, 2392, 236, 312, 1011, 3669, 4550, 2429], [1220, 2359, 1765, 1004, 4348, 1716, 3197, 1179, 92, 1765, 3034, 1825, 4337, 1282, 2148, 978, 2269, 2359, 4875, 2879, 2786, 3944, 1716, 3654, 1341, 4472, 4422, 769, 4960, 1836, 2269, 876, 2359, 1220, 1682, 4875, 3694, 3508, 3058, 1273, 3016, 4278, 2786, 1956, 2088, 2148, 978, 3438, 4872, 776, 3048, 3722, 490, 1544, 354, 2226, 4330], [185, 2786, 4606, 1341, 1403, 4840, 2786, 4907, 1341, 1403, 4862, 1138, 3164, 3677, 922, 185, 1857, 3164, 2269, 1403, 2530], [629, 3867, 2639, 3825, 1601, 1925, 2258, 3845, 1341, 1398, 2796, 2436, 637, 3579, 1272, 1271, 3101, 1601, 2436, 4223, 4167, 3040, 3594, 1706, 1951, 1765, 1994, 4591, 2346, 4875, 2971, 3867, 986, 2148, 2099, 132, 1120, 666, 2530, 3884, 621, 201, 4013, 1743], [236, 494, 2309, 1415, 2879, 1770, 612, 822, 765, 4875, 1218, 1667, 522, 2309, 4325, 4537, 3944, 1716, 2341, 3075, 2780, 1191, 1724, 2148, 522, 1015, 1273, 4537, 3438, 1542, 1120, 3480, 4955, 4537, 4278, 3902, 3058, 1899, 3659, 2653, 764, 1765, 1351, 494, 2309, 3092, 2141, 412, 3332, 494, 2309, 4325, 2530, 3332, 492, 4875, 1458, 2530, 4461], [1988, 873, 2193, 2708, 2148, 3115, 2193, 890, 2269, 626], [935, 975, 876, 109, 1716, 4718, 3058, 832, 2879, 1123, 3051, 4875, 268, 3480, 969, 2530, 714, 2578, 975, 1751, 1716, 4461, 932, 3058, 2269, 1120, 2681, 691, 4875, 937, 769, 851, 3857, 3808, 3478, 4328], [1130, 1120, 3118, 1201, 2144, 994, 2034, 92, 4875, 514, 1191, 196, 4749, 4955, 2698, 1191, 3438, 2670, 3118, 197, 3221, 4330], [3186, 4566, 718, 942, 884, 1278, 799, 886, 2488, 1481, 440, 3285, 3120, 4199], [2362, 1599, 4723, 3475], [1635, 2625, 2148, 4654, 1341, 3004, 3118, 890, 3048, 1201, 2560, 4720, 3440, 2392, 2879, 12, 2786, 61, 1361, 4996, 4570, 3975, 1201, 4953, 2148, 371, 1120, 12, 2225, 4537, 4325, 4058, 2947, 4996, 4242, 1201, 1191, 3118, 2434, 3440, 1425, 2226, 4330], [23, 3137, 4653, 1191, 1718, 448, 973, 3786, 975, 2148, 3738, 448, 1420, 3010, 3867, 1413, 4955, 2148, 3636, 3638, 1716, 1682, 1341, 4419, 448, 851, 3857, 4545, 4379, 3744], [2912, 525, 1733, 4705, 301, 606, 4543, 1431, 1760, 2364, 1013, 2992, 3597, 4245, 1787, 301, 4705, 2753, 2100, 1044, 673, 4202, 1652, 4551, 222, 3550, 265, 1087, 933, 1203, 2734, 3811, 4040, 4007, 989, 989], [4756, 1129, 621, 1656, 4007, 3004, 1117, 2975, 765, 1656, 810, 3405, 4896, 1212, 1910, 1614, 3004, 4896, 1733, 2284, 3727, 4516, 481, 3678, 1044, 673, 4202, 1652, 4551, 222, 3550, 265, 1087, 933, 1203, 2734, 3811, 4040, 4007, 989, 989], [943, 1431, 4579, 871, 2216, 728, 4440, 4710, 170, 2427, 276, 883, 783, 3435, 803], [3255, 4207, 3716, 168, 4850, 2867, 2362, 1844, 4330, 4141, 2103, 1981], [2587, 207, 1895, 4915, 4363, 2975, 4712, 3773, 1370, 4023, 4711, 721, 993, 2790, 937, 4276, 1162, 4983, 1432, 3949, 4810, 2408, 1866, 677, 1433, 551, 551], [1112, 2144, 4723, 2148, 1869, 3028, 2717, 4537, 1120, 2522, 360, 1765, 1534, 2141, 1191, 2379, 3203, 1184, 2408], [4860, 783, 4875, 4444, 266, 3746, 4330, 1772, 2526, 1765, 1218, 3688, 4308, 2227, 3546, 468, 3385, 3555, 4007], [3606, 3962, 4325, 4979, 4325, 465, 1120, 1501, 4634, 4142, 1896, 4954, 4875, 3334, 4813, 2786, 4508, 3480, 1716, 3937, 2008, 339, 3659, 4537, 217, 4634, 1967, 3902, 3058, 1899, 199, 4875, 360, 4537, 4283], [3832, 1196, 4875, 1017, 4292, 2530, 2190, 1643, 1750, 1716, 3197, 2658, 217, 465, 4971, 1644], [4793, 1373, 1349, 1191, 916, 4814, 1716, 3884, 1317, 1716, 356, 1272, 1191, 3463, 1641, 1716, 1719, 185, 1716, 903, 1631, 1716, 4288, 4257, 1054, 4569, 2617, 204, 977, 1949, 1863, 4976, 2030, 3600, 4524, 360, 2144, 890, 959, 457, 1191, 4746, 199, 2148, 4544], [1405, 2148, 2309, 3058, 1273, 1126, 2774, 862, 1661, 2269, 132, 730, 411, 1317, 3829, 4946], [2912, 1245, 4468, 1482, 1843, 1414, 1718, 2774, 4794, 1099, 2107, 2188, 1746, 4988, 2888, 2275, 2940, 4535, 1866, 2458], [2086, 4643, 287, 3636, 2437, 4544, 4756, 3471, 44, 75, 2887, 2232, 4610, 2549, 1644, 4971, 3636, 1910, 1821, 2372, 1644], [2362, 2226, 4301, 3221, 3780, 4815, 2107, 2885, 2107, 2547, 3214, 2107, 4151, 3813, 3891, 3813, 617, 1704, 4106, 3813, 857, 606, 3023, 2926, 938, 3442, 824, 1367, 2544, 776, 4367, 1990, 3380, 3891, 871, 1842], [182, 1567, 3455, 2530, 4002, 1341, 127, 479, 3058, 3876, 612, 1631, 1765, 1155, 2148, 1583, 3205, 4104, 1120, 3677, 1889, 4875, 363, 2530, 1521, 1697, 975, 1341, 127, 479, 3058, 83, 4276, 4372], [1751, 1122, 602, 1442, 2651, 2645, 4875, 4112, 3205, 482, 1654, 2470, 3248, 1696, 4288, 273, 468, 4601, 1433, 4478, 721, 721, 3869, 2956, 1808, 4009, 1078, 825], [771, 2339, 3016, 3085, 1368, 597, 4818, 774, 1078, 3595, 3573, 1642, 1852, 721, 145, 1866, 4656, 676, 2362, 2560, 4540, 4593, 3468, 1101, 2867, 3652, 2391, 4443, 2759], [1973, 2362, 1303, 2787, 110, 1060, 2787, 3481, 1614, 3673, 1421, 1973], [1386, 2565, 1587, 1404, 1407, 4875, 1304, 521, 4537, 2700, 4220, 4875, 890, 1501, 1120, 2879, 1936, 1404, 556, 1716, 1632, 44, 2542, 4537, 482, 3573, 3664, 1341, 4856, 12, 1351, 961, 2379, 4875, 4528, 1673, 1297, 335, 3378, 3768], [2328, 672, 1212, 1842, 2010, 1117, 2975, 2759, 2261, 930, 2232, 1842, 3172, 1078, 2537, 721], [228, 522, 3910, 890, 1780, 822, 4022, 3718, 3624, 4325, 3677, 4463, 3718, 4873, 4534, 4501, 4882, 747, 890, 4348, 2316, 3051, 747, 890, 2239, 2316, 1035, 999, 2148, 4656], [2362, 2226, 2611, 3890, 185, 1137, 959, 2197, 3118, 2281, 2530, 3118, 1511, 460, 1952, 4937, 3118, 4403, 2530, 3118, 2359, 4500, 2359, 718, 4873, 2416, 689, 3408, 256, 3938, 2001, 845, 4778, 2708, 2144, 105, 1040], [522, 4665, 522, 4347, 522, 4944, 522, 1120, 1974, 1834, 3453, 2879, 1273, 890, 344, 2879, 1273, 522, 1522, 2879, 1273, 1191, 3150, 3110, 2720, 4250, 3562, 830, 2916, 2371, 3458, 2971, 2408, 721, 2362, 2408, 3191, 3919, 3652, 3771], [2316, 1367, 868, 1456, 1115, 1821, 829, 4345, 2759, 4563, 4068, 2107, 4085, 1842, 4740, 2499, 3727, 3773, 721], [3654, 1341, 2359, 4875, 3677, 448, 2269, 818, 2530, 4337, 4737, 2359, 1716, 3654, 4737, 4914, 1716, 4860, 1191, 4737, 3866, 1716, 1303, 1716, 3313, 2313], [428, 2845, 1865, 2787, 4163, 838, 3606, 2996, 4976, 968, 103, 4143, 4946, 4325, 1134, 1232, 721, 3952, 2378, 1852, 1343, 2362, 2283], [4989, 3094, 3180, 1751, 718, 1765, 2879, 2362, 3221, 4687], [199, 4875, 4497, 2362, 1866, 3631, 3205, 989, 3725, 989, 3345, 2877, 1591, 4467, 989, 3966, 2952, 4596, 2406, 196], [2731, 3058, 876, 360, 4187, 3678, 414, 3902, 3600, 3731, 1341, 2657, 876, 1136, 1715, 1218, 12, 567, 3944, 1888, 1341, 4737], [382, 841, 1117, 1614, 7, 1910, 2100, 2125, 812, 362, 519, 3670, 2226, 4330, 3857], [228, 199, 2386, 3748, 1120, 1109, 3386, 2148, 3598, 1765, 1431, 2148, 978, 2126, 2810, 4222, 1220, 349, 1341, 4996, 3513, 1191, 4344, 2269, 4325, 2466, 3785, 2144, 3602, 4996, 3513, 4214, 1191, 4945, 1341, 461, 2306, 2530, 2386, 2148, 660, 2356, 582, 2386, 3058, 700, 1185, 197, 3092], [448, 1893, 2530, 143, 132, 4922, 4328, 884, 642, 1149, 2921, 4641, 153, 2144, 4922, 1000, 482, 31, 884, 4537, 3753, 1641, 721, 2842, 721, 2362, 4429, 3492, 5, 2196, 4816], [4872, 2619, 2530, 4409, 3929, 2670, 4737, 2359, 1716, 1120, 3654, 3908, 2754, 4875, 2786, 2855, 4264, 769, 2530, 251, 2359, 890, 769, 2696], [1550, 1967, 3040, 3890, 1550, 4112, 2530, 2148, 1783, 3040, 397, 3040, 322, 2530, 2481, 2148, 876, 876, 1331, 1341, 4805, 1052, 1018, 1481, 3722, 4860, 2148, 2761, 4202, 3722, 4860, 2148, 1541, 2530, 3813, 1137, 1550, 2184, 1550, 2281, 4602, 460, 1952, 4937, 2178, 4403, 2530, 4855, 3221, 4330], [1644, 4042, 1644, 3149, 1644, 3205, 4971, 944, 3572, 1902, 3755, 4200, 298, 28, 4129, 1364, 1285, 1294, 1852, 693, 1274, 2997, 509, 1842, 2742, 3507, 3164], [3349, 3566, 3891, 1482, 4756, 103, 4016, 2018, 4171, 1842, 2291, 3214, 2362, 3066, 4330], [322, 3269, 3748, 12, 4842, 1341, 4325, 1401, 2530, 4922, 1576, 1765, 2232, 2309, 4077, 1235, 1071, 2530, 1055, 1341, 251, 3683, 1631, 2144, 2980, 1719, 2065, 4955, 2530], [2232, 4325, 502, 4856, 2879, 1120, 2461, 2269, 169, 1201, 1244, 2879, 657, 2202, 3225, 4971, 2892, 3182, 844, 3923, 3898], [3481, 3382, 4955, 2408, 2942, 1642, 774, 1086, 3595, 2363, 1460, 3652, 989, 1186, 3106, 4007, 2004, 1078, 3229, 4666, 3093, 1258, 295, 145, 3613, 265, 676, 2686, 3739], [4907, 1716, 3197, 2845, 131, 1120, 4907, 4325, 497, 3813, 3722, 2845, 131, 1120, 4907, 966, 1484], [3021, 1258, 3703, 4516, 3520, 203, 3101, 888, 438, 1842, 1314, 4348, 2820, 1843, 4516, 481, 3678, 1044, 673, 4202, 1652, 4551, 222, 3550, 265, 1087, 933, 1203, 2734, 3811, 4040, 4007, 989, 989], [2193, 4243, 1341, 876, 4466, 718, 1043, 1201, 3438, 223, 1716, 2841, 1765, 1220, 4973, 123, 1765, 2556, 637, 251, 4013, 4444, 3659, 1120, 1661, 4052, 4973, 4466, 1716, 429, 4875, 2539, 3600, 4882, 2148, 2717, 3600, 3534, 2148, 1191, 2703, 4937, 2879, 461, 3600, 4085, 2269, 1201, 199, 4466, 718, 1341, 3225, 1341, 491, 2670, 3092], [1202, 4922, 3338, 1716, 3943, 4537, 4013, 4351, 2148, 2664, 1948, 635, 1716, 1359, 4537, 4013, 2828, 2925, 1948, 4537, 3923, 4013, 2886, 4922, 2949, 4013, 1692, 3736, 2362, 4495, 1186, 4758, 4964, 4964, 4749, 1179, 2200, 4964], [224, 2834, 937, 2975, 329, 771, 3669, 2975, 3672, 1369, 3717, 3219, 1614, 384, 1837, 3813, 843, 1074, 169, 2408, 4007, 3475, 3229, 989, 2805, 4020], [1425, 2232, 3786, 4656, 4882, 4922, 4537, 1120, 2379, 1204, 660, 2483, 1407, 1602, 2989, 3394, 4160, 2530, 2530, 721, 721, 1231, 3198, 4470, 733], [4013, 1120, 1090, 3736, 3118, 30, 2359, 4614, 4840, 2786, 2440, 1716, 3438, 2269, 2531, 512, 2670, 4363, 1986, 3092, 3237, 4203], [3284, 1258, 1602, 4052, 947, 4297, 2095, 718, 4243, 4749, 2148, 1571, 2307, 3031, 1323, 4512, 2631, 4911, 928, 414, 145, 2805, 3016, 2868, 2001, 3147, 105, 504, 2050, 2362, 1844, 2660, 1893], [1964, 3983, 4259, 1842, 1013, 950, 2226, 3214, 3983, 2975, 3971, 3152, 2107, 721], [2362, 2226, 4330, 736, 3058, 4411, 2698, 1005, 2981, 1742, 2785, 4955, 1018, 1176, 4472, 2393, 4655, 3058, 4411, 2698, 1005, 2981, 1742, 4257, 1648, 2939, 731, 2554, 4955, 3321, 3058, 4411, 2698, 1005, 2981, 1742, 1664, 3738, 3205, 1273, 1232], [4673, 3748, 2530, 614, 1585, 1765, 3917, 3872, 2530, 236, 132, 1581, 2742, 4606, 2879, 876, 360, 4001, 4537, 2870, 4953, 3886], [921, 4593, 2803, 4030, 2675, 718, 1765, 4749, 2148, 890, 2307, 2362, 1844, 3600, 1813, 3789, 3664, 4988], [1470, 2023, 1895, 871, 1842, 4971], [3507, 4202, 2556, 4537, 3677, 3409, 1341, 4656, 1297, 3409, 1341, 4457, 2010, 2269, 1273, 4910, 1120, 3507, 666, 1114, 844, 2010, 4007], [4588, 4537, 4922, 4591, 999, 3806, 4996, 718, 1758, 4930, 269, 1120, 2156, 612, 2280, 2377, 1765, 3806, 4005, 2129, 273, 4252, 4202, 3678, 4971, 1078], [732, 4102, 461, 2086, 424, 2898, 1191, 2359, 718, 1375, 2180, 1309, 1807, 4819, 1287, 4626, 2774, 4922, 876, 3782, 3058, 3941, 1845, 4996, 4769, 4447, 4626, 2090, 2857, 269, 4803, 4232, 2870, 2530, 1191, 1961, 1003, 1716, 1130, 3590, 931, 3128, 2098, 1654, 1485, 4717, 123, 931, 2530, 3227, 3810, 931, 2914, 1120, 1191, 2530], [4846, 1771, 1060, 567, 3195, 31, 2888, 2892, 1169, 2143, 265, 2718, 2362], [4589, 3214, 3375, 2992, 1842, 3813, 485, 3373, 123, 4795, 2667, 3206, 517, 3794, 2825, 2330], [4591, 4922, 312, 1464, 1758, 1201, 666, 2735, 2698, 4591, 4922, 286, 1758, 1201, 731, 747, 4036, 4447, 2698, 4591, 4167, 754, 2486, 1926, 51, 1716, 776, 2309, 4325, 2729, 199, 3507, 612, 77, 4996, 1697, 353, 1601], [2379, 2145, 2148, 4080, 4164, 2530, 1770, 1765, 714, 2530, 1660, 2144, 424, 3413, 4875, 3208, 4214, 1147, 4200, 1959, 1324, 3748, 2269, 4842, 111, 31, 4875, 479, 788, 1836, 4996, 1758, 2379, 461, 3150], [3428, 1108, 1716, 271, 3118, 192, 4867, 539, 1981, 1765, 4749, 2148, 890, 2307, 4013, 928, 4784, 1599, 1191, 3600, 199, 2148, 4594, 1821, 822, 930, 4965, 841, 3310, 1525], [4007, 1212, 3021, 596], [2364, 499, 3870, 1656, 3021, 1180, 2121, 662, 499, 3870, 1656, 3021, 1180, 2121, 570, 621, 3597, 3214, 424, 259, 4106, 3020], [1606, 211, 3214, 4119, 3145, 3813, 231, 1398, 4064, 3471, 75, 3591, 3868, 1614, 2677, 4838, 2648, 4348, 4668, 3636, 3162, 2625, 1479, 3214, 3660, 490, 4129, 2520, 4016, 3813, 3292, 3471, 306, 3214, 2646, 710, 3521, 4007, 1541, 241], [1220, 2359, 1765, 1004, 4348, 1716, 3197, 1179, 92, 1765, 3034, 1825, 4337, 1282, 2148, 978, 2269, 2359, 4875, 2879, 2786, 3944, 1716, 3654, 1341, 4472, 4422, 769, 4960, 1836, 2269, 876, 2359, 1220, 1682, 4875, 3694, 3508, 3058, 1273, 3016, 4278, 2786, 1956, 2088, 2148, 978, 3438, 4872, 776, 3048, 3722, 490, 1544, 354, 2226, 4330], [1042, 3438, 4202, 4925, 1716, 1415, 2408, 774, 4593, 2530, 3652, 1053, 2362, 4250, 1250, 1887, 4230, 10, 886, 3949, 721, 3869, 1186, 1852, 4816, 3556, 2378, 1635, 673, 209, 3811, 2867, 2670, 265, 2317], [1228, 2042, 1765, 2598, 2530, 2219, 2996, 1949, 3965, 2670, 2925, 2488, 1017, 4594, 3058, 3621, 2374, 1449, 1636, 4210, 2902, 4368, 721], [2803, 771, 2594, 4106, 3021, 4120, 4640, 3120, 4468, 3799, 2362, 2191, 255], [4924, 391, 1842, 588, 4924, 3060, 1842, 243, 4924, 1951, 1842, 1431, 235, 4516, 211, 3092, 4516, 4362, 172, 3563, 1145, 4488, 2200, 2903, 721, 1930], [1282, 1716, 1682, 256, 2359, 1716, 1682, 1341, 1425, 312, 4036, 3227, 2530, 1765, 1282, 4875, 1682, 3191, 1235, 4537, 3782, 2530, 2144, 2359, 4875, 1079, 2226, 4330], [199, 695, 2144, 1770, 1201, 1716, 2269, 1341, 876, 1415, 1295, 4545, 1120, 448, 3937, 2144, 4716, 2879, 894, 333, 3468, 1415, 2698, 1063, 12, 1120, 1696, 2651, 3058, 728, 1716, 3197, 3933, 612, 522, 3334, 806, 3480, 3913, 4537, 4971], [546, 3783, 3214, 3383, 1842, 1430, 1060, 28, 3471, 3735, 4327, 3172, 2537, 1229, 1078, 721], [4705, 4762, 4794, 3502, 1060, 4348, 4610, 1461, 4410, 4371, 2753, 839, 1117, 3559, 4397, 1482, 3597, 798, 3444, 1044, 673, 4202, 1652, 4551, 222, 3550, 265, 1087, 933, 1203, 2734, 3811, 4040, 4007, 989, 989], [4773, 4909, 1815, 558, 3635, 332, 4055, 2596, 3955, 3013, 282, 2407, 1851, 4310, 2561, 3743, 831, 2936, 4998, 212, 2481, 859, 356, 4685, 717, 1503, 4313, 10, 1614, 525, 4985, 4889, 3866, 288, 1843, 393, 2231, 3120, 1487, 3584, 4922, 2893, 3149, 2367, 4982, 2014, 2218, 2280, 4235, 1411, 2094, 1091, 4858, 4982, 2766, 466, 3058, 1220, 4894, 1716, 3654, 2148, 3411, 92, 4937, 2778, 4875, 2310, 111, 3065, 412, 557, 4911, 458, 353, 1601, 1716, 2708, 1765, 3683, 3884, 1765, 3882, 2148, 99, 3169, 2988], [4445, 2359, 4845, 2226, 4330, 2408, 2845, 784, 2558, 205, 4591, 666, 461, 3884, 2035, 3782, 2530, 2359, 2556, 2670, 2346, 2424, 666, 3867, 2530, 4880], [3193, 4650, 1267, 543, 1527, 1060, 1185, 2317, 1198, 2800, 4962, 300, 2297], [1220, 2359, 1765, 1004, 4348, 1716, 3197, 1179, 92, 1765, 3034, 1825, 4337, 1282, 2148, 978, 2269, 2359, 4875, 2879, 2786, 3944, 1716, 3654, 1341, 4472, 4422, 769, 4960, 1836, 2269, 876, 2359, 1220, 1682, 4875, 3694, 3508, 3058, 1273, 3016, 4278, 2786, 1956, 2088, 2148, 978, 3438, 4872, 776, 3048, 3722, 490, 1544, 354, 2226, 4330], [756, 1641, 2449, 1716, 1625, 1770, 876, 1765, 1212, 4545, 4671, 2269, 4214, 905], [2362, 3825, 3654, 1716, 87, 1824, 2805, 1523, 4911, 2148, 3154, 4923, 2193, 2708, 2144, 2006, 1055, 2269, 2677, 1758, 607, 209, 3058, 3141, 2716, 2365, 2269, 3507, 414, 1951, 4875, 2866, 1191, 2001], [1893, 3440, 4756, 4756, 1482, 4526, 3440, 1060, 2625, 1053, 2008, 511, 4143, 3813, 1521, 4267, 4007, 3811, 989, 989, 4803, 676, 3921, 2910, 4202, 3378, 3930, 4167, 1053], [2321, 3636, 615, 2321, 4392, 1420, 2680, 4797, 2759, 1359, 369, 1111, 2321, 4392, 1840], [935, 1956, 1341, 4873, 3902, 1359, 2389, 3696, 1120, 2639, 975, 228, 1956, 3058, 928, 1094, 4953, 2389, 4475, 1120, 2639, 975, 228, 1956, 1341, 3677, 3058, 4726, 1359, 2389, 167, 1120, 2639, 975, 1306, 261, 2548], [1819, 228, 199, 2386, 718, 3748, 1120, 1109, 3386, 2148, 3598, 1765, 1431, 2148, 978, 2126, 2810, 4222, 1220, 349, 1341, 4996, 3513, 1191, 4344, 2269, 4325, 2466, 3785, 2144, 3602, 4996, 3513, 4214, 1191, 4945, 1341, 461, 2306, 2530, 2386, 2148, 660, 2356, 582, 2386, 3058, 3867, 197, 700, 1185, 3092], [3391, 2413, 2890, 2410, 123, 2148, 815, 4893, 3391, 413, 666, 2962, 4591, 3365, 1273, 3748, 1523, 2879, 2998, 3197, 4262, 2269, 1273, 1653, 2699, 4007], [2255, 92, 1716, 3197, 3262, 3204, 4840, 1120, 721, 2269, 2017, 3054], [1222, 522, 822, 2698, 1354, 419, 2916, 419, 1718, 4960, 3678, 2408, 4007, 1015, 1762], [3993, 4730, 4730, 373, 127, 3514, 4443, 3908, 3120, 3029, 3120, 3120, 3120, 3029, 4559, 3029, 1830, 3029, 1830, 1830, 1830, 3029, 1923, 1981, 4025, 2408, 887, 4816, 2860, 4593, 2530, 2362, 3198, 3122, 1078], [3143, 612, 3428, 3225, 3058, 3205, 4930, 1028, 3654, 2158, 1808, 3930, 2081, 4288, 1433, 1343, 2568, 4601, 468, 721, 829, 222, 4754, 4828, 1842], [4754, 835, 1179, 2200, 4490, 2995, 2502, 1341, 2379, 1179, 145, 2362, 1303, 2787, 4330, 2796, 352, 3352, 278, 3948, 1540, 2797, 4601, 3294, 2034], [778, 2975, 4705, 777, 2718, 2008, 2242, 2706, 4503, 1194, 1979, 3157, 1044, 673, 4202, 1652, 4551, 222, 3550, 265, 1087, 933, 1203, 2734, 3811, 4040, 4007, 989, 989], [2737, 1720, 2867, 375, 537, 3636, 3384, 2095, 1023, 4516, 1483, 2344, 1969, 851, 2975, 185, 2107, 4503, 2946, 885, 4007, 729], [228, 522, 3910, 890, 1780, 822, 4022, 3718, 3624, 4325, 3677, 4463, 3718, 4873, 4534, 4501, 4882, 747, 890, 4348, 2316, 3051, 747, 890, 2239, 2316, 1035, 999, 2148, 2473, 3768], [2765, 2262, 185, 2309, 4875, 4347, 2893, 1758, 215, 2715, 4537, 1120, 1285, 3212, 3480, 3070, 4461, 3011, 1179], [2362, 2226, 4694, 1141, 2144, 4013, 1220, 30, 2359, 1765, 448, 1988, 4996, 4955, 3948, 3683, 3574, 1765, 401, 2890, 448, 2794, 4960, 3784, 751, 2936, 2144, 3118, 429, 2704, 612, 2335, 3118, 30, 2359, 2148, 3574, 1765, 401, 92, 800, 4472, 1008, 4002, 1341, 3865, 2148, 2329, 2854], [457, 2936, 2166, 3908, 1060, 3314, 3214, 2073, 4007, 1541], [180, 4875, 3695, 2530, 4591, 155, 4955, 2530, 2413, 3034, 1543, 1191, 3884, 4875, 3695, 2530, 1765, 12, 1191, 2867, 1646, 30, 903, 2449, 1893, 1805, 265, 2422, 831, 1079, 3681, 4653, 1981, 2422, 996], [426, 3563, 4106, 1258, 2700, 2715, 3118, 3128, 2148, 2095, 2530, 1765, 2700, 1438, 3058, 409, 2874, 2148, 368, 950, 197, 1175, 1995, 3440, 4019, 496, 4330, 933, 3058, 228, 4922, 111, 2530, 1120, 876, 2269, 4991, 2530, 3799, 2362, 2787, 4330, 3238, 56, 291, 2743, 2429], [4013, 1120, 1090, 3736, 3118, 30, 2359, 4614, 4840, 2786, 2440, 1716, 3438, 2269, 2531, 512, 2670, 4363, 1986, 3092, 3237, 258, 4320], [3049, 4656, 1120, 4293, 1020, 1686, 1341, 71, 2789, 92, 1191, 556, 1442, 4472, 666, 3033, 1716, 866, 1341, 2530, 4007, 4313], [876, 61, 1360, 612, 4730, 3120, 3058, 2141, 3683, 4383, 2144, 3677, 4660, 3773, 2148, 4907, 1341, 3091, 1120, 3114, 4537, 1191, 3114, 1341, 3091, 1120, 4907, 1936, 3120, 612, 3582, 236, 2858, 2879, 3322, 3164, 3867, 4730, 3660], [4911, 3910, 3334, 1765, 1250, 431, 1513, 201, 3781, 694, 4007, 182, 182], [2087, 4836, 553, 3085, 1368, 597, 4818, 774, 1078, 3595, 3573, 1642, 1852, 721, 145, 1866, 4656, 676, 3198, 2362, 4540, 4593, 3468, 1101, 2867, 3652, 2391, 4443, 2759, 1653], [2854, 686, 4875, 4595, 1310, 3461, 2530, 4278, 1156, 1716, 4696, 3058, 23, 1310, 1272, 1191, 774, 1048, 4537, 3782, 4960, 1351, 2232, 3092], [9, 876, 197, 4554, 1716, 4810, 2144, 414, 1139, 1949, 2272, 1949, 4626, 1723, 4176, 4266, 1220, 4176, 1716, 1523, 4810, 1716, 1900, 1716, 3197, 3048, 3677, 1120, 4653, 3884, 1716, 1147, 1415, 1273, 3202, 3557, 3438, 4077, 1921, 1716, 1982, 2981], [3428, 1716, 3338, 1341, 876, 3884, 727, 1341, 858, 4864, 2148, 878, 202, 4537, 1345, 251, 4872, 4554, 612, 807, 342, 1716, 3197, 4772, 4875, 1118, 4565, 3373, 2144, 315, 3440, 1765, 2651, 2945, 3567, 455, 1716, 4090, 1341, 4003, 4292, 2698, 475, 1341, 479, 3513, 1341, 731, 2651, 3058, 2537, 4325, 2698, 4007], [3984, 2148, 448, 448, 1852, 1599, 3813, 2243, 2337, 2243, 1444, 2909, 1830, 4873, 457, 431, 2362, 3725, 2148, 890, 4105], [2069, 4026, 448, 3786, 507, 1341, 3867, 4965, 3786, 260, 1297, 2870, 4937, 199, 431, 4955, 2102, 2845, 2362, 1844, 2069, 608, 4691, 365, 4947, 4569, 721, 1024], [713, 1250, 1250, 2186, 4007, 881, 4768, 723, 4103, 3372, 1169, 4710, 607, 2948, 4902, 3292, 2673, 4568, 492, 2790, 887, 3669, 3503], [2694, 419, 4537, 2392, 2879, 1011, 3872, 4325, 2365, 2359, 3058, 340, 3944, 4325, 1295, 2362, 2832, 4330, 4320], [1599, 1220, 4491, 2144, 381, 782, 2285, 2737, 1661, 522, 2305, 2258, 1429, 465, 4996, 1464, 1606, 1709, 721, 261, 1439], [2305, 4996, 4664, 2530, 2786, 51, 665, 3034, 197, 522, 4609, 4955, 4537, 12], [3536, 1724, 1716, 3197, 784, 1442, 1218, 482, 3867, 3918, 12, 2786, 2315, 3058, 4653, 3832, 2530, 3813, 4348, 1716, 3197, 1599, 1220, 3058, 2126, 1191, 3624, 4348, 1716, 3197, 1220, 3058, 2434, 1716, 2156, 4875, 3654, 4828, 1801, 486, 2487], [2180, 2011, 1126, 1206, 1341, 3322, 2870, 2530, 3472, 2765, 666, 2255, 4716, 1341, 2765, 4087, 312, 2269, 2556, 2530, 718, 1427, 1064, 2214, 2402, 3424, 3450, 1357, 1244, 1137, 754], [4885, 103, 3597, 1267, 2170, 3520, 871, 305, 2834, 203, 4794, 4938, 721, 1363, 2560, 4773, 3130, 4674, 3562, 2408, 2362, 844, 4849], [3428, 3486, 2148, 3721, 2887, 1541, 839, 2009, 4624, 2570, 4965, 4951, 3170, 1765, 4749, 2148, 890, 3031, 4321, 3171, 2362, 1844], [1867, 870, 2961, 3461, 3461, 3461, 3461, 3461, 3461, 3461], [1309, 3654, 3058, 1571, 1750, 2539, 3141, 4769, 2530, 2, 2434, 1856, 3884, 2081, 4619, 4105, 442, 4372, 2148, 3867], [2737, 1800, 1842, 4425, 1483, 3813, 231, 1050, 3636, 1420, 2821, 4620, 4007, 3606, 4369, 4883, 4468, 1842, 2444, 853, 1009, 519], [3143, 1716, 758, 3092, 2040, 2144, 1918, 410, 4875, 2490, 4184, 3827, 4500, 1696, 78, 4288, 1433, 4103, 721, 3007, 4601, 468, 38, 4135, 721, 236, 2408, 2646, 2466], [3993, 4730, 4730, 373, 127, 3514, 4443, 3908, 3120, 3029, 3120, 3120, 3120, 3029, 4559, 3029, 1830, 3029, 1830, 1830, 1830, 3029, 1923, 1981, 4025, 2408, 887, 4816, 2860, 4593, 2530, 2362, 3198, 3122, 1078], [4088, 4523, 2107, 2254, 4282, 2107, 3224, 853, 408, 1644, 4292, 721], [3141, 1120, 1606, 2530, 567, 4875, 3438, 4656, 4325, 3872, 1140, 4105, 1491, 4960, 3253, 2975, 2278, 1842, 46, 3225, 3514, 498, 4294, 2408, 2362, 4596, 4816, 2766, 676], [2359, 876, 815, 2530, 876, 2319, 2530, 2708, 2148, 460, 2530, 1191, 876, 3147, 658, 3058, 1658, 1191, 3609, 3058, 2934, 159, 1551, 2148, 1860, 1341, 2656, 2148, 4383, 2787, 3058, 728, 2148, 3640, 3175, 2694, 269, 3813, 92, 856, 486, 812, 4721, 1120, 490, 2144, 4729, 856, 2674, 2226, 4330], [3574, 4996, 4383, 3440, 3164, 2148, 2786, 3902, 4922, 1214, 260, 3725, 1120, 2855, 243, 155, 2148, 3440], [3287, 2793, 2342, 3130, 4479, 2186, 1125, 2550, 2256, 2408, 4007, 2827, 563, 3939, 2186, 3865, 4299, 4020, 331, 477, 162, 1866, 1648, 4081, 36, 989, 4816, 4549, 1936], [3507, 1716, 2269, 3212, 3058, 790, 2870, 3736, 1751, 2922, 591, 4180, 3823, 3118, 3757, 666, 4943, 3221, 4330, 784, 2408, 2845, 823], [3271, 3295, 1039, 3271, 398, 1341, 2009, 1716, 3757, 2309, 2148, 3675, 4927, 3054, 1191, 782, 532, 1765, 4744, 1668, 1716, 4927, 3054, 1191, 782, 532, 1765, 3208, 1851, 3271, 398, 436, 4321, 3898, 4946, 1716, 4036, 2100, 6], [3253, 4996, 1716, 2280, 3442, 1765, 2193, 2733, 1765, 4901, 3019, 2359, 2269, 1120, 2530, 4591, 494, 776, 2217, 3191, 1632, 4821, 2272, 461, 3677, 1140, 4996, 363, 4995, 180, 2193, 3212, 4996, 363, 367, 959, 3846, 2916, 4071, 922, 1751, 1220, 3967, 1750, 3044, 4996, 363, 851, 3857, 3221], [1117, 2888, 1431, 4202, 1842, 1117, 764, 2107, 153, 1842, 268, 2975, 3172, 1739, 1078, 721, 3865], [2309, 1120, 3683, 4656, 2148, 2796, 2379, 4127, 2269, 2234, 1478, 1981, 2981, 4528, 3790, 3058, 1032, 1361, 1191, 4550, 12, 3790, 3313, 1361], [933, 3597, 4998, 1685, 180, 231, 3214, 2092, 3204, 2341, 1369, 3708], [1179, 3191, 507, 4321, 4163, 4127, 4029, 1341, 4824, 1220, 2530, 199, 2148, 1149, 1697, 3164, 269, 1179, 4163, 1191, 507, 199, 1765, 2814, 4157, 1191, 3455, 1765, 4653, 4157, 4875, 1171, 1377, 4960, 2787, 3669, 3461, 265, 2594, 4495, 2362, 1303, 2787, 4330, 4445, 2121], [201, 2143, 2231, 3058, 1175, 2878, 479, 1543, 4732, 2818, 3280, 2530, 1370, 2020, 1341, 1273, 4537, 2778, 4007], [3449, 4996, 3124, 2262, 2942, 3107, 2345, 2207, 3468, 3538, 51, 4875, 132, 1244, 4088, 2698], [523, 3058, 4425, 1834, 3621, 3610, 3057, 3115, 1341, 1807, 4697, 3420, 2541, 1028, 3654, 2158, 1808, 3930, 2081, 4288, 1433, 1343, 2568, 4601, 468, 721], [4445, 1765, 1209, 2118, 633, 849, 1523, 62, 1888, 2144, 1086, 1621, 414, 3110, 4875, 876, 2351, 3327, 4517, 313, 2950, 4262, 4875, 3466, 4087, 2148, 1720, 4996, 2979, 1426, 2682, 3202, 2979, 2530, 1765, 197, 1341, 2229, 2281, 4099, 3585, 2743, 4996, 4099, 4960], [3839, 1852, 1460, 188, 1411, 979, 841, 487, 2127, 3993, 3191, 2364, 3825, 578, 3255, 750, 3039, 2682, 578, 3825, 3459, 2060, 4145, 1239, 16, 4294, 4476], [2158, 2975, 4519, 3813, 231, 851, 1843, 2868, 2975, 4519, 3813, 231, 780, 930, 3023, 3277, 2975, 4698, 2371, 3023, 2240, 3347, 2328, 1644, 4267, 457, 944, 4971], [1222, 2232, 3748, 4537, 2231, 2530, 1273, 386, 3039, 731, 202, 783, 1327, 592, 3236, 3590, 2362, 4949, 3240, 4186, 3481, 2837, 1441, 2053, 2860, 721, 2970], [2362, 1844, 3760, 1104, 1893], [3031, 4537, 4968, 414, 1765, 2564, 4875, 360, 361, 3444, 1716, 3757, 3658, 4180, 4907, 2030, 4254, 3444, 361, 612, 470, 1476, 2864, 2696, 1143, 1219, 4860, 1716, 3757, 3995, 4264, 1654, 2290, 718, 2148, 3423, 1281, 842, 1765, 876, 61, 1452, 3058, 361, 3444, 2148, 1365, 4145, 4711, 2148, 2133, 3058, 414, 1765, 3315, 61, 3031], [3813, 3371, 2362, 2408, 145, 3652, 2860, 721, 2530, 1460, 3198, 4593, 774, 4250, 1866, 3949, 1250, 4401, 886, 1053, 2867, 1852, 4684, 10, 4938, 2362, 3468, 2378, 638], [3455, 4110, 3654, 4521, 494, 3986, 236, 3910, 349, 1341, 132, 769, 4226, 2530, 2839, 4894, 1341, 3721, 1273, 92, 2148, 2701, 1952, 4937, 458, 353, 612, 494, 3721, 4996, 182, 3065, 1787, 3933, 3693, 3334, 1765, 1250, 431, 4007], [2817, 2817, 4089, 2044, 3597, 841, 3636, 1117, 1551, 2742, 1842, 2288, 2524, 4503, 4597, 4691, 4106, 4971], [185, 2786, 4606, 1341, 1403, 4840, 2786, 4907, 1341, 1403, 4862, 1138, 3164, 3677, 922, 185, 1857, 3164, 2269, 1403, 4747], [1017, 4005, 959, 2786, 2855, 271, 2530, 2786, 2309, 2129, 2534, 890, 2530, 1120, 185, 2786, 752, 1857, 2530, 3128, 1765, 4657, 1716, 3757, 1285, 4264, 3677, 1572, 2530], [1854, 45, 4224, 4744, 2860, 4219, 3400, 3870, 232, 923, 1842, 841, 944, 2749, 2131, 1693, 4421, 4211, 3410, 4811], [1358, 4589, 269, 4005, 1191, 494, 2879, 3438, 1420, 4955, 2981, 1295, 876, 1132, 1967, 2148, 3226, 1341, 2362, 3857], [1843, 2622, 2364, 1734, 1231, 2524, 1679, 2107, 621, 4468, 2187, 4007], [3136, 1765, 1273, 1359, 1334, 1191, 3141, 1478, 1758, 3263, 3755], [1631, 1716, 1576, 2148, 3270, 1716, 3197, 4591, 2280, 4907, 2879, 293, 431, 4660, 588, 876, 294, 2269, 4187, 2901, 1888, 871, 3867, 1524, 3867, 4537, 2145, 2078], [3522, 4793, 2188, 4106, 1775, 2497, 4336], [1962, 4656, 1120, 4293, 1020, 1686, 1341, 71, 2789, 92, 1191, 556, 1442, 4472, 666, 3033, 1716, 866, 1341, 2530, 4007, 4313], [2362, 2226, 331, 3507, 959, 3438, 253, 2670, 2354, 2879, 2225, 2879, 4325, 3222, 334, 322, 3058, 3507, 3058, 2805, 858, 3507, 3118, 3347, 666, 4537, 2514, 1765, 2530, 3231, 1716, 2126, 3867, 2466, 3118, 3197, 1120, 959, 2916, 3507, 4537, 4937], [538, 4307, 2170, 1825, 1691, 2834, 1174, 2975, 3520, 1117, 3606, 4007], [4922, 2144, 251, 3658, 1120, 4922, 2879, 908, 978, 4013, 1273, 3783, 1682, 1341, 3183, 1216, 4922, 2879, 48, 1273, 3783, 4637, 4007, 1313, 270, 84], [4949, 2107, 4516, 313, 774, 4382, 2867, 1460, 4401, 1887, 1866, 3198, 4230, 10, 2530, 886, 3949, 4938, 1101, 676, 3468, 4684, 721, 3869, 2721], [1297, 666, 2530, 2148, 4607, 1716, 4852, 2148, 2157, 4131, 1341, 2269, 1071, 2530, 4971], [46, 4673, 2352, 1603, 2975, 4783, 292, 2107, 4003, 1021, 721, 3811, 4557], [3105, 3827, 718, 118, 2535, 77, 628, 360, 475, 2879, 1033, 1716, 1625, 3340, 2148, 460, 132, 4390, 1102, 1758, 117, 1949, 2630, 134, 718, 3758, 1033, 1716, 1625, 3766, 3884, 1317, 3058, 2975, 4537, 1758, 1535, 1765, 2867, 476, 718, 3313, 1209, 4937, 2761, 61, 476, 3225, 4461], [1117, 2940, 1581, 2512, 306, 3051, 1740, 4314, 968, 2479, 4042], [2524, 2008, 1650, 3016, 3085, 1368, 597, 4818, 774, 1078, 3595, 3573, 1642, 1852, 721, 145, 1866, 4656, 676, 3198, 2362, 4540, 4593, 3468, 1101, 2867, 3652, 2391, 4443, 2759, 1653], [1120, 4867, 1176, 1341, 471, 1765, 2148, 3758, 269, 4591, 716, 948, 3650, 1201, 3438, 3009, 1775, 1765, 1824, 2670, 401, 642, 193, 4211, 197, 419, 2818, 1120, 2379, 421, 4749, 1758, 2670, 2602, 2812, 4334, 4810, 2923, 4894], [620, 3237, 1614, 3785, 3663, 3214, 3349, 2362, 2787, 4330, 295, 1941, 180, 351, 2975, 4503], [4591, 4864, 1770, 3019, 1716, 1405, 2144, 51, 1191, 3654, 1341, 4907, 3630, 2148, 880, 3832, 2530, 4911, 4872, 1405, 3058, 2225, 51, 1191, 3654, 3058, 4907, 884, 4325, 455, 1506], [1717, 1765, 3692, 4157, 1716, 3197, 3644, 1857, 978, 1222, 2530, 1191, 4104, 3683, 2593, 1341, 1211, 4452, 4436, 3947, 1893, 2148, 506, 2362, 2378, 2362, 2703, 4357, 1442, 3910, 2708, 1341, 3692, 4002, 1888, 1341, 3147, 77, 3537, 2178, 1495, 1607], [458, 353, 1601, 612, 2148, 3721, 4059, 1341, 3027, 1696, 4996, 3712, 4383, 4665, 4007, 881, 4007, 1017, 471], [1832, 2778, 4610, 2529, 3206, 370, 3813, 231, 1614, 1614, 2975, 3198, 3764, 2362, 3194, 1842, 601, 211, 2362, 3471, 448, 4816, 2627, 3813, 268, 672, 2125, 3100, 4754], [4798, 2148, 3411, 4537, 4099, 2530, 4278, 3884, 3683, 4656, 4875, 2530, 1765, 2786, 2193, 1631, 1716, 4856, 107, 4749, 1758, 2670], [2362, 3221, 4330, 592, 223, 592, 46, 3059, 2108, 3004, 784, 1060, 2760, 1135, 4144, 3384, 571, 1614, 4145, 2992, 2972, 3591, 3004, 517, 3004, 231, 1120, 4785, 2664, 3004, 233, 3813, 96, 2975, 3906, 1614, 2033, 1283, 3604, 1733, 3604, 1842, 2188, 3591, 3004, 784], [2811, 2148, 3306, 1341, 236, 1872, 4538, 2168, 105, 427, 3128, 1370, 427, 3712, 236, 3760, 1914, 2168, 4747, 145, 4593, 4612, 2860, 2530, 1053, 4250, 2362, 2957], [666, 522, 2720, 2901, 2530, 210, 4875, 1946, 3683, 4328, 1405, 1716, 776, 456, 2735, 3101, 1201, 522, 4325, 1408, 3118, 4867, 458, 236, 3757, 2530, 3910, 2735, 3910, 3654, 2148, 6, 1341, 2488, 4325, 2702, 433, 3118, 3807, 4204, 2948, 4204, 4350, 4211], [199, 1295, 2530, 2706, 3409, 1716, 1759, 4875, 360, 3322, 1273, 3579, 4938, 1501, 4996, 2305, 1576, 2461, 1285, 1240, 1273, 3579, 1168], [1751, 1122, 602, 2148, 3075, 3058, 3258, 2720, 1765, 4654, 2632, 4288, 4288, 4288, 3945, 1747, 3747, 4601, 468, 885, 4103, 721, 4754, 1373, 1725, 4499, 2639, 3016, 195, 1700], [2556, 876, 3313, 4325, 3704, 2530, 2786, 3944, 876, 3599, 1341, 4325, 3654, 2874, 822, 4960, 3813, 3371, 2786, 3599, 1341, 3813, 4348, 2148, 1603, 1990, 2156, 269, 2879, 2309, 1135], [4202, 4516, 1212, 621, 2715, 3122, 1614, 778, 3509, 4532, 3516, 2887, 3301, 1821, 3504, 3737, 3717, 3009, 1430, 3813, 2326, 1194, 1367, 3028, 1212, 844, 1691, 3622, 4202, 3813, 7, 4323, 3636, 3214, 3711, 1398, 1396, 440, 3827, 3142, 4007, 2778], [2362, 4668, 3606, 4737, 4909], [2932, 1191, 2753, 2434, 1370, 4325, 662, 4860, 1341, 180, 2530, 4860, 2932, 2530, 1191, 935, 4860, 1341, 3884, 2530, 3438, 4860, 2753, 2530], [4666, 1431, 3349, 211, 2677, 1458, 1680, 2107, 621, 4415, 1842, 3994, 4496, 1680, 2107, 3950, 730, 4147, 1513, 4007], [4884, 3891, 461, 1207, 2148, 876, 2532, 77, 4208, 3118, 4867, 4937, 1599, 3040, 1191, 4328, 3476, 494, 2196, 2150, 1765, 3694, 4875, 1567, 4412, 2437, 721, 659, 1562, 3895, 792, 4145, 2291, 897], [4840, 784, 1614, 1606, 1360, 1212, 3535, 3471, 3383, 1071, 3208, 1614, 1630, 784, 3813, 4799, 3383, 1842, 3349, 780, 412, 3813, 672, 1576, 1060, 3356, 1280, 1733, 4103, 2632, 1177, 2226, 4330, 1308, 2408, 1640], [2362, 2226, 4330, 4320, 3238, 3104, 750, 1613, 454, 3921, 1614, 3906, 253, 3637, 3391, 7, 4917, 2178, 3718, 3895, 4901, 1842], [313, 3605, 2790, 2790, 222, 1644, 1644, 4971, 4478, 3205, 238], [1202, 1784, 4226, 666, 4155, 3076, 1716, 3128, 1341, 1822, 1440, 2565, 2386, 718, 4875, 3212, 4169, 4996, 1218, 3680, 4007], [4703, 1605, 3021, 1409, 2737, 3231, 2008, 1212, 3783, 4392, 3265, 3344, 1060, 4281, 3753, 3736, 3023, 1431, 4111, 1060, 4299, 3636, 203, 2282, 168, 1115, 4106, 3195, 3736, 4442, 1614, 168, 1614, 3870, 3344, 1060, 2275, 585, 3107, 3813, 1313, 3663, 1478, 438, 3773, 1614, 1947, 841, 313, 1733, 3637, 2107, 4147, 4007], [4088, 1461, 2904, 2547, 4516, 4554, 3122, 2016, 3906, 4779, 871, 1842, 4007, 4167, 1015, 1519], [3558, 701, 3058, 4457, 839, 4875, 1487, 2799, 4021, 1716, 475, 3558, 935, 1716, 890, 2829, 453, 4866, 4165], [2131, 774, 3058, 2434, 3171, 2988, 1918, 1918, 1890, 623, 1079, 623, 3681, 1079, 623, 4640, 199, 1841, 4445, 1765, 1406, 1273, 3336, 2609, 2148, 4348, 4263, 876, 3782, 2309, 3212, 2148, 1570, 2099, 1522], [2986, 4054, 2530, 2144, 3384, 466, 2670, 4922, 2193, 333, 2379, 2998, 2670, 2362, 2696, 632, 4208, 3272], [1431, 4901, 2975, 3356, 3646, 4542, 3350, 2140, 1314, 1556, 959, 1060, 4142, 4517, 4204, 1781, 4527, 4527, 3446, 4497, 4971], [3428, 2148, 4216, 3486, 2148, 3721, 2887, 1541, 839, 2009, 4624, 2570, 4951, 3923, 4313, 1765, 4749, 2148, 890, 3031, 4321, 3171, 2362, 1413, 4313, 3120, 672, 1484], [964, 12, 4942, 269, 3654, 1716, 3343, 2879, 2849, 666, 461, 3677, 431, 1218, 2530, 1375, 12, 1779, 1191, 2865, 1943, 851, 3221, 4330], [959, 1967, 185, 3114, 959, 4112, 2530, 3118, 1751, 185, 1783, 185, 397, 185, 322, 2530, 3118, 1751, 185, 3164, 269, 199, 4591, 2914, 2530, 3438, 461, 3118, 2359, 2148, 1934, 2530, 2362, 2226, 4330], [3150, 1724, 4875, 304, 461, 448, 1544, 2144, 3609, 4875, 1698, 1191, 2315, 4031, 4764, 2633, 3872, 2530, 1765, 2011, 4875, 4515, 73, 1716, 4737, 271, 769, 4960, 236, 4656, 522, 4842, 132, 1291, 1191, 1220, 4926, 975, 1807, 3141, 4609, 3872, 4960, 4007], [208, 3719, 3660, 2358, 3164, 4013, 3270, 3058, 2488, 1615, 3715, 236, 4752, 2530, 4468, 1844, 2749], [2099, 4875, 522, 3744, 132, 4279, 666, 3107, 3216, 1716, 4447, 769, 2530, 2362, 3221, 4330], [4935, 1733, 2364, 2868, 3322, 3964, 2458, 2362], [4174, 522, 2235, 1755, 4656, 2530, 4333, 876, 1191, 296, 2530, 2488, 461, 4834, 2121, 4537, 2870, 2670, 4797, 1033, 4832, 4971], [259, 718, 533, 512, 4007], [949, 1716, 3166, 1341, 1724, 4875, 1032, 2269, 775, 2530, 2765, 3068, 4325, 4444, 1191, 205, 2427, 4325, 4444, 1588], [2915, 3507, 457, 1191, 1947, 2631, 1191, 975, 1341, 1599, 2269, 494, 982, 2988, 4524, 2200, 2144, 3141, 260, 2530, 1765, 4873, 2786, 1035, 2144, 1952, 1601, 1844], [2262, 2262, 4036, 1956, 1191, 3507, 4875, 4030, 3058, 567, 1216, 3677, 2530, 4325, 3118, 3563, 2626, 721], [4673, 3748, 2530, 614, 1585, 1765, 3917, 3872, 2530, 236, 132, 1581, 2742, 4606, 2879, 876, 360, 4001, 4537, 2870, 4953, 3178], [4605, 4756, 864, 1183, 925, 2087, 1843, 2086, 4516, 2819, 1843, 2320, 1117, 4756, 4415, 1528, 2554, 1322, 3442, 1475, 2393, 2975, 904, 750, 351, 1183, 3861, 721], [3910, 2628, 1341, 935, 458, 353, 1601, 612, 2280, 3712, 1952, 4875, 4517, 3480, 3913, 3327, 974, 522, 2656, 3101, 2143, 4304, 2148, 880, 4311, 3440, 1120, 731, 666, 4537, 3153, 3440, 4299, 2186, 4007, 1125, 2550, 2186, 4299, 293, 2408, 1015, 2256], [1770, 1765, 458, 2151, 1430, 2309, 3735, 3403, 4362, 1430, 3683, 1220, 2735, 1341, 4561, 1624, 2148, 2753, 2148, 2309, 1357, 1219, 185, 1430, 2079, 3521, 3425, 2364, 3736, 3633, 1765, 2100, 3058, 1817, 185, 1430, 132], [3832, 1120, 3150, 4875, 702, 2879, 4325, 4550, 1357, 2048, 4360, 3678, 2408, 663, 721], [2280, 4894, 1062, 2269, 1806, 4591, 832, 3058, 364, 4537, 2905, 4624, 4537, 1981, 417, 4537, 3107, 721], [4202, 1842, 1656, 765, 3471, 109, 3617, 1461, 2439, 4589, 2706, 3471, 3961, 1546, 180, 882, 1519, 1015, 4007], [3927, 4860, 1341, 677, 1273, 585, 3141, 2141, 2698, 1273, 964, 585, 990, 2998, 1120, 4996, 4955, 4941, 1341, 3209, 3720, 3806, 4955, 870, 3138, 2144], [141, 4730, 458, 353, 1601, 612, 3191, 775, 4177, 1341, 2845, 413, 3867, 4862, 1765, 1551, 3058, 4653, 1273, 1598, 4461, 3721, 1273, 2988, 1191, 4104, 494, 2269, 3721, 4996, 3239, 1513, 912, 4137, 4007], [4390, 4630, 3280, 3292, 1061, 4938, 2362, 4203, 1164, 1074], [2534, 4656, 1120, 4293, 1020, 1686, 1341, 71, 2789, 92, 1191, 556, 1442, 4472, 666, 3033, 1716, 866, 1341, 2530, 4007, 4313], [12, 2518, 3058, 4697, 891, 92, 4263, 1191, 1224, 1952, 4263, 4376, 448, 3479, 2539, 4660, 3034, 2698, 1765, 884, 3058, 884, 236, 1120, 3677, 2879, 2757, 4325, 3570, 461, 2280, 4862, 3058, 1100, 3570, 2362, 447], [1414, 2522, 3475, 4868, 2512, 3023, 1414, 2776, 3475, 2988, 1842, 3205, 328, 4971, 222, 3424, 4648, 3687, 567, 1135, 4004], [199, 4875, 4497, 2362, 1866, 3631, 3205, 989, 3725, 989, 3345, 2877, 1591, 4467, 989, 3966, 2952, 4596, 2406, 196], [1980, 721, 3391, 1980, 721, 508], [4929, 3715, 1120, 494, 2078, 2765, 1155, 1120, 192, 3581, 3781, 4401, 2025, 4867, 4658, 3674, 3836, 1168, 4004, 4749, 2650, 4484], [4793, 1723, 961, 1043, 2225, 4922, 612, 705, 4656, 257, 199, 2108, 718, 1765, 269, 1952, 3715, 705, 4656, 485, 1716, 3197, 3836], [251, 3128, 2305, 4537, 1120, 908, 1889, 4996, 907, 3128, 4161, 1120, 3054, 4996, 28, 2670, 2379, 3910, 3128, 1716, 1770, 2884, 1433, 3725, 1120, 3917, 4996, 1543], [2794, 2063, 4048, 3164, 1716, 4347, 1341, 3249, 890, 2879, 2780, 3058, 2208, 2530, 4216, 1413, 1716, 4040, 1317, 1341, 1120, 2879, 1218, 1751, 4030, 3302, 1766, 1011, 2670, 3092], [409, 1716, 199, 491, 320, 409, 1716, 3884, 727, 3058, 3632, 4996, 409, 1716, 4443, 727, 1341, 4003, 2391, 482, 3258, 2144, 2879, 236, 1519, 685, 1758, 2670, 2148, 3737, 612, 409, 1341, 2493, 1712, 1765, 3337, 2857, 4325, 1829, 2470, 1696], [2333, 2291, 3214, 202, 614, 1842, 4341, 985, 4102, 2975, 3214, 2448, 1842, 4007, 3475, 1519, 2803, 4526, 4820, 4633, 1267, 1429, 873, 3966], [2362, 3971, 3993, 4730, 4730, 373, 127, 4594, 4443, 3908, 3120, 3029, 3120, 3120, 3120, 3029, 4559, 3029, 1830, 3029, 1830, 1830, 1830, 3029, 1923, 1981, 4025, 2408, 887, 4816, 2860, 4593, 2530, 2362, 3198, 3122, 1078], [3438, 3004, 2262, 592, 1100, 3440, 4922, 12, 2225, 3739, 4996, 1120, 4325, 4173, 2981, 2879, 1051, 3913, 3022], [4276, 2131, 1614, 1245, 4783, 952, 4107, 2202, 4202, 1842, 1256, 2362, 1691, 2127, 2226, 4923, 1842, 3004, 369, 238, 2682, 3471, 422, 3727, 4516, 1483, 510, 1614, 1256, 853, 1733, 4387, 4387], [935, 1956, 1341, 4873, 3902, 1359, 2389, 3696, 1120, 2639, 975, 228, 1956, 3058, 928, 1094, 4953, 2389, 4475, 1120, 2639, 975, 228, 1956, 1341, 3677, 3058, 4726, 1359, 2389, 167, 1120, 2639, 975, 4960, 261], [4548, 3677, 1341, 1433, 3744, 132, 769, 1038, 4875, 251, 3128, 822, 2698, 1120, 4851, 1782, 4996, 2841, 1765, 1988, 3313, 1544, 1201, 1765, 4013, 1967, 3736, 2362, 2226, 4330], [185, 2786, 4606, 1341, 1403, 4840, 2786, 4907, 1341, 1403, 4862, 1138, 3164, 3677, 922, 185, 1857, 3164, 2269, 1403, 2530], [3609, 2249, 2145, 1033, 4832, 4006, 1716, 758, 4918, 4321, 1776, 404, 1716, 3326, 4593, 3284, 140, 330, 718, 1765, 218, 2148, 448, 448, 3031, 4321, 2307, 607, 4730, 1830, 3507, 1765, 1004, 4321, 457, 393, 2362, 1132, 4330], [4853, 1863, 2733, 612, 3032, 3707, 4960, 4971], [721, 1356, 125, 3214, 3523, 1060, 3344, 2888, 3997, 3523, 1821, 3195, 3781], [4398, 320, 2632, 2632, 558, 1614, 4005, 1733, 1912, 1, 3799, 2437, 1644, 944], [3115, 4610, 732, 3424, 1168, 3471, 1893, 750, 3646, 3009, 750, 180, 231, 2362, 997, 1844], [2305, 4996, 4664, 2530, 2786, 51, 665, 3034, 197, 522, 4609, 4955, 4537, 12], [3115, 4161, 1770, 1716, 890, 2879, 1758, 167, 1220, 2735, 1770, 3513, 1716, 890, 2269, 3133, 1733], [2362, 1844, 3003, 3966, 4249, 4626, 133, 1601, 2242, 2242, 750, 2004, 313, 1595, 4809, 2386, 3003, 1893], [4411, 210, 2888, 2041, 3021, 2646, 1117, 2060, 2667, 2524, 4106, 2912, 3566, 2888, 2999, 1842, 4455, 1454, 1044, 673, 4202, 1652, 4551, 222, 3550, 265, 1087, 933, 1203, 2734, 3811, 4040, 4007, 989, 989], [2359, 4875, 2184, 3907, 3908, 3933, 1716, 268, 1716, 1654, 4960, 2359, 2148, 3676, 2919, 1716, 3897, 1120, 564, 2879, 1947, 2309, 2362, 2226, 4330], [180, 1716, 461, 356, 3884, 1341, 1273, 522, 1770, 1716, 4325, 1295, 1765, 458, 612, 4333, 1716, 475, 876, 3794, 4325, 1862, 4104, 899, 1988, 607, 4955, 4960, 3141, 4228, 4226, 2497, 694, 3836, 2186], [550, 154, 228, 199, 2386, 718, 3748, 1120, 1109, 3386, 2148, 3598, 1765, 1431, 2148, 978, 2126, 2810, 4222, 1220, 349, 1341, 4996, 3513, 1191, 4344, 2269, 4325, 2466, 3785, 2144, 3602, 4996, 3513, 4214, 1191, 4945, 1341, 461, 2306, 2530, 2386, 2148, 660, 2356, 582, 2386, 3058, 3867, 197, 700, 1185, 3092], [1146, 2717, 2718, 3636, 1105, 4147, 4691, 2709, 1842, 1453, 2131, 2408, 4007, 1525, 721, 4103, 1921, 406, 2678, 3576, 3763, 3207, 265, 898], [4856, 2975, 4836, 930, 1691, 2107, 3804, 1488, 424, 459, 1614, 1322, 3631, 2457, 3827, 1842, 4891, 721, 4145], [1947, 1775, 458, 353, 1601, 4104, 2193, 1625, 4325, 1758, 3938, 111, 1631, 1716, 3197, 448, 4180, 4866, 3817, 1599, 2193, 4477, 269, 4315, 4746, 3768, 3334, 1765, 1903, 1202, 713, 1903, 713, 4211, 201, 4007], [4202, 3804, 1781, 3527, 3813, 3798, 1060, 2097, 1821, 3804, 1957, 1414, 4551, 3636, 1795, 1006, 1614, 4683, 1691, 4315, 1866, 2495, 3813, 1170, 2226, 4574, 2231, 3527, 3813, 231, 154, 4610, 1417, 4540, 3753, 1614, 4610, 4589, 3349, 2364, 1781, 4775, 780, 221, 3527, 1614, 1395, 2975], [999, 2305, 3128, 3606, 2580, 4537, 3782, 2670, 2793, 3212, 4934, 2670, 2150, 1716, 67, 3058], [3033, 1765, 890, 1220, 876, 1413, 3165, 4222, 4081, 3683, 3128, 1341, 4817, 3183, 3148, 4007, 1750, 3884, 1483, 1305], [1220, 481, 749, 2030, 3910, 749, 1765, 2034, 92, 2148, 3623, 1967, 1341, 1071, 2530, 494, 4015, 2643, 107, 4996, 74, 1341, 3910, 3197, 4004, 134, 3480, 4262, 236, 876, 1967, 2269, 4996, 2901, 2530, 2231, 958, 4857, 4873, 815, 4333, 1120, 2786, 360, 3938, 2269, 2530, 185, 2786, 752, 3910, 3197, 2530, 2362, 2226, 4330], [2507, 1281, 920, 1716, 3713, 3263, 3708, 1716, 3197, 2379, 134, 2691, 236, 4087, 2269, 908, 4653, 1304, 2864, 2379, 4669, 1446, 269, 296, 4382, 4537, 459, 557, 494, 427, 494, 3910, 3460, 1716, 4264, 4232, 3002, 1716, 776, 3514, 4379, 4035], [4026, 3058, 999, 3624, 2879, 2530, 1191, 507, 2879, 2530, 3118, 1631, 1716, 2285, 1765, 1184, 2530, 2394, 1220, 120, 3058, 3600, 3038, 269, 3333, 1604, 822, 1209], [935, 1956, 1341, 4873, 3902, 1359, 2389, 3696, 1120, 2639, 975, 228, 1956, 3058, 928, 1094, 4953, 2389, 4475, 1120, 2639, 975, 228, 1956, 1341, 3677, 3058, 4726, 1359, 2389, 167, 1120, 2639, 975, 4960, 3038], [3691, 1179, 2200, 1716, 2185, 1341, 2181, 1179, 2765, 1442, 3769, 4875, 4112, 4204, 353, 2632, 4288, 4288, 4288, 3945, 1747, 3747, 4601, 468, 885, 4103, 721, 4754, 195, 1700], [2550, 1614, 1842, 1431, 1910, 1475, 3442, 1711, 2267, 4709, 4474, 4106, 829, 3932, 2947, 1571, 1733, 3971, 4783, 2823, 1078, 1453, 4297, 265, 36, 721], [2160, 2004, 2160, 1733, 2822, 1431, 4367, 2737, 2632, 82, 1842, 2737, 3349, 3349, 329, 256, 487, 2232, 2275, 3589, 1696, 1345, 4971, 3945], [185, 2786, 4606, 1341, 1403, 4840, 2786, 4907, 1341, 1403, 4862, 1138, 3164, 3677, 922, 185, 1857, 3164, 2269, 1403, 2530], [1117, 2975, 4315, 3383, 1781, 4088, 3214, 784, 2649, 1781, 4984, 3520, 4287, 1842, 2362, 2226, 4330], [3349, 3214, 1842, 1117, 2275, 1786, 4395, 765, 1614, 3349, 1740, 3727, 4880, 231, 4323, 2975, 3793, 1842, 3349, 1033, 1842, 454, 2007, 2340, 1603, 162, 721, 3252, 3813, 2310, 2340, 3734, 659, 4616, 3076, 3549, 4315, 4460, 4460, 1747], [2362, 1558, 4865, 4602, 2725, 3358, 4173, 1039, 2807, 4730, 534, 2933, 1994, 1378, 4499, 4249, 1859, 4730, 1765, 218, 2148, 890, 3031, 4321, 2307, 1726, 2469, 2388, 2333], [3349, 2232, 1026, 1194, 1346, 4823, 4386, 3471, 151, 1762, 2158, 3214, 4526, 4953, 3773, 1614, 1848, 4947, 2523, 1644, 3799, 3799, 4971, 1278, 304, 4042, 742, 2437, 1965, 3691, 2900, 1124], [694, 2186, 4007, 2427, 841, 4627, 2684, 3635], [2193, 3907, 2488, 2662, 604, 1073, 1716, 2944, 2148, 3099, 4875, 175, 4537, 482, 2530, 3507, 414, 2765, 3693, 162, 1716, 3197, 4752, 3016, 2231, 3101, 2131, 2630, 3016, 959, 3128, 199, 448, 3624, 3659, 3507, 899, 3867, 4477, 1544, 1523], [4680, 1567, 3455, 2530, 4002, 1341, 127, 479, 3058, 3876, 612, 1631, 1765, 366, 3205, 4104, 1120, 3677, 1765, 1126, 4875, 363, 2530, 1521, 1697, 975, 1341, 127, 479, 3058, 83, 4276, 4372], [3428, 2148, 4216, 3486, 2148, 3721, 2887, 1541, 839, 2009, 4624, 2570, 4951, 3923, 4313, 1765, 4749, 2148, 890, 3031, 4321, 3171, 3867, 4545, 3867, 1524, 2362, 1844, 82, 4313, 3120, 672], [3111, 4837, 2200, 2148, 448, 448, 1852, 1599, 3813, 2243, 2337, 2243, 1444, 2909, 1830, 4873, 457, 431, 2362, 1844, 2786, 2786, 4407], [975, 2225, 2625, 1120, 2225, 1947, 1071, 2670, 2225, 1352, 1120, 2225, 2736, 1071, 2670, 1273, 1454, 2225, 2280, 721, 3614, 591, 2269, 2786, 2625, 1947, 1071, 2670, 1462, 1327, 4522], [1656, 4410, 3214, 2278, 923, 1842, 1656, 2879, 3214, 2278, 923, 1842, 2010, 4088, 4088, 2246, 1573, 1021, 1842, 621, 3216, 923, 1842, 1252, 3229, 721, 991], [1599, 1716, 3683, 4112, 1765, 1317, 3058, 4885, 1273, 455, 431, 1660, 1716, 890, 1536, 2786, 2494, 2655, 1308, 721, 1822, 2717, 3076, 3527, 3802, 4549, 262, 583, 3453, 885, 1195, 2423, 394], [783, 2762, 1889, 1842, 3971, 3471, 3476, 467, 2888, 3329, 3088, 1842, 1644, 944, 467, 1636], [666, 2379, 14, 1191, 4339, 1765, 3712, 702, 2670, 666, 2379, 1599, 876, 3019, 1765, 3753, 4832, 1191, 2771, 2148, 978, 4129, 1191, 1235, 3872, 2670, 666, 2267, 1191, 670, 1765, 111, 4749, 2901, 2530], [3128, 1120, 448, 2305, 2530, 236, 3712, 2530, 876, 2138, 4284, 4778, 3944, 458, 353, 1601, 612, 3721, 4996, 3135, 11, 11, 3722, 2261, 1765, 876, 1115, 4309, 1981, 128, 853, 4801, 2077, 2680, 4321, 2914, 455, 1716, 475, 2879, 3944, 1716, 3197, 999, 2148, 1250, 3677, 448, 1572, 3410, 4007, 201], [489, 2148, 4815, 2180, 3031, 256, 2307, 2362, 3725, 66, 49, 3760, 4369, 3804, 1863, 718], [3128, 2148, 3856, 1341, 3856, 1438, 3476, 1050, 3476, 3677, 1765, 1930, 3476, 1718, 3091, 632, 1635, 721, 756, 31, 3884], [352, 4378, 433, 2408, 3265, 1247, 4593, 2530, 3652, 1460, 2530, 3198, 886, 4250, 145, 4230, 774, 447, 886, 2860, 2957, 1053, 676, 1250, 1370, 1186, 2686, 1652, 2362], [2100, 1952, 1716, 3197, 2574, 199, 1716, 2607, 1341, 4029, 2148, 1639, 3065, 444, 1434, 522, 4873, 1556, 1222, 1273, 3582, 4971], [2450, 3357, 778, 570, 1819, 3023, 1444, 472, 725, 313, 2547, 4727, 1019, 944, 2450, 433], [228, 199, 2386, 718, 3748, 1120, 1109, 3386, 2148, 3598, 1765, 1431, 2148, 978, 2126, 2810, 4222, 1220, 349, 1341, 4996, 3513, 1191, 4344, 2269, 4325, 2466, 3785, 2144, 3602, 4996, 3513, 4214, 1191, 4945, 1341, 461, 2306, 2530, 2386, 2148, 660, 2356, 582, 2386, 3058, 197, 700, 1185, 3092], [2229, 2556, 3671, 182, 2048, 2721, 2279, 1656, 2408, 145, 4593, 2860, 2530, 1053, 2362, 2675, 4250, 4540, 1854, 10, 1887, 2867, 503, 774, 4401], [4202, 4984, 3520, 621, 1842, 4666, 1175, 4625, 3503, 4020, 1968, 4666, 3475, 1519, 149, 3475, 3195, 3003, 2429, 2429, 619, 4007], [876, 3128, 2148, 1419, 3869, 1021, 2530, 2362, 4007, 4103, 4754, 2957, 2550, 3195, 3342, 721, 1165, 3596, 3336, 317, 3265, 2378, 3920, 3863, 829, 4167, 2415, 989, 941], [2357, 2008, 1147, 4291, 3032, 482, 4489, 2008, 4114, 823, 680, 1858, 4432, 2305, 677, 674, 3830, 4875, 4892, 2503, 482, 1147, 4291, 3032, 2445, 1120, 4003, 3705, 3923, 1602, 3318, 1157, 560, 4294, 3311, 265], [1524, 1341, 2786, 1341, 4864, 4524, 3058, 2269, 3243, 769, 2530, 2392, 2879, 4457, 4485, 2232, 2200, 2232, 2530, 3092], [935, 2384, 2144, 876, 1379, 4325, 2739, 1112, 2384, 1716, 3197, 2921, 2148, 3140, 4842, 3058, 1526, 4960, 2108, 4875, 666, 2530, 3438, 1120, 2264, 2384, 1716, 3197, 2467, 4537, 482, 4960, 4971, 2634, 3460, 293], [4875, 1858, 3328, 2178, 309, 1863, 4976, 718, 1765, 4524, 2200, 2148, 3031, 4815, 2180, 3782, 2708, 3044, 4555, 2148, 401, 2066, 1599, 3760, 1893], [3023, 621, 3204, 4754, 10, 4754, 2408, 4250, 2530, 709, 180, 1887, 2054, 3596, 1866, 561, 2860, 3292, 4557, 145, 2362, 2362, 2517], [620, 2148, 780, 4, 1060, 1258, 1025, 1303, 2787, 4330], [2309, 1716, 2925, 1415, 2148, 1941, 1341, 3934, 2670, 4591, 3019, 2148, 40, 1025, 2148, 978, 3872, 2670], [556, 1716, 2471, 2144, 1766, 312, 1386, 1341, 2530, 1765, 3438, 3832, 1109, 3090, 4709, 1765, 167, 1716, 3197, 502, 2767, 1108, 1756, 1765, 3202, 2995, 556, 1765, 3253, 4996, 451], [4591, 2311, 2530, 3438, 1063, 2670, 1765, 4592, 2148, 1855, 876, 403, 3065, 2530, 1191, 886, 2148, 721, 876, 1598, 713, 1903, 3591], [2617, 1765, 3118, 2573, 431, 3447, 1751, 12, 3625, 322, 431, 3447, 3183, 560, 1318, 3600, 1035, 93, 1256, 3438, 3324, 304, 431, 3447, 2362, 2226, 4330], [2074, 3739, 1218, 494, 798, 3625, 3456, 1341, 2379, 774, 1716, 205, 1021, 1171, 721, 676, 1250, 3493, 4303, 2714, 4756], [876, 4701, 1220, 890, 1273, 25, 456, 3538, 3480, 919, 1866, 4568, 4549, 3475, 2120, 4007, 110, 632, 1827, 2136], [3648, 3271, 4090, 2290, 197, 268, 978, 111, 4769, 4960, 4866, 1967], [2585, 1540, 1013, 1019, 1370, 3388, 227, 4875, 1126, 2309, 1341, 1120, 4008, 413, 1370, 4948, 1341, 1120, 4325, 940, 1218, 25, 4875, 1973, 3225], [1490, 4460, 4601, 4088, 1370, 199, 3507, 2193, 1625, 769, 1120, 3507, 1765, 1644, 2148, 631, 4973, 448, 3884, 67, 4799, 2785, 269, 1631, 1716, 876, 2879, 3207, 3092, 1191, 3377, 4325, 969, 4683, 199, 461, 3480, 1758, 2670, 4216, 199, 1927, 3377, 3058, 2017, 81, 482, 2530, 3026, 3058, 1631, 1798, 1829], [1751, 3910, 3197, 1534, 1018, 3615, 1235, 4651, 1765, 2034, 92, 718, 3979, 1888, 1278, 3058, 2879, 60, 3118, 2359, 1306, 2226, 4330, 784], [4911, 2556, 2530, 4572, 1765, 4883, 3620, 2280, 4907, 3864, 2351, 2890, 4278, 4950, 1770, 1765, 876, 1956, 2148, 3176, 1544, 4537, 1120, 4329, 4883, 4858, 2351, 837], [218, 2148, 890, 3031, 4321, 2743, 4654, 2362, 1844, 11], [199, 4875, 4497, 2362, 1866, 3631, 3205, 989, 3725, 989, 3345, 2877, 1591, 4467, 989, 3966, 2952, 4596, 2406, 196], [3531, 1089, 1120, 2539, 909, 4639, 3316, 2774, 3210, 3058, 1191, 2338, 732, 333, 3058], [3990, 2870, 2530, 4656, 2225, 2225, 2828, 3806, 11, 2670, 236, 2011, 2530, 1602, 3593, 1204, 3058, 4928, 2379, 1025, 3058, 111, 11, 1741, 4007, 4603], [2099, 3744, 3942, 1627, 1341, 2628, 2703, 4774, 4645, 3884, 3852, 2148, 199, 2265, 360, 2202, 2265, 1306, 2226, 4330], [2008, 2242, 3597, 2007, 1614, 3552, 1866, 3597, 3225, 3368, 3636, 695, 531, 3813, 7, 3214, 721, 4106, 1680, 1295, 4037], [2362, 3971, 3993, 4730, 4730, 373, 127, 3514, 4443, 3908, 3120, 3029, 3120, 3120, 3120, 3029, 4559, 3029, 1830, 3029, 1830, 1830, 1830, 3029, 1923, 1981, 4025, 2408, 887, 4816, 2860, 4593, 2530, 2362, 3198, 3122, 1078], [4597, 1765, 448, 3786, 4957, 2670, 3150, 4400, 1716, 4264, 2094, 3786, 3150, 2879, 4325, 1104, 3781, 261, 4007, 2458], [4640, 2022, 886, 4592, 1357, 2865, 3471, 1842, 4984, 3520, 2086, 3813, 4698, 1910, 2163, 2766, 1308, 1644, 944, 4971, 4267, 457], [3591, 2717, 1617, 3813, 4551, 202, 2992, 3196, 2124, 1842, 46, 3544, 3502, 1, 1842, 1274, 3107, 3437, 2072, 3893, 3184, 721], [2866, 3031, 4025, 2408, 887, 4816, 2860, 4593, 2530, 2362, 3198, 3122, 1078], [1698, 3677, 3683, 788, 2045, 2530, 975, 2148, 4954, 4875, 1317, 51, 1765, 3919, 4537, 3782, 2530, 79, 3643, 2678, 4292, 1866, 2362, 884], [3654, 2148, 4351, 1341, 4730, 1949, 1533, 3169, 92, 4937, 3118, 3318, 3118, 1274, 519, 2362, 2226, 4330], [2362, 3221, 4330, 4306, 1603, 3058, 1413, 1359, 2835, 1603, 3058, 2786, 2656, 1416, 2835, 1603, 3058, 199, 2786, 4960, 1102, 3913, 2657, 494, 3114, 1102, 4996, 3722, 180, 2193, 3197, 1554, 879, 3438, 1191, 522, 132, 4537, 702, 2193, 3318, 1716, 2981, 4083, 1179, 2200, 4321, 120, 2200, 2148, 890, 890, 4831], [2076, 665, 4100, 621, 3610, 1567, 3277, 2888, 150, 4325, 180, 301, 1417, 859, 4794, 1273, 268, 7, 2996, 4312, 2131, 4872, 2778, 4971, 2479, 848, 787], [3995, 1997, 4308, 2331, 2217, 1120, 2379, 884, 3058, 884, 843, 1765, 1250, 3686, 1716, 475, 1120, 461, 3677, 2188, 918, 3641, 876, 3538, 3739, 2870, 2530, 1191, 876, 4534, 3538, 236, 2148, 2232, 3858, 2232, 4901, 2392, 2879, 3944, 1889, 2232, 1191, 4534, 236, 2148, 975, 2148, 3907, 4180, 1338, 2309, 4867, 3058, 132, 1583], [2732, 1941, 1886, 3214, 607, 2748, 3214, 607, 211, 2188, 1439, 180, 2311, 3636, 4526, 3450, 4205], [4057, 1551, 1893, 4057, 2108, 2269, 2701, 2530, 3077, 3625, 3323, 440, 1842, 4556, 869, 681, 4971], [199, 2933, 352, 1393, 2148, 3958, 2722, 4593, 4225, 4200, 718, 1765, 4749, 2148, 3031, 4655, 1142, 1341, 3115, 4590, 2952, 180, 2579], [2362, 1844, 3760, 1104, 1893], [4551, 1614, 2034, 2060, 2107, 907, 3636, 2721, 1267, 4591, 1357, 538, 1874, 3813, 525, 2107, 2834, 1117, 2369, 796, 3636, 203, 1842, 31, 1683, 2408, 721, 3076], [2786, 61, 2277, 2580, 132, 1100, 4377, 2580, 3804, 1857, 1071, 4377, 1120, 3115, 1571, 4664, 4377, 4601, 2744, 3073, 2487], [959, 2515, 4036, 338, 666, 721, 2530, 2735, 1689, 2515, 4036, 3212, 1215, 3507, 2765, 4591, 3831, 4537, 2144, 4655, 4537], [4841, 620, 1733, 1842, 721, 2008, 1107, 2361, 721, 968, 2186, 2550, 1398, 4872, 1688, 2970, 3159, 2701], [672, 1910, 2060, 3922, 2107, 1430, 2107, 4947, 450, 944, 4971, 1644, 4042, 1644, 1644], [199, 4875, 4497, 2362, 1866, 3631, 3205, 989, 3725, 989, 3345, 2877, 1591, 4467, 989, 3966, 2952, 4596, 2406, 196], [3438, 185, 596, 3440, 4013, 1244, 2447, 3182, 1341, 4537, 1981, 2220, 1202, 3665], [3453, 273, 2148, 978, 1227, 2651, 4537, 4161, 1273, 412, 1370, 4937, 3907, 4653, 4537, 1951, 1866], [3526, 3410, 2107, 306, 3214, 506, 3471, 371, 3891, 2975, 3883, 4416, 1182, 3471, 3597, 2362, 3221, 4330], [2915, 3910, 3654, 1341, 1066, 2848, 1716, 890, 4004, 3472, 1191, 4743, 4875, 2082, 4537, 2362, 1132, 4330], [809, 1614, 3845, 1842, 3515, 1461, 3604, 75, 780, 4610, 780, 4723, 2549, 4551, 3813, 1222], [4013, 2835, 3226, 3736, 4616, 3785, 4593, 2530, 721, 2362, 2867, 1898, 887, 1626, 2162, 265, 526, 2162, 265, 2003, 1247, 3240, 1747, 1037, 222, 2703, 222, 2703, 3856, 299], [2906, 2699, 4503, 4627, 1060, 4503, 1053, 457, 3214, 2008, 1019, 1781, 1992, 3813, 4514, 4837, 2008, 2242, 646, 3373, 4106, 4323, 1614, 2023, 1019, 3447, 2226, 4330], [4551, 3116, 180, 3555, 2547, 3520, 4068, 3214, 4516, 4137, 2547, 3827, 3549, 4007], [1175, 2940, 2269, 4805, 2105, 3128, 1716, 1137, 1341, 4907, 2161, 1281, 2530, 4104, 3118, 614, 1716, 588, 4999, 2807, 4860, 4104, 3911, 3058, 3779, 3104, 251, 1770, 1592, 3118, 3683, 2675, 4541, 4168], [1782, 1341, 4532, 1716, 475, 4104, 3227, 1200, 748, 3056, 4239, 4007, 612, 2148, 4511, 3225, 2148, 1988, 106, 2608], [548, 1575, 4325, 2772, 2995, 4805, 856, 398, 2867, 783, 4007, 899, 4235], [4836, 3812, 1866, 3907, 1653, 2371, 1431, 3471, 4341, 91, 1602, 1634, 1842, 4233, 3284, 1842, 2058, 3637, 2058, 404, 265, 3513, 1078, 4020, 4698, 4267, 989, 1353], [1436, 4852, 1546, 1921, 3813, 2616, 2975, 841, 1966, 4698, 2550, 3813, 268, 181, 1842, 287, 3813, 1367, 975, 3471, 4322, 3204, 4543, 1209, 4007, 782, 3898], [774, 2148, 3907, 1615, 2366, 2193, 4447, 1770, 2879, 3334, 1765, 3884, 1273, 3610, 3141, 774, 742, 30, 2148, 3867, 3116, 4868, 30, 903, 2449, 1893, 1805, 265, 2422, 831, 1761, 1981, 2422, 996], [299, 180, 450, 2992, 4692, 4516, 2623, 1647, 180, 306, 1864, 4016, 4516, 1367, 1376, 2812, 1044, 673, 4202, 1652, 4551, 222, 3550, 265, 1087, 933, 1203, 2734, 3811, 4040, 4007, 989, 989], [2049, 1191, 1407, 4737, 1845, 1716, 607, 2870, 3297, 1220, 3507, 1765, 774, 4857, 2458, 1716, 2556, 200, 4809, 1716, 2556, 3951, 3031, 1758, 2786, 2786, 4407], [2359, 73, 2359, 8, 2359, 4123, 4164, 127, 3625, 2741, 1638, 4629, 2637, 1951, 1765, 3691, 2359, 2200, 2148, 890, 3031, 256, 1468, 2362, 2226, 4330], [3531, 1089, 1120, 2539, 909, 4639, 3316, 2774, 3210, 3058, 1191, 2338, 732, 333, 2560, 1341], [876, 312, 2793, 3580, 3280, 312, 2651, 3580, 4955, 1191, 1030, 1341, 1538, 2879, 2563, 3280, 312, 999, 4862, 1716, 780, 1703, 4955, 3731, 4867, 281, 1935, 3527, 4955, 4960, 4262, 1403, 2879, 4423, 1765, 202, 4875, 3663, 1665, 4461, 4971], [311, 3125, 4083, 1759, 1732, 2161, 822, 880, 3252, 3237, 2402, 3591, 3244, 721, 4460, 4230, 3527, 886, 1326, 834, 3776, 1317, 2865, 2550, 2715, 1469, 822], [3428, 2148, 4216, 3486, 2148, 3721, 2887, 1541, 839, 2009, 4624, 2570, 4951, 3923, 4313, 1765, 4749, 2148, 890, 3031, 4321, 3171, 2362, 1413, 4313, 3120, 672, 3876, 1152], [2309, 1716, 2925, 1415, 2148, 1941, 1341, 3934, 2670, 4591, 3019, 2148, 40, 1025, 2148, 978, 3872, 2670, 4461], [2593, 3338, 1341, 2566, 1260, 2670, 1873, 2625, 1341, 3196, 2663, 2670, 616, 2226, 4330, 3799], [232, 2917, 997, 1581, 1691, 3617, 3817, 4829, 2737, 2981, 4563, 3717, 2226, 1461, 3086, 4096, 1691, 4794, 1842, 4971], [3310, 199, 959, 4749, 4960, 522, 2050, 4325, 4685, 2309, 1341, 2345, 199, 1765, 1690, 4996, 4769, 4682, 1120, 2369, 4215, 479, 4656, 2148, 12, 1460, 1191, 2475, 413, 666, 3975, 512, 1341, 940, 1536, 12, 1460, 2890, 1273, 3090], [2359, 2359, 2474, 2530, 2643, 2530, 4538, 2530, 2359, 2359, 192, 3058, 752, 4875, 4444, 2916, 2530, 4461, 876, 4656, 1599, 1988, 1738, 4015, 1341, 2359, 4875, 3978, 607, 3058, 884, 4325, 2557, 2200, 2148, 890, 2307, 2362, 2226, 4330], [1882, 4778, 2148, 978, 199, 3438, 2392, 2305, 223, 448, 1677, 482, 4591, 4472, 4264, 4427, 1716, 3995, 12, 2879, 3990, 1758, 3206, 4955, 2698, 4014, 959, 1317, 4538, 1361, 4593], [2765, 2950, 667, 666, 2530, 4666, 2926, 243, 4325, 667, 4752, 667, 3806, 667, 4218, 667, 1048, 667, 3890, 667, 3023, 667, 4545, 667, 677, 667, 3137, 667, 3907, 2488, 876, 3019, 781, 1363], [199, 4762, 2879, 2071, 2071, 4996, 3003, 2381, 251, 876, 4832, 3466, 612, 4588, 4422, 587, 2144, 4292, 3779], [4130, 4517, 30, 4382, 2230, 4909, 4909, 1691, 1682, 871, 1842, 1534, 2863, 211, 1551, 3214, 4668, 2107, 1349, 859, 4494, 1349, 798, 4538, 730, 4971, 2752], [2866, 3031, 4025, 2408, 887, 4816, 2860, 4593, 2530, 2362, 3198, 3122, 1078], [3428, 3486, 2148, 3721, 2887, 1541, 839, 2009, 4624, 2570, 4951, 3170, 1765, 4749, 2148, 890, 3031, 4321, 3171, 2362, 1844, 82, 4313, 3120, 4531], [4768, 4737, 3598, 4115, 1765, 1120, 522, 4538, 4816, 2144, 4325, 363, 1660, 1631, 431, 3148, 590], [2737, 3961, 876, 828, 3094, 244, 4250, 4938, 721, 4048], [666, 2379, 1961, 2879, 2703, 2309, 276, 2804, 2379, 1961, 2879, 2703, 1191, 4643, 3478, 2879, 2459, 2309, 1716, 2359, 2556, 2530, 2309, 3683, 4656, 1765, 2026, 2686, 931, 2530, 1191, 4860, 31, 487, 4076, 269, 2280, 1698, 1765, 3448, 2530, 1765, 2345, 1220, 3606, 1751, 1716, 890, 1961, 3590, 4133, 4643, 3478, 2879, 3600, 2530], [2539, 4396, 259, 945, 4373, 2340, 721, 4277, 3298, 2181, 4291], [3428, 3486, 839, 2009, 4624, 2570, 4951, 3923, 4313, 1765, 4749, 2148, 890, 3031, 4321, 3171, 2362, 1413, 4313, 3120, 672], [740, 2143, 3677, 3836, 4588, 2108, 718, 1524, 1716, 2609, 2144, 4977, 92, 1716, 3197, 414, 1044, 1765, 4390, 1758, 2670, 4278, 1938, 1590, 1857, 3313, 197, 2108, 718, 2144, 4977, 4996, 4769, 4960, 3527, 353, 3202, 1758, 2670, 2379, 502, 2546, 595, 1191, 4991, 3058, 876, 890, 4939, 197, 1441, 4325, 4960], [4013, 2280, 975, 2269, 1213, 4407, 1751, 1765, 199, 4013, 666, 2181, 3460, 1200, 1341, 2925, 3460, 293, 3799, 4875, 111, 3460, 185, 975, 1341, 4591, 2530, 3907, 4163, 2144, 1120, 4013, 2280, 975, 2269, 1213, 4312, 2832, 4330], [3884, 251, 4457, 4229, 4356, 2530, 1120, 494, 3884, 1765, 3884, 4537, 3782, 1335, 4007, 550, 2151, 1228], [1110, 3582, 2530, 3944, 1765, 4591, 3031, 1040, 1043, 707, 2867, 3438, 2880, 1716, 475, 2269, 1583, 606], [4904, 3812, 4696, 3813, 4797, 3604, 4707, 871, 2963, 3357, 3604, 4707, 1691, 871, 1271, 4255, 3591, 4794, 1842, 3458, 4042, 944, 2697, 4173], [3118, 1949, 1601, 4730, 1863, 2139, 718, 1765, 4749, 2148, 890, 3031, 4321, 3171, 4013, 3910, 4746, 199, 1191, 457, 2148, 2221, 822, 2298, 2362, 1844, 1942, 4793, 2437, 4700, 797, 2617, 3766, 555, 4425], [2651, 4804, 3058, 728, 1716, 3197, 1576, 1765, 3359, 92, 2148, 4841, 1716, 3461, 719, 1765, 4631, 3041, 2179, 4252, 404, 2144, 4446, 2148, 3028, 880, 3845, 1716, 3197, 414, 352, 1048, 612, 1576, 1765, 1942, 1543, 3949, 4837, 3746, 1716, 525, 1576, 1716, 180, 1191, 3884, 1341, 2006, 890, 1043, 2670], [4793, 4206, 2613, 1246, 4793, 729, 2196, 4875, 2001, 2006, 3507, 2144, 105, 776, 2148, 448, 448, 4508, 4730, 2467, 4533], [1413, 1716, 2765, 642, 31, 1716, 268, 1341, 2359, 2359, 769, 2530, 1661, 4052, 3507, 1716, 25, 1760, 4187, 1218, 1260, 1341, 494, 2675, 1758, 3338, 4168, 3221, 4330], [979, 1469, 3836, 2433, 1338, 3326, 4859, 491, 718, 4705, 2113, 2779, 4321, 3405, 4948, 374, 2639, 4996, 4321, 4534, 2144, 1725, 431, 398, 3225, 4226, 4288, 1765, 3884, 40, 92, 4875, 2936, 155, 4217, 890, 2269, 2708, 1341, 2309, 607, 1616], [352, 696, 4035, 4321, 1414, 1716, 1951, 3118, 192, 4867, 2173, 1820, 718, 1765, 4749, 2148, 448, 448, 4805, 4321, 3031, 4754, 2314, 2362, 1844, 1165, 1751, 4875, 4113], [2362, 4723, 3677, 3040], [3219, 3197, 3533, 2887, 882, 91, 199, 550, 154, 3406, 3660, 1905, 3105, 3210, 4369, 3998, 1232, 4952, 2486, 4564, 4591, 928, 2309, 1716, 3197, 2280, 111, 2281, 969, 4998, 3507, 2225, 2879, 1952, 2269, 4325, 1906, 4574, 3606], [199, 416, 612, 2392, 1328, 3521, 4889, 2305, 2232, 4191, 159, 1341, 1692, 2232, 728, 4264, 1017, 3197, 487, 2360, 1017, 3197, 4472, 1935, 2530], [818, 2148, 3411, 4537, 4099, 2530, 4278, 3884, 3683, 4656, 4875, 2530, 1765, 2786, 2193, 1631, 4875, 4856, 2664, 4749, 4955, 4960], [4860, 783, 4875, 4444, 266, 3746, 4330, 1772, 2526, 1765, 1218, 3688, 4308, 3546, 3385, 468, 4235, 1096, 3555, 2785, 4007], [3591, 4006, 2362, 3591, 4747], [3654, 3058, 1571, 1750, 2539, 3141, 4769, 2530, 2, 2434, 1856, 3884, 2081, 4619, 4105, 442, 4372, 2148, 3867], [2677, 786, 1482, 1614, 3021, 2526, 3214, 3587, 3636, 12, 3471, 829, 4664, 4971], [4390, 4630, 3280, 3292, 1061, 4938, 2362, 4203, 1164, 1074], [1488, 1716, 4642, 4427, 1364, 1115, 1191, 3307, 1125, 2550, 2256, 2408, 4007, 563, 3939, 2827, 2186], [2320, 356, 1060, 342, 3708, 1842, 3211, 750, 289, 4551, 4126, 2888, 253, 2170, 2698, 944, 3238, 1644, 4660], [1641, 2858, 1216, 123, 856, 2858, 1716, 3197, 1754, 1113, 1765, 876, 1066, 268, 3058, 2634, 4955, 2530, 2688], [1992, 1682, 387, 3205, 3024, 522, 1182, 1120, 134, 3118, 3677, 1220, 2269, 4517, 2995, 2103, 3590, 3433, 3677, 2143, 1120, 4973], [2362, 3221, 4925, 3128, 2148, 3712, 3480, 3039, 3058, 1317, 322, 3480, 1453, 4537, 4161, 4537, 3294, 2148, 322, 4996, 3480, 1176, 4701, 4591, 1898, 1682, 1006, 2269, 1120, 2530, 3438, 4591, 2841, 1716, 3197, 2558, 2471, 2944, 1751], [2682, 4955, 1149, 1751, 3058, 4950, 293, 2148, 3614, 3191, 1692, 2381, 1120, 3191, 23, 4379, 2377, 2381, 1120, 4814, 3517, 2269, 494, 2232, 1273, 1758, 2631, 3613, 4341, 822, 1149, 4337, 1751, 3118, 890, 2070, 1119, 4013, 251, 1579, 2144, 3118, 1751, 4875, 4696, 114, 3857, 3606], [3419, 2269, 3813, 3724, 217, 2737, 2316, 4551, 2888, 783, 3636, 203, 2170, 3506, 4971, 944], [4597, 2997, 3357, 325, 3933, 606, 132, 3712, 105, 2794, 744, 1341, 1865, 2530, 3642, 1341, 433, 377, 934, 3736, 12, 3625, 2922, 2148, 472, 1341, 433, 2799, 353, 2316], [36, 4537, 293, 1373, 1537, 1716, 3197, 1599, 4328, 769, 27, 2226, 4330, 3606], [251, 1750, 1341, 3072, 4036, 4401, 1296, 4528, 2635, 1273, 2163, 939, 2193, 890, 4922, 2243, 25, 2148, 4656, 1273, 2774, 2659, 4007, 232, 78], [2362, 1068, 3509, 221, 1893, 3023, 3527, 1893, 1869, 4104, 3813, 3287, 1431, 750, 2921, 2921, 2004], [1664, 2148, 978, 4537, 1345, 2530, 3150, 2765, 1582, 3134, 1506, 4996, 3513, 2530], [1030, 3058, 502, 1717, 1341, 2193, 2662, 234, 1191, 1147, 2190, 1523, 3258, 3258, 2720, 1765, 779, 779, 1184, 4007], [2539, 876, 4158, 2184, 883, 1716, 3343, 2670, 2029, 2148, 2539, 876, 1603, 2436, 3923, 3815, 207, 3845, 1716, 3941, 2670, 3466, 123, 2148, 2539, 876, 1603, 2436, 3923, 30, 2012, 2020, 3975, 4754, 1752, 4901, 4726], [365, 4077, 3267, 2288, 4875, 3851, 1765, 236, 2765, 3118, 482, 2269, 959, 266, 2859, 2670, 4007], [3606, 1967, 4875, 3128, 1952, 3923, 4717, 4537, 4566, 231, 2180, 1413, 1952, 4996, 2879, 111, 3107, 3606, 2362, 2226, 4330], [4601, 502, 4679, 3058, 718, 1341, 3258, 2190, 2148, 1282, 612, 2141, 3624, 1149, 4278, 429, 2144, 2728, 4960], [3867, 1572, 4325, 1765, 3507, 2786, 487, 4328, 1758, 3040, 2772, 2225, 3128, 887, 4996, 3867, 2879, 2867, 4226, 3910, 3884, 4963, 2479, 2720], [228, 199, 2386, 718, 3748, 1120, 1109, 3386, 2148, 3598, 1765, 1431, 2148, 978, 2126, 2810, 4222, 1220, 349, 1341, 4996, 3513, 1191, 4344, 2269, 4325, 2466, 3785, 2144, 3602, 4996, 3513, 4214, 1191, 4945, 1341, 461, 2306, 2530, 2386, 2148, 660, 2356, 582, 2386, 3058, 3867, 197, 700, 1185, 3976], [3475, 3373, 1622, 74, 4537, 3491, 4922, 31, 3011, 4537, 1054, 4922, 2269, 31, 2426, 1120, 975, 3087, 2148, 1338, 4556, 686, 4922, 2269, 2579, 4537, 4730, 1441, 4703, 4730, 1129], [4324, 2309, 3058, 2269, 556, 2735, 3058, 2879, 879, 2530, 2113, 2011, 4875, 876, 444, 3063, 2530, 2727, 4336, 3655, 4087, 2140, 2148, 2809, 3058, 1051, 4875, 4922, 3058, 879, 2530, 959], [1656, 2411, 1034, 2975, 2010, 4058, 260, 2243, 2763, 1440, 2975, 4217, 1821, 4011, 509, 426, 4857, 4695, 2107, 3349, 3323, 1793, 3419, 4380, 180, 2749, 784, 2888, 457, 4058, 543, 1024, 3645, 3221, 4330], [2286, 4054, 143, 3958, 1341, 4858, 2670, 185, 1051, 143, 2786, 721, 1341, 2345, 2269, 1120, 1910, 4356, 560, 3397], [199, 4875, 360, 448, 2269, 4725, 2530, 3092, 2148, 199, 1765, 4412, 1716, 3326, 3207, 4730, 4880, 3758, 718, 1716, 2758, 4106, 3245, 1585, 4922, 4047, 718, 3098, 4875, 4749, 2530, 2747, 3507, 1765, 4524, 360, 2148, 448, 448, 3031, 4537, 2362, 1844], [3813, 433, 2530, 1120, 975, 1716, 560, 2280, 3599, 1765, 1357, 4530, 1765, 1357, 4591, 560, 3513, 2670, 731, 3624, 879, 1043, 2670], [2362, 3005, 4330, 3003, 2134, 1938, 2134, 2479, 1938], [1117, 2121, 1842, 383, 3429, 4148, 1369, 2761, 4794, 75, 1170, 231, 1414, 1691, 533, 4007], [4822, 4327, 2696, 275, 4062, 721, 4684, 3773, 3420, 4607, 959, 2040, 2345, 3468, 2040, 1857, 2362, 4651, 4913, 1403], [3629, 456, 321, 2202, 2306, 4445, 1750, 2490, 1496, 4445, 1765, 2501, 2524, 3788, 3245, 2892, 844, 3841, 3923, 333, 215, 4288, 468, 721, 721, 4754], [876, 736, 466, 236, 2876, 4955, 2530, 1765, 1413, 3253, 4537, 4769, 2530, 3019, 466, 2144, 2065, 4955, 4158, 4875, 732, 3782, 3507, 2144, 666, 4419, 2098, 856, 3202], [536, 3964, 2108, 2530, 1120, 3578, 2530, 3005, 1095, 2269, 4942, 137, 3118, 3455, 394, 2148, 978, 4278, 1462, 1120, 2108, 4971], [412, 4477, 4490, 4252, 1716, 111, 1341, 4913, 1434, 2467, 1716, 858, 4020, 3098, 1716, 2190, 2124, 1830, 1899, 4875, 4024, 2379, 2178, 3197, 412, 2530, 4911, 3058, 2716, 2530, 1765, 4856, 4778, 2271, 1830, 2148, 3334, 2148, 1250, 3725, 4321, 3600, 2708, 1765, 3683, 3884, 2148, 4654, 1341, 3182, 92, 2148], [236, 4656, 2026, 4264, 2269, 308, 876, 1656, 4884, 2530, 4781, 2309, 3118, 3197, 666, 4532, 1541, 3058, 4215, 4457, 2086, 448, 1755, 1281, 2530, 4013, 3910, 3197, 1066, 513, 382, 2309, 4884, 1281, 4860, 3209, 2870, 2530, 1072, 4954, 2309, 4973, 4803, 2280, 4614, 1765, 3448, 2530, 2148, 4614, 3683, 61, 4457, 2086, 448, 1755, 1281, 3051, 2530], [1117, 1733, 2542, 3942, 3329, 3636, 1563, 3214, 4852, 3471, 4106, 4077, 1644, 1644, 1644, 4042, 4971, 944], [2786, 4202, 2774, 1179, 3654, 1807, 2243, 4021, 999, 1191, 3334, 1765, 2249, 4875, 436, 2530, 1341, 1341, 104, 3028, 99, 1684, 2269, 2651, 4804, 3058, 4481, 4749, 2901, 4960, 1055, 1341, 1179, 4875, 4422, 1191, 2488, 715, 3782, 4960, 3683, 1824, 4288, 1716, 4050, 4860, 2144, 2217, 2269, 1179, 1825, 2362, 3764], [2493, 718, 4161, 1120, 2215, 1524, 1765, 2158, 407, 4996, 702, 4960, 2539, 3101, 1524, 4875, 3212, 735, 4492, 4671, 2729], [3118, 1346, 2148, 51, 3118, 3318, 2148, 1934, 4840, 159, 1341, 2309, 3118, 3318, 2148, 1934, 100, 2193, 1770, 3933, 3058, 884, 2539, 185, 3150, 2148, 4877, 3318, 2148, 1934, 2530, 2629, 1765, 959, 2416, 1604, 2786, 2786, 3766, 2832, 4330], [2801, 1981, 666, 520, 199, 4996, 2737, 4875, 4037, 527, 4996, 1981, 3781, 1513, 912, 4007, 201, 276], [4147, 2344, 2721, 1060, 1117, 4496, 4468, 1842, 2299, 3471, 2996, 1842, 2314, 2915, 3245, 614, 1842, 953, 2456, 4077, 1733, 2550, 1060, 646, 2585, 1842, 4548, 994, 3100, 2167, 276, 2186, 4710, 2427, 4007, 3781, 1017], [4104, 3271, 3058, 522, 2879, 4308, 733, 1716, 3683, 662, 2884, 1341, 4074, 3058, 1175, 494, 1765, 2736, 1696, 293, 4872, 2708, 4937, 2736, 4064, 1115, 431, 1716, 3897, 1981, 211, 3314, 1691, 4030, 4943, 2594, 4547, 2678, 4007, 193, 1070, 2944, 2427, 1330], [666, 380, 4922, 1120, 2434, 1462, 2761, 4683, 2787, 3655, 1682, 4537, 482, 2698, 229, 2148, 3654, 2148, 4860, 4860, 3897, 2156, 1765, 728, 4875, 1261, 4309, 4542, 111, 71, 815, 4007, 471], [1420, 4656, 928, 1997, 2530, 12, 448, 2309, 648, 1112, 1735, 1765, 1653, 1341, 4278, 4770, 4214, 1716, 475, 747, 1988, 822, 2530, 3832, 1750, 4591, 2426, 4721, 2530, 3438, 1273, 25, 1766, 972, 2670, 756, 2148, 2426, 4214, 1716, 475, 522, 948, 4325, 1401, 939, 1716, 3413, 3873, 4693, 1201, 4873, 1216, 4744, 4721, 2144, 3867, 4244, 2773, 1407, 4062, 2530], [293, 1120, 2307, 4198, 2190, 4325, 2981, 293, 1120, 2108, 2148, 2025, 612, 312, 4215, 1807, 1218, 4960, 4971], [1358, 2148, 1413, 1341, 3438, 4457, 1541, 1785, 4701, 1716, 2552, 2148, 232, 2269, 806, 322, 1306, 3221, 4330], [4737, 3600, 876, 1956, 2879, 1158, 3231, 2269, 356, 159, 2269, 490, 159, 2269, 3270, 4875, 1157, 1306, 2226, 4330, 784, 921, 465, 30, 3221, 465], [4698, 2903, 2107, 4698, 879, 1940, 2717, 1182, 438], [1179, 4723, 1716, 3100, 1191, 3334, 1452, 1191, 3223, 3169, 822, 3523, 2787, 3237], [1819, 1149, 3098, 2786, 1770, 2148, 975, 1341, 4537, 3962, 1488, 1341, 123, 2144, 3202, 2595, 999, 2148, 4656, 2186, 1125, 2550, 2256, 2408, 4007, 563, 3939, 2186, 3865, 4299, 4020, 331, 477], [1524, 556, 824, 3058, 448, 4180, 4477, 3782, 1341, 806, 61, 1288, 2144, 2145, 4856, 3258, 4007], [211, 1843, 2226, 2975, 3953, 1273, 4551, 1292, 2992, 2706, 2518, 4516, 481, 3678, 1044, 673, 4202, 1652, 4551, 222, 3550, 265, 1087, 933, 1203, 2734, 3811, 4040, 4007, 989, 989], [4887, 3866, 2594, 2910, 2530, 3840, 718, 2283, 2379, 1120, 3902, 522, 1952, 4875, 141, 3872, 1859, 2858, 427, 1426, 4325, 2530, 4937, 1339, 1341, 4747], [3781, 600, 467, 75, 1571, 765, 3775, 4503, 2148, 784, 1060, 92, 1444, 2065, 3775, 4503, 1346, 4091, 530, 1656, 4458, 895, 3822, 4091, 1294, 765, 4794, 4072, 180, 1410, 3251, 153, 4167, 1614, 4020, 621, 871, 249, 943, 1212, 871, 3009, 4930, 349, 3292, 4167, 4007], [876, 512, 2879, 4716, 1998, 1341, 607, 3782, 2530, 974, 731, 1770, 2303, 1765, 4613, 363, 2530, 974, 731, 876, 3552, 63, 4875, 864, 2556, 822, 3169, 1770, 3624, 4864, 1716, 890, 3315, 4594, 169, 105, 969, 3097], [4915, 3842, 1079, 3442, 2862, 2684, 2317, 180, 1676, 4113, 2798, 803, 1614, 1251, 1843, 934, 3799, 2362], [2359, 1716, 455, 3058, 2180, 2625, 1947, 1071, 2530, 2359, 3058, 2269, 1120, 2841, 2148, 322, 1071, 1306, 2226, 4330], [2449, 4516, 4106, 3004, 829, 4610, 457, 2974, 1267, 1430, 2260, 944, 4938, 4469, 979], [3128, 1120, 448, 2305, 2530, 236, 3712, 2530, 876, 2138, 4284, 4778, 3944, 458, 353, 1601, 612, 3721, 4996, 3135, 11, 11, 3722, 2261, 1765, 876, 1115, 4309, 1981, 2670, 2913, 853, 4801, 2077, 2680, 4321, 2914, 455, 1716, 475, 2879, 3944, 1716, 3197, 999, 2148, 1250, 3677, 448, 1572, 3410, 4007, 201], [1399, 3480, 2916, 1303, 2148, 3917, 1273, 4996, 718, 3480, 3150, 2309, 2148, 3917, 1273, 1346, 1250, 2898, 494, 2269, 4324, 1523, 2682, 3480, 1603, 2148, 3917, 1273, 4996, 261], [1462, 817, 2309, 1716, 3197, 2845, 131, 3198, 4325, 4387, 3813, 3722, 2845, 131, 3198, 1191, 210, 4127, 4830, 3514, 2020, 2096, 4330], [1341, 4226, 2269, 1954, 3884, 1120, 769, 2530, 251, 522, 2338, 3944, 3683, 1413, 3058, 3782, 2670, 2144, 4867, 3280, 4875, 2845, 769, 2530, 3721, 2890, 1191, 4922, 876, 2434, 2148, 3516, 3031, 4996, 1981, 1220, 595, 4306, 1716, 3197, 3884, 431, 71, 1282, 4658, 928, 3334, 1765, 1250, 3169, 2541], [4754, 886, 1378, 3077, 2362, 302], [4101, 2121, 4769, 531, 2667, 1842, 1431, 2944, 2770, 4236, 1842, 3916, 4871, 1733, 1842, 3510, 4016, 168, 1155, 4871, 1733, 3206, 75, 3932, 3520, 3690, 945, 1733, 4411, 1842, 3652, 600, 3546, 1831, 2340, 4007], [36, 4537, 293, 1373, 1537, 1716, 3197, 1599, 4328, 769, 1306, 2226, 4330, 2461, 1179, 2200, 2148, 2307], [4793, 2402, 134, 427, 3409, 2476, 4365, 4599, 2674, 1120, 564, 196, 4878, 2125, 2879, 2981, 3154, 3693, 3205, 884, 4325, 1979, 4433, 2539, 3092, 3154, 3398, 3861, 3058, 69, 3677, 4325, 2464, 2879, 4059, 197, 993, 2471, 664, 2674, 718, 4875, 4852, 1341, 3205, 482, 2269, 4528, 4844, 92, 1716, 3197, 4604, 2530, 268, 2332, 2148], [4887, 496, 4758, 456, 2807, 2530, 236, 360, 1191, 3941, 2237, 2305, 1956, 4875, 1776, 4528, 3460, 4013, 3310], [2427, 60, 4007, 3893, 1067, 2879, 4180, 1075, 2530, 4955, 890, 3739, 431, 1770, 1765, 4325, 3882, 2845, 2206], [2696, 1099, 513, 3360, 4088, 1461, 4369, 132, 1842, 2232, 2964, 1940, 3707, 180, 3269, 4943, 2018, 2427, 238, 4543, 4267, 944], [4873, 2060, 3349, 3021, 4516, 1793, 1243, 1656, 3021, 1066, 1802, 276, 3314, 4448, 694, 760, 201, 2427, 276, 4786, 3556, 2179, 1752, 4167, 4007, 925, 815, 1017, 2329, 238], [448, 2269, 3986, 3322, 3933, 3693, 3334, 1765, 1250, 431, 1191, 3683, 3986, 1265, 2148, 4654, 1341, 3600, 2708, 2690, 1765, 99, 3205, 881], [1910, 4088, 841, 1614, 2107, 1357, 4605, 3471, 1002, 1117, 233, 531, 1800, 1842, 1635, 4387, 3562, 4685, 2544, 721, 1363, 775, 1101, 4674, 3947, 2963, 1951, 2408, 774, 1507, 844], [2359, 1716, 4737, 975, 4038, 1071, 1126, 1718, 1341, 2786, 4944, 1786, 1071, 2129, 1341, 2359, 4875, 3677, 1572, 159, 1716, 890, 3058, 2786, 4944, 1947, 1071, 1306, 3221, 4330, 2555, 265], [4393, 3879, 1614, 458, 2737, 3623, 2436, 1614, 3038, 1867, 4578, 3836, 2002], [4551, 2888, 779, 211, 1763, 1243, 2107, 4686, 2096, 3383, 76, 430, 3764, 1859, 2709, 886, 886, 807, 1972, 3949, 3755, 1644, 787, 3791, 2530, 4971, 944, 3583], [1235, 131, 1120, 4501, 68, 2144, 2879, 1963, 4441, 1698, 2670, 1017, 2786, 4023, 1341, 2345, 2703, 1993], [152, 4267, 2744, 448, 1997, 2141, 964, 3323, 876, 3092], [1751, 3507, 3730, 1666, 4403, 1666, 2389, 1666, 752, 1666, 99, 1666, 1812, 2148, 3263, 1666, 1596, 1716, 1859, 4167, 1666, 1541, 1666, 2281, 2746, 3118, 3197, 3712, 1635, 4873, 1184, 2424, 2708, 3058, 4325, 4996, 2901, 1143, 2362, 2226, 4330], [3593, 1576, 1765, 666, 1248, 4325, 1485, 3224, 4325, 3450, 1576, 1765, 4902, 4325, 2877, 994, 3910, 2317, 2148, 1338, 2530, 293, 3270, 2879, 4325, 2855, 2659, 1425, 1220, 995, 1188, 2468, 269, 1997, 2754, 4922, 3757, 236, 2798, 2890, 4253, 3910, 2880, 1716, 475, 1902, 4321, 856, 3143, 4270, 1335], [3113, 1770, 4569, 269, 3734, 2351, 228, 4250, 4537, 4955, 1120, 522, 4656, 4325, 2144, 494, 427, 2488, 3811, 2754, 2351, 134, 3647, 84, 4087, 2269, 1851, 111, 1952, 1120, 3165, 3188, 3845, 580, 4020, 2362], [3415, 4107, 1770, 1765, 1273, 431, 2144, 4805, 3873, 769, 4274, 474, 92, 4937, 4875, 522, 1273, 522, 4490, 3873, 769, 1400, 26, 238, 4250, 694, 4007, 2916, 2371, 3458, 2971, 881, 4065, 4228, 201], [3107, 4337, 928, 3561, 1770, 2148, 4907, 4875, 4447, 2488, 3153, 2530, 1696, 2567, 870, 1189, 802], [374, 2774, 2295, 3813, 1117, 3813, 2063, 2975, 2364, 492, 606, 22, 2408, 153, 4315, 1117, 4232, 4274, 4298, 721, 4714, 4643], [2284, 456, 48, 951, 5, 3921, 262, 4698, 550, 3132, 1329, 1078, 1186, 721, 4120, 4217, 1642, 498, 4167, 3354, 934, 4816, 4596, 2431], [3771, 3075, 4875, 3190, 2879, 1055, 2359, 2081, 2336, 1758, 999, 1341, 1286, 3101, 4537, 2111, 159, 3058, 1273, 2804, 903, 2362, 2226, 4330, 2408, 2845, 784], [2987, 1273, 522, 1754, 25, 3438, 747, 4036, 1631, 315, 4922, 3897, 2792, 2678, 2808, 4299, 2427, 4007], [3118, 1751, 4001, 603, 602, 2256, 638, 4347], [2011, 1341, 228, 3677, 3907, 2488, 4428, 2530, 1120, 3438, 2530, 494, 929, 4479, 4816, 694, 956, 3188, 4370, 2329, 3781, 1545, 3389, 4007, 2186, 1125, 2650], [4717, 4864, 1220, 1405, 2144, 1147, 2269, 1749, 3832, 2530, 4820, 1191, 4404, 3477], [1179, 3191, 2288, 2807, 1765, 714, 2890, 1487, 2530, 2346, 3046, 4325, 4749, 2901, 2530, 4461, 1191, 2288, 2807, 1765, 1483, 1487, 4960, 203, 714, 4325, 3205, 2859, 2362, 1303, 2787, 4330], [694, 4299, 2232, 720, 2564, 1425, 4592, 2530, 3683, 2174, 4163, 4875, 3382, 461, 3609, 3058, 3453, 1523, 2670, 4161, 2392, 3438, 411, 2879, 4991, 3875, 2232, 1273, 3040, 975, 1425, 4592, 2530, 1425, 4716, 4592, 4007], [3558, 1527, 4115, 1765, 2524, 3445, 1716, 3197, 2814, 4749, 1758, 4029, 1908, 1501, 3178, 2470, 3248, 1696, 4288, 273, 468, 4601, 1433, 3747, 721, 721, 3869, 2956, 1808, 4009, 1078, 2534], [1030, 3075, 2144, 2948, 2148, 3075, 3058, 876, 932, 2144, 1863, 1716, 1890, 4875, 1563, 3205, 111, 2867, 1765, 3438, 461, 3256, 465, 4217, 1191, 475, 1341, 2280, 2992, 1716, 890, 155, 1716, 556, 2148, 3225, 1716, 890, 3193, 2879, 4996, 1616, 890, 1341, 240, 4922, 4131, 1716, 4302, 2879, 2722, 1147, 3962, 1625, 1341, 4073, 1644, 3555], [2786, 296, 12, 3910, 2269, 3212, 3058, 322, 1583, 2530, 1751, 2922, 591, 4180, 2914, 3683, 3677, 1341, 236, 3205, 648, 3118, 3829, 2362, 3857, 600, 2408, 2845, 784], [4457, 1601, 1363, 1907, 3373, 3349, 268, 3813, 819, 3636, 4516, 2107, 4164, 1656, 3711, 621, 3889, 195, 4042, 1644, 3149, 1644, 3205, 3205, 1972, 3373, 783, 2408, 4971, 944, 1899, 2035, 1902, 3755], [2983, 2872, 99, 4381, 1716, 758, 2570, 3316, 4730, 3341, 2989, 2490, 4749, 2144, 3031, 1191, 890, 979, 856, 3107, 3334, 4987, 3654, 1341, 2753, 4469, 4321, 2913, 3902, 2030, 1506, 2148, 4923, 3507, 2144, 2006, 2677, 4819, 2872, 99, 4381], [621, 1571, 1980, 1843, 466, 1842, 3813, 4088, 485, 2348, 1980, 2975, 3245, 3195, 2716, 3223, 4551, 2978, 4357, 1068, 262, 1078, 2706, 2984, 6, 1151, 4007, 3150, 2186], [1291, 3884, 4161, 411, 2879, 4034, 3884, 2148, 3226, 3100, 4603, 2144, 132, 123, 1544, 2764, 3748, 2530, 3530, 3508, 4077, 4609, 11, 2530, 465, 2002], [1206, 1120, 4472, 1071, 2530, 2346, 1855, 3621, 1120, 1425, 3247, 1758, 1201, 205, 4384], [2716, 2685, 3636, 3214, 2008, 3226, 1842, 3895, 4551, 3023, 3813, 231, 1842, 4167, 4551, 3023, 1060, 187, 1842, 280, 1212, 3023, 1843, 3623, 1842, 3967, 1212, 3023, 1733, 4106, 3804, 16, 1644], [935, 2412, 4803, 2367, 1770, 2148, 3312, 4325, 2530, 522, 3209, 3802, 2879, 4864, 130, 3197, 522, 3466, 647, 4325, 4996, 2901, 2367, 414, 406, 4875, 1641, 4960, 4738, 3937, 3596, 4687, 4208, 2612, 2398, 1967, 2952, 721], [1431, 1842, 1864, 2408, 1866, 4230, 145, 4593, 4816, 4250, 3652, 774, 2860, 1460, 1317, 1887, 36, 1469, 2362, 2957, 676, 2530, 2867, 4230, 887, 10, 1368, 2530, 1247, 3739], [199, 4591, 2379, 4803, 3511, 3511, 512, 1758, 2530, 3120, 269, 3438, 2193, 3318, 1716, 4186, 2148, 4521, 1306, 2226, 4330], [2982, 2467, 2670, 4351, 1033, 1716, 4911, 1120, 3400, 718, 2269, 3748, 2670, 4971], [999, 2305, 3128, 3606, 2580, 4537, 3782, 2670, 2793, 3212, 4934, 2670, 2150, 1716, 67, 3058], [4916, 1548, 3652, 724, 253, 4698, 2990, 3502, 3471, 1800, 484, 253, 4698, 2990, 2275, 4573, 2107, 3804, 1842, 896, 4971, 1644, 2752, 304], [2704, 1716, 3197, 1967, 666, 2530, 236, 1425, 3619, 2269, 4842, 3153, 3523, 2226, 4330], [1851, 4435, 4333, 2992, 2283, 1614, 4072, 1842, 487, 2886, 1546, 1843, 3674, 1780, 3799, 3836], [672, 2921, 1548, 1733, 773, 3214, 3735, 871, 1842], [2856, 3812, 1693, 3625, 4088, 46, 4163, 187, 1842, 2175, 2667, 2766, 440, 3764, 1859, 1926, 1972, 4804, 1950, 3949, 1902, 787, 659, 4971, 944, 676, 3652, 3869, 1776], [2434, 3058, 3065, 3493, 1191, 4049, 3058, 1855, 3313, 4362, 2379, 2359, 2148, 4656, 4996, 1758, 2670, 203, 2042, 2530, 4216, 3799, 4330, 2362, 3221, 2006, 784, 4320, 4200, 3527, 4330, 4737, 1689, 3928, 2940, 1927, 3799, 4797], [3428, 3486, 2148, 2009, 4624, 2570, 4951, 3170, 1765, 4749, 2148, 890, 3031, 4321, 3171, 2362, 1844, 1671], [4438, 2975, 4873, 2060, 1593, 1614, 2008, 1282, 1461, 3471, 1066, 1843, 4610, 2326, 1563, 3539, 1431, 762, 3300, 1842, 1555, 276, 364, 37, 4525, 944, 2624, 3205, 3572, 4971, 3635, 2257, 1672], [3993, 4730, 4730, 373, 127, 4594, 4443, 3908, 3120, 3029, 3120, 3120, 3120, 3029, 4559, 3029, 1830, 3029, 1830, 1830, 1830, 3029, 1923, 1981, 4025, 2408, 887, 4816, 2860, 4593, 2530, 2362, 3198, 3122, 1078], [372, 4142, 1420, 3207, 4958, 1341, 3236, 718, 4875, 1927, 1716, 4856, 3248, 3827, 2670, 1580, 4856, 1716, 3258, 455, 2148, 3937, 640, 197, 1147, 3212, 455, 3058, 3659, 4829, 1716, 4860, 1191, 4243, 1341, 2309, 2148, 895, 2930, 1049, 1716, 1851, 4004, 4875, 2530, 4856], [199, 4535, 2139, 2604, 3565, 199, 1716, 360, 4180, 4223, 1235, 1189, 2226, 4330, 2674, 2106, 4574, 3284, 3717], [2588, 1866, 1521, 650, 1314, 1518, 2479, 4971, 4042, 1644, 2573, 2437, 198, 2516, 1642, 3847, 3120], [1524, 556, 544, 718, 1341, 1987, 1716, 4931, 2609, 4824, 3827, 4114, 3258, 4537, 3242, 1220, 776, 63, 256, 876, 3214, 360, 2148, 3259, 3739, 71, 3933, 3600, 2708, 4115, 1765, 3683, 3884, 1765, 3882, 2148, 99, 3169, 3016, 3007, 871, 3867, 4856, 75], [3883, 1934, 3636, 2356, 3895, 1053, 4589, 3862, 1845, 1614, 595, 1231, 1646, 4347, 2701, 265, 31, 3542, 1096, 915, 4971, 4262, 3245, 1229, 4562, 2343, 4288, 3164, 1802, 1732, 4951, 468, 899, 2551, 4475], [2359, 612, 874, 3616, 4591, 4456, 1201, 3677, 1035, 1546, 1341, 475, 4872, 3718, 1893, 522, 4303, 4325, 4320, 2226, 4330], [3006, 3212, 675, 1073, 3173, 3463, 3619, 3491, 2688, 3268, 839, 2728, 4873, 4749, 2148, 890, 2307, 256, 3031, 2362, 1844], [1414, 1260, 1482, 1414, 4344, 1482, 1430, 1482, 239, 1163, 3712, 1733, 1482, 2321, 2408, 4135, 4007, 2817], [3125, 1060, 2719, 1734, 1680, 2107, 3728, 3728, 2393, 4756, 3214, 4088, 3555, 1060, 3555, 3022, 4286, 3949, 1078, 1644, 4288, 721], [3677, 2765, 3715, 1120, 1201, 959, 3884, 2357, 1341, 3813, 3659, 1120, 1321, 3722, 2065, 879], [4793, 2362, 1844, 2929, 3760, 1595, 171, 3461, 1787, 2032, 4695, 2008, 288, 52, 2430, 3337, 3023, 3496, 3790], [4520, 375, 2530, 4104, 2142, 401, 1137, 3058, 1120, 4940, 155, 2870, 2530, 2738, 4501, 975, 2264, 201, 1281, 4007, 3869], [199, 2894, 1716, 795, 2603, 1341, 2280, 3231, 4749, 2144, 4172, 2112, 1523, 3284, 1354, 2370, 1844, 3480, 792, 2143, 3545, 427, 1288, 138, 1308, 4512, 2665], [999, 1120, 448, 769, 2530, 2144, 2141, 469, 666, 522, 4220, 2879, 1120, 4325, 600, 2839, 180, 180, 3120, 3799, 4401, 774, 673, 1507, 3100, 3678, 4202, 2381, 1761, 3378, 2381, 3976, 3811, 3921, 4577], [251, 522, 2193, 3514, 2168, 304, 2148, 2255, 3582, 182, 3231, 4971], [2362, 2226, 4330, 3910, 4737, 3677, 2879, 3069, 2471, 2944], [2008, 1910, 950, 3819, 1431, 3097, 1614, 295, 594, 2975, 621, 826, 705, 2107, 3804, 1781, 1644, 4971, 3070], [4104, 1766, 4769, 472, 4591, 4834, 2305, 337, 1473, 1341, 3438, 243, 2148, 4229, 4187, 482], [4873, 4749, 2148, 3031, 4321, 2937, 1288, 3854, 3782, 3782, 1716, 360, 4537, 3098, 4369, 1844, 4934, 3656, 645, 525], [1291, 1997, 3585, 666, 3884, 1120, 1770, 978, 299, 4996, 969, 1450, 3718, 2150, 4875, 180, 299, 132, 67], [4943, 4527, 73, 4155, 1776, 2344, 2104, 2463, 2001, 1587, 560, 4089, 520, 2097, 4867, 4007, 2232], [1175, 2611, 1191, 4922, 3872, 1201, 4092, 2446, 1191, 2810, 199, 2879, 3118, 890, 2527, 1403, 270], [1130, 1120, 3118, 2670, 2144, 994, 2034, 92, 4875, 564, 522, 1191, 196, 4749, 4955, 2530, 1191, 3438, 2530, 3118, 1751, 2408, 784, 393, 2362, 3221, 4330, 4934, 1893, 784, 1893], [2225, 4403, 1120, 2225, 2389, 2530, 588, 736, 1120, 2225, 2916, 2530, 3364, 1218, 2530, 228, 1282, 1759, 4226, 2339, 3438, 322, 2530, 588, 51, 1191, 2309, 4875, 1961, 2530, 588, 411, 2262, 1191, 1889, 2530, 914, 1120, 3202, 4664, 2530, 3128, 2148, 205, 3677, 3829, 2916, 3058, 2116, 2530, 1179, 2226, 4330], [4488, 233, 74, 1424, 2408, 2860, 2362, 4540, 4803, 1250, 2957, 1460, 1134, 1053, 1852, 2587, 3949, 3695, 721, 4315, 3468, 216], [3428, 2106, 2148, 4276, 2570, 214, 1654, 3923, 4313, 1765, 218, 2148, 890, 3031, 4321, 3273, 1844, 1756, 1787], [2440, 1220, 3507, 2148, 2890, 45, 2261, 494, 2720, 4664, 2530, 747, 4036, 4909, 747, 2408, 1866, 4816, 653, 989, 2362, 1460, 774, 2530, 2362, 721, 3869, 4435], [3558, 2269, 1008, 3944, 1341, 3454, 2379, 3693, 975, 1341, 444, 1323], [4793, 2854, 228, 199, 2386, 718, 3748, 1120, 1109, 3386, 2148, 3598, 1765, 1431, 2148, 978, 2126, 2810, 4222, 1220, 349, 1341, 4996, 3513, 1191, 4344, 2269, 4325, 2466, 3785, 2144, 3602, 4996, 3513, 4214, 1191, 4945, 1341, 461, 2306, 2530, 2386, 2148, 660, 2356, 582, 2386, 3058, 3867, 197, 700, 1185, 3092], [239, 2132, 240, 3673, 3274, 498, 1186, 1852, 721, 2196, 806, 4503, 1489, 4248, 2806, 3178, 1726, 2408, 3706], [3092, 228, 468, 1765, 3225, 1071, 1120, 2223, 1191, 2731, 789, 2403, 4501], [251, 3910, 3531, 3118, 2637, 826, 4195, 2530, 1120, 3507, 731, 2879, 1799, 3513, 2530, 4591, 2981, 2225, 2141, 2269, 4325, 4007], [398, 1716, 17, 2156, 1716, 3278, 455, 4321, 2134, 1369, 1716, 4860, 1341, 2474, 132, 1079, 2148, 2309, 1341, 3225, 1442, 880, 2787, 4875, 2490, 4005, 3216, 3813, 1949, 3045, 4614, 2777, 4601, 1241], [4288, 4069, 2411, 621, 211, 3214, 209, 3870, 4016, 2107, 1540, 4288, 3813, 4219, 3471, 1581, 2446, 395, 3105, 3491, 1902, 4971, 830, 637, 4249, 2133, 1615], [199, 4245, 421, 604, 4162, 3770, 2148, 2546, 4875, 4749, 2530, 2362, 1844, 3699, 3770, 2408, 4162, 3770], [4813, 3641, 1842, 1510, 188, 2091, 490, 3813, 2338, 4276, 253, 3813, 4167, 2499, 3273, 4194, 961, 1644, 4675, 721, 4974, 2079], [672, 2232, 4610, 4685, 738, 1194, 1842, 4526, 3471, 525, 2364, 4391, 2524, 2518, 3289, 4971, 222, 1068], [2362, 1844, 3037, 2148, 890, 1852, 4911, 2148, 4923, 3507, 2144, 2006, 2677, 1758, 426, 2030], [2225, 1273, 2240, 2530, 3438, 1692, 2530, 4495, 1765, 1371, 876, 2319, 2530, 4157, 2870, 2530, 3902, 1770, 1765, 2488, 1807, 2274, 1770, 1716, 3197, 2786, 1956, 2305, 2530, 3531], [944, 1644, 3866, 3021, 3222, 4142, 1456, 2038, 765, 621, 3206, 2737, 625, 1765, 1821, 2081, 665, 4984, 2366, 1910, 3194, 2038, 902, 3520, 3588], [2786, 360, 2359, 1716, 3212, 2362, 2226, 4063, 3842, 4955, 1669, 1566, 4177], [1232, 4654, 458, 353, 1601, 1716, 3847, 694, 4007], [4182, 4182, 1341, 2411, 1540, 918, 2698, 632, 2698, 461, 2556, 1583, 4875, 3477, 3251, 1697, 482, 3058, 1193, 1765, 2736, 4996, 3094, 1341, 4833, 4955, 2698, 3438, 854, 2879, 1120, 750, 2269, 4955, 1895, 1218, 482, 4013, 1228, 2768, 666, 822, 3733, 182, 1177, 201, 4007], [876, 2539, 4694, 2269, 965, 3382, 1961, 3782, 591, 2879, 3677, 4744, 3677, 3382, 2705, 4678], [12, 243, 2530, 1220, 2881, 2148, 461, 1828, 3058, 1273, 25, 1751, 612, 747, 3786, 874, 1765, 2232, 4942, 4862, 2307, 2226, 392], [2996, 75, 1790, 1060, 3552, 1083, 2975, 3502, 2585, 1842, 351, 3214, 1790, 2888, 1083, 1733, 1775, 3195, 4007, 3475, 3195, 3003, 4020, 853], [2008, 3528, 224, 1614, 4072, 1842, 1138, 4170, 4773, 1747, 3475, 2706, 456, 48, 942, 2220, 5, 3921, 4698, 673, 3274, 851, 3132, 1329, 1078, 1186, 721, 4120, 4167, 4267, 4596, 2431], [4929, 3715, 1120, 494, 2078, 2765, 1155, 1120, 192, 3581, 3781, 4401, 2025, 4867, 4658, 3674, 3836, 1168, 4004, 4749, 2650, 4484], [876, 312, 2793, 3580, 4955, 2530, 1120, 876, 312, 2651, 3580, 4955, 4657, 312, 714, 3580, 4955, 4022, 522, 312, 3714, 1716, 780, 1703, 4955, 1467, 4867, 1403, 4347, 2232, 4472, 2530, 1403, 2879, 4262, 4104, 4423, 4875, 3663, 3480, 2269, 3480, 721], [2352, 2028, 289, 2008, 2406, 1733, 3924, 75, 342, 1357, 521, 4037, 3520, 513, 75, 2716, 3223, 4551, 2978, 4357, 1068, 262, 1078, 2706, 2984, 6, 1151, 4007], [61, 61, 236, 360, 2751, 61, 3128, 236, 4622, 1158, 756, 3782, 236, 185, 2530, 4627, 1844, 3760, 1104, 1893], [4601, 4383, 1370, 199, 3507, 2193, 1625, 769, 1120, 3507, 1765, 1644, 2148, 631, 4973, 448, 3884, 67, 3507, 1716, 2785, 269, 1631, 1716, 876, 2879, 3207, 3092, 1191, 3377, 4325, 969, 4683, 199, 461, 3480, 1758, 2670, 4216, 1927, 2017, 81, 482, 2530, 199, 1888, 3782, 3058, 1631, 1798, 3659, 3629], [12, 3335, 2148, 1850, 1531, 1716, 2305, 1273, 4996, 4501, 4016, 1634, 4875, 1661, 2720, 4591, 3110, 482, 3438, 3110, 482, 721, 756, 31, 653], [778, 2992, 2410, 3636, 2573, 3214, 1988, 75, 2052, 672, 2785, 1614, 4234, 3206, 3830, 3813, 1044, 673, 4202, 1652, 4551, 222, 3550, 265, 1087, 933, 1203, 2734, 3811, 4040, 4007, 989, 989], [236, 4591, 999, 2427, 2790, 2148, 202, 4537, 4769, 2530, 411, 3114, 4537, 4955, 2530, 228, 3141, 202, 4220, 1191, 1439, 269, 1071, 1120, 411, 2309, 769, 1749, 4843, 3040], [4589, 3133, 3214, 3284, 299, 2992, 231, 4195, 4819, 3425, 614, 3799, 542, 2410, 1060, 2434, 3717, 4516, 481, 3678, 1044, 673, 4202, 1652, 4551, 222, 3550, 265, 1087, 933, 1203, 2734, 3811, 4040, 4007, 989, 989], [2125, 4131, 3058, 2879, 4444, 3292, 1631, 1716, 3609, 2530, 4414, 3884, 4325, 2530, 2145, 4679, 1716, 25, 4875, 2772, 3430, 2309, 3683, 4656, 2148, 2530, 1765, 2108, 1765, 2952, 4875, 4008, 155, 3221, 1716, 4964], [2716, 4154, 438, 1843, 1117, 1060, 2364, 3442, 3107, 1142, 1842, 2887, 2737, 3023, 2721, 3442, 3338, 1921, 2186, 2778, 182, 4007, 1519], [1949, 2630, 3994, 2017, 3610, 3934, 2040, 3631, 3529, 1765, 2030, 2584, 3788, 3245, 2892, 844, 3841, 3923, 333, 215, 4288, 468, 721, 721], [2362, 1844, 1524, 1716, 1726, 401, 3118, 1949, 1863, 2139, 718, 1765, 4524, 360, 2148, 890, 81], [3530, 3152, 3284, 3558, 4867, 1765, 4749, 2148, 448, 448, 1219, 1306, 3058, 2716, 2530, 1765, 3438, 4873, 1004, 256, 4625, 2285, 3507, 3654, 4665, 1716, 1109, 4275, 2144, 2006, 3599, 1318, 3933, 4840, 3507, 4875, 2006, 4594, 2988, 2362, 1844, 841], [2309, 819, 34, 2870, 2799, 2148, 159, 269, 107, 123, 1654, 2530, 2639, 4215, 2392, 1755, 3034, 4183, 461, 3253, 455, 1847, 2086, 1548, 455, 1847, 1309, 1273, 431, 4304, 1342, 3253, 455, 1716, 475, 3438, 3065, 3065, 4688, 1281, 4860, 2148, 3075, 2326, 931, 4960, 3659, 2879, 4660, 1765, 2180, 2086, 1548, 4537, 4186, 893, 1750, 4118], [2536, 4660, 110, 3289, 2269, 3884, 1317, 3184, 2530, 4653, 4105, 4875, 4419, 2879, 4537, 3782, 2530, 954, 25, 1857, 4229], [428, 2845, 1865, 2787, 4163, 838, 3606, 2996, 4976, 968, 103, 4143, 4946, 4325, 1134, 1232, 721, 3952, 2378, 1852, 1343, 2362, 2283], [3898, 1431, 621, 483, 1842, 841, 3841, 4777, 1891, 1680, 2107, 3023, 577, 4126, 1908, 1614, 695, 487, 2160, 2930, 3341], [2711, 1189, 3438, 4626, 4325, 2530, 2539, 248, 4609, 1981, 4960, 522, 1120, 4456, 4242], [3118, 735, 2148, 2136, 1866, 2408, 1015, 4020], [2456, 4477, 612, 3683, 4656, 1765, 1191, 1398, 4996, 4702, 210, 3058, 2309, 4875, 522, 4991, 4325, 3317, 312, 4284, 1775, 2232, 884, 1599, 1341, 3721, 4325, 822], [4013, 876, 2338, 3944, 77, 3813, 433, 1653, 4682, 471, 1070, 4456, 4873, 4299, 2186, 4007, 1125, 2550, 2186, 4299, 293, 2408, 1015, 2256, 3475, 563, 1330, 4568, 4007, 1353, 721], [448, 2858, 3034, 2530, 3009, 2821, 1341, 1020, 500, 1765, 2765, 2765, 1523, 3648, 2530, 2839, 4215, 4389, 136, 3058, 522, 4325, 1861, 1821, 958, 3872, 2530, 818, 1407, 4020, 4495, 2381, 1847, 721, 4170, 2670, 212, 940, 4215, 4444], [199, 251, 1145, 4338, 1341, 23, 4573, 1327, 1341, 3058, 2143, 4616, 3683, 1786, 3793, 3726, 2810, 2269, 1258, 2785, 3188], [3428, 2106, 2148, 4276, 2570, 214, 1654, 3923, 4313, 1765, 218, 2148, 890, 3031, 4321, 3273, 1844, 1756, 3170], [2238, 1716, 1018, 2751, 3058, 243, 4537, 2631], [3021, 811, 4106, 2721, 1060, 365, 2184, 2912, 3862, 253, 3471, 803, 4645, 3678, 1044, 673, 4202, 1652, 4551, 222, 3550, 265, 1087, 933, 1203, 2734, 3811, 4040, 4007, 989, 989], [4145, 1060, 1089, 997, 2737, 985, 135, 3471, 1842, 4204, 4943, 2563, 4007, 154], [2765, 2556, 915, 2235, 4453, 4140, 1120, 132, 1742, 2144, 3009, 466, 4603, 2148, 67, 3786, 381, 1716, 1632, 12, 915, 1391, 931, 1529, 721], [4545, 3359, 3947, 3075, 2148, 1570, 2463, 3923, 4313, 1023, 2245, 129, 1906, 4749, 2148, 448, 448, 3031, 800, 890, 4406, 2362, 1844, 1832, 737], [1220, 3507, 1765, 4660, 105, 3923, 1765, 1770, 1716, 123, 3058, 293, 1770, 1716, 25, 3058, 293, 2392, 1770, 1716, 1250, 25, 3058, 4873, 522, 3227, 1273, 4194, 1866, 3869, 2049, 4007, 3880, 2378, 265, 1597, 3809, 4372, 1015, 3769], [3993, 4730, 4730, 373, 127, 4594, 4443, 3908, 3120, 3029, 3120, 3120, 3120, 3029, 4559, 3029, 1830, 3029, 1830, 1830, 1830, 3029, 1923, 1981, 4025, 2408, 887, 4816, 2860, 4593, 2530, 2362, 3198, 3122, 1078], [2824, 204, 1287, 612, 448, 2269, 1709, 4832, 269, 251, 3351, 2148, 1570, 2309, 3058, 2840, 876, 3782, 2148, 4973, 1309, 1705, 2309, 612, 2141, 4614, 269, 4860, 4803, 199, 2359, 718, 3058, 3202, 1511, 11, 2269, 1570, 612, 3606, 3058, 592, 2359, 718, 1766, 2530, 1632, 2879, 2639, 2879, 4229, 1996, 966, 52], [180, 3884, 1120, 1719, 2530, 4753, 4753, 3058, 599, 3897, 2703, 974, 731, 132, 599, 1120, 2379, 4752, 1766, 3058, 776], [2309, 876, 3153, 2530, 4591, 304, 2148, 4905, 349], [3507, 975, 269, 456, 2879, 3558, 4960, 2232, 3677, 4996, 3480, 2144, 2225, 1220, 1191, 1220, 595, 4115, 1765, 2351, 4307, 1513, 1070, 3472, 4007], [4922, 2144, 251, 3658, 1120, 4922, 2879, 908, 978, 4013, 1273, 3783, 1682, 1341, 3183, 1216, 4922, 2879, 48, 1273, 3783, 4637, 4007, 1866], [1731, 1733, 4161, 4202, 2706, 3313, 3229, 989, 2910, 673, 1166, 774, 3132, 3921, 2193, 2860, 224, 2839, 1416, 4007, 5, 4698, 3378, 266, 3739], [2437, 4875, 1196, 4875, 4620, 4570, 2098, 2565, 718, 1696, 78, 4288, 1433, 4103, 721, 3007, 4601, 468, 38, 4135, 721, 236, 2408, 2646, 2466], [1963, 1963, 3058, 2764, 1949, 4884, 2530, 4645, 1765, 4609, 2879, 217, 1949, 4884, 2530, 1381, 2186, 756, 33, 3274, 3452, 2331], [3760, 686, 686, 389, 2687, 1716, 3609, 1497, 482, 4537, 197, 1037, 3139, 4785, 4936, 201, 694, 4455, 749, 3442], [4551, 1367, 1601, 4990, 4915, 2269, 4990, 1842, 3813, 485, 2544, 2936, 2327, 1315, 2023, 4106, 3214, 857, 2555, 4868, 752, 3311, 4007, 2283], [1001, 1475, 4850, 845, 2675, 3971, 2530, 2563, 721], [2008, 3296, 1842, 778, 3527, 1975, 4633, 3081, 1979, 3157, 1044, 673, 4202, 1652, 4551, 222, 3550, 265, 1087, 933, 1203, 2734, 3811, 4040, 4007, 989, 989], [2148, 49, 3058, 4325, 2981, 3580, 2148, 2634, 3058, 575, 2530, 2625, 1341, 2879, 2673, 2981, 1220, 1751, 3058, 575, 2530, 2362, 3221, 4330], [503, 647, 2148, 4541, 1988, 2647, 4402, 3178, 1716, 3917, 1009, 2981, 3867, 3712, 2530, 1524, 1341, 3712, 2148, 1845, 568, 4115, 1765, 3258, 4875, 395, 4325, 1218, 4792, 52, 776, 3586, 2148, 3683, 119, 1765, 688, 3819, 568, 769, 2670, 1233, 1765, 3258, 4875, 4335, 2879, 2630, 132], [3483, 433, 222, 4378, 2408, 3265, 1247, 4593, 2530, 3652, 1460, 2530, 3198, 886, 4250, 4230, 447, 886, 2860, 2957, 1053, 676, 1250, 1370, 1186, 2686, 1652, 2362, 3739], [2309, 876, 999, 2148, 631, 2530, 2549, 4189, 1413, 1716, 890, 3677, 2879, 4509, 4325, 2530, 2362], [2531, 4907, 2531, 4801, 2531, 2049, 876, 2472, 377], [675, 155, 459, 567, 3524, 155, 3517, 567, 919, 2225, 2225, 3034, 3307, 876, 3019, 1765, 155, 11, 1120, 769, 567, 4036], [199, 4875, 4497, 2362, 1866, 3631, 3205, 989, 3725, 989, 3345, 2877, 1591, 4467, 989, 3966, 2952, 4596, 2406, 196], [4108, 1716, 1387, 1341, 3782, 1716, 876, 3455, 2148, 3287, 3842, 1341, 202, 4537, 4316, 1108, 1980, 612, 2619, 3480, 25, 1716, 3197, 3994, 2148, 4861, 92, 2148, 296, 1834, 2801, 1175, 2959, 2583, 1191, 4872, 2434, 1949, 1758, 1964, 1013, 4996, 4007], [3118, 1751, 2269, 3118, 2619, 2530, 687, 2226, 4330], [935, 1956, 1341, 4873, 3902, 1359, 2389, 3696, 1120, 2639, 975, 228, 1956, 3058, 928, 1094, 4953, 2389, 4475, 1120, 2639, 975, 228, 1956, 1341, 3677, 3058, 4726, 1359, 2389, 167, 1120, 2639, 975, 4960], [1656, 3426, 3222, 3775, 4137, 3813, 7, 4759, 4345, 2261, 868, 3907, 4345, 4597, 1842, 1614, 521, 1910, 3088, 2364, 4468, 3214, 3471, 3804, 3275, 2362, 3747, 1253], [2362, 2226, 4032, 4591, 3976, 3058, 4481, 2530, 3438, 2359, 3039, 2708, 1341, 3907, 4444, 2530, 3438, 2359, 2319, 2786, 1907, 876, 4225, 4036, 188, 2530, 3438, 2359, 2530, 3123, 484, 325], [979, 1469, 75, 1255, 2880, 1338, 1749, 1848, 627, 1426, 3836, 3326, 4859, 491, 718, 4705, 2113, 2779, 4321, 3405, 4948, 374, 2639, 4996, 4321, 4534, 2144, 1725, 431, 398, 3225, 4226, 4288, 1765, 3884, 40, 92, 4875, 2936, 155, 4217, 890, 2269, 2708, 1341, 2309, 607, 1616], [3149, 2905, 4231, 1243, 4248, 2912, 3813, 2832, 4007, 4445, 3224], [1513, 4597, 2386, 3772, 231, 225, 419, 1311, 2107, 4468, 1842, 2856, 1869, 932, 1060, 600, 3427, 1515, 694, 4211, 4204, 4710, 2561, 4384, 4007, 3431, 3950, 276], [3558, 2269, 1008, 3944, 1341, 3454, 2379, 3693, 975, 1341, 444, 1323, 3886], [2099, 4875, 522, 3744, 132, 4279, 666, 3107, 3216, 1716, 4447, 769, 2530, 2362, 3221, 4330], [1951, 4013, 3507, 4875, 477, 3507, 414, 199, 1534, 714, 1305, 2280, 4333, 2078, 413, 2280, 4456, 1341, 3048, 2926, 3058, 593, 593, 3061, 556, 1765, 2452, 4996, 3663, 693, 2530, 3092], [1304, 2439, 2759, 3997, 868, 1842, 1656, 871, 3471, 1842, 2364, 2371, 4416, 1060, 3863, 1186, 4593, 187, 3799, 180, 2550, 180, 4242, 4246, 1212, 1623, 3997, 3471, 868, 2550, 2186, 4007, 2317], [924, 876, 2338, 2628, 2144, 3141, 2412, 2530, 11, 612, 2309, 4875, 4098, 2269, 3757, 4196, 4194], [2706, 513, 566, 3772, 2580, 4174, 1194, 1842, 3133, 4090, 4004, 3973, 871, 1580, 2155, 1500, 3652, 2514, 1734, 3471, 109, 3579, 2118, 4971, 944, 238, 3755, 4267], [876, 4681, 2148, 4656, 685, 363, 1493, 516, 4161, 411, 2879, 1478, 3480, 2109, 1631, 1716, 4187, 3935, 3058, 1213, 2269, 4325, 3153, 721], [1202, 4473, 1765, 3884, 1273, 4582, 1372, 1889, 4617, 4743, 11, 1674, 3058, 3202, 3929, 1273, 3677, 3811, 433, 1765, 4104, 4283, 1372, 3876, 3058, 1195, 4537, 1188, 1889, 1195, 3884], [2608, 3058, 4337, 1888, 2148, 3314, 1930, 4937, 4991, 4677, 2148, 23, 1765, 4485, 3058, 1495, 4325, 3205, 4749, 3003, 1998, 942, 2971, 2523, 944, 4971], [1002, 721, 4245, 3813, 4923, 2877, 233, 3597, 1117, 2975, 1733, 371, 3673, 4971, 4267, 457, 1644], [1175, 2611, 1191, 4922, 3872, 1201, 4092, 2446, 1191, 2810, 199, 2879, 3118, 890, 4953, 1357], [1306, 3786, 3683, 1413, 1341, 3438, 2269, 4457, 1541, 2530, 1770, 4701, 1716, 2552, 2148, 2359, 2269, 806, 322, 851, 2226, 2138, 2359, 3938, 76]]\n"
     ]
    }
   ],
   "source": [
    "print(onehot_rep)"
   ]
  },
  {
   "cell_type": "code",
   "execution_count": 80,
   "metadata": {
    "colab": {
     "base_uri": "https://localhost:8080/"
    },
    "executionInfo": {
     "elapsed": 24,
     "status": "ok",
     "timestamp": 1706520813743,
     "user": {
      "displayName": "Priyanshu Gupta",
      "userId": "03767503421074668028"
     },
     "user_tz": -330
    },
    "id": "LuVt7Q0QyL_M",
    "outputId": "a6610780-8525-427f-e8bb-d5e1014b95cc"
   },
   "outputs": [
    {
     "name": "stdout",
     "output_type": "stream",
     "text": [
      "[[   0    0    0 ... 1973 2386 4971]\n",
      " [   0    0    0 ... 1042 2928 2216]\n",
      " [   0    0    0 ... 3652 4868  422]\n",
      " ...\n",
      " [   0    0    0 ... 4267  457 1644]\n",
      " [   0    0    0 ...  890 4953 1357]\n",
      " [   0    0    0 ... 2359 3938   76]]\n"
     ]
    }
   ],
   "source": [
    "print(embedded_docs)"
   ]
  },
  {
   "cell_type": "markdown",
   "metadata": {
    "id": "ntSH1tLtRbyw"
   },
   "source": [
    "**creating LSTM model**"
   ]
  },
  {
   "cell_type": "code",
   "execution_count": null,
   "metadata": {},
   "outputs": [],
   "source": [
    "\n",
    "\n",
    "# Build the LSTM model\n",
    "model = Sequential()\n",
    "model.add(Embedding(vocab_size, 32, input_length=maxlen))\n",
    "model.add(LSTM(100))\n",
    "model.add(Dense(1, activation='sigmoid'))\n",
    "model.compile(optimizer='adam', loss='binary_crossentropy', metrics=['accuracy'])\n"
   ]
  },
  {
   "cell_type": "code",
   "execution_count": 83,
   "metadata": {
    "id": "jKT1mN_pyMCU"
   },
   "outputs": [],
   "source": [
    "embedded_vector_features=40\n",
    "model=Sequential()\n",
    "model.add(Embedding(voc_size , embedded_vector_features , input_length=20))\n",
    "model.add(LSTM(100))\n",
    "\n",
    "model.add(Dense(1 , activation='sigmoid'))\n",
    "model.compile(loss='binary_crossentropy' , optimizer='adam' , metrics=['accuracy'])\n"
   ]
  },
  {
   "cell_type": "code",
   "execution_count": 84,
   "metadata": {
    "colab": {
     "base_uri": "https://localhost:8080/"
    },
    "executionInfo": {
     "elapsed": 575,
     "status": "ok",
     "timestamp": 1706520814315,
     "user": {
      "displayName": "Priyanshu Gupta",
      "userId": "03767503421074668028"
     },
     "user_tz": -330
    },
    "id": "bIU54szfyMFL",
    "outputId": "548571e4-da3d-4d27-ec04-84bf3f9276ff"
   },
   "outputs": [
    {
     "name": "stdout",
     "output_type": "stream",
     "text": [
      "Model: \"sequential\"\n",
      "_________________________________________________________________\n",
      " Layer (type)                Output Shape              Param #   \n",
      "=================================================================\n",
      " embedding (Embedding)       (None, 20, 40)            200000    \n",
      "                                                                 \n",
      " lstm (LSTM)                 (None, 100)               56400     \n",
      "                                                                 \n",
      " dense (Dense)               (None, 1)                 101       \n",
      "                                                                 \n",
      "=================================================================\n",
      "Total params: 256,501\n",
      "Trainable params: 256,501\n",
      "Non-trainable params: 0\n",
      "_________________________________________________________________\n",
      "None\n"
     ]
    }
   ],
   "source": [
    "print(model.summary())"
   ]
  },
  {
   "cell_type": "code",
   "execution_count": 85,
   "metadata": {
    "colab": {
     "base_uri": "https://localhost:8080/"
    },
    "executionInfo": {
     "elapsed": 19,
     "status": "ok",
     "timestamp": 1706520814316,
     "user": {
      "displayName": "Priyanshu Gupta",
      "userId": "03767503421074668028"
     },
     "user_tz": -330
    },
    "id": "9395HIcByMH2",
    "outputId": "c133b76d-bbc8-4305-f984-31be5d857ff5"
   },
   "outputs": [
    {
     "data": {
      "text/plain": [
       "((1132, 20), (1132,))"
      ]
     },
     "execution_count": 85,
     "metadata": {},
     "output_type": "execute_result"
    }
   ],
   "source": [
    "embedded_docs.shape , y.shape"
   ]
  },
  {
   "cell_type": "code",
   "execution_count": 86,
   "metadata": {
    "id": "c1D5K9zfTK1D"
   },
   "outputs": [],
   "source": [
    "import numpy as np"
   ]
  },
  {
   "cell_type": "code",
   "execution_count": 87,
   "metadata": {
    "id": "nR8G8ZkETK4c"
   },
   "outputs": [],
   "source": [
    "x_final=np.array(embedded_docs)\n",
    "y_final=np.array(y)"
   ]
  },
  {
   "cell_type": "code",
   "execution_count": 88,
   "metadata": {
    "id": "8Y01FnRHTK7r"
   },
   "outputs": [],
   "source": [
    "from sklearn.model_selection import train_test_split"
   ]
  },
  {
   "cell_type": "code",
   "execution_count": 89,
   "metadata": {
    "colab": {
     "base_uri": "https://localhost:8080/"
    },
    "executionInfo": {
     "elapsed": 14,
     "status": "ok",
     "timestamp": 1706520814316,
     "user": {
      "displayName": "Priyanshu Gupta",
      "userId": "03767503421074668028"
     },
     "user_tz": -330
    },
    "id": "LxDvq4uBTK_A",
    "outputId": "fdbae19f-def7-4757-90f3-97b974dcef9a"
   },
   "outputs": [
    {
     "data": {
      "text/plain": [
       "[array([[2888, 4720, 3918, ...,  871, 1475, 4006],\n",
       "        [2619, 3782, 2452, ..., 4443, 1946,  982],\n",
       "        [   0,    0, 2819, ..., 4006, 2862,  119],\n",
       "        ...,\n",
       "        [4913, 2575,  192, ..., 1212, 1042, 2067],\n",
       "        [ 853, 4126,  189, ..., 4798,  750, 1455],\n",
       "        [   0,    0, 4754, ..., 4548, 4712, 3375]]),\n",
       " array([[   0,    0,    0, ..., 4894, 2160, 4708],\n",
       "        [   0,    0,    0, ..., 3383, 4006, 4712],\n",
       "        [   0,    0,    0, ..., 1093, 3488, 4488],\n",
       "        ...,\n",
       "        [ 978, 4358, 2916, ..., 1473, 2875, 2398],\n",
       "        [  31, 2675, 1614, ..., 4712, 2004,   33],\n",
       "        [   0,    0,    0, ..., 3627, 4028, 3492]]),\n",
       " array([1, 0, 1, 0, 1, 0, 0, 0, 0, 1, 0, 0, 1, 1, 0, 0, 0, 0, 0, 0, 0, 0,\n",
       "        0, 0, 0, 0, 1, 0, 0, 1, 0, 0, 0, 0, 0, 0, 1, 0, 0, 0, 0, 0, 0, 0,\n",
       "        0, 0, 0, 0, 0, 1, 0, 0, 0, 0, 0, 0, 0, 0, 0, 0, 0, 0, 0, 0, 0, 0,\n",
       "        0, 0, 0, 0, 0, 0, 0, 1, 0, 0, 0, 0, 1, 0, 0, 0, 0, 1, 0, 0, 0, 0,\n",
       "        0, 0, 0, 1, 1, 0, 0, 0, 0, 0, 0, 0, 0, 0, 1, 1, 0, 0, 0, 0, 0, 0,\n",
       "        0, 0, 1, 0, 1, 0, 1, 0, 1, 1, 0, 0, 0, 0, 1, 0, 1, 1, 1, 1, 0, 0,\n",
       "        1, 1, 0, 0, 1, 0, 0, 1, 0, 0, 0, 0, 0, 0, 0, 1, 0, 0, 0, 0, 0, 0,\n",
       "        0, 0, 0, 0, 0, 0, 1, 0, 0, 1, 0, 0, 0, 0, 0, 0, 0, 0, 1, 0, 0, 0,\n",
       "        0, 0, 0, 1, 1, 1, 0, 0, 0, 1, 0, 0, 0, 0, 0, 0, 0, 0, 0, 0, 1, 0,\n",
       "        0, 0, 0, 0, 0, 0, 1, 0, 0, 0, 0, 0, 0, 0, 0, 0, 0, 0, 0, 1, 0, 0,\n",
       "        0, 0, 0, 1, 0, 1, 0, 0, 0, 0, 0, 0, 1, 0, 0, 1, 0, 0, 0, 0, 1, 0,\n",
       "        0, 0, 0, 0, 0, 1, 0, 0, 0, 0, 0, 0, 0, 0, 0, 0, 0, 1, 1, 0, 0, 0,\n",
       "        0, 0, 0, 1, 1, 0, 0, 0, 0, 0, 1, 0, 0, 0, 0, 0, 0, 0, 0, 0, 0, 1,\n",
       "        0, 0, 0, 1, 0, 0, 1, 0, 1, 0, 1, 0, 1, 0, 1, 0, 0, 0, 0, 0, 0, 0,\n",
       "        0, 0, 0, 0, 0, 0, 0, 0, 0, 0, 0, 0, 1, 0, 0, 0, 0, 0, 0, 0, 0, 0,\n",
       "        0, 0, 0, 0, 0, 0, 1, 0, 0, 0, 0, 0, 0, 0, 0, 0, 1, 0, 0, 0, 0, 0,\n",
       "        0, 0, 0, 0, 1, 0, 1, 0, 0, 0, 0, 0, 0, 0, 0, 0, 0, 0, 0, 0, 0, 0,\n",
       "        1, 0, 0, 0, 0, 1, 0, 0, 0, 1, 1, 0, 0, 0, 0, 0, 0, 0, 1, 0, 1, 0,\n",
       "        0, 0, 0, 0, 0, 0, 0, 0, 0, 0, 0, 1, 1, 0, 0, 0, 0, 0, 0, 0, 1, 0,\n",
       "        1, 0, 0, 0, 1, 1, 0, 0, 0, 0, 0, 0, 0, 0, 0, 0, 1, 0, 1, 0, 0, 0,\n",
       "        0, 0, 0, 0, 0, 0, 0, 0, 0, 0, 0, 0, 0, 0, 0, 0, 0, 0, 0, 0, 0, 0,\n",
       "        0, 0, 0, 0, 1, 0, 0, 0, 0, 0, 0, 1, 0, 0, 0, 1, 0, 0, 0, 0, 0, 1,\n",
       "        0, 0, 1, 0, 0, 0, 0, 0, 0, 1, 1, 0, 1, 0, 0, 1, 0, 0, 0, 0, 1, 1,\n",
       "        1, 0, 0, 0, 0, 0, 0, 0, 0, 0, 0, 0, 0, 0, 0, 0, 0, 0, 0, 0, 0, 0,\n",
       "        0, 0, 0, 0, 0, 0, 0, 0, 0, 0, 0, 0, 0, 0, 0, 0, 0, 0, 0, 0, 0, 0,\n",
       "        0, 0, 1, 0, 0, 0, 1, 0, 0, 0, 0, 1, 0, 0, 1, 1, 0, 0, 0, 0, 0, 0,\n",
       "        0, 0, 0, 0, 0, 0, 0, 0, 0, 0, 1, 0, 0, 0, 0, 0, 0, 0, 0, 0, 0, 0,\n",
       "        1, 0, 0, 0, 0, 0, 1, 0, 0, 0, 1, 0, 0, 0, 0, 0, 0, 0, 0, 0, 0, 0,\n",
       "        0, 0, 0, 0, 0, 0, 1, 0, 0, 1, 0, 0, 0, 0, 0, 0, 0, 0, 0, 1, 0, 1,\n",
       "        0, 1, 1, 0, 0, 0, 0, 0, 0, 0, 0, 0, 0, 0, 0, 0, 0, 0, 1, 0, 0, 0,\n",
       "        1, 1, 0, 0, 0, 0, 0, 0, 1, 0, 0, 0, 0, 1, 1, 0, 0, 0, 1, 0, 0, 0,\n",
       "        0, 0, 0, 1, 0, 0, 0, 1, 0, 0, 0, 1, 0, 0, 0, 1, 1, 0, 0, 0, 0, 0,\n",
       "        0, 0, 0, 0, 0, 0, 0, 1, 0, 0, 0, 0, 0, 0, 0, 1, 0, 0, 0, 0, 0, 0,\n",
       "        0, 0, 0, 1, 0, 0, 0, 0, 0, 0, 0, 0, 1, 0, 0, 0, 0, 0, 0, 0, 0, 0,\n",
       "        0, 1, 0, 0, 0, 0, 0, 1, 0, 0, 0, 0, 0, 0, 0, 0, 0, 1, 0, 1, 1, 0,\n",
       "        1, 1, 1, 0, 0, 1, 1, 0, 1, 0, 0, 0, 0, 0, 0, 0, 1, 0, 1, 0, 0, 0,\n",
       "        0, 0, 0, 0, 1, 0, 0, 0, 0, 0, 0, 0, 0, 0, 0, 1, 1, 0, 0, 0, 0, 0,\n",
       "        0, 0, 0, 0, 0, 1, 0, 0, 0, 0, 1, 0, 0, 0, 0, 1, 0, 0, 1, 0, 0, 0,\n",
       "        0, 0, 0, 0, 0, 1, 0, 0, 0, 0, 0, 0, 0, 1, 1, 0, 0, 1, 0, 0, 0, 0,\n",
       "        0, 0, 0, 0, 0, 1, 0, 0, 0, 0, 0, 0, 0, 0, 0, 1, 0, 0, 0, 1, 1, 0,\n",
       "        0, 0, 1, 0, 0, 1, 0, 0, 0, 1, 1, 0, 0, 0, 0, 1, 1, 0, 0, 0, 0, 0,\n",
       "        0, 1, 0], dtype=int64),\n",
       " array([1, 1, 0, 0, 0, 1, 0, 0, 0, 0, 0, 0, 0, 0, 0, 0, 1, 1, 0, 0, 0, 0,\n",
       "        0, 1, 0, 0, 0, 0, 0, 0, 0, 0, 0, 0, 0, 0, 0, 0, 1, 0, 0, 1, 0, 0,\n",
       "        0, 0, 1, 0, 0, 0, 0, 0, 0, 0, 1, 0, 0, 0, 0, 0, 0, 1, 0, 0, 0, 0,\n",
       "        0, 1, 0, 0, 1, 0, 0, 1, 1, 0, 0, 0, 0, 0, 0, 0, 0, 0, 1, 0, 0, 0,\n",
       "        0, 0, 1, 0, 1, 0, 0, 0, 0, 0, 0, 1, 0, 0, 0, 0, 1, 0, 0, 1, 0, 0,\n",
       "        1, 0, 0, 0, 0, 0, 1, 0, 0, 0, 0, 0, 0, 0, 0, 1, 1, 0, 0, 0, 0, 1,\n",
       "        0, 0, 0, 0, 0, 0, 1, 0, 0, 0, 0, 0, 0, 0, 1, 0, 0, 0, 0, 0, 0, 1,\n",
       "        0, 0, 0, 0, 0, 0, 0, 1, 0, 0, 0, 0, 0, 0, 0, 0, 0, 1, 0, 0, 0, 0,\n",
       "        0, 1, 0, 0, 0, 0, 1, 1, 1, 0, 0, 0, 0, 0, 0, 0, 0, 0, 0, 0, 1, 0,\n",
       "        0, 1, 1, 0, 0, 0, 0, 0, 0, 1, 0, 0, 0, 0, 0, 0, 0, 0, 0, 0, 0, 0,\n",
       "        0, 0, 0, 0, 0, 0, 0], dtype=int64)]"
      ]
     },
     "execution_count": 89,
     "metadata": {},
     "output_type": "execute_result"
    }
   ],
   "source": [
    "train_test_split(x_final , y_final , test_size=0.2)"
   ]
  },
  {
   "cell_type": "code",
   "execution_count": 90,
   "metadata": {
    "colab": {
     "base_uri": "https://localhost:8080/"
    },
    "executionInfo": {
     "elapsed": 10,
     "status": "ok",
     "timestamp": 1706520814316,
     "user": {
      "displayName": "Priyanshu Gupta",
      "userId": "03767503421074668028"
     },
     "user_tz": -330
    },
    "id": "qLhVNe0VTLCN",
    "outputId": "33861146-b7a7-485d-e9ab-66dce02be242"
   },
   "outputs": [
    {
     "data": {
      "text/plain": [
       "(1132, 20)"
      ]
     },
     "execution_count": 90,
     "metadata": {},
     "output_type": "execute_result"
    }
   ],
   "source": [
    "x_final.shape"
   ]
  },
  {
   "cell_type": "code",
   "execution_count": 91,
   "metadata": {
    "colab": {
     "base_uri": "https://localhost:8080/"
    },
    "executionInfo": {
     "elapsed": 6,
     "status": "ok",
     "timestamp": 1706520814316,
     "user": {
      "displayName": "Priyanshu Gupta",
      "userId": "03767503421074668028"
     },
     "user_tz": -330
    },
    "id": "35lWgT9ETLFD",
    "outputId": "65914656-5389-495e-b910-28f36d0dc188"
   },
   "outputs": [
    {
     "data": {
      "text/plain": [
       "(1132,)"
      ]
     },
     "execution_count": 91,
     "metadata": {},
     "output_type": "execute_result"
    }
   ],
   "source": [
    "y_final.shape"
   ]
  },
  {
   "cell_type": "code",
   "execution_count": 92,
   "metadata": {
    "id": "1NBZ4WMVTLIG"
   },
   "outputs": [],
   "source": [
    "x_train  , x_test , y_train  , y_test = train_test_split(x_final , y_final , test_size=0.2)"
   ]
  },
  {
   "cell_type": "code",
   "execution_count": null,
   "metadata": {
    "id": "7Tykg53VTLLF"
   },
   "outputs": [],
   "source": []
  },
  {
   "cell_type": "markdown",
   "metadata": {
    "id": "lonNXZPXU7J4"
   },
   "source": [
    "**Model Training**"
   ]
  },
  {
   "cell_type": "code",
   "execution_count": 93,
   "metadata": {
    "colab": {
     "base_uri": "https://localhost:8080/"
    },
    "executionInfo": {
     "elapsed": 19996,
     "status": "ok",
     "timestamp": 1706520834308,
     "user": {
      "displayName": "Priyanshu Gupta",
      "userId": "03767503421074668028"
     },
     "user_tz": -330
    },
    "id": "-5fzOoCETLOI",
    "outputId": "2d7ab23b-bb3c-429c-b5cd-60cb18a0b88a"
   },
   "outputs": [
    {
     "name": "stdout",
     "output_type": "stream",
     "text": [
      "Epoch 1/10\n",
      "15/15 [==============================] - 4s 74ms/step - loss: 0.6179 - accuracy: 0.8088 - val_loss: 0.3558 - val_accuracy: 0.8722\n",
      "Epoch 2/10\n",
      "15/15 [==============================] - 0s 28ms/step - loss: 0.4282 - accuracy: 0.8155 - val_loss: 0.2951 - val_accuracy: 0.8722\n",
      "Epoch 3/10\n",
      "15/15 [==============================] - 0s 25ms/step - loss: 0.2926 - accuracy: 0.8265 - val_loss: 0.2013 - val_accuracy: 0.8943\n",
      "Epoch 4/10\n",
      "15/15 [==============================] - 1s 35ms/step - loss: 0.1259 - accuracy: 0.9591 - val_loss: 0.2066 - val_accuracy: 0.9383\n",
      "Epoch 5/10\n",
      "15/15 [==============================] - 1s 35ms/step - loss: 0.0623 - accuracy: 0.9978 - val_loss: 0.2675 - val_accuracy: 0.9075\n",
      "Epoch 6/10\n",
      "15/15 [==============================] - 0s 26ms/step - loss: 0.0320 - accuracy: 0.9989 - val_loss: 0.2992 - val_accuracy: 0.9163\n",
      "Epoch 7/10\n",
      "15/15 [==============================] - 0s 27ms/step - loss: 0.0128 - accuracy: 0.9989 - val_loss: 0.3412 - val_accuracy: 0.8987\n",
      "Epoch 8/10\n",
      "15/15 [==============================] - 0s 24ms/step - loss: 0.0056 - accuracy: 1.0000 - val_loss: 0.3414 - val_accuracy: 0.8943\n",
      "Epoch 9/10\n",
      "15/15 [==============================] - 0s 27ms/step - loss: 0.0039 - accuracy: 0.9989 - val_loss: 0.3653 - val_accuracy: 0.8987\n",
      "Epoch 10/10\n",
      "15/15 [==============================] - 0s 28ms/step - loss: 0.0052 - accuracy: 0.9978 - val_loss: 0.3413 - val_accuracy: 0.9163\n"
     ]
    },
    {
     "data": {
      "text/plain": [
       "<keras.callbacks.History at 0x1f8439eacb0>"
      ]
     },
     "execution_count": 93,
     "metadata": {},
     "output_type": "execute_result"
    }
   ],
   "source": [
    "model.fit(x_train , y_train  , validation_data=(x_test , y_test) , epochs=10 , batch_size=64)"
   ]
  },
  {
   "cell_type": "code",
   "execution_count": 94,
   "metadata": {},
   "outputs": [],
   "source": [
    "model.save('lstm_model.h5')"
   ]
  },
  {
   "cell_type": "code",
   "execution_count": null,
   "metadata": {
    "id": "VnDOXuzjTLRL"
   },
   "outputs": [],
   "source": [
    "from sklearn.metrics import accuracy_score"
   ]
  },
  {
   "cell_type": "code",
   "execution_count": 115,
   "metadata": {
    "colab": {
     "base_uri": "https://localhost:8080/"
    },
    "executionInfo": {
     "elapsed": 1110,
     "status": "ok",
     "timestamp": 1706520835413,
     "user": {
      "displayName": "Priyanshu Gupta",
      "userId": "03767503421074668028"
     },
     "user_tz": -330
    },
    "id": "5eUouHcgTLUK",
    "outputId": "fe23ea38-9c63-4669-f2a2-663de639444f"
   },
   "outputs": [
    {
     "name": "stdout",
     "output_type": "stream",
     "text": [
      "8/8 [==============================] - 1s 6ms/step\n"
     ]
    }
   ],
   "source": [
    "y_pred=model.predict(x_test)"
   ]
  },
  {
   "cell_type": "code",
   "execution_count": 117,
   "metadata": {
    "id": "-0NAlP16TLXB"
   },
   "outputs": [],
   "source": [
    "y_pred=np.where(y_pred>0.1 ,1 , 0)"
   ]
  },
  {
   "cell_type": "code",
   "execution_count": 118,
   "metadata": {
    "colab": {
     "base_uri": "https://localhost:8080/"
    },
    "executionInfo": {
     "elapsed": 9,
     "status": "ok",
     "timestamp": 1706520835414,
     "user": {
      "displayName": "Priyanshu Gupta",
      "userId": "03767503421074668028"
     },
     "user_tz": -330
    },
    "id": "JkBPVr3iWLLf",
    "outputId": "796ff0ad-7ede-486d-8c16-430b5feb8fb9"
   },
   "outputs": [
    {
     "data": {
      "text/plain": [
       "0.8281938325991189"
      ]
     },
     "execution_count": 118,
     "metadata": {},
     "output_type": "execute_result"
    }
   ],
   "source": [
    "accuracy_score(y_test , y_pred)"
   ]
  },
  {
   "cell_type": "code",
   "execution_count": 119,
   "metadata": {
    "colab": {
     "base_uri": "https://localhost:8080/"
    },
    "executionInfo": {
     "elapsed": 8,
     "status": "ok",
     "timestamp": 1706520835414,
     "user": {
      "displayName": "Priyanshu Gupta",
      "userId": "03767503421074668028"
     },
     "user_tz": -330
    },
    "id": "I9aBIBpdWLOn",
    "outputId": "24849487-df9d-4de0-d11b-6165726e0bff"
   },
   "outputs": [
    {
     "data": {
      "text/plain": [
       "array([[170,  13],\n",
       "       [ 26,  18]], dtype=int64)"
      ]
     },
     "execution_count": 119,
     "metadata": {},
     "output_type": "execute_result"
    }
   ],
   "source": [
    "confusion_matrix(y_test , y_pred)"
   ]
  },
  {
   "cell_type": "code",
   "execution_count": 120,
   "metadata": {
    "colab": {
     "base_uri": "https://localhost:8080/"
    },
    "executionInfo": {
     "elapsed": 7,
     "status": "ok",
     "timestamp": 1706520835414,
     "user": {
      "displayName": "Priyanshu Gupta",
      "userId": "03767503421074668028"
     },
     "user_tz": -330
    },
    "id": "MrfOEY-HWLSA",
    "outputId": "9fea9360-b7cc-44ee-b454-b52331829f51"
   },
   "outputs": [
    {
     "data": {
      "text/plain": [
       "array([4598, 3771, 2473, 3459, 1623, 4811, 4693, 1030, 2371, 4112,  423,\n",
       "        753, 4567,  731, 2520, 1357, 2527,   12, 2968, 1308])"
      ]
     },
     "execution_count": 120,
     "metadata": {},
     "output_type": "execute_result"
    }
   ],
   "source": [
    "x_train[0]"
   ]
  },
  {
   "cell_type": "code",
   "execution_count": 121,
   "metadata": {
    "colab": {
     "base_uri": "https://localhost:8080/"
    },
    "executionInfo": {
     "elapsed": 6,
     "status": "ok",
     "timestamp": 1706520835414,
     "user": {
      "displayName": "Priyanshu Gupta",
      "userId": "03767503421074668028"
     },
     "user_tz": -330
    },
    "id": "iKvuKDtoShSs",
    "outputId": "8100d0f8-8098-480e-829b-e01788e77cb8"
   },
   "outputs": [
    {
     "data": {
      "text/plain": [
       "array([2173, 2118, 3933, 2954, 3170,   20, 4177, 1769, 4177, 1731, 2487,\n",
       "       1008, 2085, 1198, 2180, 1872, 4973, 1686, 1308, 1070])"
      ]
     },
     "execution_count": 121,
     "metadata": {},
     "output_type": "execute_result"
    }
   ],
   "source": [
    "x_test[0]"
   ]
  },
  {
   "cell_type": "code",
   "execution_count": 122,
   "metadata": {
    "colab": {
     "base_uri": "https://localhost:8080/"
    },
    "executionInfo": {
     "elapsed": 6,
     "status": "ok",
     "timestamp": 1706520835414,
     "user": {
      "displayName": "Priyanshu Gupta",
      "userId": "03767503421074668028"
     },
     "user_tz": -330
    },
    "id": "fAH_XV0vWLX-",
    "outputId": "e4ed568f-9590-4e2a-b44f-31ea15f28399"
   },
   "outputs": [
    {
     "name": "stdout",
     "output_type": "stream",
     "text": [
      "1/1 [==============================] - 0s 40ms/step\n"
     ]
    }
   ],
   "source": [
    "sam=model.predict([[  0, 2544, 2450, 3887,  556, 3055, 1013,  840, 1652, 4328, 4862,\n",
    "          9, 1876, 2092, 4282, 2598, 1331,  821, 1130, 4119]])[0][0]"
   ]
  },
  {
   "cell_type": "code",
   "execution_count": 126,
   "metadata": {},
   "outputs": [
    {
     "data": {
      "text/plain": [
       "0.0060732663"
      ]
     },
     "execution_count": 126,
     "metadata": {},
     "output_type": "execute_result"
    }
   ],
   "source": [
    "sam"
   ]
  },
  {
   "cell_type": "code",
   "execution_count": 127,
   "metadata": {
    "colab": {
     "base_uri": "https://localhost:8080/"
    },
    "executionInfo": {
     "elapsed": 5,
     "status": "ok",
     "timestamp": 1706520835414,
     "user": {
      "displayName": "Priyanshu Gupta",
      "userId": "03767503421074668028"
     },
     "user_tz": -330
    },
    "id": "ZFlWplVbWLbZ",
    "outputId": "66b52a15-b378-4086-b5bf-29433c806335"
   },
   "outputs": [
    {
     "name": "stdout",
     "output_type": "stream",
     "text": [
      "Sarcasam\n"
     ]
    }
   ],
   "source": [
    "if sam>0.005:\n",
    "  print(\"Sarcasam\")\n",
    "else:\n",
    "  print(\"Non Sarcasam\")"
   ]
  },
  {
   "cell_type": "code",
   "execution_count": 128,
   "metadata": {
    "id": "_QCwXL5AWLh0"
   },
   "outputs": [],
   "source": [
    "model.save('Final_Model.h5')"
   ]
  },
  {
   "cell_type": "code",
   "execution_count": 129,
   "metadata": {
    "id": "NC9TZ6oqWLlI"
   },
   "outputs": [
    {
     "data": {
      "text/plain": [
       "['count_vectorizer.pkl']"
      ]
     },
     "execution_count": 129,
     "metadata": {},
     "output_type": "execute_result"
    }
   ],
   "source": [
    "# Save the CountVectorizer\n",
    "joblib.dump(cv, 'count_vectorizer.pkl')"
   ]
  },
  {
   "cell_type": "code",
   "execution_count": null,
   "metadata": {
    "id": "Nh-wpW3FWLn8"
   },
   "outputs": [],
   "source": []
  },
  {
   "cell_type": "code",
   "execution_count": null,
   "metadata": {
    "id": "7TnEqNU9WLrA"
   },
   "outputs": [],
   "source": []
  },
  {
   "cell_type": "code",
   "execution_count": null,
   "metadata": {
    "id": "vBk6_jMYWLuj"
   },
   "outputs": [],
   "source": []
  },
  {
   "cell_type": "code",
   "execution_count": null,
   "metadata": {
    "id": "egNhiLdXWLxi"
   },
   "outputs": [],
   "source": []
  },
  {
   "cell_type": "code",
   "execution_count": null,
   "metadata": {
    "id": "EU0gIFYuWL0n"
   },
   "outputs": [],
   "source": []
  },
  {
   "cell_type": "code",
   "execution_count": null,
   "metadata": {
    "id": "IkOICLUaTLab"
   },
   "outputs": [],
   "source": []
  },
  {
   "cell_type": "code",
   "execution_count": null,
   "metadata": {
    "id": "_xMlyKxtyMLc"
   },
   "outputs": [],
   "source": []
  }
 ],
 "metadata": {
  "colab": {
   "authorship_tag": "ABX9TyOUcqm+X2OP2MUDu7Z382Lo",
   "mount_file_id": "1iZl1fhfsHdLBCLnIY-_7xbK_VPO7zkJd",
   "provenance": [
    {
     "file_id": "1iZl1fhfsHdLBCLnIY-_7xbK_VPO7zkJd",
     "timestamp": 1706520869989
    }
   ]
  },
  "kernelspec": {
   "display_name": "Python 3 (ipykernel)",
   "language": "python",
   "name": "python3"
  },
  "language_info": {
   "codemirror_mode": {
    "name": "ipython",
    "version": 3
   },
   "file_extension": ".py",
   "mimetype": "text/x-python",
   "name": "python",
   "nbconvert_exporter": "python",
   "pygments_lexer": "ipython3",
   "version": "3.10.13"
  }
 },
 "nbformat": 4,
 "nbformat_minor": 4
}
